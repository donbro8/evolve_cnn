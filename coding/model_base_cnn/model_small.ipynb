{
 "cells": [
  {
   "cell_type": "markdown",
   "metadata": {},
   "source": [
    "# Load packages"
   ]
  },
  {
   "cell_type": "code",
   "execution_count": 25,
   "metadata": {},
   "outputs": [],
   "source": [
    "import numpy as np\n",
    "from sklearn.model_selection import train_test_split\n",
    "from tensorflow.keras import backend\n",
    "from tensorflow.keras.layers import Dense, Dropout, Flatten, MaxPool2D, Conv2D\n",
    "from tensorflow.keras.models import Sequential\n",
    "import time"
   ]
  },
  {
   "cell_type": "markdown",
   "metadata": {},
   "source": [
    "# Load and prepare data"
   ]
  },
  {
   "cell_type": "code",
   "execution_count": 2,
   "metadata": {},
   "outputs": [],
   "source": [
    "# Load saved numpy arrays\n",
    "X = np.load('/Users/Donovan/Documents/Masters/masters-ed02/coding/model_base_cnn/train/X.npy')\n",
    "Y = np.load('/Users/Donovan/Documents/Masters/masters-ed02/coding/model_base_cnn/train/Y.npy')"
   ]
  },
  {
   "cell_type": "code",
   "execution_count": 9,
   "metadata": {},
   "outputs": [],
   "source": [
    "# Subsample\n",
    "sample_size = 1000\n",
    "\n",
    "g_sample = int(np.floor(sample_size/2))\n",
    "n_sample = sample_size - g_sample\n",
    "\n",
    "g_i = np.random.randint(0, int(X.shape[0]/2) - 1, g_sample)\n",
    "n_i = np.random.randint(int(X.shape[0]/2), X.shape[0] - 1, n_sample)"
   ]
  },
  {
   "cell_type": "code",
   "execution_count": 21,
   "metadata": {},
   "outputs": [],
   "source": [
    "X = np.concatenate([X[g_i], X[n_i]])\n",
    "Y = np.concatenate([Y[g_i], Y[n_i]])"
   ]
  },
  {
   "cell_type": "code",
   "execution_count": 22,
   "metadata": {},
   "outputs": [],
   "source": [
    "X_train, X_val, Y_train, Y_val = train_test_split(X, Y, test_size=0.20, random_state=42, shuffle = True)"
   ]
  },
  {
   "cell_type": "code",
   "execution_count": 23,
   "metadata": {},
   "outputs": [
    {
     "name": "stdout",
     "output_type": "stream",
     "text": [
      "X_train: (800, 128, 188, 1)\n",
      "Y_train: (800, 2)\n",
      "\n",
      "X_val: (200, 128, 188, 1)\n",
      "Y_val: (200, 2)\n"
     ]
    }
   ],
   "source": [
    "print ('X_train:',X_train.shape)\n",
    "print ('Y_train:',Y_train.shape)\n",
    "print ()\n",
    "print ('X_val:',X_val.shape)\n",
    "print ('Y_val:',Y_val.shape)"
   ]
  },
  {
   "cell_type": "markdown",
   "metadata": {},
   "source": [
    "# Basic 2D CNN model"
   ]
  },
  {
   "cell_type": "code",
   "execution_count": 24,
   "metadata": {},
   "outputs": [],
   "source": [
    "def network_2D(conv_layers, fc_layers, conv_filters, dropout_rate, \n",
    "               conv_kernel,max_pooling_size,fc_units,epochs,batch_size):\n",
    "    \n",
    "    model = Sequential()\n",
    "    model.add(Conv2D(filters = conv_filters, kernel_size = conv_kernel, input_shape = (128,188,1)\n",
    "                     ,activation = 'relu'))\n",
    "    model.add(Dropout(rate = dropout_rate))\n",
    "    model.add(MaxPool2D(pool_size = max_pooling_size))\n",
    "    \n",
    "    for i in range(conv_layers):\n",
    "        model.add(Conv2D(filters = conv_filters, kernel_size = conv_kernel, activation = 'relu'))\n",
    "        model.add(Dropout(rate=dropout_rate))\n",
    "        model.add(MaxPool2D(pool_size=max_pooling_size))\n",
    "        \n",
    "    model.add(Flatten())\n",
    "    for i in range(fc_layers):\n",
    "        model.add(Dense(units = fc_units, activation='relu'))\n",
    "        model.add(Dropout(rate=dropout_rate))\n",
    "        \n",
    "    model.add(Dense(2, activation = 'softmax'))\n",
    "    model.compile(loss='categorical_crossentropy', optimizer='adam',metrics=['accuracy'])\n",
    "    \n",
    "    return model\n",
    "\n",
    "def network():\n",
    "\n",
    "    conv_layers = 1\n",
    "    fc_layers = 1\n",
    "    max_pooling_size = 4\n",
    "    dropout_rate = 0.4\n",
    "    conv_filters = 8\n",
    "    conv_kernel = 16\n",
    "    fc_units = 32\n",
    "    epochs = 40\n",
    "    batch_size = 8\n",
    "    model = network_2D(conv_layers, fc_layers, conv_filters, dropout_rate, \n",
    "               conv_kernel,max_pooling_size,fc_units,epochs,batch_size)\n",
    "    \n",
    "    return model"
   ]
  },
  {
   "cell_type": "markdown",
   "metadata": {},
   "source": [
    "# Train model"
   ]
  },
  {
   "cell_type": "code",
   "execution_count": 26,
   "metadata": {},
   "outputs": [
    {
     "name": "stderr",
     "output_type": "stream",
     "text": [
      "2022-10-12 16:57:42.219800: I tensorflow/core/common_runtime/pluggable_device/pluggable_device_factory.cc:305] Could not identify NUMA node of platform GPU ID 0, defaulting to 0. Your kernel may not have been built with NUMA support.\n",
      "2022-10-12 16:57:42.220170: I tensorflow/core/common_runtime/pluggable_device/pluggable_device_factory.cc:271] Created TensorFlow device (/job:localhost/replica:0/task:0/device:GPU:0 with 0 MB memory) -> physical PluggableDevice (device: 0, name: METAL, pci bus id: <undefined>)\n"
     ]
    },
    {
     "name": "stdout",
     "output_type": "stream",
     "text": [
      "Metal device set to: Apple M1 Pro\n",
      "\n",
      "systemMemory: 16.00 GB\n",
      "maxCacheSize: 5.33 GB\n",
      "\n",
      "Model: \"sequential\"\n",
      "_________________________________________________________________\n",
      " Layer (type)                Output Shape              Param #   \n",
      "=================================================================\n",
      " conv2d (Conv2D)             (None, 113, 173, 8)       2056      \n",
      "                                                                 \n",
      " dropout (Dropout)           (None, 113, 173, 8)       0         \n",
      "                                                                 \n",
      " max_pooling2d (MaxPooling2D  (None, 28, 43, 8)        0         \n",
      " )                                                               \n",
      "                                                                 \n",
      " conv2d_1 (Conv2D)           (None, 13, 28, 8)         16392     \n",
      "                                                                 \n",
      " dropout_1 (Dropout)         (None, 13, 28, 8)         0         \n",
      "                                                                 \n",
      " max_pooling2d_1 (MaxPooling  (None, 3, 7, 8)          0         \n",
      " 2D)                                                             \n",
      "                                                                 \n",
      " flatten (Flatten)           (None, 168)               0         \n",
      "                                                                 \n",
      " dense (Dense)               (None, 32)                5408      \n",
      "                                                                 \n",
      " dropout_2 (Dropout)         (None, 32)                0         \n",
      "                                                                 \n",
      " dense_1 (Dense)             (None, 2)                 66        \n",
      "                                                                 \n",
      "=================================================================\n",
      "Total params: 23,922\n",
      "Trainable params: 23,922\n",
      "Non-trainable params: 0\n",
      "_________________________________________________________________\n",
      "Epoch 1/50\n"
     ]
    },
    {
     "name": "stderr",
     "output_type": "stream",
     "text": [
      "2022-10-12 16:57:43.057820: W tensorflow/core/platform/profile_utils/cpu_utils.cc:128] Failed to get CPU frequency: 0 Hz\n",
      "2022-10-12 16:57:43.386257: I tensorflow/core/grappler/optimizers/custom_graph_optimizer_registry.cc:113] Plugin optimizer for device_type GPU is enabled.\n"
     ]
    },
    {
     "name": "stdout",
     "output_type": "stream",
     "text": [
      "100/100 - 5s - loss: 0.6438 - accuracy: 0.6287 - val_loss: 0.6388 - val_accuracy: 0.7850 - 5s/epoch - 51ms/step\n",
      "Epoch 2/50\n"
     ]
    },
    {
     "name": "stderr",
     "output_type": "stream",
     "text": [
      "2022-10-12 16:57:47.953975: I tensorflow/core/grappler/optimizers/custom_graph_optimizer_registry.cc:113] Plugin optimizer for device_type GPU is enabled.\n"
     ]
    },
    {
     "name": "stdout",
     "output_type": "stream",
     "text": [
      "100/100 - 2s - loss: 0.5219 - accuracy: 0.7825 - val_loss: 0.5488 - val_accuracy: 0.8700 - 2s/epoch - 17ms/step\n",
      "Epoch 3/50\n",
      "100/100 - 2s - loss: 0.4318 - accuracy: 0.8212 - val_loss: 0.4679 - val_accuracy: 0.8550 - 2s/epoch - 17ms/step\n",
      "Epoch 4/50\n",
      "100/100 - 2s - loss: 0.4254 - accuracy: 0.8312 - val_loss: 0.4685 - val_accuracy: 0.8850 - 2s/epoch - 17ms/step\n",
      "Epoch 5/50\n",
      "100/100 - 2s - loss: 0.3673 - accuracy: 0.8550 - val_loss: 0.4198 - val_accuracy: 0.8950 - 2s/epoch - 17ms/step\n",
      "Epoch 6/50\n",
      "100/100 - 2s - loss: 0.3145 - accuracy: 0.8700 - val_loss: 0.4054 - val_accuracy: 0.9200 - 2s/epoch - 17ms/step\n",
      "Epoch 7/50\n",
      "100/100 - 2s - loss: 0.2895 - accuracy: 0.8912 - val_loss: 0.4047 - val_accuracy: 0.8600 - 2s/epoch - 16ms/step\n",
      "Epoch 8/50\n",
      "100/100 - 2s - loss: 0.2562 - accuracy: 0.8850 - val_loss: 0.3298 - val_accuracy: 0.9050 - 2s/epoch - 17ms/step\n",
      "Epoch 9/50\n",
      "100/100 - 2s - loss: 0.2314 - accuracy: 0.9087 - val_loss: 0.3081 - val_accuracy: 0.9000 - 2s/epoch - 17ms/step\n",
      "Epoch 10/50\n",
      "100/100 - 2s - loss: 0.2325 - accuracy: 0.9038 - val_loss: 0.2627 - val_accuracy: 0.9400 - 2s/epoch - 17ms/step\n",
      "Epoch 11/50\n",
      "100/100 - 2s - loss: 0.1780 - accuracy: 0.9262 - val_loss: 0.2627 - val_accuracy: 0.9250 - 2s/epoch - 17ms/step\n",
      "Epoch 12/50\n",
      "100/100 - 2s - loss: 0.1618 - accuracy: 0.9475 - val_loss: 0.2200 - val_accuracy: 0.9400 - 2s/epoch - 17ms/step\n",
      "Epoch 13/50\n",
      "100/100 - 2s - loss: 0.1522 - accuracy: 0.9487 - val_loss: 0.2428 - val_accuracy: 0.9300 - 2s/epoch - 17ms/step\n",
      "Epoch 14/50\n",
      "100/100 - 2s - loss: 0.1686 - accuracy: 0.9225 - val_loss: 0.2123 - val_accuracy: 0.9350 - 2s/epoch - 17ms/step\n",
      "Epoch 15/50\n",
      "100/100 - 2s - loss: 0.1471 - accuracy: 0.9500 - val_loss: 0.2368 - val_accuracy: 0.9300 - 2s/epoch - 17ms/step\n",
      "Epoch 16/50\n",
      "100/100 - 2s - loss: 0.1044 - accuracy: 0.9587 - val_loss: 0.1853 - val_accuracy: 0.9400 - 2s/epoch - 17ms/step\n",
      "Epoch 17/50\n",
      "100/100 - 2s - loss: 0.1166 - accuracy: 0.9575 - val_loss: 0.1843 - val_accuracy: 0.9400 - 2s/epoch - 17ms/step\n",
      "Epoch 18/50\n",
      "100/100 - 2s - loss: 0.0745 - accuracy: 0.9750 - val_loss: 0.1336 - val_accuracy: 0.9400 - 2s/epoch - 17ms/step\n",
      "Epoch 19/50\n",
      "100/100 - 2s - loss: 0.0696 - accuracy: 0.9750 - val_loss: 0.1868 - val_accuracy: 0.9400 - 2s/epoch - 21ms/step\n",
      "Epoch 20/50\n",
      "100/100 - 2s - loss: 0.0641 - accuracy: 0.9775 - val_loss: 0.1156 - val_accuracy: 0.9400 - 2s/epoch - 17ms/step\n",
      "Epoch 21/50\n",
      "100/100 - 2s - loss: 0.0510 - accuracy: 0.9837 - val_loss: 0.1095 - val_accuracy: 0.9550 - 2s/epoch - 17ms/step\n",
      "Epoch 22/50\n",
      "100/100 - 2s - loss: 0.0542 - accuracy: 0.9812 - val_loss: 0.1527 - val_accuracy: 0.9500 - 2s/epoch - 17ms/step\n",
      "Epoch 23/50\n",
      "100/100 - 2s - loss: 0.0267 - accuracy: 0.9975 - val_loss: 0.1413 - val_accuracy: 0.9550 - 2s/epoch - 17ms/step\n",
      "Epoch 24/50\n",
      "100/100 - 2s - loss: 0.0499 - accuracy: 0.9812 - val_loss: 0.1727 - val_accuracy: 0.9400 - 2s/epoch - 17ms/step\n",
      "Epoch 25/50\n",
      "100/100 - 2s - loss: 0.0527 - accuracy: 0.9825 - val_loss: 0.1210 - val_accuracy: 0.9550 - 2s/epoch - 17ms/step\n",
      "Epoch 26/50\n",
      "100/100 - 2s - loss: 0.1150 - accuracy: 0.9650 - val_loss: 0.1741 - val_accuracy: 0.9450 - 2s/epoch - 17ms/step\n",
      "Epoch 27/50\n",
      "100/100 - 2s - loss: 0.0422 - accuracy: 0.9912 - val_loss: 0.1493 - val_accuracy: 0.9450 - 2s/epoch - 17ms/step\n",
      "Epoch 28/50\n",
      "100/100 - 2s - loss: 0.0364 - accuracy: 0.9875 - val_loss: 0.1240 - val_accuracy: 0.9400 - 2s/epoch - 17ms/step\n",
      "Epoch 29/50\n",
      "100/100 - 2s - loss: 0.0223 - accuracy: 0.9937 - val_loss: 0.2407 - val_accuracy: 0.9400 - 2s/epoch - 17ms/step\n",
      "Epoch 30/50\n",
      "100/100 - 2s - loss: 0.0153 - accuracy: 0.9975 - val_loss: 0.1112 - val_accuracy: 0.9450 - 2s/epoch - 17ms/step\n",
      "Epoch 31/50\n",
      "100/100 - 2s - loss: 0.0351 - accuracy: 0.9912 - val_loss: 0.1785 - val_accuracy: 0.9400 - 2s/epoch - 17ms/step\n",
      "Epoch 32/50\n",
      "100/100 - 2s - loss: 0.0714 - accuracy: 0.9725 - val_loss: 0.1417 - val_accuracy: 0.9600 - 2s/epoch - 17ms/step\n",
      "Epoch 33/50\n",
      "100/100 - 2s - loss: 0.0379 - accuracy: 0.9900 - val_loss: 0.1540 - val_accuracy: 0.9400 - 2s/epoch - 17ms/step\n",
      "Epoch 34/50\n",
      "100/100 - 2s - loss: 0.0188 - accuracy: 0.9962 - val_loss: 0.1303 - val_accuracy: 0.9450 - 2s/epoch - 17ms/step\n",
      "Epoch 35/50\n",
      "100/100 - 2s - loss: 0.0201 - accuracy: 0.9962 - val_loss: 0.1108 - val_accuracy: 0.9550 - 2s/epoch - 17ms/step\n",
      "Epoch 36/50\n",
      "100/100 - 2s - loss: 0.0182 - accuracy: 0.9962 - val_loss: 0.1220 - val_accuracy: 0.9500 - 2s/epoch - 17ms/step\n",
      "Epoch 37/50\n",
      "100/100 - 2s - loss: 0.0170 - accuracy: 0.9937 - val_loss: 0.1139 - val_accuracy: 0.9600 - 2s/epoch - 17ms/step\n",
      "Epoch 38/50\n",
      "100/100 - 2s - loss: 0.0274 - accuracy: 0.9912 - val_loss: 0.1309 - val_accuracy: 0.9550 - 2s/epoch - 17ms/step\n",
      "Epoch 39/50\n",
      "100/100 - 2s - loss: 0.0139 - accuracy: 0.9987 - val_loss: 0.1412 - val_accuracy: 0.9500 - 2s/epoch - 17ms/step\n",
      "Epoch 40/50\n",
      "100/100 - 2s - loss: 0.0071 - accuracy: 0.9987 - val_loss: 0.1277 - val_accuracy: 0.9450 - 2s/epoch - 17ms/step\n",
      "Epoch 41/50\n",
      "100/100 - 2s - loss: 0.0104 - accuracy: 0.9975 - val_loss: 0.2225 - val_accuracy: 0.9600 - 2s/epoch - 17ms/step\n",
      "Epoch 42/50\n",
      "100/100 - 2s - loss: 0.0356 - accuracy: 0.9887 - val_loss: 0.2575 - val_accuracy: 0.9500 - 2s/epoch - 17ms/step\n",
      "Epoch 43/50\n",
      "100/100 - 2s - loss: 0.0797 - accuracy: 0.9700 - val_loss: 0.2661 - val_accuracy: 0.9350 - 2s/epoch - 17ms/step\n",
      "Epoch 44/50\n",
      "100/100 - 2s - loss: 0.0556 - accuracy: 0.9837 - val_loss: 0.1536 - val_accuracy: 0.9500 - 2s/epoch - 17ms/step\n",
      "Epoch 45/50\n",
      "100/100 - 2s - loss: 0.0128 - accuracy: 0.9987 - val_loss: 0.1117 - val_accuracy: 0.9600 - 2s/epoch - 17ms/step\n",
      "Epoch 46/50\n",
      "100/100 - 2s - loss: 0.0096 - accuracy: 0.9975 - val_loss: 0.1103 - val_accuracy: 0.9600 - 2s/epoch - 17ms/step\n",
      "Epoch 47/50\n",
      "100/100 - 2s - loss: 0.0075 - accuracy: 0.9987 - val_loss: 0.1083 - val_accuracy: 0.9600 - 2s/epoch - 17ms/step\n",
      "Epoch 48/50\n",
      "100/100 - 2s - loss: 0.0160 - accuracy: 0.9950 - val_loss: 0.1287 - val_accuracy: 0.9550 - 2s/epoch - 17ms/step\n",
      "Epoch 49/50\n",
      "100/100 - 2s - loss: 0.0084 - accuracy: 0.9987 - val_loss: 0.1823 - val_accuracy: 0.9500 - 2s/epoch - 17ms/step\n",
      "Epoch 50/50\n",
      "100/100 - 2s - loss: 0.0046 - accuracy: 1.0000 - val_loss: 0.1525 - val_accuracy: 0.9550 - 2s/epoch - 17ms/step\n"
     ]
    }
   ],
   "source": [
    "model = network()\n",
    "model.compile(loss='categorical_crossentropy', optimizer='adam',metrics=['accuracy'])\n",
    "\n",
    "model.summary()\n",
    "\n",
    "start = time.time()\n",
    "\n",
    "history = model.fit(X_train, Y_train, validation_data=(X_val, Y_val), \n",
    "            batch_size=8,\n",
    "            epochs=50,\n",
    "            verbose=2, \n",
    "            class_weight={0:1.,1:1.})\n",
    "end = time.time()"
   ]
  }
 ],
 "metadata": {
  "kernelspec": {
   "display_name": "Python 3.9.13 ('mlp')",
   "language": "python",
   "name": "python3"
  },
  "language_info": {
   "codemirror_mode": {
    "name": "ipython",
    "version": 3
   },
   "file_extension": ".py",
   "mimetype": "text/x-python",
   "name": "python",
   "nbconvert_exporter": "python",
   "pygments_lexer": "ipython3",
   "version": "3.9.13"
  },
  "orig_nbformat": 4,
  "vscode": {
   "interpreter": {
    "hash": "3647436c2f734fd3f72be8f73130b09ecd5d6c908b22991734a3f7b2100497cf"
   }
  }
 },
 "nbformat": 4,
 "nbformat_minor": 2
}
