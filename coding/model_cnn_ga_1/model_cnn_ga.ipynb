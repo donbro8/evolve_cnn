{
 "cells": [
  {
   "cell_type": "markdown",
   "metadata": {},
   "source": [
    "# NAS for CNN"
   ]
  },
  {
   "cell_type": "markdown",
   "metadata": {},
   "source": [
    "## Structural elements"
   ]
  },
  {
   "cell_type": "markdown",
   "metadata": {},
   "source": [
    "- Branches\n",
    "- Connections\n",
    "- Layers\n",
    "    - Input\n",
    "        - Input shape (first input is standard, all others are calculated)\n",
    "        - Batch size \n",
    "    - 2D convolutional\n",
    "        - Filters\n",
    "        - Kernel size\n",
    "        - Padding\n",
    "        - Activation\n",
    "    - Pooling\n",
    "        - Max\n",
    "            - Size\n",
    "            - Strides\n",
    "            - Padding\n",
    "        - Average\n",
    "            - Size\n",
    "            - Strides\n",
    "            - Padding\n",
    "    - Dropout\n",
    "        - Rate\n",
    "    - Batch normalisation\n",
    "    - Concatenate\n",
    "        - Axis\n",
    "    - Flatten\n",
    "    - Dense\n",
    "        - Units (1, 2)\n",
    "        - Activation (sigmoid, softmax)\n",
    "    - Global pooling\n",
    "        - Max\n",
    "        - Average"
   ]
  },
  {
   "cell_type": "markdown",
   "metadata": {},
   "source": [
    "## Genetic elements"
   ]
  },
  {
   "cell_type": "markdown",
   "metadata": {},
   "source": [
    "- GA\n",
    "    - Type\n",
    "    - Number of generations\n",
    "- Population\n",
    "    - Size\n",
    "    - Encoding type\n",
    "    - Individual size\n",
    "        - Variable or fixed\n",
    "- Fitness\n",
    "- Selection\n",
    "- Reproduction\n",
    "- Mutation"
   ]
  },
  {
   "cell_type": "code",
   "execution_count": 1,
   "metadata": {},
   "outputs": [],
   "source": [
    "import numpy as np\n",
    "import tensorflow as tf\n",
    "from scipy.spatial import distance\n",
    "from tensorflow.keras import backend\n",
    "from tensorflow.keras.layers import Dense, Dropout, Flatten, MaxPool2D, AveragePooling2D, Conv2D, Input, SpatialDropout2D, GlobalAveragePooling2D\n",
    "from tensorflow.keras.models import Sequential\n",
    "from sklearn.model_selection import train_test_split\n",
    "from sklearn.metrics import f1_score\n",
    "from functions import *\n",
    "from IPython.display import clear_output\n",
    "import yaml"
   ]
  },
  {
   "cell_type": "code",
   "execution_count": null,
   "metadata": {},
   "outputs": [],
   "source": [
    "individual = [\n",
    "    # Input layer\n",
    "    'batch_size_index', \n",
    "    \n",
    "    # Convolutional layer\n",
    "    'kernel_index', 'filter_index', 'padding_index', 'activation_index',\n",
    "\n",
    "    # Pooling layer\n",
    "    'type_index', 'size_index', 'padding_index',\n",
    "\n",
    "    # Dropout layer\n",
    "    'type_index', 'rate_index',\n",
    "\n",
    "    # Output layer\n",
    "    'type_index',\n",
    "\n",
    "    # Add layer\n",
    "    ## Layer/Branch 1\n",
    "    'indicator', 'branch_indicator', 'type', 'from', 'to',\n",
    "\n",
    "    ## Layer/Branch 2\n",
    "    'indicator', 'branch_indicator', 'type', 'from', 'to',\n",
    "\n",
    "    ## ... variable length array\n",
    "\n",
    "    ## Layer/Branch n\n",
    "    'indicator', 'branch_indicator', 'type', 'from', 'to'\n",
    "\n",
    "\n",
    "    ]"
   ]
  },
  {
   "cell_type": "code",
   "execution_count": 5,
   "metadata": {},
   "outputs": [],
   "source": [
    "class LoadData:\n",
    "\n",
    "    def __init__(self, path):\n",
    "        self.path = path\n",
    "\n",
    "        print_function('Retrieving yaml parameters')\n",
    "\n",
    "        with open(self.path, \"r\") as stream:\n",
    "            self.load_yaml = yaml.load(stream, yaml.SafeLoader)\n",
    "\n",
    "        self.gen_params = self.load_yaml['general']\n",
    "\n",
    "        self.seed_value = self.gen_params['seed_value']\n",
    "\n",
    "        self.random_state = np.random.RandomState(self.seed_value)\n",
    "\n",
    "        self.data_params = self.load_yaml['data']\n",
    "\n",
    "        self.sample_size = self.data_params['data_sample_size']\n",
    "\n",
    "        self.test_set_size = self.data_params['test_set_size']\n",
    "\n",
    "        self.test_val_split = self.data_params['test_val_split']\n",
    "        \n",
    "\n",
    "    def load_data(self):\n",
    "\n",
    "        print_function('Loading data')\n",
    "\n",
    "        X = np.load(self.data_params['X_path'])\n",
    "        \n",
    "        Y = np.load(self.data_params['Y_path'])\n",
    "\n",
    "        print('Total sample size', X.shape[0])\n",
    "\n",
    "        if self.sample_size != None:\n",
    "            g_sample = int(np.floor(self.sample_size/2))\n",
    "            n_sample = self.sample_size - g_sample\n",
    "\n",
    "            g_i = np.random.randint(0, int(X.shape[0]/2) - 1, g_sample)\n",
    "            n_i = np.random.randint(int(X.shape[0]/2), X.shape[0] - 1, n_sample)\n",
    "\n",
    "            X = np.concatenate([X[g_i], X[n_i]])\n",
    "            Y = np.concatenate([Y[g_i], Y[n_i]])\n",
    "            self.X_train, X_val, self.Y_train, Y_val = train_test_split(X, Y, test_size=self.test_set_size, random_state=self.seed_value, shuffle = True)\n",
    "            self.X_test, self.X_val, self.Y_test, self.Y_val = train_test_split(X_val, Y_val, test_size=self.test_val_split, random_state=self.seed_value, shuffle = True)\n",
    "\n",
    "        else:\n",
    "            self.X_train, X_val, self.Y_train, Y_val = train_test_split(X, Y, test_size=self.test_set_size, random_state=self.seed_value, shuffle = True)\n",
    "            self.X_test, self.X_val, self.Y_test, self.Y_val = train_test_split(X_val, Y_val, test_size=self.test_val_split, random_state=self.seed_value, shuffle = True)\n",
    "\n",
    "        print_function('Data successfully loaded')\n",
    "\n",
    "        print('Training sample size   = ', self.X_train.shape[0])\n",
    "        print('Validation sample size = ', self.X_val.shape[0])\n",
    "        print('Testing sample size    = ', self.X_test.shape[0])\n",
    "\n",
    "        print_function('If you would like to reload the data set argument \"load_data_bool = True\".')"
   ]
  },
  {
   "cell_type": "code",
   "execution_count": 6,
   "metadata": {},
   "outputs": [],
   "source": [
    "class GeneticBlockCNN(LoadData):\n",
    "\n",
    "    def __init__(self, path, load_data_bool = False):\n",
    "\n",
    "        self.load_data_bool = load_data_bool\n",
    "        \n",
    "        super().__init__(path)\n",
    "\n",
    "        try:\n",
    "            self.X_train\n",
    "            if self.load_data_bool:\n",
    "                super().load_data()\n",
    "        except:\n",
    "            super().load_data()\n",
    "\n",
    "        len_lists = []\n",
    "        len_values = [] # stores the maximum lengths of bits required to define the length of the lists in the parameters dict\n",
    "        # max_ind = []\n",
    "        # bit_max_int = []\n",
    "        # bit_max = ''\n",
    "\n",
    "        self.cnn_params = self.load_yaml['cnn_layers']\n",
    "\n",
    "        self.ga_params = self.load_yaml['genetic_algo']\n",
    "\n",
    "        self.crossover_params = self.ga_params['crossover']\n",
    "\n",
    "        print_function('Retrieving state space parameters')\n",
    "\n",
    "        for layer in self.cnn_params.keys():\n",
    "\n",
    "            for value_list in list(self.cnn_params[layer].values()):\n",
    "\n",
    "                # max_ind.append(len(value_list) - 1)\n",
    "\n",
    "                # bit_max = bit_max + bin(len(value_list) - 1)[2:]\n",
    "\n",
    "                len_values.append(len(bin(len(value_list) - 1)[2:])) \n",
    "\n",
    "                len_lists.append(len(value_list))\n",
    "            \n",
    "\n",
    "        self.len_lists = np.array(len_lists)\n",
    "        \n",
    "        self.gene_length = np.max(len_values)\n",
    "        \n",
    "        self.individual_length = len(self.len_lists) * self.gene_length\n",
    "\n",
    "        # len_values = np.array(len_values)\n",
    "\n",
    "        self.population_size = self.ga_params['population_size']\n",
    "\n",
    "        self.hamming_sample_probability = self.ga_params['hamming_sample_probability']\n",
    "\n",
    "        print_function('\\n', parameter_lengths = self.len_lists, gene_length = self.gene_length, chromosome_length = self.individual_length,\n",
    "                            population_size = self.population_size)\n",
    "        \n",
    "        \n",
    "\n",
    "    def generate_population(self):\n",
    "        \"\"\"\n",
    "        Generates population given the number of individuals in a population and the required binary length.\n",
    "        \"\"\"\n",
    "\n",
    "        bit_length = int(self.individual_length/len(self.len_lists))\n",
    "\n",
    "        population = np.zeros(shape=(self.population_size, self.individual_length), dtype=int)\n",
    "        \n",
    "        for i in range(self.population_size):\n",
    "            \n",
    "            bits = ''\n",
    "            for l in self.len_lists:\n",
    "\n",
    "                choice = np.random.choice(np.arange(0, l))\n",
    "\n",
    "                bit_choice = bin(choice)[2:]\n",
    "\n",
    "                bits += ('0' * (bit_length - len(bit_choice))) + bit_choice\n",
    "\n",
    "            population[i] = np.array([int(x) for x in bits])\n",
    "        \n",
    "        self.population = population\n",
    "\n",
    "\n",
    "    \n",
    "    def decoder(self, chromosome):\n",
    "\n",
    "        \"\"\"\n",
    "        Converts the binary bitstring vector to integer phenotype.\n",
    "        \"\"\"\n",
    "\n",
    "        c = chromosome.astype(int)\n",
    "\n",
    "        start_ind = np.arange(0, self.individual_length, self.gene_length)\n",
    "\n",
    "        self.phenotype = np.array([int(str(''.join(map(str, c[x:x + self.gene_length]))), 2) for x in start_ind])\n",
    "\n",
    "        return self.phenotype\n",
    "\n",
    "\n",
    "\n",
    "    def validity_check(self):\n",
    "\n",
    "        \"\"\"\n",
    "        Checks whether a phenotype is valid by comparing to the maximum length of values determined using the set of parameters. Returns True or False.\n",
    "        \"\"\"\n",
    "\n",
    "        self.valid_phenotype =  np.all(self.phenotype <= self.len_lists - 1)\n",
    "\n",
    "\n",
    "\n",
    "    def hamming_distance(self):\n",
    "\n",
    "        \"\"\"\n",
    "        Calculates the mean hamming distance for a sample of the input population.\n",
    "        \"\"\"\n",
    "\n",
    "        n_select = int(np.ceil(self.population_size*self.hamming_sample_probability))\n",
    "\n",
    "        mean_hamming = 0\n",
    "\n",
    "        for individual in self.random_state.choice(np.arange(0, self.population_size, n_select), n_select):\n",
    "\n",
    "            mean_hamming += np.mean([distance.hamming(self.population[individual], self.population[x]) for x in range(n)])\n",
    "\n",
    "        self.mean_hamming =  mean_hamming/n_select\n",
    "\n",
    "\n",
    "    \n",
    "    def get_cnn_parameters(self):\n",
    "\n",
    "        \"\"\"\n",
    "        Fetches the CNN input parameters based on the phenotype.\n",
    "        \"\"\"\n",
    "\n",
    "        input_params = []\n",
    "\n",
    "        layers = list(self.cnn_params.keys())\n",
    "\n",
    "        param_count = 0\n",
    "\n",
    "        for i in range(len(layers)):\n",
    "\n",
    "            for param_type in self.cnn_params[layers[i]].keys():\n",
    "                \n",
    "                input_params.append(self.cnn_params[layers[i]][param_type][self.phenotype[param_count]])\n",
    "                \n",
    "                param_count += 1\n",
    "        \n",
    "        self.cnn_input_params = input_params\n",
    "\n",
    "        return self.cnn_input_params\n",
    "\n",
    "\n",
    "\n",
    "    def train_model(self):\n",
    "\n",
    "        self.epochs = self.gen_params['epochs']\n",
    "        \n",
    "        self.model = Sequential()\n",
    "\n",
    "        self.model.add(Conv2D(input_shape = self.X_train.shape[1:], \n",
    "                            kernel_size = self.cnn_input_params[1], \n",
    "                            filters = self.cnn_input_params[2], \n",
    "                            padding = self.cnn_input_params[3],\n",
    "                            activation = self.cnn_input_params[4]))\n",
    "\n",
    "        if self.cnn_input_params[8] == 'dropout':\n",
    "            self.model.add(Dropout(rate = self.cnn_input_params[9]))\n",
    "\n",
    "        else:\n",
    "            self.model.add(SpatialDropout2D(rate = self.cnn_input_params[9]))\n",
    "\n",
    "        if self.cnn_input_params[5] == 'max':\n",
    "            self.model.add(MaxPool2D(pool_size=self.cnn_input_params[6], padding=self.cnn_input_params[7]))\n",
    "\n",
    "        else:\n",
    "            self.model.add(AveragePooling2D(pool_size=self.cnn_input_params[6], padding=self.cnn_input_params[7]))\n",
    "\n",
    "        if self.cnn_input_params[10] == 'dense':\n",
    "            self.model.add(Flatten())\n",
    "            self.model.add(Dense(100, activation = self.cnn_input_params[4]))\n",
    "            self.model.add(Dropout(rate = self.cnn_input_params[9]))\n",
    "\n",
    "\n",
    "        else:\n",
    "            self.model.add(GlobalAveragePooling2D())\n",
    "            self.model.add(Flatten())\n",
    "        \n",
    "        self.model.add(Dense(2, activation = 'softmax'))\n",
    "        self.model.compile(loss='binary_crossentropy', optimizer='adam', metrics=['acc', f1_m, precision_m, recall_m])\n",
    "\n",
    "        self.history = self.model.fit(self.X_train, self.Y_train, validation_data=(self.X_val, self.Y_val), \n",
    "                batch_size=self.cnn_input_params[0],\n",
    "                epochs=self.epochs,\n",
    "                verbose=self.gen_params['verbose'], \n",
    "                class_weight={0:1.,1:1.})\n",
    "\n",
    "\n",
    "\n",
    "    def check_parent_similarity(self, parent_population):\n",
    "        return  np.any(np.sum(np.abs(np.diff(parent_population, axis = 0)), axis = 1) == 0)\n",
    "\n",
    "\n",
    "\n",
    "    def selection(self):\n",
    "\n",
    "        self.individual_length\n",
    "\n",
    "        n_selected = 0\n",
    "\n",
    "        self.selection_params = self.ga_params['selection']\n",
    "\n",
    "        self.converge_limit = self.ga_params['converge_limit']\n",
    "\n",
    "        k = self.selection_params['k']\n",
    "\n",
    "        self.n_parents = self.crossover_params['n_parents']\n",
    "\n",
    "        selection_probability = self.selection_params['probability']\n",
    "\n",
    "        self.selected_population_size = int(np.ceil((self.population_size*self.selection_params['population_size_ratio'])/self.n_parents)*self.n_parents) # ensures the selected population size is divisible by the number of parents used in crossover\n",
    "\n",
    "        similar_parents = True\n",
    "\n",
    "        convergence_iteration = 0\n",
    "\n",
    "        while n_selected < self.selected_population_size or convergence_iteration <= self.converge_limit:\n",
    "\n",
    "            sub_population = self.population[self.random_state.choice(np.arange(0, self.population_size, 1), k, replace = False)]\n",
    "\n",
    "            scores = []\n",
    "\n",
    "            iteration = 1\n",
    "\n",
    "            for individual in sub_population:\n",
    "\n",
    "                phenotype = self.decoder(individual)\n",
    "\n",
    "                params = self.get_cnn_parameters()\n",
    "\n",
    "                self.train_model()\n",
    "\n",
    "                scores.append(np.mean(self.history.history['val_f1_m'])) # fitness(np.mean(np.diff(self.history.history['val_f1_m'])))\n",
    "\n",
    "                iteration += 1\n",
    "\n",
    "            \n",
    "            rank_index = np.argsort(scores)\n",
    "\n",
    "            rank_scores = np.array(scores)[rank_index]\n",
    "\n",
    "            ranked = sub_population[rank_index]\n",
    "\n",
    "            p_array = np.concatenate(([selection_probability], selection_probability*((1 - selection_probability)**rank_scores)))\n",
    "\n",
    "            p_array = np.concatenate((p_array[p_array < 1], np.array([1 - np.sum(p_array[p_array < 1])])))\n",
    "\n",
    "            p_array = np.concatenate((p_array[0:len(ranked) - 1], [np.sum(p_array[len(ranked) - 1:])]))[rank_index]\n",
    "\n",
    "            selected_index = np.random.choice(rank_index, p = p_array)\n",
    "\n",
    "            selected = ranked[selected_index]\n",
    "\n",
    "            fitness_val = rank_scores[selected_index]\n",
    "\n",
    "            if n_selected == 0:\n",
    "                \n",
    "                selected_population = selected\n",
    "\n",
    "                selected_fitness = np.array([fitness_val])\n",
    "\n",
    "                n_selected = 1\n",
    "\n",
    "            else:\n",
    "\n",
    "                selected_population = np.vstack((selected_population, selected))\n",
    "\n",
    "                similar_parents = self.check_parent_similarity(selected_population)\n",
    "\n",
    "                if similar_parents:\n",
    "                    convergence_iteration += 1\n",
    "                    continue\n",
    "\n",
    "                else:\n",
    "                    selected_fitness = np.concatenate((selected_fitness, np.array([fitness_val])))\n",
    "\n",
    "                    n_selected = selected_population.shape[0]\n",
    "\n",
    "\n",
    "            print_function('', Selected = n_selected, of = '', total =  self.selected_population_size)\n",
    "\n",
    "        self.selected_population = selected_population\n",
    "        self.selected_fitness = selected_fitness\n",
    "\n",
    "\n",
    "\n",
    "    def crossover(self):\n",
    "\n",
    "        crossover_probability = self.crossover_params['probability']\n",
    "\n",
    "        size_tuple = (self.n_parents, self.individual_length)\n",
    "\n",
    "        n_offspring = 0\n",
    "\n",
    "        self.offspring_population_size = self.selected_population_size\n",
    "\n",
    "        while n_offspring < self.offspring_population_size:\n",
    "\n",
    "            similar_parents = True\n",
    "\n",
    "            while similar_parents:\n",
    "\n",
    "                parent_index = self.random_state.choice(np.arange(0, self.selected_population_size, 1), self.n_parents, replace = False)\n",
    "\n",
    "                parents = self.selected_population[parent_index]\n",
    "\n",
    "                similar_parents = self.check_parent_similarity(parents)\n",
    "\n",
    "            r = self.random_state.random()\n",
    "\n",
    "            if crossover_probability < 1.0 and crossover_probability > 0.0 and r > crossover_probability:\n",
    "\n",
    "                continue\n",
    "\n",
    "            else:\n",
    "\n",
    "                offspring = np.zeros(size_tuple)\n",
    "\n",
    "                for i in range(self.n_parents):\n",
    "\n",
    "                    valid_individual = False\n",
    "\n",
    "                    while not valid_individual:\n",
    "\n",
    "                        random_matrix = self.random_state.random(size_tuple)\n",
    "\n",
    "                        normalised_random_matrix = random_matrix/random_matrix.sum(axis = 0)\n",
    "\n",
    "                        max_index_j = np.argmax(normalised_random_matrix, axis = 0)\n",
    "\n",
    "                        offspring_v = parents[max_index_j, range(self.individual_length)]\n",
    "\n",
    "                        phentotype = self.decoder(offspring_v)\n",
    "\n",
    "                        self.validity_check()\n",
    "\n",
    "                        valid_individual = self.valid_phenotype\n",
    "                        \n",
    "                    offspring[i] = offspring_v\n",
    "\n",
    "            print_function('Generated', Offspring = n_offspring + 1, of = '', total = self.offspring_population_size)\n",
    "\n",
    "            if n_offspring == 0:\n",
    "\n",
    "                offspring_population = offspring\n",
    "\n",
    "                n_offspring = 1\n",
    "\n",
    "            else:\n",
    "\n",
    "                offspring_population = np.vstack((offspring_population, offspring))\n",
    "\n",
    "            n_offspring = offspring_population.shape[0]\n",
    "\n",
    "            \n",
    "\n",
    "        self.offspring_population = offspring_population\n",
    "        # self.offspring_population_size = offspring_population_size\n",
    "    \n",
    "\n",
    "\n",
    "    def mutation(self):\n",
    "\n",
    "        self.mutation_params = self.ga_params['mutation']\n",
    "\n",
    "        mutation_probability = self.mutation_params['probability']\n",
    "\n",
    "        for i in range(self.offspring_population_size):\n",
    "\n",
    "            valid_individual = False\n",
    "\n",
    "            while not valid_individual:\n",
    "\n",
    "                r = self.random_state.random(self.individual_length)\n",
    "\n",
    "                mutate_index = (r < mutation_probability)\n",
    "\n",
    "                offspring_v = np.copy(self.offspring_population[i])\n",
    "\n",
    "                offspring_v[mutate_index] = np.logical_not(offspring_v[mutate_index])\n",
    "\n",
    "                phenotype = self.decoder(offspring_v)\n",
    "\n",
    "                self.validity_check()\n",
    "\n",
    "                valid_individual = self.valid_phenotype\n",
    "\n",
    "            self.offspring_population[i] = offspring_v\n",
    "\n",
    "\n",
    "\n",
    "    def genetic_algorithm(self):\n",
    "\n",
    "        self.n_generations = self.ga_params['n_generations']\n",
    "\n",
    "        print_function('Genetic algorithm parameters \\n', GA_params = self.ga_params)\n",
    "\n",
    "        print_function('Generating initital population')\n",
    "\n",
    "        self.generate_population()\n",
    "\n",
    "        self.generation_history = {}\n",
    "\n",
    "        for generation in range(1, self.n_generations + 1):\n",
    "\n",
    "            print_function('', Generation = generation, of = '', total = self.n_generations)\n",
    "\n",
    "            print_function('Selection')\n",
    "            \n",
    "            self.selection()\n",
    "\n",
    "            print_function('Crossover')\n",
    "\n",
    "            self.crossover()\n",
    "\n",
    "            print_function('Mutation')\n",
    "\n",
    "            self.mutation()\n",
    "\n",
    "            # offspring_fitness = []\n",
    "\n",
    "            # for individual in self.offspring_population:\n",
    "\n",
    "            #     phenotype = self.decoder(individual)\n",
    "\n",
    "            #     cnn_params = self.get_cnn_parameters()\n",
    "\n",
    "            #     self.train_model()\n",
    "\n",
    "            #     offspring_fitness.append(np.mean(np.diff(self.history.history['val_f1_m'])))\n",
    "\n",
    "            # total_pool = np.vstack((self.selected_population, self.offspring_population))\n",
    "\n",
    "            # total_fitness = np.concatenate((self.selected_fitness, np.array(offspring_fitness)))\n",
    "\n",
    "            # new_population_index = np.argsort(total_fitness)[::-1][:self.population_size]\n",
    "\n",
    "            # population = total_pool[new_population_index]\n",
    "\n",
    "            self.population = np.vstack((self.selected_population, self.offspring_population))\n",
    "\n",
    "            self.generation_history[str(generation)] = {}\n",
    "\n",
    "            self.generation_history[str(generation)]['selected_population'] = self.selected_population\n",
    "\n",
    "            self.generation_history[str(generation)]['selected_fitness'] = self.selected_fitness\n",
    "\n",
    "            self.generation_history[str(generation)]['offspring'] = self.offspring_population\n",
    "\n",
    "            if generation < self.n_generations:\n",
    "                clear_output(wait=True)\n",
    "\n",
    "        print_function('Run completed')\n",
    "\n",
    "        return self.generation_history\n",
    "  \n",
    "\n",
    "    # def fitness(fitness_input, population = None, model_params = None, age = None, beta = 10):\n",
    "\n",
    "    #     diversity = 1\n",
    "\n",
    "    #     n_params = 1\n",
    "\n",
    "    #     if population != None:\n",
    "    #         diversity = hamming_distance(population)\n",
    "\n",
    "    #     if model_params != None:\n",
    "    #         n_params = 1 # need to determine the maximum number of possible parameters so that we can scale\n",
    "\n",
    "    #     return 1/(1 + np.exp(-beta*fitness_input)) # * 1/diversity * n_params\n",
    "    "
   ]
  },
  {
   "cell_type": "code",
   "execution_count": 7,
   "metadata": {},
   "outputs": [
    {
     "name": "stdout",
     "output_type": "stream",
     "text": [
      "Retrieving yaml parameters...\n",
      "__________________________________________________\n",
      "Loading data...\n",
      "__________________________________________________\n",
      "Total sample size 73160\n",
      "Data successfully loaded...\n",
      "__________________________________________________\n",
      "Training sample size   =  600\n",
      "Validation sample size =  200\n",
      "Testing sample size    =  200\n",
      "If you would like to reload the data set argument \"load_data_bool = True\"....\n",
      "__________________________________________________\n",
      "Retrieving state space parameters...\n",
      "__________________________________________________\n",
      "\n",
      "...\n",
      "-- parameter_lengths .......... [3 4 4 2 4 2 4 2 2 9 2]\n",
      "-- gene_length ...................................... 4\n",
      "-- chromosome_length ............................... 44\n",
      "-- population_size ................................. 20\n",
      "__________________________________________________\n"
     ]
    }
   ],
   "source": [
    "my_cnn = GeneticBlockCNN('parameters.yaml')"
   ]
  },
  {
   "cell_type": "code",
   "execution_count": 9,
   "metadata": {},
   "outputs": [
    {
     "name": "stdout",
     "output_type": "stream",
     "text": [
      "...\n",
      "-- Generation ....................................... 4\n",
      "-- of ................................................ \n",
      "-- total ........................................... 10\n",
      "__________________________________________________\n",
      "Selection...\n",
      "__________________________________________________\n",
      "Epoch 1/10\n"
     ]
    },
    {
     "name": "stderr",
     "output_type": "stream",
     "text": [
      "2022-12-04 16:08:39.674923: I tensorflow/core/grappler/optimizers/custom_graph_optimizer_registry.cc:113] Plugin optimizer for device_type GPU is enabled.\n",
      "2022-12-04 16:08:41.858513: I tensorflow/core/grappler/optimizers/custom_graph_optimizer_registry.cc:113] Plugin optimizer for device_type GPU is enabled.\n"
     ]
    },
    {
     "name": "stdout",
     "output_type": "stream",
     "text": [
      "75/75 - 3s - loss: 0.6740 - acc: 0.5767 - f1_m: 0.5767 - precision_m: 0.5767 - recall_m: 0.5767 - val_loss: 0.6366 - val_acc: 0.5950 - val_f1_m: 0.5950 - val_precision_m: 0.5950 - val_recall_m: 0.5950 - 3s/epoch - 42ms/step\n",
      "Epoch 2/10\n",
      "75/75 - 2s - loss: 0.5947 - acc: 0.7050 - f1_m: 0.7050 - precision_m: 0.7050 - recall_m: 0.7050 - val_loss: 0.6111 - val_acc: 0.7150 - val_f1_m: 0.7150 - val_precision_m: 0.7150 - val_recall_m: 0.7150 - 2s/epoch - 27ms/step\n",
      "Epoch 3/10\n",
      "75/75 - 2s - loss: 0.5140 - acc: 0.8000 - f1_m: 0.8000 - precision_m: 0.8000 - recall_m: 0.8000 - val_loss: 0.5879 - val_acc: 0.7550 - val_f1_m: 0.7550 - val_precision_m: 0.7550 - val_recall_m: 0.7550 - 2s/epoch - 25ms/step\n",
      "Epoch 4/10\n",
      "75/75 - 2s - loss: 0.4947 - acc: 0.8050 - f1_m: 0.8050 - precision_m: 0.8050 - recall_m: 0.8050 - val_loss: 0.6111 - val_acc: 0.7100 - val_f1_m: 0.7100 - val_precision_m: 0.7100 - val_recall_m: 0.7100 - 2s/epoch - 26ms/step\n",
      "Epoch 5/10\n",
      "75/75 - 2s - loss: 0.4317 - acc: 0.8250 - f1_m: 0.8250 - precision_m: 0.8250 - recall_m: 0.8250 - val_loss: 0.6108 - val_acc: 0.6950 - val_f1_m: 0.6950 - val_precision_m: 0.6950 - val_recall_m: 0.6950 - 2s/epoch - 22ms/step\n",
      "Epoch 6/10\n",
      "75/75 - 2s - loss: 0.3784 - acc: 0.8483 - f1_m: 0.8483 - precision_m: 0.8483 - recall_m: 0.8483 - val_loss: 0.6293 - val_acc: 0.7200 - val_f1_m: 0.7200 - val_precision_m: 0.7200 - val_recall_m: 0.7200 - 2s/epoch - 20ms/step\n",
      "Epoch 7/10\n",
      "75/75 - 2s - loss: 0.3231 - acc: 0.8800 - f1_m: 0.8800 - precision_m: 0.8800 - recall_m: 0.8800 - val_loss: 0.6863 - val_acc: 0.7100 - val_f1_m: 0.7100 - val_precision_m: 0.7100 - val_recall_m: 0.7100 - 2s/epoch - 20ms/step\n",
      "Epoch 8/10\n",
      "75/75 - 2s - loss: 0.3471 - acc: 0.8700 - f1_m: 0.8700 - precision_m: 0.8700 - recall_m: 0.8700 - val_loss: 0.6654 - val_acc: 0.7350 - val_f1_m: 0.7350 - val_precision_m: 0.7350 - val_recall_m: 0.7350 - 2s/epoch - 21ms/step\n",
      "Epoch 9/10\n",
      "75/75 - 2s - loss: 0.2709 - acc: 0.9017 - f1_m: 0.9017 - precision_m: 0.9017 - recall_m: 0.9017 - val_loss: 0.7561 - val_acc: 0.6900 - val_f1_m: 0.6900 - val_precision_m: 0.6900 - val_recall_m: 0.6900 - 2s/epoch - 20ms/step\n",
      "Epoch 10/10\n",
      "75/75 - 2s - loss: 0.2284 - acc: 0.9400 - f1_m: 0.9400 - precision_m: 0.9400 - recall_m: 0.9400 - val_loss: 0.6959 - val_acc: 0.7650 - val_f1_m: 0.7650 - val_precision_m: 0.7650 - val_recall_m: 0.7650 - 2s/epoch - 20ms/step\n",
      "Epoch 1/10\n"
     ]
    },
    {
     "name": "stderr",
     "output_type": "stream",
     "text": [
      "2022-12-04 16:08:57.657438: I tensorflow/core/grappler/optimizers/custom_graph_optimizer_registry.cc:113] Plugin optimizer for device_type GPU is enabled.\n",
      "2022-12-04 16:08:59.065224: I tensorflow/core/grappler/optimizers/custom_graph_optimizer_registry.cc:113] Plugin optimizer for device_type GPU is enabled.\n"
     ]
    },
    {
     "name": "stdout",
     "output_type": "stream",
     "text": [
      "75/75 - 2s - loss: 0.6935 - acc: 0.5133 - f1_m: 0.5133 - precision_m: 0.5133 - recall_m: 0.5133 - val_loss: 0.6944 - val_acc: 0.4550 - val_f1_m: 0.4550 - val_precision_m: 0.4550 - val_recall_m: 0.4550 - 2s/epoch - 26ms/step\n",
      "Epoch 2/10\n",
      "75/75 - 1s - loss: 0.6936 - acc: 0.5133 - f1_m: 0.5133 - precision_m: 0.5133 - recall_m: 0.5133 - val_loss: 0.6946 - val_acc: 0.4550 - val_f1_m: 0.4550 - val_precision_m: 0.4550 - val_recall_m: 0.4550 - 1s/epoch - 15ms/step\n",
      "Epoch 3/10\n",
      "75/75 - 1s - loss: 0.6935 - acc: 0.5133 - f1_m: 0.5133 - precision_m: 0.5133 - recall_m: 0.5133 - val_loss: 0.6947 - val_acc: 0.4550 - val_f1_m: 0.4550 - val_precision_m: 0.4550 - val_recall_m: 0.4550 - 1s/epoch - 15ms/step\n",
      "Epoch 4/10\n",
      "75/75 - 1s - loss: 0.6935 - acc: 0.5133 - f1_m: 0.5133 - precision_m: 0.5133 - recall_m: 0.5133 - val_loss: 0.6944 - val_acc: 0.4550 - val_f1_m: 0.4550 - val_precision_m: 0.4550 - val_recall_m: 0.4550 - 1s/epoch - 15ms/step\n",
      "Epoch 5/10\n",
      "75/75 - 1s - loss: 0.6939 - acc: 0.5133 - f1_m: 0.5133 - precision_m: 0.5133 - recall_m: 0.5133 - val_loss: 0.6947 - val_acc: 0.4550 - val_f1_m: 0.4550 - val_precision_m: 0.4550 - val_recall_m: 0.4550 - 1s/epoch - 15ms/step\n",
      "Epoch 6/10\n",
      "75/75 - 1s - loss: 0.6934 - acc: 0.5133 - f1_m: 0.5133 - precision_m: 0.5133 - recall_m: 0.5133 - val_loss: 0.6945 - val_acc: 0.4550 - val_f1_m: 0.4550 - val_precision_m: 0.4550 - val_recall_m: 0.4550 - 1s/epoch - 15ms/step\n",
      "Epoch 7/10\n",
      "75/75 - 1s - loss: 0.6934 - acc: 0.5133 - f1_m: 0.5133 - precision_m: 0.5133 - recall_m: 0.5133 - val_loss: 0.6947 - val_acc: 0.4550 - val_f1_m: 0.4550 - val_precision_m: 0.4550 - val_recall_m: 0.4550 - 1s/epoch - 15ms/step\n",
      "Epoch 8/10\n",
      "75/75 - 1s - loss: 0.6934 - acc: 0.5133 - f1_m: 0.5133 - precision_m: 0.5133 - recall_m: 0.5133 - val_loss: 0.6946 - val_acc: 0.4550 - val_f1_m: 0.4550 - val_precision_m: 0.4550 - val_recall_m: 0.4550 - 1s/epoch - 15ms/step\n",
      "Epoch 9/10\n",
      "75/75 - 1s - loss: 0.6934 - acc: 0.5133 - f1_m: 0.5133 - precision_m: 0.5133 - recall_m: 0.5133 - val_loss: 0.6950 - val_acc: 0.4550 - val_f1_m: 0.4550 - val_precision_m: 0.4550 - val_recall_m: 0.4550 - 1s/epoch - 15ms/step\n",
      "Epoch 10/10\n",
      "75/75 - 1s - loss: 0.6934 - acc: 0.5133 - f1_m: 0.5133 - precision_m: 0.5133 - recall_m: 0.5133 - val_loss: 0.6951 - val_acc: 0.4550 - val_f1_m: 0.4550 - val_precision_m: 0.4550 - val_recall_m: 0.4550 - 1s/epoch - 15ms/step\n",
      "...\n",
      "-- Selected ......................................... 1\n",
      "-- of ................................................ \n",
      "-- total ........................................... 10\n",
      "__________________________________________________\n",
      "Epoch 1/10\n"
     ]
    },
    {
     "name": "stderr",
     "output_type": "stream",
     "text": [
      "2022-12-04 16:09:09.986363: I tensorflow/core/grappler/optimizers/custom_graph_optimizer_registry.cc:113] Plugin optimizer for device_type GPU is enabled.\n",
      "2022-12-04 16:09:11.463658: I tensorflow/core/grappler/optimizers/custom_graph_optimizer_registry.cc:113] Plugin optimizer for device_type GPU is enabled.\n"
     ]
    },
    {
     "name": "stdout",
     "output_type": "stream",
     "text": [
      "75/75 - 2s - loss: 0.6932 - acc: 0.4867 - f1_m: 0.4867 - precision_m: 0.4867 - recall_m: 0.4867 - val_loss: 0.6938 - val_acc: 0.4550 - val_f1_m: 0.4550 - val_precision_m: 0.4550 - val_recall_m: 0.4550 - 2s/epoch - 28ms/step\n",
      "Epoch 2/10\n",
      "75/75 - 1s - loss: 0.6935 - acc: 0.4717 - f1_m: 0.4717 - precision_m: 0.4717 - recall_m: 0.4717 - val_loss: 0.6940 - val_acc: 0.4550 - val_f1_m: 0.4550 - val_precision_m: 0.4550 - val_recall_m: 0.4550 - 1s/epoch - 16ms/step\n",
      "Epoch 3/10\n",
      "75/75 - 1s - loss: 0.6933 - acc: 0.5133 - f1_m: 0.5133 - precision_m: 0.5133 - recall_m: 0.5133 - val_loss: 0.6951 - val_acc: 0.4550 - val_f1_m: 0.4550 - val_precision_m: 0.4550 - val_recall_m: 0.4550 - 1s/epoch - 18ms/step\n",
      "Epoch 4/10\n",
      "75/75 - 1s - loss: 0.6929 - acc: 0.5133 - f1_m: 0.5133 - precision_m: 0.5133 - recall_m: 0.5133 - val_loss: 0.6955 - val_acc: 0.4550 - val_f1_m: 0.4550 - val_precision_m: 0.4550 - val_recall_m: 0.4550 - 1s/epoch - 18ms/step\n",
      "Epoch 5/10\n",
      "75/75 - 1s - loss: 0.6932 - acc: 0.5133 - f1_m: 0.5133 - precision_m: 0.5133 - recall_m: 0.5133 - val_loss: 0.6963 - val_acc: 0.4550 - val_f1_m: 0.4550 - val_precision_m: 0.4550 - val_recall_m: 0.4550 - 1s/epoch - 17ms/step\n",
      "Epoch 6/10\n",
      "75/75 - 1s - loss: 0.6927 - acc: 0.5133 - f1_m: 0.5133 - precision_m: 0.5133 - recall_m: 0.5133 - val_loss: 0.6960 - val_acc: 0.4550 - val_f1_m: 0.4550 - val_precision_m: 0.4550 - val_recall_m: 0.4550 - 1s/epoch - 18ms/step\n",
      "Epoch 7/10\n",
      "75/75 - 1s - loss: 0.6928 - acc: 0.5133 - f1_m: 0.5133 - precision_m: 0.5133 - recall_m: 0.5133 - val_loss: 0.6964 - val_acc: 0.4550 - val_f1_m: 0.4550 - val_precision_m: 0.4550 - val_recall_m: 0.4550 - 1s/epoch - 18ms/step\n",
      "Epoch 8/10\n",
      "75/75 - 1s - loss: 0.6932 - acc: 0.5133 - f1_m: 0.5133 - precision_m: 0.5133 - recall_m: 0.5133 - val_loss: 0.6964 - val_acc: 0.4550 - val_f1_m: 0.4550 - val_precision_m: 0.4550 - val_recall_m: 0.4550 - 1s/epoch - 18ms/step\n",
      "Epoch 9/10\n",
      "75/75 - 1s - loss: 0.6933 - acc: 0.5133 - f1_m: 0.5133 - precision_m: 0.5133 - recall_m: 0.5133 - val_loss: 0.6958 - val_acc: 0.4550 - val_f1_m: 0.4550 - val_precision_m: 0.4550 - val_recall_m: 0.4550 - 1s/epoch - 18ms/step\n",
      "Epoch 10/10\n",
      "75/75 - 1s - loss: 0.6936 - acc: 0.5133 - f1_m: 0.5133 - precision_m: 0.5133 - recall_m: 0.5133 - val_loss: 0.6950 - val_acc: 0.4550 - val_f1_m: 0.4550 - val_precision_m: 0.4550 - val_recall_m: 0.4550 - 1s/epoch - 18ms/step\n",
      "Epoch 1/10\n"
     ]
    },
    {
     "name": "stderr",
     "output_type": "stream",
     "text": [
      "2022-12-04 16:09:23.995227: I tensorflow/core/grappler/optimizers/custom_graph_optimizer_registry.cc:113] Plugin optimizer for device_type GPU is enabled.\n",
      "2022-12-04 16:09:25.607719: I tensorflow/core/grappler/optimizers/custom_graph_optimizer_registry.cc:113] Plugin optimizer for device_type GPU is enabled.\n"
     ]
    },
    {
     "name": "stdout",
     "output_type": "stream",
     "text": [
      "75/75 - 2s - loss: 0.6937 - acc: 0.5133 - f1_m: 0.5133 - precision_m: 0.5133 - recall_m: 0.5133 - val_loss: 0.6949 - val_acc: 0.4550 - val_f1_m: 0.4550 - val_precision_m: 0.4550 - val_recall_m: 0.4550 - 2s/epoch - 29ms/step\n",
      "Epoch 2/10\n",
      "75/75 - 1s - loss: 0.6934 - acc: 0.5133 - f1_m: 0.5133 - precision_m: 0.5133 - recall_m: 0.5133 - val_loss: 0.6948 - val_acc: 0.4550 - val_f1_m: 0.4550 - val_precision_m: 0.4550 - val_recall_m: 0.4550 - 1s/epoch - 15ms/step\n",
      "Epoch 3/10\n",
      "75/75 - 1s - loss: 0.6934 - acc: 0.5133 - f1_m: 0.5133 - precision_m: 0.5133 - recall_m: 0.5133 - val_loss: 0.6951 - val_acc: 0.4550 - val_f1_m: 0.4550 - val_precision_m: 0.4550 - val_recall_m: 0.4550 - 1s/epoch - 16ms/step\n",
      "Epoch 4/10\n",
      "75/75 - 1s - loss: 0.6936 - acc: 0.5133 - f1_m: 0.5133 - precision_m: 0.5133 - recall_m: 0.5133 - val_loss: 0.6952 - val_acc: 0.4550 - val_f1_m: 0.4550 - val_precision_m: 0.4550 - val_recall_m: 0.4550 - 1s/epoch - 16ms/step\n",
      "Epoch 5/10\n",
      "75/75 - 1s - loss: 0.6937 - acc: 0.5167 - f1_m: 0.5167 - precision_m: 0.5167 - recall_m: 0.5167 - val_loss: 0.6948 - val_acc: 0.4550 - val_f1_m: 0.4550 - val_precision_m: 0.4550 - val_recall_m: 0.4550 - 1s/epoch - 15ms/step\n",
      "Epoch 6/10\n",
      "75/75 - 1s - loss: 0.6934 - acc: 0.5133 - f1_m: 0.5133 - precision_m: 0.5133 - recall_m: 0.5133 - val_loss: 0.6948 - val_acc: 0.4550 - val_f1_m: 0.4550 - val_precision_m: 0.4550 - val_recall_m: 0.4550 - 1s/epoch - 15ms/step\n",
      "Epoch 7/10\n",
      "75/75 - 1s - loss: 0.6934 - acc: 0.5133 - f1_m: 0.5133 - precision_m: 0.5133 - recall_m: 0.5133 - val_loss: 0.6949 - val_acc: 0.4550 - val_f1_m: 0.4550 - val_precision_m: 0.4550 - val_recall_m: 0.4550 - 1s/epoch - 15ms/step\n",
      "Epoch 8/10\n",
      "75/75 - 1s - loss: 0.6934 - acc: 0.5133 - f1_m: 0.5133 - precision_m: 0.5133 - recall_m: 0.5133 - val_loss: 0.6946 - val_acc: 0.4550 - val_f1_m: 0.4550 - val_precision_m: 0.4550 - val_recall_m: 0.4550 - 1s/epoch - 15ms/step\n",
      "Epoch 9/10\n",
      "75/75 - 1s - loss: 0.6934 - acc: 0.5133 - f1_m: 0.5133 - precision_m: 0.5133 - recall_m: 0.5133 - val_loss: 0.6951 - val_acc: 0.4550 - val_f1_m: 0.4550 - val_precision_m: 0.4550 - val_recall_m: 0.4550 - 1s/epoch - 15ms/step\n",
      "Epoch 10/10\n",
      "75/75 - 1s - loss: 0.6934 - acc: 0.5133 - f1_m: 0.5133 - precision_m: 0.5133 - recall_m: 0.5133 - val_loss: 0.6949 - val_acc: 0.4550 - val_f1_m: 0.4550 - val_precision_m: 0.4550 - val_recall_m: 0.4550 - 1s/epoch - 16ms/step\n",
      "...\n",
      "-- Selected ......................................... 2\n",
      "-- of ................................................ \n",
      "-- total ........................................... 10\n",
      "__________________________________________________\n",
      "Epoch 1/10\n"
     ]
    },
    {
     "name": "stderr",
     "output_type": "stream",
     "text": [
      "2022-12-04 16:09:36.734177: I tensorflow/core/grappler/optimizers/custom_graph_optimizer_registry.cc:113] Plugin optimizer for device_type GPU is enabled.\n",
      "2022-12-04 16:09:38.570631: I tensorflow/core/grappler/optimizers/custom_graph_optimizer_registry.cc:113] Plugin optimizer for device_type GPU is enabled.\n"
     ]
    },
    {
     "name": "stdout",
     "output_type": "stream",
     "text": [
      "38/38 - 2s - loss: 0.6934 - acc: 0.4917 - f1_m: 0.4868 - precision_m: 0.4868 - recall_m: 0.4868 - val_loss: 0.6936 - val_acc: 0.4550 - val_f1_m: 0.4567 - val_precision_m: 0.4567 - val_recall_m: 0.4567 - 2s/epoch - 65ms/step\n",
      "Epoch 2/10\n",
      "38/38 - 1s - loss: 0.6932 - acc: 0.5083 - f1_m: 0.5049 - precision_m: 0.5049 - recall_m: 0.5049 - val_loss: 0.6935 - val_acc: 0.4550 - val_f1_m: 0.4567 - val_precision_m: 0.4567 - val_recall_m: 0.4567 - 1s/epoch - 34ms/step\n",
      "Epoch 3/10\n",
      "38/38 - 1s - loss: 0.6931 - acc: 0.5133 - f1_m: 0.5115 - precision_m: 0.5115 - recall_m: 0.5115 - val_loss: 0.6937 - val_acc: 0.4550 - val_f1_m: 0.4567 - val_precision_m: 0.4567 - val_recall_m: 0.4567 - 1s/epoch - 33ms/step\n",
      "Epoch 4/10\n",
      "38/38 - 1s - loss: 0.6930 - acc: 0.5100 - f1_m: 0.5049 - precision_m: 0.5049 - recall_m: 0.5049 - val_loss: 0.6937 - val_acc: 0.4550 - val_f1_m: 0.4567 - val_precision_m: 0.4567 - val_recall_m: 0.4567 - 1s/epoch - 33ms/step\n",
      "Epoch 5/10\n",
      "38/38 - 1s - loss: 0.6929 - acc: 0.5117 - f1_m: 0.5099 - precision_m: 0.5099 - recall_m: 0.5099 - val_loss: 0.6939 - val_acc: 0.4550 - val_f1_m: 0.4567 - val_precision_m: 0.4567 - val_recall_m: 0.4567 - 1s/epoch - 33ms/step\n",
      "Epoch 6/10\n",
      "38/38 - 1s - loss: 0.6931 - acc: 0.5100 - f1_m: 0.5115 - precision_m: 0.5115 - recall_m: 0.5115 - val_loss: 0.6937 - val_acc: 0.4550 - val_f1_m: 0.4567 - val_precision_m: 0.4567 - val_recall_m: 0.4567 - 1s/epoch - 33ms/step\n",
      "Epoch 7/10\n",
      "38/38 - 1s - loss: 0.6929 - acc: 0.5133 - f1_m: 0.5115 - precision_m: 0.5115 - recall_m: 0.5115 - val_loss: 0.6941 - val_acc: 0.4550 - val_f1_m: 0.4567 - val_precision_m: 0.4567 - val_recall_m: 0.4567 - 1s/epoch - 33ms/step\n",
      "Epoch 8/10\n",
      "38/38 - 1s - loss: 0.6928 - acc: 0.5100 - f1_m: 0.5115 - precision_m: 0.5115 - recall_m: 0.5115 - val_loss: 0.6938 - val_acc: 0.4550 - val_f1_m: 0.4567 - val_precision_m: 0.4567 - val_recall_m: 0.4567 - 1s/epoch - 33ms/step\n",
      "Epoch 9/10\n",
      "38/38 - 1s - loss: 0.6932 - acc: 0.5117 - f1_m: 0.5132 - precision_m: 0.5132 - recall_m: 0.5132 - val_loss: 0.6944 - val_acc: 0.4550 - val_f1_m: 0.4567 - val_precision_m: 0.4567 - val_recall_m: 0.4567 - 1s/epoch - 33ms/step\n",
      "Epoch 10/10\n",
      "38/38 - 1s - loss: 0.6928 - acc: 0.5117 - f1_m: 0.5148 - precision_m: 0.5148 - recall_m: 0.5148 - val_loss: 0.6942 - val_acc: 0.4550 - val_f1_m: 0.4567 - val_precision_m: 0.4567 - val_recall_m: 0.4567 - 1s/epoch - 33ms/step\n",
      "Epoch 1/10\n"
     ]
    },
    {
     "name": "stderr",
     "output_type": "stream",
     "text": [
      "2022-12-04 16:09:50.632331: I tensorflow/core/grappler/optimizers/custom_graph_optimizer_registry.cc:113] Plugin optimizer for device_type GPU is enabled.\n",
      "2022-12-04 16:09:52.423516: I tensorflow/core/grappler/optimizers/custom_graph_optimizer_registry.cc:113] Plugin optimizer for device_type GPU is enabled.\n"
     ]
    },
    {
     "name": "stdout",
     "output_type": "stream",
     "text": [
      "75/75 - 2s - loss: 0.6934 - acc: 0.4717 - f1_m: 0.4717 - precision_m: 0.4717 - recall_m: 0.4717 - val_loss: 0.6938 - val_acc: 0.4550 - val_f1_m: 0.4550 - val_precision_m: 0.4550 - val_recall_m: 0.4550 - 2s/epoch - 32ms/step\n",
      "Epoch 2/10\n",
      "75/75 - 1s - loss: 0.6933 - acc: 0.5133 - f1_m: 0.5133 - precision_m: 0.5133 - recall_m: 0.5133 - val_loss: 0.6941 - val_acc: 0.4550 - val_f1_m: 0.4550 - val_precision_m: 0.4550 - val_recall_m: 0.4550 - 1s/epoch - 20ms/step\n",
      "Epoch 3/10\n",
      "75/75 - 2s - loss: 0.6934 - acc: 0.5067 - f1_m: 0.5067 - precision_m: 0.5067 - recall_m: 0.5067 - val_loss: 0.6949 - val_acc: 0.4550 - val_f1_m: 0.4550 - val_precision_m: 0.4550 - val_recall_m: 0.4550 - 2s/epoch - 20ms/step\n",
      "Epoch 4/10\n",
      "75/75 - 2s - loss: 0.6931 - acc: 0.5133 - f1_m: 0.5133 - precision_m: 0.5133 - recall_m: 0.5133 - val_loss: 0.6950 - val_acc: 0.4550 - val_f1_m: 0.4550 - val_precision_m: 0.4550 - val_recall_m: 0.4550 - 2s/epoch - 20ms/step\n",
      "Epoch 5/10\n",
      "75/75 - 2s - loss: 0.6936 - acc: 0.5133 - f1_m: 0.5133 - precision_m: 0.5133 - recall_m: 0.5133 - val_loss: 0.6945 - val_acc: 0.4550 - val_f1_m: 0.4550 - val_precision_m: 0.4550 - val_recall_m: 0.4550 - 2s/epoch - 20ms/step\n",
      "Epoch 6/10\n",
      "75/75 - 1s - loss: 0.6934 - acc: 0.5133 - f1_m: 0.5133 - precision_m: 0.5133 - recall_m: 0.5133 - val_loss: 0.6948 - val_acc: 0.4550 - val_f1_m: 0.4550 - val_precision_m: 0.4550 - val_recall_m: 0.4550 - 1s/epoch - 20ms/step\n",
      "Epoch 7/10\n",
      "75/75 - 1s - loss: 0.6931 - acc: 0.5133 - f1_m: 0.5133 - precision_m: 0.5133 - recall_m: 0.5133 - val_loss: 0.6949 - val_acc: 0.4550 - val_f1_m: 0.4550 - val_precision_m: 0.4550 - val_recall_m: 0.4550 - 1s/epoch - 20ms/step\n",
      "Epoch 8/10\n",
      "75/75 - 1s - loss: 0.6938 - acc: 0.5133 - f1_m: 0.5133 - precision_m: 0.5133 - recall_m: 0.5133 - val_loss: 0.6952 - val_acc: 0.4550 - val_f1_m: 0.4550 - val_precision_m: 0.4550 - val_recall_m: 0.4550 - 1s/epoch - 20ms/step\n",
      "Epoch 9/10\n",
      "75/75 - 2s - loss: 0.6933 - acc: 0.5133 - f1_m: 0.5133 - precision_m: 0.5133 - recall_m: 0.5133 - val_loss: 0.6952 - val_acc: 0.4550 - val_f1_m: 0.4550 - val_precision_m: 0.4550 - val_recall_m: 0.4550 - 2s/epoch - 20ms/step\n",
      "Epoch 10/10\n",
      "75/75 - 1s - loss: 0.6932 - acc: 0.5133 - f1_m: 0.5133 - precision_m: 0.5133 - recall_m: 0.5133 - val_loss: 0.6955 - val_acc: 0.4550 - val_f1_m: 0.4550 - val_precision_m: 0.4550 - val_recall_m: 0.4550 - 1s/epoch - 20ms/step\n",
      "...\n",
      "-- Selected ......................................... 3\n",
      "-- of ................................................ \n",
      "-- total ........................................... 10\n",
      "__________________________________________________\n",
      "Epoch 1/10\n"
     ]
    },
    {
     "name": "stderr",
     "output_type": "stream",
     "text": [
      "2022-12-04 16:10:06.549937: I tensorflow/core/grappler/optimizers/custom_graph_optimizer_registry.cc:113] Plugin optimizer for device_type GPU is enabled.\n",
      "2022-12-04 16:10:07.944716: I tensorflow/core/grappler/optimizers/custom_graph_optimizer_registry.cc:113] Plugin optimizer for device_type GPU is enabled.\n"
     ]
    },
    {
     "name": "stdout",
     "output_type": "stream",
     "text": [
      "75/75 - 2s - loss: 0.6937 - acc: 0.5117 - f1_m: 0.5117 - precision_m: 0.5117 - recall_m: 0.5117 - val_loss: 0.6942 - val_acc: 0.4550 - val_f1_m: 0.4550 - val_precision_m: 0.4550 - val_recall_m: 0.4550 - 2s/epoch - 26ms/step\n",
      "Epoch 2/10\n",
      "75/75 - 1s - loss: 0.6935 - acc: 0.5133 - f1_m: 0.5133 - precision_m: 0.5133 - recall_m: 0.5133 - val_loss: 0.6943 - val_acc: 0.4550 - val_f1_m: 0.4550 - val_precision_m: 0.4550 - val_recall_m: 0.4550 - 1s/epoch - 15ms/step\n",
      "Epoch 3/10\n",
      "75/75 - 1s - loss: 0.6935 - acc: 0.5133 - f1_m: 0.5133 - precision_m: 0.5133 - recall_m: 0.5133 - val_loss: 0.6944 - val_acc: 0.4550 - val_f1_m: 0.4550 - val_precision_m: 0.4550 - val_recall_m: 0.4550 - 1s/epoch - 15ms/step\n",
      "Epoch 4/10\n",
      "75/75 - 1s - loss: 0.6936 - acc: 0.5133 - f1_m: 0.5133 - precision_m: 0.5133 - recall_m: 0.5133 - val_loss: 0.6945 - val_acc: 0.4550 - val_f1_m: 0.4550 - val_precision_m: 0.4550 - val_recall_m: 0.4550 - 1s/epoch - 15ms/step\n",
      "Epoch 5/10\n",
      "75/75 - 1s - loss: 0.6937 - acc: 0.5133 - f1_m: 0.5133 - precision_m: 0.5133 - recall_m: 0.5133 - val_loss: 0.6940 - val_acc: 0.4550 - val_f1_m: 0.4550 - val_precision_m: 0.4550 - val_recall_m: 0.4550 - 1s/epoch - 15ms/step\n",
      "Epoch 6/10\n",
      "75/75 - 1s - loss: 0.6934 - acc: 0.5133 - f1_m: 0.5133 - precision_m: 0.5133 - recall_m: 0.5133 - val_loss: 0.6944 - val_acc: 0.4550 - val_f1_m: 0.4550 - val_precision_m: 0.4550 - val_recall_m: 0.4550 - 1s/epoch - 15ms/step\n",
      "Epoch 7/10\n",
      "75/75 - 1s - loss: 0.6934 - acc: 0.5133 - f1_m: 0.5133 - precision_m: 0.5133 - recall_m: 0.5133 - val_loss: 0.6947 - val_acc: 0.4550 - val_f1_m: 0.4550 - val_precision_m: 0.4550 - val_recall_m: 0.4550 - 1s/epoch - 15ms/step\n",
      "Epoch 8/10\n",
      "75/75 - 1s - loss: 0.6934 - acc: 0.5133 - f1_m: 0.5133 - precision_m: 0.5133 - recall_m: 0.5133 - val_loss: 0.6948 - val_acc: 0.4550 - val_f1_m: 0.4550 - val_precision_m: 0.4550 - val_recall_m: 0.4550 - 1s/epoch - 15ms/step\n",
      "Epoch 9/10\n",
      "75/75 - 1s - loss: 0.6936 - acc: 0.5133 - f1_m: 0.5133 - precision_m: 0.5133 - recall_m: 0.5133 - val_loss: 0.6945 - val_acc: 0.4550 - val_f1_m: 0.4550 - val_precision_m: 0.4550 - val_recall_m: 0.4550 - 1s/epoch - 15ms/step\n",
      "Epoch 10/10\n",
      "75/75 - 1s - loss: 0.6934 - acc: 0.5133 - f1_m: 0.5133 - precision_m: 0.5133 - recall_m: 0.5133 - val_loss: 0.6947 - val_acc: 0.4550 - val_f1_m: 0.4550 - val_precision_m: 0.4550 - val_recall_m: 0.4550 - 1s/epoch - 15ms/step\n",
      "Epoch 1/10\n"
     ]
    },
    {
     "name": "stderr",
     "output_type": "stream",
     "text": [
      "2022-12-04 16:10:18.825268: I tensorflow/core/grappler/optimizers/custom_graph_optimizer_registry.cc:113] Plugin optimizer for device_type GPU is enabled.\n",
      "2022-12-04 16:10:20.925932: I tensorflow/core/grappler/optimizers/custom_graph_optimizer_registry.cc:113] Plugin optimizer for device_type GPU is enabled.\n"
     ]
    },
    {
     "name": "stdout",
     "output_type": "stream",
     "text": [
      "75/75 - 3s - loss: 0.7006 - acc: 0.5383 - f1_m: 0.5383 - precision_m: 0.5383 - recall_m: 0.5383 - val_loss: 0.7086 - val_acc: 0.4900 - val_f1_m: 0.4900 - val_precision_m: 0.4900 - val_recall_m: 0.4900 - 3s/epoch - 37ms/step\n",
      "Epoch 2/10\n",
      "75/75 - 1s - loss: 0.6328 - acc: 0.6500 - f1_m: 0.6500 - precision_m: 0.6500 - recall_m: 0.6500 - val_loss: 0.6524 - val_acc: 0.5550 - val_f1_m: 0.5550 - val_precision_m: 0.5550 - val_recall_m: 0.5550 - 1s/epoch - 20ms/step\n",
      "Epoch 3/10\n",
      "75/75 - 2s - loss: 0.6020 - acc: 0.6850 - f1_m: 0.6850 - precision_m: 0.6850 - recall_m: 0.6850 - val_loss: 0.6216 - val_acc: 0.7500 - val_f1_m: 0.7500 - val_precision_m: 0.7500 - val_recall_m: 0.7500 - 2s/epoch - 20ms/step\n",
      "Epoch 4/10\n",
      "75/75 - 2s - loss: 0.5472 - acc: 0.7333 - f1_m: 0.7333 - precision_m: 0.7333 - recall_m: 0.7333 - val_loss: 0.5937 - val_acc: 0.7850 - val_f1_m: 0.7850 - val_precision_m: 0.7850 - val_recall_m: 0.7850 - 2s/epoch - 20ms/step\n",
      "Epoch 5/10\n",
      "75/75 - 1s - loss: 0.4867 - acc: 0.7833 - f1_m: 0.7833 - precision_m: 0.7833 - recall_m: 0.7833 - val_loss: 0.6262 - val_acc: 0.6700 - val_f1_m: 0.6700 - val_precision_m: 0.6700 - val_recall_m: 0.6700 - 1s/epoch - 20ms/step\n",
      "Epoch 6/10\n",
      "75/75 - 2s - loss: 0.4958 - acc: 0.7750 - f1_m: 0.7750 - precision_m: 0.7750 - recall_m: 0.7750 - val_loss: 0.5953 - val_acc: 0.7400 - val_f1_m: 0.7400 - val_precision_m: 0.7400 - val_recall_m: 0.7400 - 2s/epoch - 20ms/step\n",
      "Epoch 7/10\n",
      "75/75 - 1s - loss: 0.4421 - acc: 0.8217 - f1_m: 0.8217 - precision_m: 0.8217 - recall_m: 0.8217 - val_loss: 0.5848 - val_acc: 0.6950 - val_f1_m: 0.6950 - val_precision_m: 0.6950 - val_recall_m: 0.6950 - 1s/epoch - 20ms/step\n",
      "Epoch 8/10\n",
      "75/75 - 1s - loss: 0.4140 - acc: 0.8183 - f1_m: 0.8183 - precision_m: 0.8183 - recall_m: 0.8183 - val_loss: 0.6048 - val_acc: 0.7050 - val_f1_m: 0.7050 - val_precision_m: 0.7050 - val_recall_m: 0.7050 - 1s/epoch - 20ms/step\n",
      "Epoch 9/10\n",
      "75/75 - 2s - loss: 0.3651 - acc: 0.8550 - f1_m: 0.8550 - precision_m: 0.8550 - recall_m: 0.8550 - val_loss: 0.6139 - val_acc: 0.7200 - val_f1_m: 0.7200 - val_precision_m: 0.7200 - val_recall_m: 0.7200 - 2s/epoch - 20ms/step\n",
      "Epoch 10/10\n",
      "75/75 - 2s - loss: 0.3431 - acc: 0.8817 - f1_m: 0.8817 - precision_m: 0.8817 - recall_m: 0.8817 - val_loss: 0.6021 - val_acc: 0.7300 - val_f1_m: 0.7300 - val_precision_m: 0.7300 - val_recall_m: 0.7300 - 2s/epoch - 20ms/step\n",
      "...\n",
      "-- Selected ......................................... 4\n",
      "-- of ................................................ \n",
      "-- total ........................................... 10\n",
      "__________________________________________________\n",
      "Epoch 1/10\n"
     ]
    },
    {
     "name": "stderr",
     "output_type": "stream",
     "text": [
      "2022-12-04 16:10:35.256334: I tensorflow/core/grappler/optimizers/custom_graph_optimizer_registry.cc:113] Plugin optimizer for device_type GPU is enabled.\n",
      "2022-12-04 16:10:36.877851: I tensorflow/core/grappler/optimizers/custom_graph_optimizer_registry.cc:113] Plugin optimizer for device_type GPU is enabled.\n"
     ]
    },
    {
     "name": "stdout",
     "output_type": "stream",
     "text": [
      "75/75 - 2s - loss: 0.6936 - acc: 0.5133 - f1_m: 0.5133 - precision_m: 0.5133 - recall_m: 0.5133 - val_loss: 0.6948 - val_acc: 0.4550 - val_f1_m: 0.4550 - val_precision_m: 0.4550 - val_recall_m: 0.4550 - 2s/epoch - 29ms/step\n",
      "Epoch 2/10\n",
      "75/75 - 1s - loss: 0.6933 - acc: 0.5133 - f1_m: 0.5133 - precision_m: 0.5133 - recall_m: 0.5133 - val_loss: 0.6946 - val_acc: 0.4550 - val_f1_m: 0.4550 - val_precision_m: 0.4550 - val_recall_m: 0.4550 - 1s/epoch - 19ms/step\n",
      "Epoch 3/10\n",
      "75/75 - 1s - loss: 0.6934 - acc: 0.5133 - f1_m: 0.5133 - precision_m: 0.5133 - recall_m: 0.5133 - val_loss: 0.6955 - val_acc: 0.4550 - val_f1_m: 0.4550 - val_precision_m: 0.4550 - val_recall_m: 0.4550 - 1s/epoch - 19ms/step\n",
      "Epoch 4/10\n",
      "75/75 - 1s - loss: 0.6933 - acc: 0.5133 - f1_m: 0.5133 - precision_m: 0.5133 - recall_m: 0.5133 - val_loss: 0.6951 - val_acc: 0.4550 - val_f1_m: 0.4550 - val_precision_m: 0.4550 - val_recall_m: 0.4550 - 1s/epoch - 19ms/step\n",
      "Epoch 5/10\n",
      "75/75 - 1s - loss: 0.6934 - acc: 0.5133 - f1_m: 0.5133 - precision_m: 0.5133 - recall_m: 0.5133 - val_loss: 0.6956 - val_acc: 0.4550 - val_f1_m: 0.4550 - val_precision_m: 0.4550 - val_recall_m: 0.4550 - 1s/epoch - 19ms/step\n",
      "Epoch 6/10\n",
      "75/75 - 1s - loss: 0.6931 - acc: 0.5133 - f1_m: 0.5133 - precision_m: 0.5133 - recall_m: 0.5133 - val_loss: 0.6961 - val_acc: 0.4550 - val_f1_m: 0.4550 - val_precision_m: 0.4550 - val_recall_m: 0.4550 - 1s/epoch - 19ms/step\n",
      "Epoch 7/10\n",
      "75/75 - 1s - loss: 0.6931 - acc: 0.5133 - f1_m: 0.5133 - precision_m: 0.5133 - recall_m: 0.5133 - val_loss: 0.6955 - val_acc: 0.4550 - val_f1_m: 0.4550 - val_precision_m: 0.4550 - val_recall_m: 0.4550 - 1s/epoch - 19ms/step\n",
      "Epoch 8/10\n",
      "75/75 - 1s - loss: 0.6931 - acc: 0.5133 - f1_m: 0.5133 - precision_m: 0.5133 - recall_m: 0.5133 - val_loss: 0.6958 - val_acc: 0.4550 - val_f1_m: 0.4550 - val_precision_m: 0.4550 - val_recall_m: 0.4550 - 1s/epoch - 19ms/step\n",
      "Epoch 9/10\n",
      "75/75 - 1s - loss: 0.6931 - acc: 0.5133 - f1_m: 0.5133 - precision_m: 0.5133 - recall_m: 0.5133 - val_loss: 0.6962 - val_acc: 0.4550 - val_f1_m: 0.4550 - val_precision_m: 0.4550 - val_recall_m: 0.4550 - 1s/epoch - 19ms/step\n",
      "Epoch 10/10\n",
      "75/75 - 1s - loss: 0.6931 - acc: 0.5133 - f1_m: 0.5133 - precision_m: 0.5133 - recall_m: 0.5133 - val_loss: 0.6961 - val_acc: 0.4550 - val_f1_m: 0.4550 - val_precision_m: 0.4550 - val_recall_m: 0.4550 - 1s/epoch - 19ms/step\n",
      "Epoch 1/10\n"
     ]
    },
    {
     "name": "stderr",
     "output_type": "stream",
     "text": [
      "2022-12-04 16:10:50.361263: I tensorflow/core/grappler/optimizers/custom_graph_optimizer_registry.cc:113] Plugin optimizer for device_type GPU is enabled.\n",
      "2022-12-04 16:10:52.230824: I tensorflow/core/grappler/optimizers/custom_graph_optimizer_registry.cc:113] Plugin optimizer for device_type GPU is enabled.\n"
     ]
    },
    {
     "name": "stdout",
     "output_type": "stream",
     "text": [
      "75/75 - 2s - loss: 0.6933 - acc: 0.5133 - f1_m: 0.5133 - precision_m: 0.5133 - recall_m: 0.5133 - val_loss: 0.6944 - val_acc: 0.4550 - val_f1_m: 0.4550 - val_precision_m: 0.4550 - val_recall_m: 0.4550 - 2s/epoch - 32ms/step\n",
      "Epoch 2/10\n",
      "75/75 - 2s - loss: 0.6933 - acc: 0.5133 - f1_m: 0.5133 - precision_m: 0.5133 - recall_m: 0.5133 - val_loss: 0.6948 - val_acc: 0.4550 - val_f1_m: 0.4550 - val_precision_m: 0.4550 - val_recall_m: 0.4550 - 2s/epoch - 21ms/step\n",
      "Epoch 3/10\n",
      "75/75 - 2s - loss: 0.6943 - acc: 0.4700 - f1_m: 0.4700 - precision_m: 0.4700 - recall_m: 0.4700 - val_loss: 0.6942 - val_acc: 0.4550 - val_f1_m: 0.4550 - val_precision_m: 0.4550 - val_recall_m: 0.4550 - 2s/epoch - 22ms/step\n",
      "Epoch 4/10\n",
      "75/75 - 2s - loss: 0.6930 - acc: 0.5133 - f1_m: 0.5133 - precision_m: 0.5133 - recall_m: 0.5133 - val_loss: 0.6947 - val_acc: 0.4550 - val_f1_m: 0.4550 - val_precision_m: 0.4550 - val_recall_m: 0.4550 - 2s/epoch - 21ms/step\n",
      "Epoch 5/10\n",
      "75/75 - 2s - loss: 0.6930 - acc: 0.5117 - f1_m: 0.5117 - precision_m: 0.5117 - recall_m: 0.5117 - val_loss: 0.6946 - val_acc: 0.4550 - val_f1_m: 0.4550 - val_precision_m: 0.4550 - val_recall_m: 0.4550 - 2s/epoch - 21ms/step\n",
      "Epoch 6/10\n",
      "75/75 - 2s - loss: 0.6932 - acc: 0.5033 - f1_m: 0.5033 - precision_m: 0.5033 - recall_m: 0.5033 - val_loss: 0.6948 - val_acc: 0.4550 - val_f1_m: 0.4550 - val_precision_m: 0.4550 - val_recall_m: 0.4550 - 2s/epoch - 21ms/step\n",
      "Epoch 7/10\n",
      "75/75 - 2s - loss: 0.6930 - acc: 0.5133 - f1_m: 0.5133 - precision_m: 0.5133 - recall_m: 0.5133 - val_loss: 0.6950 - val_acc: 0.4550 - val_f1_m: 0.4550 - val_precision_m: 0.4550 - val_recall_m: 0.4550 - 2s/epoch - 26ms/step\n",
      "Epoch 8/10\n",
      "75/75 - 2s - loss: 0.6930 - acc: 0.5100 - f1_m: 0.5100 - precision_m: 0.5100 - recall_m: 0.5100 - val_loss: 0.6947 - val_acc: 0.4550 - val_f1_m: 0.4550 - val_precision_m: 0.4550 - val_recall_m: 0.4550 - 2s/epoch - 26ms/step\n",
      "Epoch 9/10\n",
      "75/75 - 2s - loss: 0.6929 - acc: 0.5033 - f1_m: 0.5033 - precision_m: 0.5033 - recall_m: 0.5033 - val_loss: 0.6949 - val_acc: 0.4550 - val_f1_m: 0.4550 - val_precision_m: 0.4550 - val_recall_m: 0.4550 - 2s/epoch - 24ms/step\n",
      "Epoch 10/10\n",
      "75/75 - 2s - loss: 0.6931 - acc: 0.5150 - f1_m: 0.5150 - precision_m: 0.5150 - recall_m: 0.5150 - val_loss: 0.6952 - val_acc: 0.4550 - val_f1_m: 0.4550 - val_precision_m: 0.4550 - val_recall_m: 0.4550 - 2s/epoch - 24ms/step\n",
      "...\n",
      "-- Selected ......................................... 5\n",
      "-- of ................................................ \n",
      "-- total ........................................... 10\n",
      "__________________________________________________\n",
      "Epoch 1/10\n"
     ]
    },
    {
     "name": "stderr",
     "output_type": "stream",
     "text": [
      "2022-12-04 16:11:08.451962: I tensorflow/core/grappler/optimizers/custom_graph_optimizer_registry.cc:113] Plugin optimizer for device_type GPU is enabled.\n",
      "2022-12-04 16:11:10.301818: I tensorflow/core/grappler/optimizers/custom_graph_optimizer_registry.cc:113] Plugin optimizer for device_type GPU is enabled.\n"
     ]
    },
    {
     "name": "stdout",
     "output_type": "stream",
     "text": [
      "75/75 - 2s - loss: 0.6936 - acc: 0.5100 - f1_m: 0.5100 - precision_m: 0.5100 - recall_m: 0.5100 - val_loss: 0.6941 - val_acc: 0.4550 - val_f1_m: 0.4550 - val_precision_m: 0.4550 - val_recall_m: 0.4550 - 2s/epoch - 33ms/step\n",
      "Epoch 2/10\n",
      "75/75 - 2s - loss: 0.6933 - acc: 0.5083 - f1_m: 0.5083 - precision_m: 0.5083 - recall_m: 0.5083 - val_loss: 0.6952 - val_acc: 0.4550 - val_f1_m: 0.4550 - val_precision_m: 0.4550 - val_recall_m: 0.4550 - 2s/epoch - 21ms/step\n",
      "Epoch 3/10\n",
      "75/75 - 2s - loss: 0.6938 - acc: 0.5133 - f1_m: 0.5133 - precision_m: 0.5133 - recall_m: 0.5133 - val_loss: 0.6954 - val_acc: 0.4550 - val_f1_m: 0.4550 - val_precision_m: 0.4550 - val_recall_m: 0.4550 - 2s/epoch - 21ms/step\n",
      "Epoch 4/10\n",
      "75/75 - 2s - loss: 0.6931 - acc: 0.5133 - f1_m: 0.5133 - precision_m: 0.5133 - recall_m: 0.5133 - val_loss: 0.6950 - val_acc: 0.4550 - val_f1_m: 0.4550 - val_precision_m: 0.4550 - val_recall_m: 0.4550 - 2s/epoch - 22ms/step\n",
      "Epoch 5/10\n",
      "75/75 - 2s - loss: 0.6934 - acc: 0.5133 - f1_m: 0.5133 - precision_m: 0.5133 - recall_m: 0.5133 - val_loss: 0.6950 - val_acc: 0.4550 - val_f1_m: 0.4550 - val_precision_m: 0.4550 - val_recall_m: 0.4550 - 2s/epoch - 22ms/step\n",
      "Epoch 6/10\n",
      "75/75 - 2s - loss: 0.6932 - acc: 0.5133 - f1_m: 0.5133 - precision_m: 0.5133 - recall_m: 0.5133 - val_loss: 0.6953 - val_acc: 0.4550 - val_f1_m: 0.4550 - val_precision_m: 0.4550 - val_recall_m: 0.4550 - 2s/epoch - 21ms/step\n",
      "Epoch 7/10\n",
      "75/75 - 2s - loss: 0.6931 - acc: 0.5133 - f1_m: 0.5133 - precision_m: 0.5133 - recall_m: 0.5133 - val_loss: 0.6961 - val_acc: 0.4550 - val_f1_m: 0.4550 - val_precision_m: 0.4550 - val_recall_m: 0.4550 - 2s/epoch - 21ms/step\n",
      "Epoch 8/10\n",
      "75/75 - 2s - loss: 0.6939 - acc: 0.5133 - f1_m: 0.5133 - precision_m: 0.5133 - recall_m: 0.5133 - val_loss: 0.6953 - val_acc: 0.4550 - val_f1_m: 0.4550 - val_precision_m: 0.4550 - val_recall_m: 0.4550 - 2s/epoch - 21ms/step\n",
      "Epoch 9/10\n",
      "75/75 - 2s - loss: 0.6930 - acc: 0.5133 - f1_m: 0.5133 - precision_m: 0.5133 - recall_m: 0.5133 - val_loss: 0.6955 - val_acc: 0.4550 - val_f1_m: 0.4550 - val_precision_m: 0.4550 - val_recall_m: 0.4550 - 2s/epoch - 21ms/step\n",
      "Epoch 10/10\n",
      "75/75 - 2s - loss: 0.6926 - acc: 0.5133 - f1_m: 0.5133 - precision_m: 0.5133 - recall_m: 0.5133 - val_loss: 0.6961 - val_acc: 0.4550 - val_f1_m: 0.4550 - val_precision_m: 0.4550 - val_recall_m: 0.4550 - 2s/epoch - 21ms/step\n",
      "Epoch 1/10\n"
     ]
    },
    {
     "name": "stderr",
     "output_type": "stream",
     "text": [
      "2022-12-04 16:11:25.576496: I tensorflow/core/grappler/optimizers/custom_graph_optimizer_registry.cc:113] Plugin optimizer for device_type GPU is enabled.\n",
      "2022-12-04 16:11:27.705128: I tensorflow/core/grappler/optimizers/custom_graph_optimizer_registry.cc:113] Plugin optimizer for device_type GPU is enabled.\n"
     ]
    },
    {
     "name": "stdout",
     "output_type": "stream",
     "text": [
      "75/75 - 3s - loss: 0.6626 - acc: 0.6483 - f1_m: 0.6483 - precision_m: 0.6483 - recall_m: 0.6483 - val_loss: 0.6385 - val_acc: 0.7700 - val_f1_m: 0.7700 - val_precision_m: 0.7700 - val_recall_m: 0.7700 - 3s/epoch - 40ms/step\n",
      "Epoch 2/10\n",
      "75/75 - 2s - loss: 0.5684 - acc: 0.7600 - f1_m: 0.7600 - precision_m: 0.7600 - recall_m: 0.7600 - val_loss: 0.6848 - val_acc: 0.6100 - val_f1_m: 0.6100 - val_precision_m: 0.6100 - val_recall_m: 0.6100 - 2s/epoch - 24ms/step\n",
      "Epoch 3/10\n",
      "75/75 - 2s - loss: 0.5475 - acc: 0.7733 - f1_m: 0.7733 - precision_m: 0.7733 - recall_m: 0.7733 - val_loss: 0.5885 - val_acc: 0.7850 - val_f1_m: 0.7850 - val_precision_m: 0.7850 - val_recall_m: 0.7850 - 2s/epoch - 26ms/step\n",
      "Epoch 4/10\n",
      "75/75 - 2s - loss: 0.4698 - acc: 0.7967 - f1_m: 0.7967 - precision_m: 0.7967 - recall_m: 0.7967 - val_loss: 0.5913 - val_acc: 0.7000 - val_f1_m: 0.7000 - val_precision_m: 0.7000 - val_recall_m: 0.7000 - 2s/epoch - 25ms/step\n",
      "Epoch 5/10\n",
      "75/75 - 2s - loss: 0.4416 - acc: 0.8200 - f1_m: 0.8200 - precision_m: 0.8200 - recall_m: 0.8200 - val_loss: 0.5932 - val_acc: 0.7650 - val_f1_m: 0.7650 - val_precision_m: 0.7650 - val_recall_m: 0.7650 - 2s/epoch - 25ms/step\n",
      "Epoch 6/10\n",
      "75/75 - 2s - loss: 0.3918 - acc: 0.8450 - f1_m: 0.8450 - precision_m: 0.8450 - recall_m: 0.8450 - val_loss: 0.6459 - val_acc: 0.7550 - val_f1_m: 0.7550 - val_precision_m: 0.7550 - val_recall_m: 0.7550 - 2s/epoch - 27ms/step\n",
      "Epoch 7/10\n",
      "75/75 - 2s - loss: 0.3528 - acc: 0.8417 - f1_m: 0.8417 - precision_m: 0.8417 - recall_m: 0.8417 - val_loss: 0.8044 - val_acc: 0.7000 - val_f1_m: 0.7000 - val_precision_m: 0.7000 - val_recall_m: 0.7000 - 2s/epoch - 24ms/step\n",
      "Epoch 8/10\n",
      "75/75 - 2s - loss: 0.3153 - acc: 0.8800 - f1_m: 0.8800 - precision_m: 0.8800 - recall_m: 0.8800 - val_loss: 0.9248 - val_acc: 0.7200 - val_f1_m: 0.7200 - val_precision_m: 0.7200 - val_recall_m: 0.7200 - 2s/epoch - 25ms/step\n",
      "Epoch 9/10\n",
      "75/75 - 2s - loss: 0.2869 - acc: 0.8950 - f1_m: 0.8950 - precision_m: 0.8950 - recall_m: 0.8950 - val_loss: 1.2546 - val_acc: 0.6450 - val_f1_m: 0.6450 - val_precision_m: 0.6450 - val_recall_m: 0.6450 - 2s/epoch - 24ms/step\n",
      "Epoch 10/10\n",
      "75/75 - 2s - loss: 0.3161 - acc: 0.8833 - f1_m: 0.8833 - precision_m: 0.8833 - recall_m: 0.8833 - val_loss: 1.0423 - val_acc: 0.6450 - val_f1_m: 0.6450 - val_precision_m: 0.6450 - val_recall_m: 0.6450 - 2s/epoch - 24ms/step\n",
      "...\n",
      "-- Selected ......................................... 6\n",
      "-- of ................................................ \n",
      "-- total ........................................... 10\n",
      "__________________________________________________\n",
      "Epoch 1/10\n"
     ]
    },
    {
     "name": "stderr",
     "output_type": "stream",
     "text": [
      "2022-12-04 16:11:45.222242: I tensorflow/core/grappler/optimizers/custom_graph_optimizer_registry.cc:113] Plugin optimizer for device_type GPU is enabled.\n",
      "2022-12-04 16:11:47.199611: I tensorflow/core/grappler/optimizers/custom_graph_optimizer_registry.cc:113] Plugin optimizer for device_type GPU is enabled.\n"
     ]
    },
    {
     "name": "stdout",
     "output_type": "stream",
     "text": [
      "75/75 - 3s - loss: 0.7032 - acc: 0.5550 - f1_m: 0.5550 - precision_m: 0.5550 - recall_m: 0.5550 - val_loss: 0.6783 - val_acc: 0.5300 - val_f1_m: 0.5300 - val_precision_m: 0.5300 - val_recall_m: 0.5300 - 3s/epoch - 35ms/step\n",
      "Epoch 2/10\n",
      "75/75 - 2s - loss: 0.6302 - acc: 0.6633 - f1_m: 0.6633 - precision_m: 0.6633 - recall_m: 0.6633 - val_loss: 0.6768 - val_acc: 0.5450 - val_f1_m: 0.5450 - val_precision_m: 0.5450 - val_recall_m: 0.5450 - 2s/epoch - 25ms/step\n",
      "Epoch 3/10\n",
      "75/75 - 2s - loss: 0.5500 - acc: 0.7333 - f1_m: 0.7333 - precision_m: 0.7333 - recall_m: 0.7333 - val_loss: 0.6030 - val_acc: 0.7300 - val_f1_m: 0.7300 - val_precision_m: 0.7300 - val_recall_m: 0.7300 - 2s/epoch - 26ms/step\n",
      "Epoch 4/10\n",
      "75/75 - 2s - loss: 0.5018 - acc: 0.7750 - f1_m: 0.7750 - precision_m: 0.7750 - recall_m: 0.7750 - val_loss: 0.5923 - val_acc: 0.7700 - val_f1_m: 0.7700 - val_precision_m: 0.7700 - val_recall_m: 0.7700 - 2s/epoch - 26ms/step\n",
      "Epoch 5/10\n",
      "75/75 - 2s - loss: 0.4823 - acc: 0.7900 - f1_m: 0.7900 - precision_m: 0.7900 - recall_m: 0.7900 - val_loss: 0.5853 - val_acc: 0.7550 - val_f1_m: 0.7550 - val_precision_m: 0.7550 - val_recall_m: 0.7550 - 2s/epoch - 24ms/step\n",
      "Epoch 6/10\n",
      "75/75 - 2s - loss: 0.4101 - acc: 0.8183 - f1_m: 0.8183 - precision_m: 0.8183 - recall_m: 0.8183 - val_loss: 0.6554 - val_acc: 0.6850 - val_f1_m: 0.6850 - val_precision_m: 0.6850 - val_recall_m: 0.6850 - 2s/epoch - 23ms/step\n",
      "Epoch 7/10\n",
      "75/75 - 2s - loss: 0.3815 - acc: 0.8600 - f1_m: 0.8600 - precision_m: 0.8600 - recall_m: 0.8600 - val_loss: 0.6607 - val_acc: 0.6750 - val_f1_m: 0.6750 - val_precision_m: 0.6750 - val_recall_m: 0.6750 - 2s/epoch - 24ms/step\n",
      "Epoch 8/10\n",
      "75/75 - 2s - loss: 0.3794 - acc: 0.8450 - f1_m: 0.8450 - precision_m: 0.8450 - recall_m: 0.8450 - val_loss: 0.5951 - val_acc: 0.7900 - val_f1_m: 0.7900 - val_precision_m: 0.7900 - val_recall_m: 0.7900 - 2s/epoch - 23ms/step\n",
      "Epoch 9/10\n",
      "75/75 - 2s - loss: 0.2761 - acc: 0.9050 - f1_m: 0.9050 - precision_m: 0.9050 - recall_m: 0.9050 - val_loss: 0.6811 - val_acc: 0.7450 - val_f1_m: 0.7450 - val_precision_m: 0.7450 - val_recall_m: 0.7450 - 2s/epoch - 24ms/step\n",
      "Epoch 10/10\n",
      "75/75 - 2s - loss: 0.2380 - acc: 0.9300 - f1_m: 0.9300 - precision_m: 0.9300 - recall_m: 0.9300 - val_loss: 0.6626 - val_acc: 0.7700 - val_f1_m: 0.7700 - val_precision_m: 0.7700 - val_recall_m: 0.7700 - 2s/epoch - 23ms/step\n",
      "Epoch 1/10\n"
     ]
    },
    {
     "name": "stderr",
     "output_type": "stream",
     "text": [
      "2022-12-04 16:12:04.383202: I tensorflow/core/grappler/optimizers/custom_graph_optimizer_registry.cc:113] Plugin optimizer for device_type GPU is enabled.\n",
      "2022-12-04 16:12:06.877533: I tensorflow/core/grappler/optimizers/custom_graph_optimizer_registry.cc:113] Plugin optimizer for device_type GPU is enabled.\n"
     ]
    },
    {
     "name": "stdout",
     "output_type": "stream",
     "text": [
      "38/38 - 3s - loss: 0.6932 - acc: 0.5367 - f1_m: 0.5395 - precision_m: 0.5395 - recall_m: 0.5395 - val_loss: 0.6779 - val_acc: 0.6850 - val_f1_m: 0.6923 - val_precision_m: 0.6923 - val_recall_m: 0.6923 - 3s/epoch - 91ms/step\n",
      "Epoch 2/10\n",
      "38/38 - 2s - loss: 0.6574 - acc: 0.6450 - f1_m: 0.6447 - precision_m: 0.6447 - recall_m: 0.6447 - val_loss: 0.6405 - val_acc: 0.7450 - val_f1_m: 0.7548 - val_precision_m: 0.7548 - val_recall_m: 0.7548 - 2s/epoch - 62ms/step\n",
      "Epoch 3/10\n",
      "38/38 - 2s - loss: 0.6049 - acc: 0.7150 - f1_m: 0.7171 - precision_m: 0.7171 - recall_m: 0.7171 - val_loss: 0.6184 - val_acc: 0.7750 - val_f1_m: 0.7837 - val_precision_m: 0.7837 - val_recall_m: 0.7837 - 2s/epoch - 62ms/step\n",
      "Epoch 4/10\n",
      "38/38 - 2s - loss: 0.5438 - acc: 0.7617 - f1_m: 0.7632 - precision_m: 0.7632 - recall_m: 0.7632 - val_loss: 0.6463 - val_acc: 0.6350 - val_f1_m: 0.6394 - val_precision_m: 0.6394 - val_recall_m: 0.6394 - 2s/epoch - 62ms/step\n",
      "Epoch 5/10\n",
      "38/38 - 2s - loss: 0.5044 - acc: 0.7617 - f1_m: 0.7615 - precision_m: 0.7615 - recall_m: 0.7615 - val_loss: 0.6189 - val_acc: 0.6750 - val_f1_m: 0.6827 - val_precision_m: 0.6827 - val_recall_m: 0.6827 - 2s/epoch - 62ms/step\n",
      "Epoch 6/10\n",
      "38/38 - 2s - loss: 0.4362 - acc: 0.8083 - f1_m: 0.8109 - precision_m: 0.8109 - recall_m: 0.8109 - val_loss: 0.6079 - val_acc: 0.7050 - val_f1_m: 0.7115 - val_precision_m: 0.7115 - val_recall_m: 0.7115 - 2s/epoch - 62ms/step\n",
      "Epoch 7/10\n",
      "38/38 - 2s - loss: 0.4058 - acc: 0.8450 - f1_m: 0.8454 - precision_m: 0.8454 - recall_m: 0.8454 - val_loss: 0.6011 - val_acc: 0.7650 - val_f1_m: 0.7740 - val_precision_m: 0.7740 - val_recall_m: 0.7740 - 2s/epoch - 61ms/step\n",
      "Epoch 8/10\n",
      "38/38 - 2s - loss: 0.3753 - acc: 0.8567 - f1_m: 0.8553 - precision_m: 0.8553 - recall_m: 0.8553 - val_loss: 0.6147 - val_acc: 0.7100 - val_f1_m: 0.7212 - val_precision_m: 0.7212 - val_recall_m: 0.7212 - 2s/epoch - 62ms/step\n",
      "Epoch 9/10\n",
      "38/38 - 2s - loss: 0.3482 - acc: 0.8833 - f1_m: 0.8832 - precision_m: 0.8832 - recall_m: 0.8832 - val_loss: 0.5926 - val_acc: 0.7500 - val_f1_m: 0.7548 - val_precision_m: 0.7548 - val_recall_m: 0.7548 - 2s/epoch - 61ms/step\n",
      "Epoch 10/10\n",
      "38/38 - 2s - loss: 0.2926 - acc: 0.8867 - f1_m: 0.8882 - precision_m: 0.8882 - recall_m: 0.8882 - val_loss: 0.6604 - val_acc: 0.7250 - val_f1_m: 0.7308 - val_precision_m: 0.7308 - val_recall_m: 0.7308 - 2s/epoch - 61ms/step\n",
      "...\n",
      "-- Selected ......................................... 7\n",
      "-- of ................................................ \n",
      "-- total ........................................... 10\n",
      "__________________________________________________\n",
      "Epoch 1/10\n"
     ]
    },
    {
     "name": "stderr",
     "output_type": "stream",
     "text": [
      "2022-12-04 16:12:28.959063: I tensorflow/core/grappler/optimizers/custom_graph_optimizer_registry.cc:113] Plugin optimizer for device_type GPU is enabled.\n",
      "2022-12-04 16:12:31.295620: I tensorflow/core/grappler/optimizers/custom_graph_optimizer_registry.cc:113] Plugin optimizer for device_type GPU is enabled.\n"
     ]
    },
    {
     "name": "stdout",
     "output_type": "stream",
     "text": [
      "38/38 - 3s - loss: 0.7009 - acc: 0.5783 - f1_m: 0.5757 - precision_m: 0.5757 - recall_m: 0.5757 - val_loss: 0.6799 - val_acc: 0.6650 - val_f1_m: 0.6731 - val_precision_m: 0.6731 - val_recall_m: 0.6731 - 3s/epoch - 86ms/step\n",
      "Epoch 2/10\n",
      "38/38 - 2s - loss: 0.6608 - acc: 0.6483 - f1_m: 0.6513 - precision_m: 0.6513 - recall_m: 0.6513 - val_loss: 0.6417 - val_acc: 0.6050 - val_f1_m: 0.6106 - val_precision_m: 0.6106 - val_recall_m: 0.6106 - 2s/epoch - 56ms/step\n",
      "Epoch 3/10\n",
      "38/38 - 2s - loss: 0.6142 - acc: 0.6950 - f1_m: 0.6924 - precision_m: 0.6924 - recall_m: 0.6924 - val_loss: 0.6216 - val_acc: 0.7600 - val_f1_m: 0.7692 - val_precision_m: 0.7692 - val_recall_m: 0.7692 - 2s/epoch - 56ms/step\n",
      "Epoch 4/10\n",
      "38/38 - 2s - loss: 0.5585 - acc: 0.7500 - f1_m: 0.7500 - precision_m: 0.7500 - recall_m: 0.7500 - val_loss: 0.6442 - val_acc: 0.6650 - val_f1_m: 0.6731 - val_precision_m: 0.6731 - val_recall_m: 0.6731 - 2s/epoch - 56ms/step\n",
      "Epoch 5/10\n",
      "38/38 - 2s - loss: 0.5049 - acc: 0.8083 - f1_m: 0.8059 - precision_m: 0.8059 - recall_m: 0.8059 - val_loss: 0.5956 - val_acc: 0.7250 - val_f1_m: 0.7356 - val_precision_m: 0.7356 - val_recall_m: 0.7356 - 2s/epoch - 55ms/step\n",
      "Epoch 6/10\n",
      "38/38 - 2s - loss: 0.4462 - acc: 0.7983 - f1_m: 0.7961 - precision_m: 0.7961 - recall_m: 0.7961 - val_loss: 0.5996 - val_acc: 0.7650 - val_f1_m: 0.7692 - val_precision_m: 0.7692 - val_recall_m: 0.7692 - 2s/epoch - 55ms/step\n",
      "Epoch 7/10\n",
      "38/38 - 2s - loss: 0.4269 - acc: 0.8450 - f1_m: 0.8454 - precision_m: 0.8454 - recall_m: 0.8454 - val_loss: 0.6498 - val_acc: 0.6800 - val_f1_m: 0.6875 - val_precision_m: 0.6875 - val_recall_m: 0.6875 - 2s/epoch - 55ms/step\n",
      "Epoch 8/10\n",
      "38/38 - 2s - loss: 0.3631 - acc: 0.8467 - f1_m: 0.8487 - precision_m: 0.8487 - recall_m: 0.8487 - val_loss: 0.6117 - val_acc: 0.7100 - val_f1_m: 0.7115 - val_precision_m: 0.7115 - val_recall_m: 0.7115 - 2s/epoch - 55ms/step\n",
      "Epoch 9/10\n",
      "38/38 - 2s - loss: 0.3318 - acc: 0.8717 - f1_m: 0.8717 - precision_m: 0.8717 - recall_m: 0.8717 - val_loss: 0.6311 - val_acc: 0.7450 - val_f1_m: 0.7500 - val_precision_m: 0.7500 - val_recall_m: 0.7500 - 2s/epoch - 55ms/step\n",
      "Epoch 10/10\n",
      "38/38 - 2s - loss: 0.2791 - acc: 0.8867 - f1_m: 0.8865 - precision_m: 0.8865 - recall_m: 0.8865 - val_loss: 0.6508 - val_acc: 0.7450 - val_f1_m: 0.7452 - val_precision_m: 0.7452 - val_recall_m: 0.7452 - 2s/epoch - 55ms/step\n",
      "Epoch 1/10\n"
     ]
    },
    {
     "name": "stderr",
     "output_type": "stream",
     "text": [
      "2022-12-04 16:12:51.539286: I tensorflow/core/grappler/optimizers/custom_graph_optimizer_registry.cc:113] Plugin optimizer for device_type GPU is enabled.\n",
      "2022-12-04 16:12:53.578051: I tensorflow/core/grappler/optimizers/custom_graph_optimizer_registry.cc:113] Plugin optimizer for device_type GPU is enabled.\n"
     ]
    },
    {
     "name": "stdout",
     "output_type": "stream",
     "text": [
      "75/75 - 3s - loss: 0.6741 - acc: 0.5733 - f1_m: 0.5733 - precision_m: 0.5733 - recall_m: 0.5733 - val_loss: 0.6455 - val_acc: 0.7100 - val_f1_m: 0.7100 - val_precision_m: 0.7100 - val_recall_m: 0.7100 - 3s/epoch - 40ms/step\n",
      "Epoch 2/10\n",
      "75/75 - 2s - loss: 0.5795 - acc: 0.7117 - f1_m: 0.7117 - precision_m: 0.7117 - recall_m: 0.7117 - val_loss: 0.6354 - val_acc: 0.6950 - val_f1_m: 0.6950 - val_precision_m: 0.6950 - val_recall_m: 0.6950 - 2s/epoch - 24ms/step\n",
      "Epoch 3/10\n",
      "75/75 - 2s - loss: 0.5311 - acc: 0.7533 - f1_m: 0.7533 - precision_m: 0.7533 - recall_m: 0.7533 - val_loss: 0.6533 - val_acc: 0.6650 - val_f1_m: 0.6650 - val_precision_m: 0.6650 - val_recall_m: 0.6650 - 2s/epoch - 24ms/step\n",
      "Epoch 4/10\n",
      "75/75 - 2s - loss: 0.4882 - acc: 0.7933 - f1_m: 0.7933 - precision_m: 0.7933 - recall_m: 0.7933 - val_loss: 0.6058 - val_acc: 0.7000 - val_f1_m: 0.7000 - val_precision_m: 0.7000 - val_recall_m: 0.7000 - 2s/epoch - 25ms/step\n",
      "Epoch 5/10\n",
      "75/75 - 2s - loss: 0.4154 - acc: 0.8200 - f1_m: 0.8200 - precision_m: 0.8200 - recall_m: 0.8200 - val_loss: 0.6068 - val_acc: 0.7450 - val_f1_m: 0.7450 - val_precision_m: 0.7450 - val_recall_m: 0.7450 - 2s/epoch - 24ms/step\n",
      "Epoch 6/10\n",
      "75/75 - 2s - loss: 0.4078 - acc: 0.8300 - f1_m: 0.8300 - precision_m: 0.8300 - recall_m: 0.8300 - val_loss: 0.6402 - val_acc: 0.7000 - val_f1_m: 0.7000 - val_precision_m: 0.7000 - val_recall_m: 0.7000 - 2s/epoch - 24ms/step\n",
      "Epoch 7/10\n",
      "75/75 - 2s - loss: 0.3501 - acc: 0.8717 - f1_m: 0.8717 - precision_m: 0.8717 - recall_m: 0.8717 - val_loss: 0.6248 - val_acc: 0.7400 - val_f1_m: 0.7400 - val_precision_m: 0.7400 - val_recall_m: 0.7400 - 2s/epoch - 23ms/step\n",
      "Epoch 8/10\n",
      "75/75 - 2s - loss: 0.3159 - acc: 0.8683 - f1_m: 0.8683 - precision_m: 0.8683 - recall_m: 0.8683 - val_loss: 0.7312 - val_acc: 0.6700 - val_f1_m: 0.6700 - val_precision_m: 0.6700 - val_recall_m: 0.6700 - 2s/epoch - 25ms/step\n",
      "Epoch 9/10\n",
      "75/75 - 2s - loss: 0.2787 - acc: 0.9067 - f1_m: 0.9067 - precision_m: 0.9067 - recall_m: 0.9067 - val_loss: 0.8022 - val_acc: 0.6900 - val_f1_m: 0.6900 - val_precision_m: 0.6900 - val_recall_m: 0.6900 - 2s/epoch - 24ms/step\n",
      "Epoch 10/10\n",
      "75/75 - 2s - loss: 0.3032 - acc: 0.8767 - f1_m: 0.8767 - precision_m: 0.8767 - recall_m: 0.8767 - val_loss: 0.8593 - val_acc: 0.6900 - val_f1_m: 0.6900 - val_precision_m: 0.6900 - val_recall_m: 0.6900 - 2s/epoch - 24ms/step\n",
      "Epoch 1/10\n"
     ]
    },
    {
     "name": "stderr",
     "output_type": "stream",
     "text": [
      "2022-12-04 16:13:10.683938: I tensorflow/core/grappler/optimizers/custom_graph_optimizer_registry.cc:113] Plugin optimizer for device_type GPU is enabled.\n",
      "2022-12-04 16:13:12.149169: I tensorflow/core/grappler/optimizers/custom_graph_optimizer_registry.cc:113] Plugin optimizer for device_type GPU is enabled.\n"
     ]
    },
    {
     "name": "stdout",
     "output_type": "stream",
     "text": [
      "75/75 - 2s - loss: 0.6934 - acc: 0.4833 - f1_m: 0.4833 - precision_m: 0.4833 - recall_m: 0.4833 - val_loss: 0.6928 - val_acc: 0.5450 - val_f1_m: 0.5450 - val_precision_m: 0.5450 - val_recall_m: 0.5450 - 2s/epoch - 27ms/step\n",
      "Epoch 2/10\n",
      "75/75 - 1s - loss: 0.6931 - acc: 0.5250 - f1_m: 0.5250 - precision_m: 0.5250 - recall_m: 0.5250 - val_loss: 0.6928 - val_acc: 0.5450 - val_f1_m: 0.5450 - val_precision_m: 0.5450 - val_recall_m: 0.5450 - 1s/epoch - 16ms/step\n",
      "Epoch 3/10\n",
      "75/75 - 1s - loss: 0.6930 - acc: 0.5083 - f1_m: 0.5083 - precision_m: 0.5083 - recall_m: 0.5083 - val_loss: 0.6931 - val_acc: 0.5450 - val_f1_m: 0.5450 - val_precision_m: 0.5450 - val_recall_m: 0.5450 - 1s/epoch - 16ms/step\n",
      "Epoch 4/10\n",
      "75/75 - 1s - loss: 0.6930 - acc: 0.5133 - f1_m: 0.5133 - precision_m: 0.5133 - recall_m: 0.5133 - val_loss: 0.6932 - val_acc: 0.5050 - val_f1_m: 0.5050 - val_precision_m: 0.5050 - val_recall_m: 0.5050 - 1s/epoch - 16ms/step\n",
      "Epoch 5/10\n",
      "75/75 - 1s - loss: 0.6929 - acc: 0.5117 - f1_m: 0.5117 - precision_m: 0.5117 - recall_m: 0.5117 - val_loss: 0.6931 - val_acc: 0.5300 - val_f1_m: 0.5300 - val_precision_m: 0.5300 - val_recall_m: 0.5300 - 1s/epoch - 16ms/step\n",
      "Epoch 6/10\n",
      "75/75 - 1s - loss: 0.6929 - acc: 0.5100 - f1_m: 0.5100 - precision_m: 0.5100 - recall_m: 0.5100 - val_loss: 0.6932 - val_acc: 0.5200 - val_f1_m: 0.5200 - val_precision_m: 0.5200 - val_recall_m: 0.5200 - 1s/epoch - 16ms/step\n",
      "Epoch 7/10\n",
      "75/75 - 1s - loss: 0.6929 - acc: 0.5133 - f1_m: 0.5133 - precision_m: 0.5133 - recall_m: 0.5133 - val_loss: 0.6933 - val_acc: 0.4500 - val_f1_m: 0.4500 - val_precision_m: 0.4500 - val_recall_m: 0.4500 - 1s/epoch - 16ms/step\n",
      "Epoch 8/10\n",
      "75/75 - 1s - loss: 0.6930 - acc: 0.5133 - f1_m: 0.5133 - precision_m: 0.5133 - recall_m: 0.5133 - val_loss: 0.6935 - val_acc: 0.4550 - val_f1_m: 0.4550 - val_precision_m: 0.4550 - val_recall_m: 0.4550 - 1s/epoch - 16ms/step\n",
      "Epoch 9/10\n",
      "75/75 - 1s - loss: 0.6928 - acc: 0.5133 - f1_m: 0.5133 - precision_m: 0.5133 - recall_m: 0.5133 - val_loss: 0.6935 - val_acc: 0.4550 - val_f1_m: 0.4550 - val_precision_m: 0.4550 - val_recall_m: 0.4550 - 1s/epoch - 16ms/step\n",
      "Epoch 10/10\n",
      "75/75 - 1s - loss: 0.6929 - acc: 0.5133 - f1_m: 0.5133 - precision_m: 0.5133 - recall_m: 0.5133 - val_loss: 0.6934 - val_acc: 0.4500 - val_f1_m: 0.4500 - val_precision_m: 0.4500 - val_recall_m: 0.4500 - 1s/epoch - 16ms/step\n",
      "Epoch 1/10\n"
     ]
    },
    {
     "name": "stderr",
     "output_type": "stream",
     "text": [
      "2022-12-04 16:13:23.578494: I tensorflow/core/grappler/optimizers/custom_graph_optimizer_registry.cc:113] Plugin optimizer for device_type GPU is enabled.\n",
      "2022-12-04 16:13:25.397372: I tensorflow/core/grappler/optimizers/custom_graph_optimizer_registry.cc:113] Plugin optimizer for device_type GPU is enabled.\n"
     ]
    },
    {
     "name": "stdout",
     "output_type": "stream",
     "text": [
      "38/38 - 2s - loss: 0.6935 - acc: 0.4717 - f1_m: 0.4737 - precision_m: 0.4737 - recall_m: 0.4737 - val_loss: 0.6937 - val_acc: 0.4550 - val_f1_m: 0.4567 - val_precision_m: 0.4567 - val_recall_m: 0.4567 - 2s/epoch - 65ms/step\n",
      "Epoch 2/10\n",
      "38/38 - 1s - loss: 0.6931 - acc: 0.5133 - f1_m: 0.5148 - precision_m: 0.5148 - recall_m: 0.5148 - val_loss: 0.6938 - val_acc: 0.4550 - val_f1_m: 0.4567 - val_precision_m: 0.4567 - val_recall_m: 0.4567 - 1s/epoch - 34ms/step\n",
      "Epoch 3/10\n",
      "38/38 - 1s - loss: 0.6930 - acc: 0.5133 - f1_m: 0.5148 - precision_m: 0.5148 - recall_m: 0.5148 - val_loss: 0.6941 - val_acc: 0.4550 - val_f1_m: 0.4567 - val_precision_m: 0.4567 - val_recall_m: 0.4567 - 1s/epoch - 35ms/step\n",
      "Epoch 4/10\n",
      "38/38 - 1s - loss: 0.6931 - acc: 0.5133 - f1_m: 0.5148 - precision_m: 0.5148 - recall_m: 0.5148 - val_loss: 0.6942 - val_acc: 0.4550 - val_f1_m: 0.4567 - val_precision_m: 0.4567 - val_recall_m: 0.4567 - 1s/epoch - 34ms/step\n",
      "Epoch 5/10\n",
      "38/38 - 1s - loss: 0.6928 - acc: 0.5133 - f1_m: 0.5132 - precision_m: 0.5132 - recall_m: 0.5132 - val_loss: 0.6946 - val_acc: 0.4550 - val_f1_m: 0.4567 - val_precision_m: 0.4567 - val_recall_m: 0.4567 - 1s/epoch - 34ms/step\n",
      "Epoch 6/10\n",
      "38/38 - 1s - loss: 0.6933 - acc: 0.5133 - f1_m: 0.5132 - precision_m: 0.5132 - recall_m: 0.5132 - val_loss: 0.6942 - val_acc: 0.4550 - val_f1_m: 0.4567 - val_precision_m: 0.4567 - val_recall_m: 0.4567 - 1s/epoch - 33ms/step\n",
      "Epoch 7/10\n",
      "38/38 - 1s - loss: 0.6932 - acc: 0.5133 - f1_m: 0.5115 - precision_m: 0.5115 - recall_m: 0.5115 - val_loss: 0.6951 - val_acc: 0.4550 - val_f1_m: 0.4567 - val_precision_m: 0.4567 - val_recall_m: 0.4567 - 1s/epoch - 34ms/step\n",
      "Epoch 8/10\n",
      "38/38 - 1s - loss: 0.6929 - acc: 0.5133 - f1_m: 0.5115 - precision_m: 0.5115 - recall_m: 0.5115 - val_loss: 0.6947 - val_acc: 0.4550 - val_f1_m: 0.4567 - val_precision_m: 0.4567 - val_recall_m: 0.4567 - 1s/epoch - 35ms/step\n",
      "Epoch 9/10\n",
      "38/38 - 1s - loss: 0.6928 - acc: 0.5133 - f1_m: 0.5099 - precision_m: 0.5099 - recall_m: 0.5099 - val_loss: 0.6945 - val_acc: 0.4550 - val_f1_m: 0.4567 - val_precision_m: 0.4567 - val_recall_m: 0.4567 - 1s/epoch - 33ms/step\n",
      "Epoch 10/10\n",
      "38/38 - 1s - loss: 0.6929 - acc: 0.5133 - f1_m: 0.5115 - precision_m: 0.5115 - recall_m: 0.5115 - val_loss: 0.6944 - val_acc: 0.4550 - val_f1_m: 0.4567 - val_precision_m: 0.4567 - val_recall_m: 0.4567 - 1s/epoch - 34ms/step\n",
      "Epoch 1/10\n"
     ]
    },
    {
     "name": "stderr",
     "output_type": "stream",
     "text": [
      "2022-12-04 16:13:37.776971: I tensorflow/core/grappler/optimizers/custom_graph_optimizer_registry.cc:113] Plugin optimizer for device_type GPU is enabled.\n",
      "2022-12-04 16:13:39.238499: I tensorflow/core/grappler/optimizers/custom_graph_optimizer_registry.cc:113] Plugin optimizer for device_type GPU is enabled.\n"
     ]
    },
    {
     "name": "stdout",
     "output_type": "stream",
     "text": [
      "75/75 - 2s - loss: 0.6933 - acc: 0.5117 - f1_m: 0.5117 - precision_m: 0.5117 - recall_m: 0.5117 - val_loss: 0.6935 - val_acc: 0.4550 - val_f1_m: 0.4550 - val_precision_m: 0.4550 - val_recall_m: 0.4550 - 2s/epoch - 28ms/step\n",
      "Epoch 2/10\n",
      "75/75 - 1s - loss: 0.6931 - acc: 0.5167 - f1_m: 0.5167 - precision_m: 0.5167 - recall_m: 0.5167 - val_loss: 0.6940 - val_acc: 0.4550 - val_f1_m: 0.4550 - val_precision_m: 0.4550 - val_recall_m: 0.4550 - 1s/epoch - 16ms/step\n",
      "Epoch 3/10\n",
      "75/75 - 1s - loss: 0.6932 - acc: 0.5050 - f1_m: 0.5050 - precision_m: 0.5050 - recall_m: 0.5050 - val_loss: 0.6941 - val_acc: 0.4550 - val_f1_m: 0.4550 - val_precision_m: 0.4550 - val_recall_m: 0.4550 - 1s/epoch - 16ms/step\n",
      "Epoch 4/10\n",
      "75/75 - 1s - loss: 0.6929 - acc: 0.5167 - f1_m: 0.5167 - precision_m: 0.5167 - recall_m: 0.5167 - val_loss: 0.6941 - val_acc: 0.4500 - val_f1_m: 0.4500 - val_precision_m: 0.4500 - val_recall_m: 0.4500 - 1s/epoch - 16ms/step\n",
      "Epoch 5/10\n",
      "75/75 - 1s - loss: 0.6929 - acc: 0.5000 - f1_m: 0.5000 - precision_m: 0.5000 - recall_m: 0.5000 - val_loss: 0.6945 - val_acc: 0.4550 - val_f1_m: 0.4550 - val_precision_m: 0.4550 - val_recall_m: 0.4550 - 1s/epoch - 16ms/step\n",
      "Epoch 6/10\n",
      "75/75 - 1s - loss: 0.6928 - acc: 0.5133 - f1_m: 0.5133 - precision_m: 0.5133 - recall_m: 0.5133 - val_loss: 0.6943 - val_acc: 0.4450 - val_f1_m: 0.4450 - val_precision_m: 0.4450 - val_recall_m: 0.4450 - 1s/epoch - 16ms/step\n",
      "Epoch 7/10\n",
      "75/75 - 1s - loss: 0.6928 - acc: 0.5233 - f1_m: 0.5233 - precision_m: 0.5233 - recall_m: 0.5233 - val_loss: 0.6947 - val_acc: 0.4550 - val_f1_m: 0.4550 - val_precision_m: 0.4550 - val_recall_m: 0.4550 - 1s/epoch - 16ms/step\n",
      "Epoch 8/10\n",
      "75/75 - 1s - loss: 0.6929 - acc: 0.5067 - f1_m: 0.5067 - precision_m: 0.5067 - recall_m: 0.5067 - val_loss: 0.6950 - val_acc: 0.4550 - val_f1_m: 0.4550 - val_precision_m: 0.4550 - val_recall_m: 0.4550 - 1s/epoch - 16ms/step\n",
      "Epoch 9/10\n",
      "75/75 - 1s - loss: 0.6934 - acc: 0.5250 - f1_m: 0.5250 - precision_m: 0.5250 - recall_m: 0.5250 - val_loss: 0.6946 - val_acc: 0.4450 - val_f1_m: 0.4450 - val_precision_m: 0.4450 - val_recall_m: 0.4450 - 1s/epoch - 16ms/step\n",
      "Epoch 10/10\n",
      "75/75 - 1s - loss: 0.6927 - acc: 0.5100 - f1_m: 0.5100 - precision_m: 0.5100 - recall_m: 0.5100 - val_loss: 0.6948 - val_acc: 0.4450 - val_f1_m: 0.4450 - val_precision_m: 0.4450 - val_recall_m: 0.4450 - 1s/epoch - 16ms/step\n",
      "Epoch 1/10\n"
     ]
    },
    {
     "name": "stderr",
     "output_type": "stream",
     "text": [
      "2022-12-04 16:13:50.802232: I tensorflow/core/grappler/optimizers/custom_graph_optimizer_registry.cc:113] Plugin optimizer for device_type GPU is enabled.\n",
      "2022-12-04 16:13:52.965082: I tensorflow/core/grappler/optimizers/custom_graph_optimizer_registry.cc:113] Plugin optimizer for device_type GPU is enabled.\n"
     ]
    },
    {
     "name": "stdout",
     "output_type": "stream",
     "text": [
      "75/75 - 3s - loss: 0.6934 - acc: 0.5133 - f1_m: 0.5133 - precision_m: 0.5133 - recall_m: 0.5133 - val_loss: 0.6944 - val_acc: 0.4550 - val_f1_m: 0.4550 - val_precision_m: 0.4550 - val_recall_m: 0.4550 - 3s/epoch - 41ms/step\n",
      "Epoch 2/10\n",
      "75/75 - 2s - loss: 0.6935 - acc: 0.4833 - f1_m: 0.4833 - precision_m: 0.4833 - recall_m: 0.4833 - val_loss: 0.6946 - val_acc: 0.4550 - val_f1_m: 0.4550 - val_precision_m: 0.4550 - val_recall_m: 0.4550 - 2s/epoch - 24ms/step\n",
      "Epoch 3/10\n",
      "75/75 - 2s - loss: 0.6931 - acc: 0.5117 - f1_m: 0.5117 - precision_m: 0.5117 - recall_m: 0.5117 - val_loss: 0.6948 - val_acc: 0.4550 - val_f1_m: 0.4550 - val_precision_m: 0.4550 - val_recall_m: 0.4550 - 2s/epoch - 23ms/step\n",
      "Epoch 4/10\n",
      "75/75 - 2s - loss: 0.6931 - acc: 0.5133 - f1_m: 0.5133 - precision_m: 0.5133 - recall_m: 0.5133 - val_loss: 0.6950 - val_acc: 0.4550 - val_f1_m: 0.4550 - val_precision_m: 0.4550 - val_recall_m: 0.4550 - 2s/epoch - 24ms/step\n",
      "Epoch 5/10\n",
      "75/75 - 2s - loss: 0.6931 - acc: 0.5133 - f1_m: 0.5133 - precision_m: 0.5133 - recall_m: 0.5133 - val_loss: 0.6950 - val_acc: 0.4550 - val_f1_m: 0.4550 - val_precision_m: 0.4550 - val_recall_m: 0.4550 - 2s/epoch - 23ms/step\n",
      "Epoch 6/10\n",
      "75/75 - 2s - loss: 0.6933 - acc: 0.5133 - f1_m: 0.5133 - precision_m: 0.5133 - recall_m: 0.5133 - val_loss: 0.6945 - val_acc: 0.4550 - val_f1_m: 0.4550 - val_precision_m: 0.4550 - val_recall_m: 0.4550 - 2s/epoch - 23ms/step\n",
      "Epoch 7/10\n",
      "75/75 - 2s - loss: 0.6930 - acc: 0.5100 - f1_m: 0.5100 - precision_m: 0.5100 - recall_m: 0.5100 - val_loss: 0.6947 - val_acc: 0.4550 - val_f1_m: 0.4550 - val_precision_m: 0.4550 - val_recall_m: 0.4550 - 2s/epoch - 24ms/step\n",
      "Epoch 8/10\n",
      "75/75 - 2s - loss: 0.6931 - acc: 0.5150 - f1_m: 0.5150 - precision_m: 0.5150 - recall_m: 0.5150 - val_loss: 0.6945 - val_acc: 0.4550 - val_f1_m: 0.4550 - val_precision_m: 0.4550 - val_recall_m: 0.4550 - 2s/epoch - 25ms/step\n",
      "Epoch 9/10\n",
      "75/75 - 2s - loss: 0.6930 - acc: 0.5083 - f1_m: 0.5083 - precision_m: 0.5083 - recall_m: 0.5083 - val_loss: 0.6950 - val_acc: 0.4550 - val_f1_m: 0.4550 - val_precision_m: 0.4550 - val_recall_m: 0.4550 - 2s/epoch - 23ms/step\n",
      "Epoch 10/10\n",
      "75/75 - 2s - loss: 0.6931 - acc: 0.5067 - f1_m: 0.5067 - precision_m: 0.5067 - recall_m: 0.5067 - val_loss: 0.6952 - val_acc: 0.4550 - val_f1_m: 0.4550 - val_precision_m: 0.4550 - val_recall_m: 0.4550 - 2s/epoch - 23ms/step\n",
      "Epoch 1/10\n"
     ]
    },
    {
     "name": "stderr",
     "output_type": "stream",
     "text": [
      "2022-12-04 16:14:09.690203: I tensorflow/core/grappler/optimizers/custom_graph_optimizer_registry.cc:113] Plugin optimizer for device_type GPU is enabled.\n",
      "2022-12-04 16:14:11.262207: I tensorflow/core/grappler/optimizers/custom_graph_optimizer_registry.cc:113] Plugin optimizer for device_type GPU is enabled.\n"
     ]
    },
    {
     "name": "stdout",
     "output_type": "stream",
     "text": [
      "75/75 - 2s - loss: 0.6935 - acc: 0.5017 - f1_m: 0.5017 - precision_m: 0.5017 - recall_m: 0.5017 - val_loss: 0.6943 - val_acc: 0.4550 - val_f1_m: 0.4550 - val_precision_m: 0.4550 - val_recall_m: 0.4550 - 2s/epoch - 29ms/step\n",
      "Epoch 2/10\n",
      "75/75 - 1s - loss: 0.6935 - acc: 0.5133 - f1_m: 0.5133 - precision_m: 0.5133 - recall_m: 0.5133 - val_loss: 0.6952 - val_acc: 0.4550 - val_f1_m: 0.4550 - val_precision_m: 0.4550 - val_recall_m: 0.4550 - 1s/epoch - 16ms/step\n",
      "Epoch 3/10\n",
      "75/75 - 1s - loss: 0.6933 - acc: 0.5133 - f1_m: 0.5133 - precision_m: 0.5133 - recall_m: 0.5133 - val_loss: 0.6955 - val_acc: 0.4550 - val_f1_m: 0.4550 - val_precision_m: 0.4550 - val_recall_m: 0.4550 - 1s/epoch - 16ms/step\n",
      "Epoch 4/10\n",
      "75/75 - 1s - loss: 0.6933 - acc: 0.5133 - f1_m: 0.5133 - precision_m: 0.5133 - recall_m: 0.5133 - val_loss: 0.6951 - val_acc: 0.4550 - val_f1_m: 0.4550 - val_precision_m: 0.4550 - val_recall_m: 0.4550 - 1s/epoch - 16ms/step\n",
      "Epoch 5/10\n",
      "75/75 - 1s - loss: 0.6932 - acc: 0.5133 - f1_m: 0.5133 - precision_m: 0.5133 - recall_m: 0.5133 - val_loss: 0.6955 - val_acc: 0.4550 - val_f1_m: 0.4550 - val_precision_m: 0.4550 - val_recall_m: 0.4550 - 1s/epoch - 16ms/step\n",
      "Epoch 6/10\n",
      "75/75 - 1s - loss: 0.6933 - acc: 0.5133 - f1_m: 0.5133 - precision_m: 0.5133 - recall_m: 0.5133 - val_loss: 0.6948 - val_acc: 0.4550 - val_f1_m: 0.4550 - val_precision_m: 0.4550 - val_recall_m: 0.4550 - 1s/epoch - 16ms/step\n",
      "Epoch 7/10\n",
      "75/75 - 1s - loss: 0.6932 - acc: 0.5133 - f1_m: 0.5133 - precision_m: 0.5133 - recall_m: 0.5133 - val_loss: 0.6955 - val_acc: 0.4550 - val_f1_m: 0.4550 - val_precision_m: 0.4550 - val_recall_m: 0.4550 - 1s/epoch - 16ms/step\n",
      "Epoch 8/10\n",
      "75/75 - 1s - loss: 0.6933 - acc: 0.5133 - f1_m: 0.5133 - precision_m: 0.5133 - recall_m: 0.5133 - val_loss: 0.6956 - val_acc: 0.4550 - val_f1_m: 0.4550 - val_precision_m: 0.4550 - val_recall_m: 0.4550 - 1s/epoch - 16ms/step\n",
      "Epoch 9/10\n",
      "75/75 - 1s - loss: 0.6932 - acc: 0.5133 - f1_m: 0.5133 - precision_m: 0.5133 - recall_m: 0.5133 - val_loss: 0.6958 - val_acc: 0.4550 - val_f1_m: 0.4550 - val_precision_m: 0.4550 - val_recall_m: 0.4550 - 1s/epoch - 16ms/step\n",
      "Epoch 10/10\n",
      "75/75 - 1s - loss: 0.6933 - acc: 0.5133 - f1_m: 0.5133 - precision_m: 0.5133 - recall_m: 0.5133 - val_loss: 0.6959 - val_acc: 0.4550 - val_f1_m: 0.4550 - val_precision_m: 0.4550 - val_recall_m: 0.4550 - 1s/epoch - 16ms/step\n",
      "Epoch 1/10\n"
     ]
    },
    {
     "name": "stderr",
     "output_type": "stream",
     "text": [
      "2022-12-04 16:14:22.913870: I tensorflow/core/grappler/optimizers/custom_graph_optimizer_registry.cc:113] Plugin optimizer for device_type GPU is enabled.\n",
      "2022-12-04 16:14:24.383196: I tensorflow/core/grappler/optimizers/custom_graph_optimizer_registry.cc:113] Plugin optimizer for device_type GPU is enabled.\n"
     ]
    },
    {
     "name": "stdout",
     "output_type": "stream",
     "text": [
      "75/75 - 2s - loss: 0.6935 - acc: 0.5133 - f1_m: 0.5133 - precision_m: 0.5133 - recall_m: 0.5133 - val_loss: 0.6942 - val_acc: 0.4550 - val_f1_m: 0.4550 - val_precision_m: 0.4550 - val_recall_m: 0.4550 - 2s/epoch - 27ms/step\n",
      "Epoch 2/10\n",
      "75/75 - 1s - loss: 0.6935 - acc: 0.5133 - f1_m: 0.5133 - precision_m: 0.5133 - recall_m: 0.5133 - val_loss: 0.6944 - val_acc: 0.4550 - val_f1_m: 0.4550 - val_precision_m: 0.4550 - val_recall_m: 0.4550 - 1s/epoch - 16ms/step\n",
      "Epoch 3/10\n",
      "75/75 - 1s - loss: 0.6935 - acc: 0.5133 - f1_m: 0.5133 - precision_m: 0.5133 - recall_m: 0.5133 - val_loss: 0.6943 - val_acc: 0.4550 - val_f1_m: 0.4550 - val_precision_m: 0.4550 - val_recall_m: 0.4550 - 1s/epoch - 16ms/step\n",
      "Epoch 4/10\n",
      "75/75 - 1s - loss: 0.6936 - acc: 0.5133 - f1_m: 0.5133 - precision_m: 0.5133 - recall_m: 0.5133 - val_loss: 0.6945 - val_acc: 0.4550 - val_f1_m: 0.4550 - val_precision_m: 0.4550 - val_recall_m: 0.4550 - 1s/epoch - 16ms/step\n",
      "Epoch 5/10\n",
      "75/75 - 1s - loss: 0.6934 - acc: 0.5133 - f1_m: 0.5133 - precision_m: 0.5133 - recall_m: 0.5133 - val_loss: 0.6945 - val_acc: 0.4550 - val_f1_m: 0.4550 - val_precision_m: 0.4550 - val_recall_m: 0.4550 - 1s/epoch - 16ms/step\n",
      "Epoch 6/10\n",
      "75/75 - 1s - loss: 0.6934 - acc: 0.5133 - f1_m: 0.5133 - precision_m: 0.5133 - recall_m: 0.5133 - val_loss: 0.6949 - val_acc: 0.4550 - val_f1_m: 0.4550 - val_precision_m: 0.4550 - val_recall_m: 0.4550 - 1s/epoch - 16ms/step\n",
      "Epoch 7/10\n",
      "75/75 - 1s - loss: 0.6934 - acc: 0.5133 - f1_m: 0.5133 - precision_m: 0.5133 - recall_m: 0.5133 - val_loss: 0.6949 - val_acc: 0.4550 - val_f1_m: 0.4550 - val_precision_m: 0.4550 - val_recall_m: 0.4550 - 1s/epoch - 16ms/step\n",
      "Epoch 8/10\n",
      "75/75 - 1s - loss: 0.6934 - acc: 0.5133 - f1_m: 0.5133 - precision_m: 0.5133 - recall_m: 0.5133 - val_loss: 0.6946 - val_acc: 0.4550 - val_f1_m: 0.4550 - val_precision_m: 0.4550 - val_recall_m: 0.4550 - 1s/epoch - 15ms/step\n",
      "Epoch 9/10\n",
      "75/75 - 1s - loss: 0.6934 - acc: 0.5133 - f1_m: 0.5133 - precision_m: 0.5133 - recall_m: 0.5133 - val_loss: 0.6949 - val_acc: 0.4550 - val_f1_m: 0.4550 - val_precision_m: 0.4550 - val_recall_m: 0.4550 - 1s/epoch - 16ms/step\n",
      "Epoch 10/10\n",
      "75/75 - 1s - loss: 0.6935 - acc: 0.5133 - f1_m: 0.5133 - precision_m: 0.5133 - recall_m: 0.5133 - val_loss: 0.6947 - val_acc: 0.4550 - val_f1_m: 0.4550 - val_precision_m: 0.4550 - val_recall_m: 0.4550 - 1s/epoch - 15ms/step\n",
      "Epoch 1/10\n"
     ]
    },
    {
     "name": "stderr",
     "output_type": "stream",
     "text": [
      "2022-12-04 16:14:35.581178: I tensorflow/core/grappler/optimizers/custom_graph_optimizer_registry.cc:113] Plugin optimizer for device_type GPU is enabled.\n",
      "2022-12-04 16:14:37.727395: I tensorflow/core/grappler/optimizers/custom_graph_optimizer_registry.cc:113] Plugin optimizer for device_type GPU is enabled.\n"
     ]
    },
    {
     "name": "stdout",
     "output_type": "stream",
     "text": [
      "75/75 - 3s - loss: 0.6794 - acc: 0.5850 - f1_m: 0.5850 - precision_m: 0.5850 - recall_m: 0.5850 - val_loss: 0.6607 - val_acc: 0.6000 - val_f1_m: 0.6000 - val_precision_m: 0.6000 - val_recall_m: 0.6000 - 3s/epoch - 38ms/step\n",
      "Epoch 2/10\n",
      "75/75 - 2s - loss: 0.5862 - acc: 0.7333 - f1_m: 0.7333 - precision_m: 0.7333 - recall_m: 0.7333 - val_loss: 0.6584 - val_acc: 0.6300 - val_f1_m: 0.6300 - val_precision_m: 0.6300 - val_recall_m: 0.6300 - 2s/epoch - 23ms/step\n",
      "Epoch 3/10\n",
      "75/75 - 2s - loss: 0.5438 - acc: 0.7517 - f1_m: 0.7517 - precision_m: 0.7517 - recall_m: 0.7517 - val_loss: 0.6052 - val_acc: 0.7200 - val_f1_m: 0.7200 - val_precision_m: 0.7200 - val_recall_m: 0.7200 - 2s/epoch - 24ms/step\n",
      "Epoch 4/10\n",
      "75/75 - 2s - loss: 0.4872 - acc: 0.7917 - f1_m: 0.7917 - precision_m: 0.7917 - recall_m: 0.7917 - val_loss: 0.6064 - val_acc: 0.7250 - val_f1_m: 0.7250 - val_precision_m: 0.7250 - val_recall_m: 0.7250 - 2s/epoch - 23ms/step\n",
      "Epoch 5/10\n",
      "75/75 - 2s - loss: 0.4461 - acc: 0.8367 - f1_m: 0.8367 - precision_m: 0.8367 - recall_m: 0.8367 - val_loss: 0.5938 - val_acc: 0.7750 - val_f1_m: 0.7750 - val_precision_m: 0.7750 - val_recall_m: 0.7750 - 2s/epoch - 24ms/step\n",
      "Epoch 6/10\n",
      "75/75 - 2s - loss: 0.4377 - acc: 0.8100 - f1_m: 0.8100 - precision_m: 0.8100 - recall_m: 0.8100 - val_loss: 0.6928 - val_acc: 0.6650 - val_f1_m: 0.6650 - val_precision_m: 0.6650 - val_recall_m: 0.6650 - 2s/epoch - 23ms/step\n",
      "Epoch 7/10\n",
      "75/75 - 2s - loss: 0.3898 - acc: 0.8367 - f1_m: 0.8367 - precision_m: 0.8367 - recall_m: 0.8367 - val_loss: 0.6406 - val_acc: 0.7700 - val_f1_m: 0.7700 - val_precision_m: 0.7700 - val_recall_m: 0.7700 - 2s/epoch - 23ms/step\n",
      "Epoch 8/10\n",
      "75/75 - 2s - loss: 0.3318 - acc: 0.8867 - f1_m: 0.8867 - precision_m: 0.8867 - recall_m: 0.8867 - val_loss: 0.6339 - val_acc: 0.7800 - val_f1_m: 0.7800 - val_precision_m: 0.7800 - val_recall_m: 0.7800 - 2s/epoch - 23ms/step\n",
      "Epoch 9/10\n",
      "75/75 - 2s - loss: 0.2979 - acc: 0.9050 - f1_m: 0.9050 - precision_m: 0.9050 - recall_m: 0.9050 - val_loss: 0.6643 - val_acc: 0.7550 - val_f1_m: 0.7550 - val_precision_m: 0.7550 - val_recall_m: 0.7550 - 2s/epoch - 24ms/step\n",
      "Epoch 10/10\n",
      "75/75 - 2s - loss: 0.3490 - acc: 0.8650 - f1_m: 0.8650 - precision_m: 0.8650 - recall_m: 0.8650 - val_loss: 0.6605 - val_acc: 0.7150 - val_f1_m: 0.7150 - val_precision_m: 0.7150 - val_recall_m: 0.7150 - 2s/epoch - 24ms/step\n",
      "Epoch 1/10\n"
     ]
    },
    {
     "name": "stderr",
     "output_type": "stream",
     "text": [
      "2022-12-04 16:14:54.504807: I tensorflow/core/grappler/optimizers/custom_graph_optimizer_registry.cc:113] Plugin optimizer for device_type GPU is enabled.\n",
      "2022-12-04 16:14:56.184518: I tensorflow/core/grappler/optimizers/custom_graph_optimizer_registry.cc:113] Plugin optimizer for device_type GPU is enabled.\n"
     ]
    },
    {
     "name": "stdout",
     "output_type": "stream",
     "text": [
      "75/75 - 2s - loss: 0.6935 - acc: 0.5133 - f1_m: 0.5133 - precision_m: 0.5133 - recall_m: 0.5133 - val_loss: 0.6941 - val_acc: 0.4550 - val_f1_m: 0.4550 - val_precision_m: 0.4550 - val_recall_m: 0.4550 - 2s/epoch - 31ms/step\n",
      "Epoch 2/10\n",
      "75/75 - 1s - loss: 0.6934 - acc: 0.5100 - f1_m: 0.5100 - precision_m: 0.5100 - recall_m: 0.5100 - val_loss: 0.6950 - val_acc: 0.4550 - val_f1_m: 0.4550 - val_precision_m: 0.4550 - val_recall_m: 0.4550 - 1s/epoch - 18ms/step\n",
      "Epoch 3/10\n",
      "75/75 - 1s - loss: 0.6937 - acc: 0.5133 - f1_m: 0.5133 - precision_m: 0.5133 - recall_m: 0.5133 - val_loss: 0.6953 - val_acc: 0.4550 - val_f1_m: 0.4550 - val_precision_m: 0.4550 - val_recall_m: 0.4550 - 1s/epoch - 18ms/step\n",
      "Epoch 4/10\n",
      "75/75 - 1s - loss: 0.6933 - acc: 0.5133 - f1_m: 0.5133 - precision_m: 0.5133 - recall_m: 0.5133 - val_loss: 0.6951 - val_acc: 0.4550 - val_f1_m: 0.4550 - val_precision_m: 0.4550 - val_recall_m: 0.4550 - 1s/epoch - 18ms/step\n",
      "Epoch 5/10\n",
      "75/75 - 1s - loss: 0.6929 - acc: 0.5133 - f1_m: 0.5133 - precision_m: 0.5133 - recall_m: 0.5133 - val_loss: 0.6953 - val_acc: 0.4550 - val_f1_m: 0.4550 - val_precision_m: 0.4550 - val_recall_m: 0.4550 - 1s/epoch - 18ms/step\n",
      "Epoch 6/10\n",
      "75/75 - 1s - loss: 0.6928 - acc: 0.5133 - f1_m: 0.5133 - precision_m: 0.5133 - recall_m: 0.5133 - val_loss: 0.6954 - val_acc: 0.4550 - val_f1_m: 0.4550 - val_precision_m: 0.4550 - val_recall_m: 0.4550 - 1s/epoch - 18ms/step\n",
      "Epoch 7/10\n",
      "75/75 - 1s - loss: 0.6935 - acc: 0.5133 - f1_m: 0.5133 - precision_m: 0.5133 - recall_m: 0.5133 - val_loss: 0.6956 - val_acc: 0.4550 - val_f1_m: 0.4550 - val_precision_m: 0.4550 - val_recall_m: 0.4550 - 1s/epoch - 18ms/step\n",
      "Epoch 8/10\n",
      "75/75 - 1s - loss: 0.6933 - acc: 0.5133 - f1_m: 0.5133 - precision_m: 0.5133 - recall_m: 0.5133 - val_loss: 0.6956 - val_acc: 0.4550 - val_f1_m: 0.4550 - val_precision_m: 0.4550 - val_recall_m: 0.4550 - 1s/epoch - 18ms/step\n",
      "Epoch 9/10\n",
      "75/75 - 1s - loss: 0.6932 - acc: 0.5133 - f1_m: 0.5133 - precision_m: 0.5133 - recall_m: 0.5133 - val_loss: 0.6952 - val_acc: 0.4550 - val_f1_m: 0.4550 - val_precision_m: 0.4550 - val_recall_m: 0.4550 - 1s/epoch - 18ms/step\n",
      "Epoch 10/10\n",
      "75/75 - 1s - loss: 0.6933 - acc: 0.5133 - f1_m: 0.5133 - precision_m: 0.5133 - recall_m: 0.5133 - val_loss: 0.6955 - val_acc: 0.4550 - val_f1_m: 0.4550 - val_precision_m: 0.4550 - val_recall_m: 0.4550 - 1s/epoch - 18ms/step\n",
      "Epoch 1/10\n"
     ]
    },
    {
     "name": "stderr",
     "output_type": "stream",
     "text": [
      "2022-12-04 16:15:09.129621: I tensorflow/core/grappler/optimizers/custom_graph_optimizer_registry.cc:113] Plugin optimizer for device_type GPU is enabled.\n",
      "2022-12-04 16:15:11.633077: I tensorflow/core/grappler/optimizers/custom_graph_optimizer_registry.cc:113] Plugin optimizer for device_type GPU is enabled.\n"
     ]
    },
    {
     "name": "stdout",
     "output_type": "stream",
     "text": [
      "38/38 - 3s - loss: 0.6870 - acc: 0.5883 - f1_m: 0.5905 - precision_m: 0.5905 - recall_m: 0.5905 - val_loss: 0.6674 - val_acc: 0.6100 - val_f1_m: 0.6202 - val_precision_m: 0.6202 - val_recall_m: 0.6202 - 3s/epoch - 92ms/step\n",
      "Epoch 2/10\n",
      "38/38 - 2s - loss: 0.6464 - acc: 0.6567 - f1_m: 0.6546 - precision_m: 0.6546 - recall_m: 0.6546 - val_loss: 0.6554 - val_acc: 0.6950 - val_f1_m: 0.7067 - val_precision_m: 0.7067 - val_recall_m: 0.7067 - 2s/epoch - 62ms/step\n",
      "Epoch 3/10\n",
      "38/38 - 2s - loss: 0.6035 - acc: 0.7150 - f1_m: 0.7105 - precision_m: 0.7105 - recall_m: 0.7105 - val_loss: 0.6588 - val_acc: 0.6800 - val_f1_m: 0.6875 - val_precision_m: 0.6875 - val_recall_m: 0.6875 - 2s/epoch - 62ms/step\n",
      "Epoch 4/10\n",
      "38/38 - 2s - loss: 0.5582 - acc: 0.7683 - f1_m: 0.7697 - precision_m: 0.7697 - recall_m: 0.7697 - val_loss: 0.6237 - val_acc: 0.7100 - val_f1_m: 0.7212 - val_precision_m: 0.7212 - val_recall_m: 0.7212 - 2s/epoch - 62ms/step\n",
      "Epoch 5/10\n",
      "38/38 - 2s - loss: 0.4931 - acc: 0.7983 - f1_m: 0.7993 - precision_m: 0.7993 - recall_m: 0.7993 - val_loss: 0.5978 - val_acc: 0.7400 - val_f1_m: 0.7500 - val_precision_m: 0.7500 - val_recall_m: 0.7500 - 2s/epoch - 61ms/step\n",
      "Epoch 6/10\n",
      "38/38 - 2s - loss: 0.4671 - acc: 0.8350 - f1_m: 0.8339 - precision_m: 0.8339 - recall_m: 0.8339 - val_loss: 0.6085 - val_acc: 0.7050 - val_f1_m: 0.7115 - val_precision_m: 0.7115 - val_recall_m: 0.7115 - 2s/epoch - 62ms/step\n",
      "Epoch 7/10\n",
      "38/38 - 2s - loss: 0.4099 - acc: 0.8550 - f1_m: 0.8536 - precision_m: 0.8536 - recall_m: 0.8536 - val_loss: 0.6146 - val_acc: 0.6900 - val_f1_m: 0.6971 - val_precision_m: 0.6971 - val_recall_m: 0.6971 - 2s/epoch - 61ms/step\n",
      "Epoch 8/10\n",
      "38/38 - 2s - loss: 0.3676 - acc: 0.8667 - f1_m: 0.8684 - precision_m: 0.8684 - recall_m: 0.8684 - val_loss: 0.5973 - val_acc: 0.7250 - val_f1_m: 0.7308 - val_precision_m: 0.7308 - val_recall_m: 0.7308 - 2s/epoch - 61ms/step\n",
      "Epoch 9/10\n",
      "38/38 - 2s - loss: 0.3500 - acc: 0.8667 - f1_m: 0.8635 - precision_m: 0.8635 - recall_m: 0.8635 - val_loss: 0.5876 - val_acc: 0.7650 - val_f1_m: 0.7692 - val_precision_m: 0.7692 - val_recall_m: 0.7692 - 2s/epoch - 62ms/step\n",
      "Epoch 10/10\n",
      "38/38 - 2s - loss: 0.3050 - acc: 0.8917 - f1_m: 0.8914 - precision_m: 0.8914 - recall_m: 0.8914 - val_loss: 0.6195 - val_acc: 0.7150 - val_f1_m: 0.7163 - val_precision_m: 0.7163 - val_recall_m: 0.7163 - 2s/epoch - 61ms/step\n",
      "Epoch 1/10\n"
     ]
    },
    {
     "name": "stderr",
     "output_type": "stream",
     "text": [
      "2022-12-04 16:15:33.758178: I tensorflow/core/grappler/optimizers/custom_graph_optimizer_registry.cc:113] Plugin optimizer for device_type GPU is enabled.\n",
      "2022-12-04 16:15:35.800634: I tensorflow/core/grappler/optimizers/custom_graph_optimizer_registry.cc:113] Plugin optimizer for device_type GPU is enabled.\n"
     ]
    },
    {
     "name": "stdout",
     "output_type": "stream",
     "text": [
      "75/75 - 3s - loss: 0.6937 - acc: 0.5133 - f1_m: 0.5133 - precision_m: 0.5133 - recall_m: 0.5133 - val_loss: 0.6943 - val_acc: 0.4550 - val_f1_m: 0.4550 - val_precision_m: 0.4550 - val_recall_m: 0.4550 - 3s/epoch - 37ms/step\n",
      "Epoch 2/10\n",
      "75/75 - 2s - loss: 0.6930 - acc: 0.5183 - f1_m: 0.5183 - precision_m: 0.5183 - recall_m: 0.5183 - val_loss: 0.6948 - val_acc: 0.4550 - val_f1_m: 0.4550 - val_precision_m: 0.4550 - val_recall_m: 0.4550 - 2s/epoch - 21ms/step\n",
      "Epoch 3/10\n",
      "75/75 - 2s - loss: 0.6934 - acc: 0.4933 - f1_m: 0.4933 - precision_m: 0.4933 - recall_m: 0.4933 - val_loss: 0.6950 - val_acc: 0.4550 - val_f1_m: 0.4550 - val_precision_m: 0.4550 - val_recall_m: 0.4550 - 2s/epoch - 21ms/step\n",
      "Epoch 4/10\n",
      "75/75 - 2s - loss: 0.6930 - acc: 0.5133 - f1_m: 0.5133 - precision_m: 0.5133 - recall_m: 0.5133 - val_loss: 0.6961 - val_acc: 0.4550 - val_f1_m: 0.4550 - val_precision_m: 0.4550 - val_recall_m: 0.4550 - 2s/epoch - 22ms/step\n",
      "Epoch 5/10\n",
      "75/75 - 2s - loss: 0.6935 - acc: 0.5133 - f1_m: 0.5133 - precision_m: 0.5133 - recall_m: 0.5133 - val_loss: 0.6960 - val_acc: 0.4550 - val_f1_m: 0.4550 - val_precision_m: 0.4550 - val_recall_m: 0.4550 - 2s/epoch - 21ms/step\n",
      "Epoch 6/10\n",
      "75/75 - 2s - loss: 0.6919 - acc: 0.5050 - f1_m: 0.5050 - precision_m: 0.5050 - recall_m: 0.5050 - val_loss: 0.6961 - val_acc: 0.4550 - val_f1_m: 0.4550 - val_precision_m: 0.4550 - val_recall_m: 0.4550 - 2s/epoch - 21ms/step\n",
      "Epoch 7/10\n",
      "75/75 - 2s - loss: 0.6933 - acc: 0.5017 - f1_m: 0.5017 - precision_m: 0.5017 - recall_m: 0.5017 - val_loss: 0.6958 - val_acc: 0.4550 - val_f1_m: 0.4550 - val_precision_m: 0.4550 - val_recall_m: 0.4550 - 2s/epoch - 21ms/step\n",
      "Epoch 8/10\n",
      "75/75 - 2s - loss: 0.6932 - acc: 0.5067 - f1_m: 0.5067 - precision_m: 0.5067 - recall_m: 0.5067 - val_loss: 0.6960 - val_acc: 0.4550 - val_f1_m: 0.4550 - val_precision_m: 0.4550 - val_recall_m: 0.4550 - 2s/epoch - 21ms/step\n",
      "Epoch 9/10\n",
      "75/75 - 2s - loss: 0.6936 - acc: 0.5067 - f1_m: 0.5067 - precision_m: 0.5067 - recall_m: 0.5067 - val_loss: 0.6962 - val_acc: 0.4550 - val_f1_m: 0.4550 - val_precision_m: 0.4550 - val_recall_m: 0.4550 - 2s/epoch - 21ms/step\n",
      "Epoch 10/10\n",
      "75/75 - 2s - loss: 0.6934 - acc: 0.5117 - f1_m: 0.5117 - precision_m: 0.5117 - recall_m: 0.5117 - val_loss: 0.6958 - val_acc: 0.4550 - val_f1_m: 0.4550 - val_precision_m: 0.4550 - val_recall_m: 0.4550 - 2s/epoch - 21ms/step\n",
      "Epoch 1/10\n"
     ]
    },
    {
     "name": "stderr",
     "output_type": "stream",
     "text": [
      "2022-12-04 16:15:51.203851: I tensorflow/core/grappler/optimizers/custom_graph_optimizer_registry.cc:113] Plugin optimizer for device_type GPU is enabled.\n",
      "2022-12-04 16:15:53.289158: I tensorflow/core/grappler/optimizers/custom_graph_optimizer_registry.cc:113] Plugin optimizer for device_type GPU is enabled.\n"
     ]
    },
    {
     "name": "stdout",
     "output_type": "stream",
     "text": [
      "38/38 - 3s - loss: 0.6932 - acc: 0.5133 - f1_m: 0.5132 - precision_m: 0.5132 - recall_m: 0.5132 - val_loss: 0.6946 - val_acc: 0.4550 - val_f1_m: 0.4567 - val_precision_m: 0.4567 - val_recall_m: 0.4567 - 3s/epoch - 82ms/step\n",
      "Epoch 2/10\n",
      "38/38 - 1s - loss: 0.6933 - acc: 0.5133 - f1_m: 0.5148 - precision_m: 0.5148 - recall_m: 0.5148 - val_loss: 0.6942 - val_acc: 0.4550 - val_f1_m: 0.4567 - val_precision_m: 0.4567 - val_recall_m: 0.4567 - 1s/epoch - 36ms/step\n",
      "Epoch 3/10\n",
      "38/38 - 1s - loss: 0.6931 - acc: 0.5133 - f1_m: 0.5148 - precision_m: 0.5148 - recall_m: 0.5148 - val_loss: 0.6956 - val_acc: 0.4550 - val_f1_m: 0.4567 - val_precision_m: 0.4567 - val_recall_m: 0.4567 - 1s/epoch - 35ms/step\n",
      "Epoch 4/10\n",
      "38/38 - 1s - loss: 0.6931 - acc: 0.5133 - f1_m: 0.5132 - precision_m: 0.5132 - recall_m: 0.5132 - val_loss: 0.6959 - val_acc: 0.4550 - val_f1_m: 0.4567 - val_precision_m: 0.4567 - val_recall_m: 0.4567 - 1s/epoch - 35ms/step\n",
      "Epoch 5/10\n",
      "38/38 - 1s - loss: 0.6930 - acc: 0.5133 - f1_m: 0.5132 - precision_m: 0.5132 - recall_m: 0.5132 - val_loss: 0.6959 - val_acc: 0.4550 - val_f1_m: 0.4567 - val_precision_m: 0.4567 - val_recall_m: 0.4567 - 1s/epoch - 35ms/step\n",
      "Epoch 6/10\n",
      "38/38 - 1s - loss: 0.6931 - acc: 0.5133 - f1_m: 0.5148 - precision_m: 0.5148 - recall_m: 0.5148 - val_loss: 0.6964 - val_acc: 0.4550 - val_f1_m: 0.4567 - val_precision_m: 0.4567 - val_recall_m: 0.4567 - 1s/epoch - 34ms/step\n",
      "Epoch 7/10\n",
      "38/38 - 1s - loss: 0.6930 - acc: 0.5133 - f1_m: 0.5132 - precision_m: 0.5132 - recall_m: 0.5132 - val_loss: 0.6958 - val_acc: 0.4550 - val_f1_m: 0.4567 - val_precision_m: 0.4567 - val_recall_m: 0.4567 - 1s/epoch - 35ms/step\n",
      "Epoch 8/10\n",
      "38/38 - 1s - loss: 0.6930 - acc: 0.5133 - f1_m: 0.5082 - precision_m: 0.5082 - recall_m: 0.5082 - val_loss: 0.6967 - val_acc: 0.4550 - val_f1_m: 0.4567 - val_precision_m: 0.4567 - val_recall_m: 0.4567 - 1s/epoch - 35ms/step\n",
      "Epoch 9/10\n",
      "38/38 - 1s - loss: 0.6930 - acc: 0.5133 - f1_m: 0.5082 - precision_m: 0.5082 - recall_m: 0.5082 - val_loss: 0.6960 - val_acc: 0.4550 - val_f1_m: 0.4567 - val_precision_m: 0.4567 - val_recall_m: 0.4567 - 1s/epoch - 34ms/step\n",
      "Epoch 10/10\n",
      "38/38 - 1s - loss: 0.6929 - acc: 0.5133 - f1_m: 0.5148 - precision_m: 0.5148 - recall_m: 0.5148 - val_loss: 0.6957 - val_acc: 0.4550 - val_f1_m: 0.4567 - val_precision_m: 0.4567 - val_recall_m: 0.4567 - 1s/epoch - 35ms/step\n",
      "Epoch 1/10\n"
     ]
    },
    {
     "name": "stderr",
     "output_type": "stream",
     "text": [
      "2022-12-04 16:16:06.072188: I tensorflow/core/grappler/optimizers/custom_graph_optimizer_registry.cc:113] Plugin optimizer for device_type GPU is enabled.\n",
      "2022-12-04 16:16:08.555409: I tensorflow/core/grappler/optimizers/custom_graph_optimizer_registry.cc:113] Plugin optimizer for device_type GPU is enabled.\n"
     ]
    },
    {
     "name": "stdout",
     "output_type": "stream",
     "text": [
      "38/38 - 3s - loss: 0.6873 - acc: 0.5550 - f1_m: 0.5559 - precision_m: 0.5559 - recall_m: 0.5559 - val_loss: 0.6824 - val_acc: 0.5250 - val_f1_m: 0.5288 - val_precision_m: 0.5288 - val_recall_m: 0.5288 - 3s/epoch - 91ms/step\n",
      "Epoch 2/10\n",
      "38/38 - 2s - loss: 0.6396 - acc: 0.6550 - f1_m: 0.6579 - precision_m: 0.6579 - recall_m: 0.6579 - val_loss: 0.6532 - val_acc: 0.6550 - val_f1_m: 0.6587 - val_precision_m: 0.6587 - val_recall_m: 0.6587 - 2s/epoch - 57ms/step\n",
      "Epoch 3/10\n",
      "38/38 - 2s - loss: 0.5964 - acc: 0.7117 - f1_m: 0.7072 - precision_m: 0.7072 - recall_m: 0.7072 - val_loss: 0.6498 - val_acc: 0.6050 - val_f1_m: 0.6106 - val_precision_m: 0.6106 - val_recall_m: 0.6106 - 2s/epoch - 56ms/step\n",
      "Epoch 4/10\n",
      "38/38 - 2s - loss: 0.5208 - acc: 0.7533 - f1_m: 0.7566 - precision_m: 0.7566 - recall_m: 0.7566 - val_loss: 0.6224 - val_acc: 0.6900 - val_f1_m: 0.6971 - val_precision_m: 0.6971 - val_recall_m: 0.6971 - 2s/epoch - 56ms/step\n",
      "Epoch 5/10\n",
      "38/38 - 2s - loss: 0.5234 - acc: 0.7817 - f1_m: 0.7796 - precision_m: 0.7796 - recall_m: 0.7796 - val_loss: 0.6221 - val_acc: 0.7350 - val_f1_m: 0.7452 - val_precision_m: 0.7452 - val_recall_m: 0.7452 - 2s/epoch - 56ms/step\n",
      "Epoch 6/10\n",
      "38/38 - 2s - loss: 0.4392 - acc: 0.8333 - f1_m: 0.8322 - precision_m: 0.8322 - recall_m: 0.8322 - val_loss: 0.6360 - val_acc: 0.6850 - val_f1_m: 0.6923 - val_precision_m: 0.6923 - val_recall_m: 0.6923 - 2s/epoch - 55ms/step\n",
      "Epoch 7/10\n",
      "38/38 - 2s - loss: 0.4344 - acc: 0.8333 - f1_m: 0.8355 - precision_m: 0.8355 - recall_m: 0.8355 - val_loss: 0.6239 - val_acc: 0.7250 - val_f1_m: 0.7308 - val_precision_m: 0.7308 - val_recall_m: 0.7308 - 2s/epoch - 56ms/step\n",
      "Epoch 8/10\n",
      "38/38 - 2s - loss: 0.3896 - acc: 0.8400 - f1_m: 0.8421 - precision_m: 0.8421 - recall_m: 0.8421 - val_loss: 0.6292 - val_acc: 0.7400 - val_f1_m: 0.7404 - val_precision_m: 0.7404 - val_recall_m: 0.7404 - 2s/epoch - 55ms/step\n",
      "Epoch 9/10\n",
      "38/38 - 2s - loss: 0.3467 - acc: 0.8683 - f1_m: 0.8684 - precision_m: 0.8684 - recall_m: 0.8684 - val_loss: 0.6541 - val_acc: 0.7150 - val_f1_m: 0.7163 - val_precision_m: 0.7163 - val_recall_m: 0.7163 - 2s/epoch - 56ms/step\n",
      "Epoch 10/10\n",
      "38/38 - 2s - loss: 0.3154 - acc: 0.8767 - f1_m: 0.8750 - precision_m: 0.8750 - recall_m: 0.8750 - val_loss: 0.6964 - val_acc: 0.7800 - val_f1_m: 0.7837 - val_precision_m: 0.7837 - val_recall_m: 0.7837 - 2s/epoch - 56ms/step\n",
      "Epoch 1/10\n"
     ]
    },
    {
     "name": "stderr",
     "output_type": "stream",
     "text": [
      "2022-12-04 16:16:28.749345: I tensorflow/core/grappler/optimizers/custom_graph_optimizer_registry.cc:113] Plugin optimizer for device_type GPU is enabled.\n",
      "2022-12-04 16:16:30.903880: I tensorflow/core/grappler/optimizers/custom_graph_optimizer_registry.cc:113] Plugin optimizer for device_type GPU is enabled.\n"
     ]
    },
    {
     "name": "stdout",
     "output_type": "stream",
     "text": [
      "38/38 - 3s - loss: 0.6933 - acc: 0.4483 - f1_m: 0.4490 - precision_m: 0.4490 - recall_m: 0.4490 - val_loss: 0.6935 - val_acc: 0.4550 - val_f1_m: 0.4567 - val_precision_m: 0.4567 - val_recall_m: 0.4567 - 3s/epoch - 77ms/step\n",
      "Epoch 2/10\n",
      "38/38 - 1s - loss: 0.6932 - acc: 0.5067 - f1_m: 0.5033 - precision_m: 0.5033 - recall_m: 0.5033 - val_loss: 0.6938 - val_acc: 0.4550 - val_f1_m: 0.4567 - val_precision_m: 0.4567 - val_recall_m: 0.4567 - 1s/epoch - 36ms/step\n",
      "Epoch 3/10\n",
      "38/38 - 1s - loss: 0.6933 - acc: 0.5133 - f1_m: 0.5115 - precision_m: 0.5115 - recall_m: 0.5115 - val_loss: 0.6945 - val_acc: 0.4550 - val_f1_m: 0.4567 - val_precision_m: 0.4567 - val_recall_m: 0.4567 - 1s/epoch - 35ms/step\n",
      "Epoch 4/10\n",
      "38/38 - 1s - loss: 0.6931 - acc: 0.5133 - f1_m: 0.5115 - precision_m: 0.5115 - recall_m: 0.5115 - val_loss: 0.6942 - val_acc: 0.4550 - val_f1_m: 0.4567 - val_precision_m: 0.4567 - val_recall_m: 0.4567 - 1s/epoch - 35ms/step\n",
      "Epoch 5/10\n",
      "38/38 - 1s - loss: 0.6931 - acc: 0.5133 - f1_m: 0.5115 - precision_m: 0.5115 - recall_m: 0.5115 - val_loss: 0.6944 - val_acc: 0.4550 - val_f1_m: 0.4567 - val_precision_m: 0.4567 - val_recall_m: 0.4567 - 1s/epoch - 35ms/step\n",
      "Epoch 6/10\n",
      "38/38 - 1s - loss: 0.6930 - acc: 0.5133 - f1_m: 0.5099 - precision_m: 0.5099 - recall_m: 0.5099 - val_loss: 0.6947 - val_acc: 0.4550 - val_f1_m: 0.4567 - val_precision_m: 0.4567 - val_recall_m: 0.4567 - 1s/epoch - 35ms/step\n",
      "Epoch 7/10\n",
      "38/38 - 1s - loss: 0.6930 - acc: 0.5133 - f1_m: 0.5164 - precision_m: 0.5164 - recall_m: 0.5164 - val_loss: 0.6946 - val_acc: 0.4550 - val_f1_m: 0.4567 - val_precision_m: 0.4567 - val_recall_m: 0.4567 - 1s/epoch - 34ms/step\n",
      "Epoch 8/10\n",
      "38/38 - 1s - loss: 0.6929 - acc: 0.5133 - f1_m: 0.5148 - precision_m: 0.5148 - recall_m: 0.5148 - val_loss: 0.6952 - val_acc: 0.4550 - val_f1_m: 0.4567 - val_precision_m: 0.4567 - val_recall_m: 0.4567 - 1s/epoch - 35ms/step\n",
      "Epoch 9/10\n",
      "38/38 - 1s - loss: 0.6929 - acc: 0.5133 - f1_m: 0.5132 - precision_m: 0.5132 - recall_m: 0.5132 - val_loss: 0.6955 - val_acc: 0.4550 - val_f1_m: 0.4567 - val_precision_m: 0.4567 - val_recall_m: 0.4567 - 1s/epoch - 35ms/step\n",
      "Epoch 10/10\n",
      "38/38 - 1s - loss: 0.6929 - acc: 0.5133 - f1_m: 0.5066 - precision_m: 0.5066 - recall_m: 0.5066 - val_loss: 0.6960 - val_acc: 0.4550 - val_f1_m: 0.4567 - val_precision_m: 0.4567 - val_recall_m: 0.4567 - 1s/epoch - 35ms/step\n",
      "Epoch 1/10\n"
     ]
    },
    {
     "name": "stderr",
     "output_type": "stream",
     "text": [
      "2022-12-04 16:16:43.735746: I tensorflow/core/grappler/optimizers/custom_graph_optimizer_registry.cc:113] Plugin optimizer for device_type GPU is enabled.\n",
      "2022-12-04 16:16:45.941528: I tensorflow/core/grappler/optimizers/custom_graph_optimizer_registry.cc:113] Plugin optimizer for device_type GPU is enabled.\n"
     ]
    },
    {
     "name": "stdout",
     "output_type": "stream",
     "text": [
      "75/75 - 3s - loss: 0.6864 - acc: 0.5600 - f1_m: 0.5600 - precision_m: 0.5600 - recall_m: 0.5600 - val_loss: 0.6580 - val_acc: 0.6650 - val_f1_m: 0.6650 - val_precision_m: 0.6650 - val_recall_m: 0.6650 - 3s/epoch - 40ms/step\n",
      "Epoch 2/10\n",
      "75/75 - 2s - loss: 0.5983 - acc: 0.6850 - f1_m: 0.6850 - precision_m: 0.6850 - recall_m: 0.6850 - val_loss: 0.6462 - val_acc: 0.7000 - val_f1_m: 0.7000 - val_precision_m: 0.7000 - val_recall_m: 0.7000 - 2s/epoch - 23ms/step\n",
      "Epoch 3/10\n",
      "75/75 - 2s - loss: 0.5456 - acc: 0.7717 - f1_m: 0.7717 - precision_m: 0.7717 - recall_m: 0.7717 - val_loss: 0.5999 - val_acc: 0.7350 - val_f1_m: 0.7350 - val_precision_m: 0.7350 - val_recall_m: 0.7350 - 2s/epoch - 24ms/step\n",
      "Epoch 4/10\n",
      "75/75 - 2s - loss: 0.4873 - acc: 0.8017 - f1_m: 0.8017 - precision_m: 0.8017 - recall_m: 0.8017 - val_loss: 0.6037 - val_acc: 0.7650 - val_f1_m: 0.7650 - val_precision_m: 0.7650 - val_recall_m: 0.7650 - 2s/epoch - 24ms/step\n",
      "Epoch 5/10\n",
      "75/75 - 2s - loss: 0.4543 - acc: 0.8233 - f1_m: 0.8233 - precision_m: 0.8233 - recall_m: 0.8233 - val_loss: 0.6775 - val_acc: 0.6150 - val_f1_m: 0.6150 - val_precision_m: 0.6150 - val_recall_m: 0.6150 - 2s/epoch - 25ms/step\n",
      "Epoch 6/10\n",
      "75/75 - 2s - loss: 0.4310 - acc: 0.8250 - f1_m: 0.8250 - precision_m: 0.8250 - recall_m: 0.8250 - val_loss: 0.6320 - val_acc: 0.7100 - val_f1_m: 0.7100 - val_precision_m: 0.7100 - val_recall_m: 0.7100 - 2s/epoch - 24ms/step\n",
      "Epoch 7/10\n",
      "75/75 - 2s - loss: 0.3732 - acc: 0.8600 - f1_m: 0.8600 - precision_m: 0.8600 - recall_m: 0.8600 - val_loss: 0.6599 - val_acc: 0.6850 - val_f1_m: 0.6850 - val_precision_m: 0.6850 - val_recall_m: 0.6850 - 2s/epoch - 24ms/step\n",
      "Epoch 8/10\n",
      "75/75 - 2s - loss: 0.3591 - acc: 0.8467 - f1_m: 0.8467 - precision_m: 0.8467 - recall_m: 0.8467 - val_loss: 0.6399 - val_acc: 0.7600 - val_f1_m: 0.7600 - val_precision_m: 0.7600 - val_recall_m: 0.7600 - 2s/epoch - 24ms/step\n",
      "Epoch 9/10\n",
      "75/75 - 2s - loss: 0.3067 - acc: 0.8833 - f1_m: 0.8833 - precision_m: 0.8833 - recall_m: 0.8833 - val_loss: 0.7472 - val_acc: 0.6950 - val_f1_m: 0.6950 - val_precision_m: 0.6950 - val_recall_m: 0.6950 - 2s/epoch - 24ms/step\n",
      "Epoch 10/10\n",
      "75/75 - 2s - loss: 0.3229 - acc: 0.8883 - f1_m: 0.8883 - precision_m: 0.8883 - recall_m: 0.8883 - val_loss: 0.6959 - val_acc: 0.7350 - val_f1_m: 0.7350 - val_precision_m: 0.7350 - val_recall_m: 0.7350 - 2s/epoch - 24ms/step\n",
      "Epoch 1/10\n"
     ]
    },
    {
     "name": "stderr",
     "output_type": "stream",
     "text": [
      "2022-12-04 16:17:03.247647: I tensorflow/core/grappler/optimizers/custom_graph_optimizer_registry.cc:113] Plugin optimizer for device_type GPU is enabled.\n",
      "2022-12-04 16:17:05.031644: I tensorflow/core/grappler/optimizers/custom_graph_optimizer_registry.cc:113] Plugin optimizer for device_type GPU is enabled.\n"
     ]
    },
    {
     "name": "stdout",
     "output_type": "stream",
     "text": [
      "75/75 - 3s - loss: 0.6937 - acc: 0.4867 - f1_m: 0.4867 - precision_m: 0.4867 - recall_m: 0.4867 - val_loss: 0.6928 - val_acc: 0.5450 - val_f1_m: 0.5450 - val_precision_m: 0.5450 - val_recall_m: 0.5450 - 3s/epoch - 37ms/step\n",
      "Epoch 2/10\n",
      "75/75 - 1s - loss: 0.6932 - acc: 0.5100 - f1_m: 0.5100 - precision_m: 0.5100 - recall_m: 0.5100 - val_loss: 0.6932 - val_acc: 0.5100 - val_f1_m: 0.5100 - val_precision_m: 0.5100 - val_recall_m: 0.5100 - 1s/epoch - 17ms/step\n",
      "Epoch 3/10\n",
      "75/75 - 1s - loss: 0.6931 - acc: 0.5467 - f1_m: 0.5467 - precision_m: 0.5467 - recall_m: 0.5467 - val_loss: 0.6932 - val_acc: 0.5100 - val_f1_m: 0.5100 - val_precision_m: 0.5100 - val_recall_m: 0.5100 - 1s/epoch - 16ms/step\n",
      "Epoch 4/10\n",
      "75/75 - 1s - loss: 0.6929 - acc: 0.5183 - f1_m: 0.5183 - precision_m: 0.5183 - recall_m: 0.5183 - val_loss: 0.6933 - val_acc: 0.4600 - val_f1_m: 0.4600 - val_precision_m: 0.4600 - val_recall_m: 0.4600 - 1s/epoch - 16ms/step\n",
      "Epoch 5/10\n",
      "75/75 - 1s - loss: 0.6930 - acc: 0.5117 - f1_m: 0.5117 - precision_m: 0.5117 - recall_m: 0.5117 - val_loss: 0.6934 - val_acc: 0.4600 - val_f1_m: 0.4600 - val_precision_m: 0.4600 - val_recall_m: 0.4600 - 1s/epoch - 17ms/step\n",
      "Epoch 6/10\n",
      "75/75 - 1s - loss: 0.6931 - acc: 0.5200 - f1_m: 0.5200 - precision_m: 0.5200 - recall_m: 0.5200 - val_loss: 0.6938 - val_acc: 0.4450 - val_f1_m: 0.4450 - val_precision_m: 0.4450 - val_recall_m: 0.4450 - 1s/epoch - 16ms/step\n",
      "Epoch 7/10\n",
      "75/75 - 1s - loss: 0.6930 - acc: 0.5150 - f1_m: 0.5150 - precision_m: 0.5150 - recall_m: 0.5150 - val_loss: 0.6937 - val_acc: 0.4550 - val_f1_m: 0.4550 - val_precision_m: 0.4550 - val_recall_m: 0.4550 - 1s/epoch - 17ms/step\n",
      "Epoch 8/10\n",
      "75/75 - 1s - loss: 0.6928 - acc: 0.5300 - f1_m: 0.5300 - precision_m: 0.5300 - recall_m: 0.5300 - val_loss: 0.6938 - val_acc: 0.4450 - val_f1_m: 0.4450 - val_precision_m: 0.4450 - val_recall_m: 0.4450 - 1s/epoch - 17ms/step\n",
      "Epoch 9/10\n",
      "75/75 - 1s - loss: 0.6927 - acc: 0.5150 - f1_m: 0.5150 - precision_m: 0.5150 - recall_m: 0.5150 - val_loss: 0.6939 - val_acc: 0.4450 - val_f1_m: 0.4450 - val_precision_m: 0.4450 - val_recall_m: 0.4450 - 1s/epoch - 17ms/step\n",
      "Epoch 10/10\n",
      "75/75 - 1s - loss: 0.6926 - acc: 0.5100 - f1_m: 0.5100 - precision_m: 0.5100 - recall_m: 0.5100 - val_loss: 0.6938 - val_acc: 0.4450 - val_f1_m: 0.4450 - val_precision_m: 0.4450 - val_recall_m: 0.4450 - 1s/epoch - 16ms/step\n",
      "Epoch 1/10\n"
     ]
    },
    {
     "name": "stderr",
     "output_type": "stream",
     "text": [
      "2022-12-04 16:17:16.902664: I tensorflow/core/grappler/optimizers/custom_graph_optimizer_registry.cc:113] Plugin optimizer for device_type GPU is enabled.\n",
      "2022-12-04 16:17:18.504877: I tensorflow/core/grappler/optimizers/custom_graph_optimizer_registry.cc:113] Plugin optimizer for device_type GPU is enabled.\n"
     ]
    },
    {
     "name": "stdout",
     "output_type": "stream",
     "text": [
      "75/75 - 2s - loss: 0.6933 - acc: 0.5100 - f1_m: 0.5100 - precision_m: 0.5100 - recall_m: 0.5100 - val_loss: 0.6939 - val_acc: 0.4550 - val_f1_m: 0.4550 - val_precision_m: 0.4550 - val_recall_m: 0.4550 - 2s/epoch - 30ms/step\n",
      "Epoch 2/10\n",
      "75/75 - 1s - loss: 0.6932 - acc: 0.5117 - f1_m: 0.5117 - precision_m: 0.5117 - recall_m: 0.5117 - val_loss: 0.6940 - val_acc: 0.4550 - val_f1_m: 0.4550 - val_precision_m: 0.4550 - val_recall_m: 0.4550 - 1s/epoch - 16ms/step\n",
      "Epoch 3/10\n",
      "75/75 - 1s - loss: 0.6930 - acc: 0.5133 - f1_m: 0.5133 - precision_m: 0.5133 - recall_m: 0.5133 - val_loss: 0.6943 - val_acc: 0.4550 - val_f1_m: 0.4550 - val_precision_m: 0.4550 - val_recall_m: 0.4550 - 1s/epoch - 16ms/step\n",
      "Epoch 4/10\n",
      "75/75 - 1s - loss: 0.6930 - acc: 0.5133 - f1_m: 0.5133 - precision_m: 0.5133 - recall_m: 0.5133 - val_loss: 0.6947 - val_acc: 0.4550 - val_f1_m: 0.4550 - val_precision_m: 0.4550 - val_recall_m: 0.4550 - 1s/epoch - 16ms/step\n",
      "Epoch 5/10\n",
      "75/75 - 1s - loss: 0.6930 - acc: 0.5133 - f1_m: 0.5133 - precision_m: 0.5133 - recall_m: 0.5133 - val_loss: 0.6947 - val_acc: 0.4550 - val_f1_m: 0.4550 - val_precision_m: 0.4550 - val_recall_m: 0.4550 - 1s/epoch - 17ms/step\n",
      "Epoch 6/10\n",
      "75/75 - 1s - loss: 0.6931 - acc: 0.5133 - f1_m: 0.5133 - precision_m: 0.5133 - recall_m: 0.5133 - val_loss: 0.6948 - val_acc: 0.4550 - val_f1_m: 0.4550 - val_precision_m: 0.4550 - val_recall_m: 0.4550 - 1s/epoch - 16ms/step\n",
      "Epoch 7/10\n",
      "75/75 - 1s - loss: 0.6930 - acc: 0.5100 - f1_m: 0.5100 - precision_m: 0.5100 - recall_m: 0.5100 - val_loss: 0.6948 - val_acc: 0.4550 - val_f1_m: 0.4550 - val_precision_m: 0.4550 - val_recall_m: 0.4550 - 1s/epoch - 16ms/step\n",
      "Epoch 8/10\n",
      "75/75 - 1s - loss: 0.6930 - acc: 0.5133 - f1_m: 0.5133 - precision_m: 0.5133 - recall_m: 0.5133 - val_loss: 0.6948 - val_acc: 0.4550 - val_f1_m: 0.4550 - val_precision_m: 0.4550 - val_recall_m: 0.4550 - 1s/epoch - 16ms/step\n",
      "Epoch 9/10\n",
      "75/75 - 1s - loss: 0.6931 - acc: 0.5133 - f1_m: 0.5133 - precision_m: 0.5133 - recall_m: 0.5133 - val_loss: 0.6951 - val_acc: 0.4550 - val_f1_m: 0.4550 - val_precision_m: 0.4550 - val_recall_m: 0.4550 - 1s/epoch - 17ms/step\n",
      "Epoch 10/10\n",
      "75/75 - 1s - loss: 0.6928 - acc: 0.5083 - f1_m: 0.5083 - precision_m: 0.5083 - recall_m: 0.5083 - val_loss: 0.6946 - val_acc: 0.4550 - val_f1_m: 0.4550 - val_precision_m: 0.4550 - val_recall_m: 0.4550 - 1s/epoch - 17ms/step\n",
      "Epoch 1/10\n"
     ]
    },
    {
     "name": "stderr",
     "output_type": "stream",
     "text": [
      "2022-12-04 16:17:30.354398: I tensorflow/core/grappler/optimizers/custom_graph_optimizer_registry.cc:113] Plugin optimizer for device_type GPU is enabled.\n",
      "2022-12-04 16:17:31.933961: I tensorflow/core/grappler/optimizers/custom_graph_optimizer_registry.cc:113] Plugin optimizer for device_type GPU is enabled.\n"
     ]
    },
    {
     "name": "stdout",
     "output_type": "stream",
     "text": [
      "75/75 - 2s - loss: 0.6936 - acc: 0.5133 - f1_m: 0.5133 - precision_m: 0.5133 - recall_m: 0.5133 - val_loss: 0.6947 - val_acc: 0.4550 - val_f1_m: 0.4550 - val_precision_m: 0.4550 - val_recall_m: 0.4550 - 2s/epoch - 30ms/step\n",
      "Epoch 2/10\n",
      "75/75 - 1s - loss: 0.6936 - acc: 0.5133 - f1_m: 0.5133 - precision_m: 0.5133 - recall_m: 0.5133 - val_loss: 0.6945 - val_acc: 0.4550 - val_f1_m: 0.4550 - val_precision_m: 0.4550 - val_recall_m: 0.4550 - 1s/epoch - 16ms/step\n",
      "Epoch 3/10\n",
      "75/75 - 1s - loss: 0.6936 - acc: 0.5133 - f1_m: 0.5133 - precision_m: 0.5133 - recall_m: 0.5133 - val_loss: 0.6944 - val_acc: 0.4550 - val_f1_m: 0.4550 - val_precision_m: 0.4550 - val_recall_m: 0.4550 - 1s/epoch - 16ms/step\n",
      "Epoch 4/10\n",
      "75/75 - 1s - loss: 0.6934 - acc: 0.5133 - f1_m: 0.5133 - precision_m: 0.5133 - recall_m: 0.5133 - val_loss: 0.6946 - val_acc: 0.4550 - val_f1_m: 0.4550 - val_precision_m: 0.4550 - val_recall_m: 0.4550 - 1s/epoch - 16ms/step\n",
      "Epoch 5/10\n",
      "75/75 - 1s - loss: 0.6934 - acc: 0.5133 - f1_m: 0.5133 - precision_m: 0.5133 - recall_m: 0.5133 - val_loss: 0.6948 - val_acc: 0.4550 - val_f1_m: 0.4550 - val_precision_m: 0.4550 - val_recall_m: 0.4550 - 1s/epoch - 16ms/step\n",
      "Epoch 6/10\n",
      "75/75 - 1s - loss: 0.6936 - acc: 0.5133 - f1_m: 0.5133 - precision_m: 0.5133 - recall_m: 0.5133 - val_loss: 0.6950 - val_acc: 0.4550 - val_f1_m: 0.4550 - val_precision_m: 0.4550 - val_recall_m: 0.4550 - 1s/epoch - 16ms/step\n",
      "Epoch 7/10\n",
      "75/75 - 1s - loss: 0.6934 - acc: 0.5133 - f1_m: 0.5133 - precision_m: 0.5133 - recall_m: 0.5133 - val_loss: 0.6949 - val_acc: 0.4550 - val_f1_m: 0.4550 - val_precision_m: 0.4550 - val_recall_m: 0.4550 - 1s/epoch - 16ms/step\n",
      "Epoch 8/10\n",
      "75/75 - 1s - loss: 0.6934 - acc: 0.5133 - f1_m: 0.5133 - precision_m: 0.5133 - recall_m: 0.5133 - val_loss: 0.6949 - val_acc: 0.4550 - val_f1_m: 0.4550 - val_precision_m: 0.4550 - val_recall_m: 0.4550 - 1s/epoch - 16ms/step\n",
      "Epoch 9/10\n",
      "75/75 - 1s - loss: 0.6934 - acc: 0.5133 - f1_m: 0.5133 - precision_m: 0.5133 - recall_m: 0.5133 - val_loss: 0.6950 - val_acc: 0.4550 - val_f1_m: 0.4550 - val_precision_m: 0.4550 - val_recall_m: 0.4550 - 1s/epoch - 16ms/step\n",
      "Epoch 10/10\n",
      "75/75 - 1s - loss: 0.6934 - acc: 0.5133 - f1_m: 0.5133 - precision_m: 0.5133 - recall_m: 0.5133 - val_loss: 0.6953 - val_acc: 0.4550 - val_f1_m: 0.4550 - val_precision_m: 0.4550 - val_recall_m: 0.4550 - 1s/epoch - 16ms/step\n",
      "Epoch 1/10\n"
     ]
    },
    {
     "name": "stderr",
     "output_type": "stream",
     "text": [
      "2022-12-04 16:17:43.526226: I tensorflow/core/grappler/optimizers/custom_graph_optimizer_registry.cc:113] Plugin optimizer for device_type GPU is enabled.\n",
      "2022-12-04 16:17:46.076133: I tensorflow/core/grappler/optimizers/custom_graph_optimizer_registry.cc:113] Plugin optimizer for device_type GPU is enabled.\n"
     ]
    },
    {
     "name": "stdout",
     "output_type": "stream",
     "text": [
      "75/75 - 3s - loss: 0.6764 - acc: 0.6350 - f1_m: 0.6350 - precision_m: 0.6350 - recall_m: 0.6350 - val_loss: 0.6509 - val_acc: 0.7900 - val_f1_m: 0.7900 - val_precision_m: 0.7900 - val_recall_m: 0.7900 - 3s/epoch - 44ms/step\n",
      "Epoch 2/10\n",
      "75/75 - 2s - loss: 0.5950 - acc: 0.7250 - f1_m: 0.7250 - precision_m: 0.7250 - recall_m: 0.7250 - val_loss: 0.6108 - val_acc: 0.8300 - val_f1_m: 0.8300 - val_precision_m: 0.8300 - val_recall_m: 0.8300 - 2s/epoch - 25ms/step\n",
      "Epoch 3/10\n",
      "75/75 - 2s - loss: 0.5191 - acc: 0.7767 - f1_m: 0.7767 - precision_m: 0.7767 - recall_m: 0.7767 - val_loss: 0.5965 - val_acc: 0.7650 - val_f1_m: 0.7650 - val_precision_m: 0.7650 - val_recall_m: 0.7650 - 2s/epoch - 25ms/step\n",
      "Epoch 4/10\n",
      "75/75 - 2s - loss: 0.5085 - acc: 0.7717 - f1_m: 0.7717 - precision_m: 0.7717 - recall_m: 0.7717 - val_loss: 0.5679 - val_acc: 0.7750 - val_f1_m: 0.7750 - val_precision_m: 0.7750 - val_recall_m: 0.7750 - 2s/epoch - 23ms/step\n",
      "Epoch 5/10\n",
      "75/75 - 2s - loss: 0.4368 - acc: 0.8033 - f1_m: 0.8033 - precision_m: 0.8033 - recall_m: 0.8033 - val_loss: 0.5973 - val_acc: 0.8000 - val_f1_m: 0.8000 - val_precision_m: 0.8000 - val_recall_m: 0.8000 - 2s/epoch - 23ms/step\n",
      "Epoch 6/10\n",
      "75/75 - 2s - loss: 0.4147 - acc: 0.8333 - f1_m: 0.8333 - precision_m: 0.8333 - recall_m: 0.8333 - val_loss: 0.5792 - val_acc: 0.7650 - val_f1_m: 0.7650 - val_precision_m: 0.7650 - val_recall_m: 0.7650 - 2s/epoch - 24ms/step\n",
      "Epoch 7/10\n",
      "75/75 - 2s - loss: 0.3722 - acc: 0.8450 - f1_m: 0.8450 - precision_m: 0.8450 - recall_m: 0.8450 - val_loss: 0.6218 - val_acc: 0.7850 - val_f1_m: 0.7850 - val_precision_m: 0.7850 - val_recall_m: 0.7850 - 2s/epoch - 22ms/step\n",
      "Epoch 8/10\n",
      "75/75 - 2s - loss: 0.3406 - acc: 0.8617 - f1_m: 0.8617 - precision_m: 0.8617 - recall_m: 0.8617 - val_loss: 0.6430 - val_acc: 0.7450 - val_f1_m: 0.7450 - val_precision_m: 0.7450 - val_recall_m: 0.7450 - 2s/epoch - 23ms/step\n",
      "Epoch 9/10\n",
      "75/75 - 2s - loss: 0.3419 - acc: 0.8767 - f1_m: 0.8767 - precision_m: 0.8767 - recall_m: 0.8767 - val_loss: 0.6386 - val_acc: 0.7550 - val_f1_m: 0.7550 - val_precision_m: 0.7550 - val_recall_m: 0.7550 - 2s/epoch - 24ms/step\n",
      "Epoch 10/10\n",
      "75/75 - 2s - loss: 0.2982 - acc: 0.8783 - f1_m: 0.8783 - precision_m: 0.8783 - recall_m: 0.8783 - val_loss: 0.6774 - val_acc: 0.7350 - val_f1_m: 0.7350 - val_precision_m: 0.7350 - val_recall_m: 0.7350 - 2s/epoch - 24ms/step\n",
      "Epoch 1/10\n"
     ]
    },
    {
     "name": "stderr",
     "output_type": "stream",
     "text": [
      "2022-12-04 16:18:03.127525: I tensorflow/core/grappler/optimizers/custom_graph_optimizer_registry.cc:113] Plugin optimizer for device_type GPU is enabled.\n",
      "2022-12-04 16:18:04.795114: I tensorflow/core/grappler/optimizers/custom_graph_optimizer_registry.cc:113] Plugin optimizer for device_type GPU is enabled.\n"
     ]
    },
    {
     "name": "stdout",
     "output_type": "stream",
     "text": [
      "75/75 - 3s - loss: 0.6935 - acc: 0.5000 - f1_m: 0.5000 - precision_m: 0.5000 - recall_m: 0.5000 - val_loss: 0.6939 - val_acc: 0.4550 - val_f1_m: 0.4550 - val_precision_m: 0.4550 - val_recall_m: 0.4550 - 3s/epoch - 34ms/step\n",
      "Epoch 2/10\n",
      "75/75 - 1s - loss: 0.6930 - acc: 0.5100 - f1_m: 0.5100 - precision_m: 0.5100 - recall_m: 0.5100 - val_loss: 0.6940 - val_acc: 0.4550 - val_f1_m: 0.4550 - val_precision_m: 0.4550 - val_recall_m: 0.4550 - 1s/epoch - 16ms/step\n",
      "Epoch 3/10\n",
      "75/75 - 1s - loss: 0.6931 - acc: 0.5117 - f1_m: 0.5117 - precision_m: 0.5117 - recall_m: 0.5117 - val_loss: 0.6942 - val_acc: 0.4550 - val_f1_m: 0.4550 - val_precision_m: 0.4550 - val_recall_m: 0.4550 - 1s/epoch - 16ms/step\n",
      "Epoch 4/10\n",
      "75/75 - 1s - loss: 0.6934 - acc: 0.4933 - f1_m: 0.4933 - precision_m: 0.4933 - recall_m: 0.4933 - val_loss: 0.6940 - val_acc: 0.4450 - val_f1_m: 0.4450 - val_precision_m: 0.4450 - val_recall_m: 0.4450 - 1s/epoch - 16ms/step\n",
      "Epoch 5/10\n",
      "75/75 - 1s - loss: 0.6930 - acc: 0.5100 - f1_m: 0.5100 - precision_m: 0.5100 - recall_m: 0.5100 - val_loss: 0.6945 - val_acc: 0.4550 - val_f1_m: 0.4550 - val_precision_m: 0.4550 - val_recall_m: 0.4550 - 1s/epoch - 16ms/step\n",
      "Epoch 6/10\n",
      "75/75 - 1s - loss: 0.6933 - acc: 0.5100 - f1_m: 0.5100 - precision_m: 0.5100 - recall_m: 0.5100 - val_loss: 0.6941 - val_acc: 0.4450 - val_f1_m: 0.4450 - val_precision_m: 0.4450 - val_recall_m: 0.4450 - 1s/epoch - 16ms/step\n",
      "Epoch 7/10\n",
      "75/75 - 1s - loss: 0.6931 - acc: 0.5033 - f1_m: 0.5033 - precision_m: 0.5033 - recall_m: 0.5033 - val_loss: 0.6945 - val_acc: 0.4550 - val_f1_m: 0.4550 - val_precision_m: 0.4550 - val_recall_m: 0.4550 - 1s/epoch - 16ms/step\n",
      "Epoch 8/10\n",
      "75/75 - 1s - loss: 0.6932 - acc: 0.5033 - f1_m: 0.5033 - precision_m: 0.5033 - recall_m: 0.5033 - val_loss: 0.6941 - val_acc: 0.4550 - val_f1_m: 0.4550 - val_precision_m: 0.4550 - val_recall_m: 0.4550 - 1s/epoch - 16ms/step\n",
      "Epoch 9/10\n",
      "75/75 - 1s - loss: 0.6928 - acc: 0.5200 - f1_m: 0.5200 - precision_m: 0.5200 - recall_m: 0.5200 - val_loss: 0.6949 - val_acc: 0.4550 - val_f1_m: 0.4550 - val_precision_m: 0.4550 - val_recall_m: 0.4550 - 1s/epoch - 17ms/step\n",
      "Epoch 10/10\n",
      "75/75 - 1s - loss: 0.6930 - acc: 0.5050 - f1_m: 0.5050 - precision_m: 0.5050 - recall_m: 0.5050 - val_loss: 0.6947 - val_acc: 0.4450 - val_f1_m: 0.4450 - val_precision_m: 0.4450 - val_recall_m: 0.4450 - 1s/epoch - 17ms/step\n",
      "Epoch 1/10\n"
     ]
    },
    {
     "name": "stderr",
     "output_type": "stream",
     "text": [
      "2022-12-04 16:18:16.454574: I tensorflow/core/grappler/optimizers/custom_graph_optimizer_registry.cc:113] Plugin optimizer for device_type GPU is enabled.\n",
      "2022-12-04 16:18:19.118024: I tensorflow/core/grappler/optimizers/custom_graph_optimizer_registry.cc:113] Plugin optimizer for device_type GPU is enabled.\n"
     ]
    },
    {
     "name": "stdout",
     "output_type": "stream",
     "text": [
      "75/75 - 3s - loss: 0.6749 - acc: 0.6850 - f1_m: 0.6850 - precision_m: 0.6850 - recall_m: 0.6850 - val_loss: 0.6519 - val_acc: 0.7350 - val_f1_m: 0.7350 - val_precision_m: 0.7350 - val_recall_m: 0.7350 - 3s/epoch - 45ms/step\n",
      "Epoch 2/10\n",
      "75/75 - 2s - loss: 0.5769 - acc: 0.7617 - f1_m: 0.7617 - precision_m: 0.7617 - recall_m: 0.7617 - val_loss: 0.6006 - val_acc: 0.7650 - val_f1_m: 0.7650 - val_precision_m: 0.7650 - val_recall_m: 0.7650 - 2s/epoch - 29ms/step\n",
      "Epoch 3/10\n",
      "75/75 - 2s - loss: 0.5151 - acc: 0.7750 - f1_m: 0.7750 - precision_m: 0.7750 - recall_m: 0.7750 - val_loss: 0.6001 - val_acc: 0.7850 - val_f1_m: 0.7850 - val_precision_m: 0.7850 - val_recall_m: 0.7850 - 2s/epoch - 26ms/step\n",
      "Epoch 4/10\n",
      "75/75 - 2s - loss: 0.5083 - acc: 0.7983 - f1_m: 0.7983 - precision_m: 0.7983 - recall_m: 0.7983 - val_loss: 0.5863 - val_acc: 0.7500 - val_f1_m: 0.7500 - val_precision_m: 0.7500 - val_recall_m: 0.7500 - 2s/epoch - 24ms/step\n",
      "Epoch 5/10\n",
      "75/75 - 2s - loss: 0.4215 - acc: 0.8300 - f1_m: 0.8300 - precision_m: 0.8300 - recall_m: 0.8300 - val_loss: 0.5824 - val_acc: 0.7650 - val_f1_m: 0.7650 - val_precision_m: 0.7650 - val_recall_m: 0.7650 - 2s/epoch - 24ms/step\n",
      "Epoch 6/10\n",
      "75/75 - 2s - loss: 0.3996 - acc: 0.8417 - f1_m: 0.8417 - precision_m: 0.8417 - recall_m: 0.8417 - val_loss: 0.5881 - val_acc: 0.7650 - val_f1_m: 0.7650 - val_precision_m: 0.7650 - val_recall_m: 0.7650 - 2s/epoch - 25ms/step\n",
      "Epoch 7/10\n",
      "75/75 - 2s - loss: 0.3860 - acc: 0.8533 - f1_m: 0.8533 - precision_m: 0.8533 - recall_m: 0.8533 - val_loss: 0.6661 - val_acc: 0.7350 - val_f1_m: 0.7350 - val_precision_m: 0.7350 - val_recall_m: 0.7350 - 2s/epoch - 24ms/step\n",
      "Epoch 8/10\n",
      "75/75 - 2s - loss: 0.3352 - acc: 0.8633 - f1_m: 0.8633 - precision_m: 0.8633 - recall_m: 0.8633 - val_loss: 0.6775 - val_acc: 0.7450 - val_f1_m: 0.7450 - val_precision_m: 0.7450 - val_recall_m: 0.7450 - 2s/epoch - 25ms/step\n",
      "Epoch 9/10\n",
      "75/75 - 2s - loss: 0.2972 - acc: 0.8783 - f1_m: 0.8783 - precision_m: 0.8783 - recall_m: 0.8783 - val_loss: 0.8385 - val_acc: 0.7300 - val_f1_m: 0.7300 - val_precision_m: 0.7300 - val_recall_m: 0.7300 - 2s/epoch - 25ms/step\n",
      "Epoch 10/10\n",
      "75/75 - 2s - loss: 0.2851 - acc: 0.8950 - f1_m: 0.8950 - precision_m: 0.8950 - recall_m: 0.8950 - val_loss: 0.9718 - val_acc: 0.6650 - val_f1_m: 0.6650 - val_precision_m: 0.6650 - val_recall_m: 0.6650 - 2s/epoch - 26ms/step\n",
      "Epoch 1/10\n"
     ]
    },
    {
     "name": "stderr",
     "output_type": "stream",
     "text": [
      "2022-12-04 16:18:37.086032: I tensorflow/core/grappler/optimizers/custom_graph_optimizer_registry.cc:113] Plugin optimizer for device_type GPU is enabled.\n",
      "2022-12-04 16:18:38.747883: I tensorflow/core/grappler/optimizers/custom_graph_optimizer_registry.cc:113] Plugin optimizer for device_type GPU is enabled.\n"
     ]
    },
    {
     "name": "stdout",
     "output_type": "stream",
     "text": [
      "75/75 - 2s - loss: 0.6933 - acc: 0.4933 - f1_m: 0.4933 - precision_m: 0.4933 - recall_m: 0.4933 - val_loss: 0.6938 - val_acc: 0.4550 - val_f1_m: 0.4550 - val_precision_m: 0.4550 - val_recall_m: 0.4550 - 2s/epoch - 31ms/step\n",
      "Epoch 2/10\n",
      "75/75 - 1s - loss: 0.6930 - acc: 0.5083 - f1_m: 0.5083 - precision_m: 0.5083 - recall_m: 0.5083 - val_loss: 0.6941 - val_acc: 0.4550 - val_f1_m: 0.4550 - val_precision_m: 0.4550 - val_recall_m: 0.4550 - 1s/epoch - 16ms/step\n",
      "Epoch 3/10\n",
      "75/75 - 1s - loss: 0.6929 - acc: 0.5100 - f1_m: 0.5100 - precision_m: 0.5100 - recall_m: 0.5100 - val_loss: 0.6941 - val_acc: 0.4550 - val_f1_m: 0.4550 - val_precision_m: 0.4550 - val_recall_m: 0.4550 - 1s/epoch - 16ms/step\n",
      "Epoch 4/10\n",
      "75/75 - 1s - loss: 0.6931 - acc: 0.5033 - f1_m: 0.5033 - precision_m: 0.5033 - recall_m: 0.5033 - val_loss: 0.6943 - val_acc: 0.4550 - val_f1_m: 0.4550 - val_precision_m: 0.4550 - val_recall_m: 0.4550 - 1s/epoch - 16ms/step\n",
      "Epoch 5/10\n",
      "75/75 - 1s - loss: 0.6930 - acc: 0.5067 - f1_m: 0.5067 - precision_m: 0.5067 - recall_m: 0.5067 - val_loss: 0.6940 - val_acc: 0.4450 - val_f1_m: 0.4450 - val_precision_m: 0.4450 - val_recall_m: 0.4450 - 1s/epoch - 17ms/step\n",
      "Epoch 6/10\n",
      "75/75 - 1s - loss: 0.6934 - acc: 0.5233 - f1_m: 0.5233 - precision_m: 0.5233 - recall_m: 0.5233 - val_loss: 0.6940 - val_acc: 0.4550 - val_f1_m: 0.4550 - val_precision_m: 0.4550 - val_recall_m: 0.4550 - 1s/epoch - 16ms/step\n",
      "Epoch 7/10\n",
      "75/75 - 1s - loss: 0.6931 - acc: 0.5050 - f1_m: 0.5050 - precision_m: 0.5050 - recall_m: 0.5050 - val_loss: 0.6942 - val_acc: 0.4450 - val_f1_m: 0.4450 - val_precision_m: 0.4450 - val_recall_m: 0.4450 - 1s/epoch - 16ms/step\n",
      "Epoch 8/10\n",
      "75/75 - 1s - loss: 0.6930 - acc: 0.5100 - f1_m: 0.5100 - precision_m: 0.5100 - recall_m: 0.5100 - val_loss: 0.6944 - val_acc: 0.4450 - val_f1_m: 0.4450 - val_precision_m: 0.4450 - val_recall_m: 0.4450 - 1s/epoch - 16ms/step\n",
      "Epoch 9/10\n",
      "75/75 - 1s - loss: 0.6927 - acc: 0.5067 - f1_m: 0.5067 - precision_m: 0.5067 - recall_m: 0.5067 - val_loss: 0.6946 - val_acc: 0.4450 - val_f1_m: 0.4450 - val_precision_m: 0.4450 - val_recall_m: 0.4450 - 1s/epoch - 16ms/step\n",
      "Epoch 10/10\n",
      "75/75 - 1s - loss: 0.6926 - acc: 0.5150 - f1_m: 0.5150 - precision_m: 0.5150 - recall_m: 0.5150 - val_loss: 0.6946 - val_acc: 0.4450 - val_f1_m: 0.4450 - val_precision_m: 0.4450 - val_recall_m: 0.4450 - 1s/epoch - 16ms/step\n",
      "Epoch 1/10\n"
     ]
    },
    {
     "name": "stderr",
     "output_type": "stream",
     "text": [
      "2022-12-04 16:18:50.461612: I tensorflow/core/grappler/optimizers/custom_graph_optimizer_registry.cc:113] Plugin optimizer for device_type GPU is enabled.\n",
      "2022-12-04 16:18:52.356304: I tensorflow/core/grappler/optimizers/custom_graph_optimizer_registry.cc:113] Plugin optimizer for device_type GPU is enabled.\n"
     ]
    },
    {
     "name": "stdout",
     "output_type": "stream",
     "text": [
      "75/75 - 3s - loss: 0.6932 - acc: 0.5067 - f1_m: 0.5067 - precision_m: 0.5067 - recall_m: 0.5067 - val_loss: 0.6935 - val_acc: 0.4450 - val_f1_m: 0.4450 - val_precision_m: 0.4450 - val_recall_m: 0.4450 - 3s/epoch - 35ms/step\n",
      "Epoch 2/10\n",
      "75/75 - 1s - loss: 0.6931 - acc: 0.5083 - f1_m: 0.5083 - precision_m: 0.5083 - recall_m: 0.5083 - val_loss: 0.6939 - val_acc: 0.4550 - val_f1_m: 0.4550 - val_precision_m: 0.4550 - val_recall_m: 0.4550 - 1s/epoch - 16ms/step\n",
      "Epoch 3/10\n",
      "75/75 - 1s - loss: 0.6930 - acc: 0.5083 - f1_m: 0.5083 - precision_m: 0.5083 - recall_m: 0.5083 - val_loss: 0.6940 - val_acc: 0.4550 - val_f1_m: 0.4550 - val_precision_m: 0.4550 - val_recall_m: 0.4550 - 1s/epoch - 16ms/step\n",
      "Epoch 4/10\n",
      "75/75 - 1s - loss: 0.6930 - acc: 0.5067 - f1_m: 0.5067 - precision_m: 0.5067 - recall_m: 0.5067 - val_loss: 0.6944 - val_acc: 0.4550 - val_f1_m: 0.4550 - val_precision_m: 0.4550 - val_recall_m: 0.4550 - 1s/epoch - 17ms/step\n",
      "Epoch 5/10\n",
      "75/75 - 1s - loss: 0.6928 - acc: 0.5083 - f1_m: 0.5083 - precision_m: 0.5083 - recall_m: 0.5083 - val_loss: 0.6946 - val_acc: 0.4550 - val_f1_m: 0.4550 - val_precision_m: 0.4550 - val_recall_m: 0.4550 - 1s/epoch - 16ms/step\n",
      "Epoch 6/10\n",
      "75/75 - 1s - loss: 0.6930 - acc: 0.5117 - f1_m: 0.5117 - precision_m: 0.5117 - recall_m: 0.5117 - val_loss: 0.6948 - val_acc: 0.4550 - val_f1_m: 0.4550 - val_precision_m: 0.4550 - val_recall_m: 0.4550 - 1s/epoch - 16ms/step\n",
      "Epoch 7/10\n",
      "75/75 - 1s - loss: 0.6929 - acc: 0.5100 - f1_m: 0.5100 - precision_m: 0.5100 - recall_m: 0.5100 - val_loss: 0.6945 - val_acc: 0.4450 - val_f1_m: 0.4450 - val_precision_m: 0.4450 - val_recall_m: 0.4450 - 1s/epoch - 16ms/step\n",
      "Epoch 8/10\n",
      "75/75 - 1s - loss: 0.6928 - acc: 0.5083 - f1_m: 0.5083 - precision_m: 0.5083 - recall_m: 0.5083 - val_loss: 0.6946 - val_acc: 0.4500 - val_f1_m: 0.4500 - val_precision_m: 0.4500 - val_recall_m: 0.4500 - 1s/epoch - 16ms/step\n",
      "Epoch 9/10\n",
      "75/75 - 1s - loss: 0.6933 - acc: 0.5100 - f1_m: 0.5100 - precision_m: 0.5100 - recall_m: 0.5100 - val_loss: 0.6942 - val_acc: 0.4550 - val_f1_m: 0.4550 - val_precision_m: 0.4550 - val_recall_m: 0.4550 - 1s/epoch - 17ms/step\n",
      "Epoch 10/10\n",
      "75/75 - 1s - loss: 0.6926 - acc: 0.5183 - f1_m: 0.5183 - precision_m: 0.5183 - recall_m: 0.5183 - val_loss: 0.6949 - val_acc: 0.4500 - val_f1_m: 0.4500 - val_precision_m: 0.4500 - val_recall_m: 0.4500 - 1s/epoch - 17ms/step\n",
      "Epoch 1/10\n"
     ]
    },
    {
     "name": "stderr",
     "output_type": "stream",
     "text": [
      "2022-12-04 16:19:04.236843: I tensorflow/core/grappler/optimizers/custom_graph_optimizer_registry.cc:113] Plugin optimizer for device_type GPU is enabled.\n",
      "2022-12-04 16:19:06.593080: I tensorflow/core/grappler/optimizers/custom_graph_optimizer_registry.cc:113] Plugin optimizer for device_type GPU is enabled.\n"
     ]
    },
    {
     "name": "stdout",
     "output_type": "stream",
     "text": [
      "75/75 - 3s - loss: 0.6935 - acc: 0.4900 - f1_m: 0.4900 - precision_m: 0.4900 - recall_m: 0.4900 - val_loss: 0.6931 - val_acc: 0.5550 - val_f1_m: 0.5550 - val_precision_m: 0.5550 - val_recall_m: 0.5550 - 3s/epoch - 41ms/step\n",
      "Epoch 2/10\n",
      "75/75 - 2s - loss: 0.6931 - acc: 0.5317 - f1_m: 0.5317 - precision_m: 0.5317 - recall_m: 0.5317 - val_loss: 0.6930 - val_acc: 0.5450 - val_f1_m: 0.5450 - val_precision_m: 0.5450 - val_recall_m: 0.5450 - 2s/epoch - 24ms/step\n",
      "Epoch 3/10\n",
      "75/75 - 2s - loss: 0.6931 - acc: 0.5133 - f1_m: 0.5133 - precision_m: 0.5133 - recall_m: 0.5133 - val_loss: 0.6934 - val_acc: 0.4550 - val_f1_m: 0.4550 - val_precision_m: 0.4550 - val_recall_m: 0.4550 - 2s/epoch - 24ms/step\n",
      "Epoch 4/10\n",
      "75/75 - 2s - loss: 0.6930 - acc: 0.5100 - f1_m: 0.5100 - precision_m: 0.5100 - recall_m: 0.5100 - val_loss: 0.6936 - val_acc: 0.4550 - val_f1_m: 0.4550 - val_precision_m: 0.4550 - val_recall_m: 0.4550 - 2s/epoch - 25ms/step\n",
      "Epoch 5/10\n",
      "75/75 - 2s - loss: 0.6929 - acc: 0.5100 - f1_m: 0.5100 - precision_m: 0.5100 - recall_m: 0.5100 - val_loss: 0.6935 - val_acc: 0.4550 - val_f1_m: 0.4550 - val_precision_m: 0.4550 - val_recall_m: 0.4550 - 2s/epoch - 27ms/step\n",
      "Epoch 6/10\n",
      "75/75 - 2s - loss: 0.6929 - acc: 0.5117 - f1_m: 0.5117 - precision_m: 0.5117 - recall_m: 0.5117 - val_loss: 0.6936 - val_acc: 0.4550 - val_f1_m: 0.4550 - val_precision_m: 0.4550 - val_recall_m: 0.4550 - 2s/epoch - 28ms/step\n",
      "Epoch 7/10\n",
      "75/75 - 2s - loss: 0.6929 - acc: 0.5117 - f1_m: 0.5117 - precision_m: 0.5117 - recall_m: 0.5117 - val_loss: 0.6934 - val_acc: 0.4550 - val_f1_m: 0.4550 - val_precision_m: 0.4550 - val_recall_m: 0.4550 - 2s/epoch - 25ms/step\n",
      "Epoch 8/10\n",
      "75/75 - 2s - loss: 0.6928 - acc: 0.5083 - f1_m: 0.5083 - precision_m: 0.5083 - recall_m: 0.5083 - val_loss: 0.6934 - val_acc: 0.4550 - val_f1_m: 0.4550 - val_precision_m: 0.4550 - val_recall_m: 0.4550 - 2s/epoch - 23ms/step\n",
      "Epoch 9/10\n",
      "75/75 - 2s - loss: 0.6928 - acc: 0.5117 - f1_m: 0.5117 - precision_m: 0.5117 - recall_m: 0.5117 - val_loss: 0.6932 - val_acc: 0.4800 - val_f1_m: 0.4800 - val_precision_m: 0.4800 - val_recall_m: 0.4800 - 2s/epoch - 23ms/step\n",
      "Epoch 10/10\n",
      "75/75 - 2s - loss: 0.6927 - acc: 0.5133 - f1_m: 0.5133 - precision_m: 0.5133 - recall_m: 0.5133 - val_loss: 0.6928 - val_acc: 0.5550 - val_f1_m: 0.5550 - val_precision_m: 0.5550 - val_recall_m: 0.5550 - 2s/epoch - 25ms/step\n",
      "Epoch 1/10\n"
     ]
    },
    {
     "name": "stderr",
     "output_type": "stream",
     "text": [
      "2022-12-04 16:19:24.241010: I tensorflow/core/grappler/optimizers/custom_graph_optimizer_registry.cc:113] Plugin optimizer for device_type GPU is enabled.\n",
      "2022-12-04 16:19:26.008915: I tensorflow/core/grappler/optimizers/custom_graph_optimizer_registry.cc:113] Plugin optimizer for device_type GPU is enabled.\n"
     ]
    },
    {
     "name": "stdout",
     "output_type": "stream",
     "text": [
      "75/75 - 3s - loss: 0.6936 - acc: 0.4967 - f1_m: 0.4967 - precision_m: 0.4967 - recall_m: 0.4967 - val_loss: 0.6945 - val_acc: 0.4550 - val_f1_m: 0.4550 - val_precision_m: 0.4550 - val_recall_m: 0.4550 - 3s/epoch - 33ms/step\n",
      "Epoch 2/10\n",
      "75/75 - 1s - loss: 0.6932 - acc: 0.5133 - f1_m: 0.5133 - precision_m: 0.5133 - recall_m: 0.5133 - val_loss: 0.6943 - val_acc: 0.4550 - val_f1_m: 0.4550 - val_precision_m: 0.4550 - val_recall_m: 0.4550 - 1s/epoch - 18ms/step\n",
      "Epoch 3/10\n",
      "75/75 - 1s - loss: 0.6936 - acc: 0.5133 - f1_m: 0.5133 - precision_m: 0.5133 - recall_m: 0.5133 - val_loss: 0.6948 - val_acc: 0.4550 - val_f1_m: 0.4550 - val_precision_m: 0.4550 - val_recall_m: 0.4550 - 1s/epoch - 18ms/step\n",
      "Epoch 4/10\n",
      "75/75 - 1s - loss: 0.6933 - acc: 0.5133 - f1_m: 0.5133 - precision_m: 0.5133 - recall_m: 0.5133 - val_loss: 0.6954 - val_acc: 0.4550 - val_f1_m: 0.4550 - val_precision_m: 0.4550 - val_recall_m: 0.4550 - 1s/epoch - 18ms/step\n",
      "Epoch 5/10\n",
      "75/75 - 1s - loss: 0.6929 - acc: 0.5133 - f1_m: 0.5133 - precision_m: 0.5133 - recall_m: 0.5133 - val_loss: 0.6953 - val_acc: 0.4550 - val_f1_m: 0.4550 - val_precision_m: 0.4550 - val_recall_m: 0.4550 - 1s/epoch - 18ms/step\n",
      "Epoch 6/10\n",
      "75/75 - 1s - loss: 0.6935 - acc: 0.5133 - f1_m: 0.5133 - precision_m: 0.5133 - recall_m: 0.5133 - val_loss: 0.6952 - val_acc: 0.4550 - val_f1_m: 0.4550 - val_precision_m: 0.4550 - val_recall_m: 0.4550 - 1s/epoch - 18ms/step\n",
      "Epoch 7/10\n",
      "75/75 - 1s - loss: 0.6935 - acc: 0.5133 - f1_m: 0.5133 - precision_m: 0.5133 - recall_m: 0.5133 - val_loss: 0.6954 - val_acc: 0.4550 - val_f1_m: 0.4550 - val_precision_m: 0.4550 - val_recall_m: 0.4550 - 1s/epoch - 18ms/step\n",
      "Epoch 8/10\n",
      "75/75 - 1s - loss: 0.6932 - acc: 0.5133 - f1_m: 0.5133 - precision_m: 0.5133 - recall_m: 0.5133 - val_loss: 0.6955 - val_acc: 0.4550 - val_f1_m: 0.4550 - val_precision_m: 0.4550 - val_recall_m: 0.4550 - 1s/epoch - 18ms/step\n",
      "Epoch 9/10\n",
      "75/75 - 1s - loss: 0.6934 - acc: 0.5133 - f1_m: 0.5133 - precision_m: 0.5133 - recall_m: 0.5133 - val_loss: 0.6949 - val_acc: 0.4550 - val_f1_m: 0.4550 - val_precision_m: 0.4550 - val_recall_m: 0.4550 - 1s/epoch - 18ms/step\n",
      "Epoch 10/10\n",
      "75/75 - 1s - loss: 0.6932 - acc: 0.5133 - f1_m: 0.5133 - precision_m: 0.5133 - recall_m: 0.5133 - val_loss: 0.6955 - val_acc: 0.4550 - val_f1_m: 0.4550 - val_precision_m: 0.4550 - val_recall_m: 0.4550 - 1s/epoch - 18ms/step\n",
      "Epoch 1/10\n"
     ]
    },
    {
     "name": "stderr",
     "output_type": "stream",
     "text": [
      "2022-12-04 16:19:39.001168: I tensorflow/core/grappler/optimizers/custom_graph_optimizer_registry.cc:113] Plugin optimizer for device_type GPU is enabled.\n",
      "2022-12-04 16:19:41.421112: I tensorflow/core/grappler/optimizers/custom_graph_optimizer_registry.cc:113] Plugin optimizer for device_type GPU is enabled.\n"
     ]
    },
    {
     "name": "stdout",
     "output_type": "stream",
     "text": [
      "75/75 - 3s - loss: 0.7027 - acc: 0.5250 - f1_m: 0.5250 - precision_m: 0.5250 - recall_m: 0.5250 - val_loss: 0.6562 - val_acc: 0.7000 - val_f1_m: 0.7000 - val_precision_m: 0.7000 - val_recall_m: 0.7000 - 3s/epoch - 43ms/step\n",
      "Epoch 2/10\n",
      "75/75 - 2s - loss: 0.6045 - acc: 0.7217 - f1_m: 0.7217 - precision_m: 0.7217 - recall_m: 0.7217 - val_loss: 0.6382 - val_acc: 0.7000 - val_f1_m: 0.7000 - val_precision_m: 0.7000 - val_recall_m: 0.7000 - 2s/epoch - 22ms/step\n",
      "Epoch 3/10\n",
      "75/75 - 2s - loss: 0.5678 - acc: 0.7267 - f1_m: 0.7267 - precision_m: 0.7267 - recall_m: 0.7267 - val_loss: 0.6023 - val_acc: 0.7650 - val_f1_m: 0.7650 - val_precision_m: 0.7650 - val_recall_m: 0.7650 - 2s/epoch - 23ms/step\n",
      "Epoch 4/10\n",
      "75/75 - 2s - loss: 0.4994 - acc: 0.7700 - f1_m: 0.7700 - precision_m: 0.7700 - recall_m: 0.7700 - val_loss: 0.5835 - val_acc: 0.7850 - val_f1_m: 0.7850 - val_precision_m: 0.7850 - val_recall_m: 0.7850 - 2s/epoch - 22ms/step\n",
      "Epoch 5/10\n",
      "75/75 - 2s - loss: 0.4396 - acc: 0.8017 - f1_m: 0.8017 - precision_m: 0.8017 - recall_m: 0.8017 - val_loss: 0.7202 - val_acc: 0.6600 - val_f1_m: 0.6600 - val_precision_m: 0.6600 - val_recall_m: 0.6600 - 2s/epoch - 22ms/step\n",
      "Epoch 6/10\n",
      "75/75 - 2s - loss: 0.4192 - acc: 0.8367 - f1_m: 0.8367 - precision_m: 0.8367 - recall_m: 0.8367 - val_loss: 0.6522 - val_acc: 0.7350 - val_f1_m: 0.7350 - val_precision_m: 0.7350 - val_recall_m: 0.7350 - 2s/epoch - 24ms/step\n",
      "Epoch 7/10\n",
      "75/75 - 2s - loss: 0.3951 - acc: 0.8467 - f1_m: 0.8467 - precision_m: 0.8467 - recall_m: 0.8467 - val_loss: 0.6104 - val_acc: 0.7600 - val_f1_m: 0.7600 - val_precision_m: 0.7600 - val_recall_m: 0.7600 - 2s/epoch - 22ms/step\n",
      "Epoch 8/10\n",
      "75/75 - 2s - loss: 0.3139 - acc: 0.8917 - f1_m: 0.8917 - precision_m: 0.8917 - recall_m: 0.8917 - val_loss: 0.6417 - val_acc: 0.7350 - val_f1_m: 0.7350 - val_precision_m: 0.7350 - val_recall_m: 0.7350 - 2s/epoch - 21ms/step\n",
      "Epoch 9/10\n",
      "75/75 - 2s - loss: 0.3464 - acc: 0.8767 - f1_m: 0.8767 - precision_m: 0.8767 - recall_m: 0.8767 - val_loss: 0.8117 - val_acc: 0.6350 - val_f1_m: 0.6350 - val_precision_m: 0.6350 - val_recall_m: 0.6350 - 2s/epoch - 22ms/step\n",
      "Epoch 10/10\n",
      "75/75 - 2s - loss: 0.2797 - acc: 0.8917 - f1_m: 0.8917 - precision_m: 0.8917 - recall_m: 0.8917 - val_loss: 0.6699 - val_acc: 0.7400 - val_f1_m: 0.7400 - val_precision_m: 0.7400 - val_recall_m: 0.7400 - 2s/epoch - 24ms/step\n",
      "Epoch 1/10\n"
     ]
    },
    {
     "name": "stderr",
     "output_type": "stream",
     "text": [
      "2022-12-04 16:19:57.698468: I tensorflow/core/grappler/optimizers/custom_graph_optimizer_registry.cc:113] Plugin optimizer for device_type GPU is enabled.\n",
      "2022-12-04 16:19:59.921236: I tensorflow/core/grappler/optimizers/custom_graph_optimizer_registry.cc:113] Plugin optimizer for device_type GPU is enabled.\n"
     ]
    },
    {
     "name": "stdout",
     "output_type": "stream",
     "text": [
      "38/38 - 3s - loss: 0.6937 - acc: 0.4800 - f1_m: 0.4770 - precision_m: 0.4770 - recall_m: 0.4770 - val_loss: 0.6927 - val_acc: 0.5450 - val_f1_m: 0.5433 - val_precision_m: 0.5433 - val_recall_m: 0.5433 - 3s/epoch - 85ms/step\n",
      "Epoch 2/10\n",
      "38/38 - 1s - loss: 0.6931 - acc: 0.4983 - f1_m: 0.4984 - precision_m: 0.4984 - recall_m: 0.4984 - val_loss: 0.6930 - val_acc: 0.5500 - val_f1_m: 0.5481 - val_precision_m: 0.5481 - val_recall_m: 0.5481 - 1s/epoch - 37ms/step\n",
      "Epoch 3/10\n",
      "38/38 - 1s - loss: 0.6930 - acc: 0.5100 - f1_m: 0.5115 - precision_m: 0.5115 - recall_m: 0.5115 - val_loss: 0.6931 - val_acc: 0.5400 - val_f1_m: 0.5385 - val_precision_m: 0.5385 - val_recall_m: 0.5385 - 1s/epoch - 36ms/step\n",
      "Epoch 4/10\n",
      "38/38 - 1s - loss: 0.6930 - acc: 0.5117 - f1_m: 0.5132 - precision_m: 0.5132 - recall_m: 0.5132 - val_loss: 0.6930 - val_acc: 0.5500 - val_f1_m: 0.5481 - val_precision_m: 0.5481 - val_recall_m: 0.5481 - 1s/epoch - 37ms/step\n",
      "Epoch 5/10\n",
      "38/38 - 1s - loss: 0.6930 - acc: 0.5117 - f1_m: 0.5115 - precision_m: 0.5115 - recall_m: 0.5115 - val_loss: 0.6931 - val_acc: 0.5200 - val_f1_m: 0.5192 - val_precision_m: 0.5192 - val_recall_m: 0.5192 - 1s/epoch - 39ms/step\n",
      "Epoch 6/10\n",
      "38/38 - 1s - loss: 0.6929 - acc: 0.5100 - f1_m: 0.5082 - precision_m: 0.5082 - recall_m: 0.5082 - val_loss: 0.6930 - val_acc: 0.5450 - val_f1_m: 0.5433 - val_precision_m: 0.5433 - val_recall_m: 0.5433 - 1s/epoch - 37ms/step\n",
      "Epoch 7/10\n",
      "38/38 - 1s - loss: 0.6930 - acc: 0.5233 - f1_m: 0.5247 - precision_m: 0.5247 - recall_m: 0.5247 - val_loss: 0.6930 - val_acc: 0.5450 - val_f1_m: 0.5433 - val_precision_m: 0.5433 - val_recall_m: 0.5433 - 1s/epoch - 36ms/step\n",
      "Epoch 8/10\n",
      "38/38 - 1s - loss: 0.6929 - acc: 0.5150 - f1_m: 0.5132 - precision_m: 0.5132 - recall_m: 0.5132 - val_loss: 0.6932 - val_acc: 0.4600 - val_f1_m: 0.4567 - val_precision_m: 0.4567 - val_recall_m: 0.4567 - 1s/epoch - 37ms/step\n",
      "Epoch 9/10\n",
      "38/38 - 2s - loss: 0.6928 - acc: 0.5100 - f1_m: 0.5082 - precision_m: 0.5082 - recall_m: 0.5082 - val_loss: 0.6931 - val_acc: 0.5200 - val_f1_m: 0.5192 - val_precision_m: 0.5192 - val_recall_m: 0.5192 - 2s/epoch - 46ms/step\n",
      "Epoch 10/10\n",
      "38/38 - 2s - loss: 0.6928 - acc: 0.5100 - f1_m: 0.5066 - precision_m: 0.5066 - recall_m: 0.5066 - val_loss: 0.6931 - val_acc: 0.5100 - val_f1_m: 0.5096 - val_precision_m: 0.5096 - val_recall_m: 0.5096 - 2s/epoch - 46ms/step\n",
      "Epoch 1/10\n"
     ]
    },
    {
     "name": "stderr",
     "output_type": "stream",
     "text": [
      "2022-12-04 16:20:14.118328: I tensorflow/core/grappler/optimizers/custom_graph_optimizer_registry.cc:113] Plugin optimizer for device_type GPU is enabled.\n",
      "2022-12-04 16:20:15.840330: I tensorflow/core/grappler/optimizers/custom_graph_optimizer_registry.cc:113] Plugin optimizer for device_type GPU is enabled.\n"
     ]
    },
    {
     "name": "stdout",
     "output_type": "stream",
     "text": [
      "75/75 - 2s - loss: 0.6934 - acc: 0.5100 - f1_m: 0.5100 - precision_m: 0.5100 - recall_m: 0.5100 - val_loss: 0.6943 - val_acc: 0.4550 - val_f1_m: 0.4550 - val_precision_m: 0.4550 - val_recall_m: 0.4550 - 2s/epoch - 33ms/step\n",
      "Epoch 2/10\n",
      "75/75 - 1s - loss: 0.6932 - acc: 0.5133 - f1_m: 0.5133 - precision_m: 0.5133 - recall_m: 0.5133 - val_loss: 0.6948 - val_acc: 0.4550 - val_f1_m: 0.4550 - val_precision_m: 0.4550 - val_recall_m: 0.4550 - 1s/epoch - 18ms/step\n",
      "Epoch 3/10\n",
      "75/75 - 1s - loss: 0.6934 - acc: 0.5133 - f1_m: 0.5133 - precision_m: 0.5133 - recall_m: 0.5133 - val_loss: 0.6953 - val_acc: 0.4550 - val_f1_m: 0.4550 - val_precision_m: 0.4550 - val_recall_m: 0.4550 - 1s/epoch - 19ms/step\n",
      "Epoch 4/10\n",
      "75/75 - 1s - loss: 0.6932 - acc: 0.5133 - f1_m: 0.5133 - precision_m: 0.5133 - recall_m: 0.5133 - val_loss: 0.6954 - val_acc: 0.4550 - val_f1_m: 0.4550 - val_precision_m: 0.4550 - val_recall_m: 0.4550 - 1s/epoch - 19ms/step\n",
      "Epoch 5/10\n",
      "75/75 - 1s - loss: 0.6933 - acc: 0.5133 - f1_m: 0.5133 - precision_m: 0.5133 - recall_m: 0.5133 - val_loss: 0.6949 - val_acc: 0.4550 - val_f1_m: 0.4550 - val_precision_m: 0.4550 - val_recall_m: 0.4550 - 1s/epoch - 19ms/step\n",
      "Epoch 6/10\n",
      "75/75 - 1s - loss: 0.6932 - acc: 0.5133 - f1_m: 0.5133 - precision_m: 0.5133 - recall_m: 0.5133 - val_loss: 0.6959 - val_acc: 0.4550 - val_f1_m: 0.4550 - val_precision_m: 0.4550 - val_recall_m: 0.4550 - 1s/epoch - 19ms/step\n",
      "Epoch 7/10\n",
      "75/75 - 1s - loss: 0.6932 - acc: 0.5133 - f1_m: 0.5133 - precision_m: 0.5133 - recall_m: 0.5133 - val_loss: 0.6954 - val_acc: 0.4550 - val_f1_m: 0.4550 - val_precision_m: 0.4550 - val_recall_m: 0.4550 - 1s/epoch - 19ms/step\n",
      "Epoch 8/10\n",
      "75/75 - 1s - loss: 0.6934 - acc: 0.5133 - f1_m: 0.5133 - precision_m: 0.5133 - recall_m: 0.5133 - val_loss: 0.6958 - val_acc: 0.4550 - val_f1_m: 0.4550 - val_precision_m: 0.4550 - val_recall_m: 0.4550 - 1s/epoch - 18ms/step\n",
      "Epoch 9/10\n",
      "75/75 - 1s - loss: 0.6932 - acc: 0.5133 - f1_m: 0.5133 - precision_m: 0.5133 - recall_m: 0.5133 - val_loss: 0.6955 - val_acc: 0.4550 - val_f1_m: 0.4550 - val_precision_m: 0.4550 - val_recall_m: 0.4550 - 1s/epoch - 19ms/step\n",
      "Epoch 10/10\n",
      "75/75 - 1s - loss: 0.6932 - acc: 0.5133 - f1_m: 0.5133 - precision_m: 0.5133 - recall_m: 0.5133 - val_loss: 0.6954 - val_acc: 0.4550 - val_f1_m: 0.4550 - val_precision_m: 0.4550 - val_recall_m: 0.4550 - 1s/epoch - 19ms/step\n",
      "Epoch 1/10\n"
     ]
    },
    {
     "name": "stderr",
     "output_type": "stream",
     "text": [
      "2022-12-04 16:20:29.368679: I tensorflow/core/grappler/optimizers/custom_graph_optimizer_registry.cc:113] Plugin optimizer for device_type GPU is enabled.\n",
      "2022-12-04 16:20:31.094611: I tensorflow/core/grappler/optimizers/custom_graph_optimizer_registry.cc:113] Plugin optimizer for device_type GPU is enabled.\n"
     ]
    },
    {
     "name": "stdout",
     "output_type": "stream",
     "text": [
      "75/75 - 2s - loss: 0.6936 - acc: 0.5133 - f1_m: 0.5133 - precision_m: 0.5133 - recall_m: 0.5133 - val_loss: 0.6939 - val_acc: 0.4550 - val_f1_m: 0.4550 - val_precision_m: 0.4550 - val_recall_m: 0.4550 - 2s/epoch - 32ms/step\n",
      "Epoch 2/10\n",
      "75/75 - 1s - loss: 0.6935 - acc: 0.5133 - f1_m: 0.5133 - precision_m: 0.5133 - recall_m: 0.5133 - val_loss: 0.6942 - val_acc: 0.4550 - val_f1_m: 0.4550 - val_precision_m: 0.4550 - val_recall_m: 0.4550 - 1s/epoch - 17ms/step\n",
      "Epoch 3/10\n",
      "75/75 - 1s - loss: 0.6934 - acc: 0.5133 - f1_m: 0.5133 - precision_m: 0.5133 - recall_m: 0.5133 - val_loss: 0.6943 - val_acc: 0.4550 - val_f1_m: 0.4550 - val_precision_m: 0.4550 - val_recall_m: 0.4550 - 1s/epoch - 16ms/step\n",
      "Epoch 4/10\n",
      "75/75 - 1s - loss: 0.6935 - acc: 0.5133 - f1_m: 0.5133 - precision_m: 0.5133 - recall_m: 0.5133 - val_loss: 0.6946 - val_acc: 0.4550 - val_f1_m: 0.4550 - val_precision_m: 0.4550 - val_recall_m: 0.4550 - 1s/epoch - 16ms/step\n",
      "Epoch 5/10\n",
      "75/75 - 1s - loss: 0.6934 - acc: 0.5133 - f1_m: 0.5133 - precision_m: 0.5133 - recall_m: 0.5133 - val_loss: 0.6942 - val_acc: 0.4550 - val_f1_m: 0.4550 - val_precision_m: 0.4550 - val_recall_m: 0.4550 - 1s/epoch - 16ms/step\n",
      "Epoch 6/10\n",
      "75/75 - 1s - loss: 0.6935 - acc: 0.5133 - f1_m: 0.5133 - precision_m: 0.5133 - recall_m: 0.5133 - val_loss: 0.6946 - val_acc: 0.4550 - val_f1_m: 0.4550 - val_precision_m: 0.4550 - val_recall_m: 0.4550 - 1s/epoch - 16ms/step\n",
      "Epoch 7/10\n",
      "75/75 - 1s - loss: 0.6934 - acc: 0.5133 - f1_m: 0.5133 - precision_m: 0.5133 - recall_m: 0.5133 - val_loss: 0.6944 - val_acc: 0.4550 - val_f1_m: 0.4550 - val_precision_m: 0.4550 - val_recall_m: 0.4550 - 1s/epoch - 16ms/step\n",
      "Epoch 8/10\n",
      "75/75 - 1s - loss: 0.6934 - acc: 0.5133 - f1_m: 0.5133 - precision_m: 0.5133 - recall_m: 0.5133 - val_loss: 0.6944 - val_acc: 0.4550 - val_f1_m: 0.4550 - val_precision_m: 0.4550 - val_recall_m: 0.4550 - 1s/epoch - 16ms/step\n",
      "Epoch 9/10\n",
      "75/75 - 1s - loss: 0.6935 - acc: 0.5133 - f1_m: 0.5133 - precision_m: 0.5133 - recall_m: 0.5133 - val_loss: 0.6948 - val_acc: 0.4550 - val_f1_m: 0.4550 - val_precision_m: 0.4550 - val_recall_m: 0.4550 - 1s/epoch - 16ms/step\n",
      "Epoch 10/10\n",
      "75/75 - 1s - loss: 0.6935 - acc: 0.5133 - f1_m: 0.5133 - precision_m: 0.5133 - recall_m: 0.5133 - val_loss: 0.6948 - val_acc: 0.4550 - val_f1_m: 0.4550 - val_precision_m: 0.4550 - val_recall_m: 0.4550 - 1s/epoch - 16ms/step\n",
      "Epoch 1/10\n"
     ]
    },
    {
     "name": "stderr",
     "output_type": "stream",
     "text": [
      "2022-12-04 16:20:42.651602: I tensorflow/core/grappler/optimizers/custom_graph_optimizer_registry.cc:113] Plugin optimizer for device_type GPU is enabled.\n",
      "2022-12-04 16:20:44.360270: I tensorflow/core/grappler/optimizers/custom_graph_optimizer_registry.cc:113] Plugin optimizer for device_type GPU is enabled.\n"
     ]
    },
    {
     "name": "stdout",
     "output_type": "stream",
     "text": [
      "75/75 - 2s - loss: 0.6936 - acc: 0.5183 - f1_m: 0.5183 - precision_m: 0.5183 - recall_m: 0.5183 - val_loss: 0.6939 - val_acc: 0.4550 - val_f1_m: 0.4550 - val_precision_m: 0.4550 - val_recall_m: 0.4550 - 2s/epoch - 32ms/step\n",
      "Epoch 2/10\n",
      "75/75 - 1s - loss: 0.6935 - acc: 0.5133 - f1_m: 0.5133 - precision_m: 0.5133 - recall_m: 0.5133 - val_loss: 0.6943 - val_acc: 0.4550 - val_f1_m: 0.4550 - val_precision_m: 0.4550 - val_recall_m: 0.4550 - 1s/epoch - 16ms/step\n",
      "Epoch 3/10\n",
      "75/75 - 1s - loss: 0.6934 - acc: 0.5133 - f1_m: 0.5133 - precision_m: 0.5133 - recall_m: 0.5133 - val_loss: 0.6942 - val_acc: 0.4550 - val_f1_m: 0.4550 - val_precision_m: 0.4550 - val_recall_m: 0.4550 - 1s/epoch - 16ms/step\n",
      "Epoch 4/10\n",
      "75/75 - 1s - loss: 0.6935 - acc: 0.5133 - f1_m: 0.5133 - precision_m: 0.5133 - recall_m: 0.5133 - val_loss: 0.6946 - val_acc: 0.4550 - val_f1_m: 0.4550 - val_precision_m: 0.4550 - val_recall_m: 0.4550 - 1s/epoch - 16ms/step\n",
      "Epoch 5/10\n",
      "75/75 - 1s - loss: 0.6934 - acc: 0.5133 - f1_m: 0.5133 - precision_m: 0.5133 - recall_m: 0.5133 - val_loss: 0.6944 - val_acc: 0.4550 - val_f1_m: 0.4550 - val_precision_m: 0.4550 - val_recall_m: 0.4550 - 1s/epoch - 16ms/step\n",
      "Epoch 6/10\n",
      "75/75 - 1s - loss: 0.6934 - acc: 0.5133 - f1_m: 0.5133 - precision_m: 0.5133 - recall_m: 0.5133 - val_loss: 0.6944 - val_acc: 0.4550 - val_f1_m: 0.4550 - val_precision_m: 0.4550 - val_recall_m: 0.4550 - 1s/epoch - 16ms/step\n",
      "Epoch 7/10\n",
      "75/75 - 1s - loss: 0.6935 - acc: 0.5133 - f1_m: 0.5133 - precision_m: 0.5133 - recall_m: 0.5133 - val_loss: 0.6944 - val_acc: 0.4550 - val_f1_m: 0.4550 - val_precision_m: 0.4550 - val_recall_m: 0.4550 - 1s/epoch - 16ms/step\n",
      "Epoch 8/10\n",
      "75/75 - 1s - loss: 0.6934 - acc: 0.5133 - f1_m: 0.5133 - precision_m: 0.5133 - recall_m: 0.5133 - val_loss: 0.6947 - val_acc: 0.4550 - val_f1_m: 0.4550 - val_precision_m: 0.4550 - val_recall_m: 0.4550 - 1s/epoch - 16ms/step\n",
      "Epoch 9/10\n",
      "75/75 - 1s - loss: 0.6935 - acc: 0.5133 - f1_m: 0.5133 - precision_m: 0.5133 - recall_m: 0.5133 - val_loss: 0.6948 - val_acc: 0.4550 - val_f1_m: 0.4550 - val_precision_m: 0.4550 - val_recall_m: 0.4550 - 1s/epoch - 16ms/step\n",
      "Epoch 10/10\n",
      "75/75 - 1s - loss: 0.6934 - acc: 0.5133 - f1_m: 0.5133 - precision_m: 0.5133 - recall_m: 0.5133 - val_loss: 0.6949 - val_acc: 0.4550 - val_f1_m: 0.4550 - val_precision_m: 0.4550 - val_recall_m: 0.4550 - 1s/epoch - 16ms/step\n",
      "Epoch 1/10\n"
     ]
    },
    {
     "name": "stderr",
     "output_type": "stream",
     "text": [
      "2022-12-04 16:20:56.219932: I tensorflow/core/grappler/optimizers/custom_graph_optimizer_registry.cc:113] Plugin optimizer for device_type GPU is enabled.\n",
      "2022-12-04 16:20:59.145764: I tensorflow/core/grappler/optimizers/custom_graph_optimizer_registry.cc:113] Plugin optimizer for device_type GPU is enabled.\n"
     ]
    },
    {
     "name": "stdout",
     "output_type": "stream",
     "text": [
      "38/38 - 4s - loss: 0.6994 - acc: 0.5517 - f1_m: 0.5493 - precision_m: 0.5493 - recall_m: 0.5493 - val_loss: 0.6856 - val_acc: 0.5400 - val_f1_m: 0.5385 - val_precision_m: 0.5385 - val_recall_m: 0.5385 - 4s/epoch - 114ms/step\n",
      "Epoch 2/10\n",
      "38/38 - 2s - loss: 0.6735 - acc: 0.6317 - f1_m: 0.6332 - precision_m: 0.6332 - recall_m: 0.6332 - val_loss: 0.6520 - val_acc: 0.7400 - val_f1_m: 0.7500 - val_precision_m: 0.7500 - val_recall_m: 0.7500 - 2s/epoch - 64ms/step\n",
      "Epoch 3/10\n",
      "38/38 - 2s - loss: 0.6238 - acc: 0.6317 - f1_m: 0.6266 - precision_m: 0.6266 - recall_m: 0.6266 - val_loss: 0.6524 - val_acc: 0.6450 - val_f1_m: 0.6490 - val_precision_m: 0.6490 - val_recall_m: 0.6490 - 2s/epoch - 62ms/step\n",
      "Epoch 4/10\n"
     ]
    },
    {
     "ename": "KeyboardInterrupt",
     "evalue": "",
     "output_type": "error",
     "traceback": [
      "\u001b[0;31m---------------------------------------------------------------------------\u001b[0m",
      "\u001b[0;31mKeyboardInterrupt\u001b[0m                         Traceback (most recent call last)",
      "\u001b[1;32m/Users/Donovan/Documents/Masters/masters-ed02/coding/model_cnn_ga_1/model_cnn_ga.ipynb Cell 11\u001b[0m in \u001b[0;36m<cell line: 1>\u001b[0;34m()\u001b[0m\n\u001b[0;32m----> <a href='vscode-notebook-cell:/Users/Donovan/Documents/Masters/masters-ed02/coding/model_cnn_ga_1/model_cnn_ga.ipynb#X13sZmlsZQ%3D%3D?line=0'>1</a>\u001b[0m gen_hist \u001b[39m=\u001b[39m my_cnn\u001b[39m.\u001b[39;49mgenetic_algorithm()\n",
      "\u001b[1;32m/Users/Donovan/Documents/Masters/masters-ed02/coding/model_cnn_ga_1/model_cnn_ga.ipynb Cell 11\u001b[0m in \u001b[0;36mGeneticBlockCNN.genetic_algorithm\u001b[0;34m(self)\u001b[0m\n\u001b[1;32m    <a href='vscode-notebook-cell:/Users/Donovan/Documents/Masters/masters-ed02/coding/model_cnn_ga_1/model_cnn_ga.ipynb#X13sZmlsZQ%3D%3D?line=411'>412</a>\u001b[0m print_function(\u001b[39m'\u001b[39m\u001b[39m'\u001b[39m, Generation \u001b[39m=\u001b[39m generation, of \u001b[39m=\u001b[39m \u001b[39m'\u001b[39m\u001b[39m'\u001b[39m, total \u001b[39m=\u001b[39m \u001b[39mself\u001b[39m\u001b[39m.\u001b[39mn_generations)\n\u001b[1;32m    <a href='vscode-notebook-cell:/Users/Donovan/Documents/Masters/masters-ed02/coding/model_cnn_ga_1/model_cnn_ga.ipynb#X13sZmlsZQ%3D%3D?line=413'>414</a>\u001b[0m print_function(\u001b[39m'\u001b[39m\u001b[39mSelection\u001b[39m\u001b[39m'\u001b[39m)\n\u001b[0;32m--> <a href='vscode-notebook-cell:/Users/Donovan/Documents/Masters/masters-ed02/coding/model_cnn_ga_1/model_cnn_ga.ipynb#X13sZmlsZQ%3D%3D?line=415'>416</a>\u001b[0m \u001b[39mself\u001b[39;49m\u001b[39m.\u001b[39;49mselection()\n\u001b[1;32m    <a href='vscode-notebook-cell:/Users/Donovan/Documents/Masters/masters-ed02/coding/model_cnn_ga_1/model_cnn_ga.ipynb#X13sZmlsZQ%3D%3D?line=417'>418</a>\u001b[0m print_function(\u001b[39m'\u001b[39m\u001b[39mCrossover\u001b[39m\u001b[39m'\u001b[39m)\n\u001b[1;32m    <a href='vscode-notebook-cell:/Users/Donovan/Documents/Masters/masters-ed02/coding/model_cnn_ga_1/model_cnn_ga.ipynb#X13sZmlsZQ%3D%3D?line=419'>420</a>\u001b[0m \u001b[39mself\u001b[39m\u001b[39m.\u001b[39mcrossover()\n",
      "\u001b[1;32m/Users/Donovan/Documents/Masters/masters-ed02/coding/model_cnn_ga_1/model_cnn_ga.ipynb Cell 11\u001b[0m in \u001b[0;36mGeneticBlockCNN.selection\u001b[0;34m(self)\u001b[0m\n\u001b[1;32m    <a href='vscode-notebook-cell:/Users/Donovan/Documents/Masters/masters-ed02/coding/model_cnn_ga_1/model_cnn_ga.ipynb#X13sZmlsZQ%3D%3D?line=233'>234</a>\u001b[0m phenotype \u001b[39m=\u001b[39m \u001b[39mself\u001b[39m\u001b[39m.\u001b[39mdecoder(individual)\n\u001b[1;32m    <a href='vscode-notebook-cell:/Users/Donovan/Documents/Masters/masters-ed02/coding/model_cnn_ga_1/model_cnn_ga.ipynb#X13sZmlsZQ%3D%3D?line=235'>236</a>\u001b[0m params \u001b[39m=\u001b[39m \u001b[39mself\u001b[39m\u001b[39m.\u001b[39mget_cnn_parameters()\n\u001b[0;32m--> <a href='vscode-notebook-cell:/Users/Donovan/Documents/Masters/masters-ed02/coding/model_cnn_ga_1/model_cnn_ga.ipynb#X13sZmlsZQ%3D%3D?line=237'>238</a>\u001b[0m \u001b[39mself\u001b[39;49m\u001b[39m.\u001b[39;49mtrain_model()\n\u001b[1;32m    <a href='vscode-notebook-cell:/Users/Donovan/Documents/Masters/masters-ed02/coding/model_cnn_ga_1/model_cnn_ga.ipynb#X13sZmlsZQ%3D%3D?line=239'>240</a>\u001b[0m scores\u001b[39m.\u001b[39mappend(np\u001b[39m.\u001b[39mmean(\u001b[39mself\u001b[39m\u001b[39m.\u001b[39mhistory\u001b[39m.\u001b[39mhistory[\u001b[39m'\u001b[39m\u001b[39mval_f1_m\u001b[39m\u001b[39m'\u001b[39m])) \u001b[39m# fitness(np.mean(np.diff(self.history.history['val_f1_m'])))\u001b[39;00m\n\u001b[1;32m    <a href='vscode-notebook-cell:/Users/Donovan/Documents/Masters/masters-ed02/coding/model_cnn_ga_1/model_cnn_ga.ipynb#X13sZmlsZQ%3D%3D?line=241'>242</a>\u001b[0m iteration \u001b[39m+\u001b[39m\u001b[39m=\u001b[39m \u001b[39m1\u001b[39m\n",
      "\u001b[1;32m/Users/Donovan/Documents/Masters/masters-ed02/coding/model_cnn_ga_1/model_cnn_ga.ipynb Cell 11\u001b[0m in \u001b[0;36mGeneticBlockCNN.train_model\u001b[0;34m(self)\u001b[0m\n\u001b[1;32m    <a href='vscode-notebook-cell:/Users/Donovan/Documents/Masters/masters-ed02/coding/model_cnn_ga_1/model_cnn_ga.ipynb#X13sZmlsZQ%3D%3D?line=189'>190</a>\u001b[0m \u001b[39mself\u001b[39m\u001b[39m.\u001b[39mmodel\u001b[39m.\u001b[39madd(Dense(\u001b[39m2\u001b[39m, activation \u001b[39m=\u001b[39m \u001b[39m'\u001b[39m\u001b[39msoftmax\u001b[39m\u001b[39m'\u001b[39m))\n\u001b[1;32m    <a href='vscode-notebook-cell:/Users/Donovan/Documents/Masters/masters-ed02/coding/model_cnn_ga_1/model_cnn_ga.ipynb#X13sZmlsZQ%3D%3D?line=190'>191</a>\u001b[0m \u001b[39mself\u001b[39m\u001b[39m.\u001b[39mmodel\u001b[39m.\u001b[39mcompile(loss\u001b[39m=\u001b[39m\u001b[39m'\u001b[39m\u001b[39mbinary_crossentropy\u001b[39m\u001b[39m'\u001b[39m, optimizer\u001b[39m=\u001b[39m\u001b[39m'\u001b[39m\u001b[39madam\u001b[39m\u001b[39m'\u001b[39m, metrics\u001b[39m=\u001b[39m[\u001b[39m'\u001b[39m\u001b[39macc\u001b[39m\u001b[39m'\u001b[39m, f1_m, precision_m, recall_m])\n\u001b[0;32m--> <a href='vscode-notebook-cell:/Users/Donovan/Documents/Masters/masters-ed02/coding/model_cnn_ga_1/model_cnn_ga.ipynb#X13sZmlsZQ%3D%3D?line=192'>193</a>\u001b[0m \u001b[39mself\u001b[39m\u001b[39m.\u001b[39mhistory \u001b[39m=\u001b[39m \u001b[39mself\u001b[39;49m\u001b[39m.\u001b[39;49mmodel\u001b[39m.\u001b[39;49mfit(\u001b[39mself\u001b[39;49m\u001b[39m.\u001b[39;49mX_train, \u001b[39mself\u001b[39;49m\u001b[39m.\u001b[39;49mY_train, validation_data\u001b[39m=\u001b[39;49m(\u001b[39mself\u001b[39;49m\u001b[39m.\u001b[39;49mX_val, \u001b[39mself\u001b[39;49m\u001b[39m.\u001b[39;49mY_val), \n\u001b[1;32m    <a href='vscode-notebook-cell:/Users/Donovan/Documents/Masters/masters-ed02/coding/model_cnn_ga_1/model_cnn_ga.ipynb#X13sZmlsZQ%3D%3D?line=193'>194</a>\u001b[0m         batch_size\u001b[39m=\u001b[39;49m\u001b[39mself\u001b[39;49m\u001b[39m.\u001b[39;49mcnn_input_params[\u001b[39m0\u001b[39;49m],\n\u001b[1;32m    <a href='vscode-notebook-cell:/Users/Donovan/Documents/Masters/masters-ed02/coding/model_cnn_ga_1/model_cnn_ga.ipynb#X13sZmlsZQ%3D%3D?line=194'>195</a>\u001b[0m         epochs\u001b[39m=\u001b[39;49m\u001b[39mself\u001b[39;49m\u001b[39m.\u001b[39;49mepochs,\n\u001b[1;32m    <a href='vscode-notebook-cell:/Users/Donovan/Documents/Masters/masters-ed02/coding/model_cnn_ga_1/model_cnn_ga.ipynb#X13sZmlsZQ%3D%3D?line=195'>196</a>\u001b[0m         verbose\u001b[39m=\u001b[39;49m\u001b[39mself\u001b[39;49m\u001b[39m.\u001b[39;49mgen_params[\u001b[39m'\u001b[39;49m\u001b[39mverbose\u001b[39;49m\u001b[39m'\u001b[39;49m], \n\u001b[1;32m    <a href='vscode-notebook-cell:/Users/Donovan/Documents/Masters/masters-ed02/coding/model_cnn_ga_1/model_cnn_ga.ipynb#X13sZmlsZQ%3D%3D?line=196'>197</a>\u001b[0m         class_weight\u001b[39m=\u001b[39;49m{\u001b[39m0\u001b[39;49m:\u001b[39m1.\u001b[39;49m,\u001b[39m1\u001b[39;49m:\u001b[39m1.\u001b[39;49m})\n",
      "File \u001b[0;32m~/homebrew/anaconda3/envs/mlp/lib/python3.9/site-packages/keras/utils/traceback_utils.py:64\u001b[0m, in \u001b[0;36mfilter_traceback.<locals>.error_handler\u001b[0;34m(*args, **kwargs)\u001b[0m\n\u001b[1;32m     62\u001b[0m filtered_tb \u001b[39m=\u001b[39m \u001b[39mNone\u001b[39;00m\n\u001b[1;32m     63\u001b[0m \u001b[39mtry\u001b[39;00m:\n\u001b[0;32m---> 64\u001b[0m   \u001b[39mreturn\u001b[39;00m fn(\u001b[39m*\u001b[39;49margs, \u001b[39m*\u001b[39;49m\u001b[39m*\u001b[39;49mkwargs)\n\u001b[1;32m     65\u001b[0m \u001b[39mexcept\u001b[39;00m \u001b[39mException\u001b[39;00m \u001b[39mas\u001b[39;00m e:  \u001b[39m# pylint: disable=broad-except\u001b[39;00m\n\u001b[1;32m     66\u001b[0m   filtered_tb \u001b[39m=\u001b[39m _process_traceback_frames(e\u001b[39m.\u001b[39m__traceback__)\n",
      "File \u001b[0;32m~/homebrew/anaconda3/envs/mlp/lib/python3.9/site-packages/keras/engine/training.py:1409\u001b[0m, in \u001b[0;36mModel.fit\u001b[0;34m(self, x, y, batch_size, epochs, verbose, callbacks, validation_split, validation_data, shuffle, class_weight, sample_weight, initial_epoch, steps_per_epoch, validation_steps, validation_batch_size, validation_freq, max_queue_size, workers, use_multiprocessing)\u001b[0m\n\u001b[1;32m   1402\u001b[0m \u001b[39mwith\u001b[39;00m tf\u001b[39m.\u001b[39mprofiler\u001b[39m.\u001b[39mexperimental\u001b[39m.\u001b[39mTrace(\n\u001b[1;32m   1403\u001b[0m     \u001b[39m'\u001b[39m\u001b[39mtrain\u001b[39m\u001b[39m'\u001b[39m,\n\u001b[1;32m   1404\u001b[0m     epoch_num\u001b[39m=\u001b[39mepoch,\n\u001b[1;32m   1405\u001b[0m     step_num\u001b[39m=\u001b[39mstep,\n\u001b[1;32m   1406\u001b[0m     batch_size\u001b[39m=\u001b[39mbatch_size,\n\u001b[1;32m   1407\u001b[0m     _r\u001b[39m=\u001b[39m\u001b[39m1\u001b[39m):\n\u001b[1;32m   1408\u001b[0m   callbacks\u001b[39m.\u001b[39mon_train_batch_begin(step)\n\u001b[0;32m-> 1409\u001b[0m   tmp_logs \u001b[39m=\u001b[39m \u001b[39mself\u001b[39;49m\u001b[39m.\u001b[39;49mtrain_function(iterator)\n\u001b[1;32m   1410\u001b[0m   \u001b[39mif\u001b[39;00m data_handler\u001b[39m.\u001b[39mshould_sync:\n\u001b[1;32m   1411\u001b[0m     context\u001b[39m.\u001b[39masync_wait()\n",
      "File \u001b[0;32m~/homebrew/anaconda3/envs/mlp/lib/python3.9/site-packages/tensorflow/python/util/traceback_utils.py:150\u001b[0m, in \u001b[0;36mfilter_traceback.<locals>.error_handler\u001b[0;34m(*args, **kwargs)\u001b[0m\n\u001b[1;32m    148\u001b[0m filtered_tb \u001b[39m=\u001b[39m \u001b[39mNone\u001b[39;00m\n\u001b[1;32m    149\u001b[0m \u001b[39mtry\u001b[39;00m:\n\u001b[0;32m--> 150\u001b[0m   \u001b[39mreturn\u001b[39;00m fn(\u001b[39m*\u001b[39;49margs, \u001b[39m*\u001b[39;49m\u001b[39m*\u001b[39;49mkwargs)\n\u001b[1;32m    151\u001b[0m \u001b[39mexcept\u001b[39;00m \u001b[39mException\u001b[39;00m \u001b[39mas\u001b[39;00m e:\n\u001b[1;32m    152\u001b[0m   filtered_tb \u001b[39m=\u001b[39m _process_traceback_frames(e\u001b[39m.\u001b[39m__traceback__)\n",
      "File \u001b[0;32m~/homebrew/anaconda3/envs/mlp/lib/python3.9/site-packages/tensorflow/python/eager/def_function.py:915\u001b[0m, in \u001b[0;36mFunction.__call__\u001b[0;34m(self, *args, **kwds)\u001b[0m\n\u001b[1;32m    912\u001b[0m compiler \u001b[39m=\u001b[39m \u001b[39m\"\u001b[39m\u001b[39mxla\u001b[39m\u001b[39m\"\u001b[39m \u001b[39mif\u001b[39;00m \u001b[39mself\u001b[39m\u001b[39m.\u001b[39m_jit_compile \u001b[39melse\u001b[39;00m \u001b[39m\"\u001b[39m\u001b[39mnonXla\u001b[39m\u001b[39m\"\u001b[39m\n\u001b[1;32m    914\u001b[0m \u001b[39mwith\u001b[39;00m OptionalXlaContext(\u001b[39mself\u001b[39m\u001b[39m.\u001b[39m_jit_compile):\n\u001b[0;32m--> 915\u001b[0m   result \u001b[39m=\u001b[39m \u001b[39mself\u001b[39;49m\u001b[39m.\u001b[39;49m_call(\u001b[39m*\u001b[39;49margs, \u001b[39m*\u001b[39;49m\u001b[39m*\u001b[39;49mkwds)\n\u001b[1;32m    917\u001b[0m new_tracing_count \u001b[39m=\u001b[39m \u001b[39mself\u001b[39m\u001b[39m.\u001b[39mexperimental_get_tracing_count()\n\u001b[1;32m    918\u001b[0m without_tracing \u001b[39m=\u001b[39m (tracing_count \u001b[39m==\u001b[39m new_tracing_count)\n",
      "File \u001b[0;32m~/homebrew/anaconda3/envs/mlp/lib/python3.9/site-packages/tensorflow/python/eager/def_function.py:947\u001b[0m, in \u001b[0;36mFunction._call\u001b[0;34m(self, *args, **kwds)\u001b[0m\n\u001b[1;32m    944\u001b[0m   \u001b[39mself\u001b[39m\u001b[39m.\u001b[39m_lock\u001b[39m.\u001b[39mrelease()\n\u001b[1;32m    945\u001b[0m   \u001b[39m# In this case we have created variables on the first call, so we run the\u001b[39;00m\n\u001b[1;32m    946\u001b[0m   \u001b[39m# defunned version which is guaranteed to never create variables.\u001b[39;00m\n\u001b[0;32m--> 947\u001b[0m   \u001b[39mreturn\u001b[39;00m \u001b[39mself\u001b[39;49m\u001b[39m.\u001b[39;49m_stateless_fn(\u001b[39m*\u001b[39;49margs, \u001b[39m*\u001b[39;49m\u001b[39m*\u001b[39;49mkwds)  \u001b[39m# pylint: disable=not-callable\u001b[39;00m\n\u001b[1;32m    948\u001b[0m \u001b[39melif\u001b[39;00m \u001b[39mself\u001b[39m\u001b[39m.\u001b[39m_stateful_fn \u001b[39mis\u001b[39;00m \u001b[39mnot\u001b[39;00m \u001b[39mNone\u001b[39;00m:\n\u001b[1;32m    949\u001b[0m   \u001b[39m# Release the lock early so that multiple threads can perform the call\u001b[39;00m\n\u001b[1;32m    950\u001b[0m   \u001b[39m# in parallel.\u001b[39;00m\n\u001b[1;32m    951\u001b[0m   \u001b[39mself\u001b[39m\u001b[39m.\u001b[39m_lock\u001b[39m.\u001b[39mrelease()\n",
      "File \u001b[0;32m~/homebrew/anaconda3/envs/mlp/lib/python3.9/site-packages/tensorflow/python/eager/function.py:2453\u001b[0m, in \u001b[0;36mFunction.__call__\u001b[0;34m(self, *args, **kwargs)\u001b[0m\n\u001b[1;32m   2450\u001b[0m \u001b[39mwith\u001b[39;00m \u001b[39mself\u001b[39m\u001b[39m.\u001b[39m_lock:\n\u001b[1;32m   2451\u001b[0m   (graph_function,\n\u001b[1;32m   2452\u001b[0m    filtered_flat_args) \u001b[39m=\u001b[39m \u001b[39mself\u001b[39m\u001b[39m.\u001b[39m_maybe_define_function(args, kwargs)\n\u001b[0;32m-> 2453\u001b[0m \u001b[39mreturn\u001b[39;00m graph_function\u001b[39m.\u001b[39;49m_call_flat(\n\u001b[1;32m   2454\u001b[0m     filtered_flat_args, captured_inputs\u001b[39m=\u001b[39;49mgraph_function\u001b[39m.\u001b[39;49mcaptured_inputs)\n",
      "File \u001b[0;32m~/homebrew/anaconda3/envs/mlp/lib/python3.9/site-packages/tensorflow/python/eager/function.py:1860\u001b[0m, in \u001b[0;36mConcreteFunction._call_flat\u001b[0;34m(self, args, captured_inputs, cancellation_manager)\u001b[0m\n\u001b[1;32m   1856\u001b[0m possible_gradient_type \u001b[39m=\u001b[39m gradients_util\u001b[39m.\u001b[39mPossibleTapeGradientTypes(args)\n\u001b[1;32m   1857\u001b[0m \u001b[39mif\u001b[39;00m (possible_gradient_type \u001b[39m==\u001b[39m gradients_util\u001b[39m.\u001b[39mPOSSIBLE_GRADIENT_TYPES_NONE\n\u001b[1;32m   1858\u001b[0m     \u001b[39mand\u001b[39;00m executing_eagerly):\n\u001b[1;32m   1859\u001b[0m   \u001b[39m# No tape is watching; skip to running the function.\u001b[39;00m\n\u001b[0;32m-> 1860\u001b[0m   \u001b[39mreturn\u001b[39;00m \u001b[39mself\u001b[39m\u001b[39m.\u001b[39m_build_call_outputs(\u001b[39mself\u001b[39;49m\u001b[39m.\u001b[39;49m_inference_function\u001b[39m.\u001b[39;49mcall(\n\u001b[1;32m   1861\u001b[0m       ctx, args, cancellation_manager\u001b[39m=\u001b[39;49mcancellation_manager))\n\u001b[1;32m   1862\u001b[0m forward_backward \u001b[39m=\u001b[39m \u001b[39mself\u001b[39m\u001b[39m.\u001b[39m_select_forward_and_backward_functions(\n\u001b[1;32m   1863\u001b[0m     args,\n\u001b[1;32m   1864\u001b[0m     possible_gradient_type,\n\u001b[1;32m   1865\u001b[0m     executing_eagerly)\n\u001b[1;32m   1866\u001b[0m forward_function, args_with_tangents \u001b[39m=\u001b[39m forward_backward\u001b[39m.\u001b[39mforward()\n",
      "File \u001b[0;32m~/homebrew/anaconda3/envs/mlp/lib/python3.9/site-packages/tensorflow/python/eager/function.py:497\u001b[0m, in \u001b[0;36m_EagerDefinedFunction.call\u001b[0;34m(self, ctx, args, cancellation_manager)\u001b[0m\n\u001b[1;32m    495\u001b[0m \u001b[39mwith\u001b[39;00m _InterpolateFunctionError(\u001b[39mself\u001b[39m):\n\u001b[1;32m    496\u001b[0m   \u001b[39mif\u001b[39;00m cancellation_manager \u001b[39mis\u001b[39;00m \u001b[39mNone\u001b[39;00m:\n\u001b[0;32m--> 497\u001b[0m     outputs \u001b[39m=\u001b[39m execute\u001b[39m.\u001b[39;49mexecute(\n\u001b[1;32m    498\u001b[0m         \u001b[39mstr\u001b[39;49m(\u001b[39mself\u001b[39;49m\u001b[39m.\u001b[39;49msignature\u001b[39m.\u001b[39;49mname),\n\u001b[1;32m    499\u001b[0m         num_outputs\u001b[39m=\u001b[39;49m\u001b[39mself\u001b[39;49m\u001b[39m.\u001b[39;49m_num_outputs,\n\u001b[1;32m    500\u001b[0m         inputs\u001b[39m=\u001b[39;49margs,\n\u001b[1;32m    501\u001b[0m         attrs\u001b[39m=\u001b[39;49mattrs,\n\u001b[1;32m    502\u001b[0m         ctx\u001b[39m=\u001b[39;49mctx)\n\u001b[1;32m    503\u001b[0m   \u001b[39melse\u001b[39;00m:\n\u001b[1;32m    504\u001b[0m     outputs \u001b[39m=\u001b[39m execute\u001b[39m.\u001b[39mexecute_with_cancellation(\n\u001b[1;32m    505\u001b[0m         \u001b[39mstr\u001b[39m(\u001b[39mself\u001b[39m\u001b[39m.\u001b[39msignature\u001b[39m.\u001b[39mname),\n\u001b[1;32m    506\u001b[0m         num_outputs\u001b[39m=\u001b[39m\u001b[39mself\u001b[39m\u001b[39m.\u001b[39m_num_outputs,\n\u001b[0;32m   (...)\u001b[0m\n\u001b[1;32m    509\u001b[0m         ctx\u001b[39m=\u001b[39mctx,\n\u001b[1;32m    510\u001b[0m         cancellation_manager\u001b[39m=\u001b[39mcancellation_manager)\n",
      "File \u001b[0;32m~/homebrew/anaconda3/envs/mlp/lib/python3.9/site-packages/tensorflow/python/eager/execute.py:54\u001b[0m, in \u001b[0;36mquick_execute\u001b[0;34m(op_name, num_outputs, inputs, attrs, ctx, name)\u001b[0m\n\u001b[1;32m     52\u001b[0m \u001b[39mtry\u001b[39;00m:\n\u001b[1;32m     53\u001b[0m   ctx\u001b[39m.\u001b[39mensure_initialized()\n\u001b[0;32m---> 54\u001b[0m   tensors \u001b[39m=\u001b[39m pywrap_tfe\u001b[39m.\u001b[39;49mTFE_Py_Execute(ctx\u001b[39m.\u001b[39;49m_handle, device_name, op_name,\n\u001b[1;32m     55\u001b[0m                                       inputs, attrs, num_outputs)\n\u001b[1;32m     56\u001b[0m \u001b[39mexcept\u001b[39;00m core\u001b[39m.\u001b[39m_NotOkStatusException \u001b[39mas\u001b[39;00m e:\n\u001b[1;32m     57\u001b[0m   \u001b[39mif\u001b[39;00m name \u001b[39mis\u001b[39;00m \u001b[39mnot\u001b[39;00m \u001b[39mNone\u001b[39;00m:\n",
      "\u001b[0;31mKeyboardInterrupt\u001b[0m: "
     ]
    }
   ],
   "source": [
    "gen_hist = my_cnn.genetic_algorithm()"
   ]
  },
  {
   "cell_type": "code",
   "execution_count": 11,
   "metadata": {},
   "outputs": [],
   "source": [
    "gen_hist = my_cnn.generation_history"
   ]
  },
  {
   "cell_type": "code",
   "execution_count": 14,
   "metadata": {},
   "outputs": [
    {
     "name": "stdout",
     "output_type": "stream",
     "text": [
      "[1 2 3 0 1 1 0 1 0 4 1]   0.7096153378486634\n",
      "[0 2 2 0 3 1 1 0 0 1 1]   0.7204999625682831\n",
      "[1 3 3 1 1 1 0 1 0 5 1]   0.7048076510429382\n"
     ]
    }
   ],
   "source": [
    "for gen in gen_hist.keys():\n",
    "    index = np.argmax(gen_hist[gen]['selected_fitness'])\n",
    "    fitness = np.max(gen_hist[gen]['selected_fitness'])\n",
    "    phenotype = my_cnn.decoder(gen_hist[gen]['selected_population'][index])\n",
    "    print(phenotype, ' ', fitness)"
   ]
  },
  {
   "cell_type": "code",
   "execution_count": 15,
   "metadata": {},
   "outputs": [],
   "source": [
    "def get_cnn_parameters(phenotype):\n",
    "\n",
    "    \"\"\"\n",
    "    Fetches the CNN input parameters based on the phenotype.\n",
    "    \"\"\"\n",
    "\n",
    "    input_params = []\n",
    "\n",
    "    layers = list(my_cnn.cnn_params.keys())\n",
    "\n",
    "    param_count = 0\n",
    "\n",
    "    for i in range(len(layers)):\n",
    "\n",
    "        for param_type in my_cnn.cnn_params[layers[i]].keys():\n",
    "            \n",
    "            input_params.append(my_cnn.cnn_params[layers[i]][param_type][phenotype[param_count]])\n",
    "            \n",
    "            param_count += 1\n",
    "    \n",
    "    cnn_input_params = input_params\n",
    "\n",
    "    return cnn_input_params"
   ]
  },
  {
   "cell_type": "code",
   "execution_count": 16,
   "metadata": {},
   "outputs": [
    {
     "data": {
      "text/plain": [
       "[16, 5, 16, 'valid', 'relu', 'average', 2, 'same', 'dropout', 0.5, 'dense']"
      ]
     },
     "execution_count": 16,
     "metadata": {},
     "output_type": "execute_result"
    }
   ],
   "source": [
    "get_cnn_parameters([1, 2, 3, 0, 1, 1, 0, 1, 0, 4 ,1])"
   ]
  },
  {
   "cell_type": "code",
   "execution_count": 17,
   "metadata": {},
   "outputs": [
    {
     "data": {
      "text/plain": [
       "[8, 5, 8, 'valid', 'elu', 'average', 3, 'valid', 'dropout', 0.2, 'dense']"
      ]
     },
     "execution_count": 17,
     "metadata": {},
     "output_type": "execute_result"
    }
   ],
   "source": [
    "get_cnn_parameters([0, 2, 2, 0, 3, 1, 1, 0, 0, 1 ,1])"
   ]
  },
  {
   "cell_type": "code",
   "execution_count": 19,
   "metadata": {},
   "outputs": [
    {
     "data": {
      "text/plain": [
       "[16, 7, 16, 'same', 'relu', 'average', 2, 'same', 'dropout', 0.6, 'dense']"
      ]
     },
     "execution_count": 19,
     "metadata": {},
     "output_type": "execute_result"
    }
   ],
   "source": [
    "get_cnn_parameters([1, 3, 3, 1, 1, 1, 0, 1, 0, 5, 1])"
   ]
  },
  {
   "cell_type": "code",
   "execution_count": 25,
   "metadata": {},
   "outputs": [
    {
     "name": "stdout",
     "output_type": "stream",
     "text": [
      "{'batch': [8, 16, 32]}\n",
      "[8, 16, 32]\n",
      "0\n",
      "8\n",
      "{'kernel': [1, 3, 5, 7], 'filter': [2, 4, 8, 16], 'padding': ['valid', 'same'], 'activation': ['tanh', 'relu', 'selu', 'elu']}\n",
      "[1, 3, 5, 7]\n",
      "2\n",
      "5\n",
      "{'kernel': [1, 3, 5, 7], 'filter': [2, 4, 8, 16], 'padding': ['valid', 'same'], 'activation': ['tanh', 'relu', 'selu', 'elu']}\n",
      "[2, 4, 8, 16]\n",
      "0\n",
      "2\n",
      "{'kernel': [1, 3, 5, 7], 'filter': [2, 4, 8, 16], 'padding': ['valid', 'same'], 'activation': ['tanh', 'relu', 'selu', 'elu']}\n",
      "['valid', 'same']\n",
      "2\n"
     ]
    },
    {
     "ename": "IndexError",
     "evalue": "list index out of range",
     "output_type": "error",
     "traceback": [
      "\u001b[0;31m---------------------------------------------------------------------------\u001b[0m",
      "\u001b[0;31mIndexError\u001b[0m                                Traceback (most recent call last)",
      "\u001b[1;32m/Users/Donovan/Documents/Masters/masters-ed02/coding/model_cnn_ga_1/model_cnn_ga.ipynb Cell 13\u001b[0m in \u001b[0;36m<cell line: 2>\u001b[0;34m()\u001b[0m\n\u001b[1;32m      <a href='vscode-notebook-cell:/Users/Donovan/Documents/Masters/masters-ed02/coding/model_cnn_ga_1/model_cnn_ga.ipynb#Y364sZmlsZQ%3D%3D?line=4'>5</a>\u001b[0m \u001b[39mprint\u001b[39m(my_cnn\u001b[39m.\u001b[39mcnn_params[layers[i]][param_type])\n\u001b[1;32m      <a href='vscode-notebook-cell:/Users/Donovan/Documents/Masters/masters-ed02/coding/model_cnn_ga_1/model_cnn_ga.ipynb#Y364sZmlsZQ%3D%3D?line=5'>6</a>\u001b[0m \u001b[39mprint\u001b[39m(my_cnn\u001b[39m.\u001b[39mphenotype[param_count])\n\u001b[0;32m----> <a href='vscode-notebook-cell:/Users/Donovan/Documents/Masters/masters-ed02/coding/model_cnn_ga_1/model_cnn_ga.ipynb#Y364sZmlsZQ%3D%3D?line=6'>7</a>\u001b[0m \u001b[39mprint\u001b[39m(my_cnn\u001b[39m.\u001b[39;49mcnn_params[layers[i]][param_type][my_cnn\u001b[39m.\u001b[39;49mphenotype[param_count]])\n\u001b[1;32m      <a href='vscode-notebook-cell:/Users/Donovan/Documents/Masters/masters-ed02/coding/model_cnn_ga_1/model_cnn_ga.ipynb#Y364sZmlsZQ%3D%3D?line=7'>8</a>\u001b[0m param_count \u001b[39m+\u001b[39m\u001b[39m=\u001b[39m \u001b[39m1\u001b[39m\n",
      "\u001b[0;31mIndexError\u001b[0m: list index out of range"
     ]
    }
   ],
   "source": [
    "\n",
    "get_params()"
   ]
  },
  {
   "cell_type": "code",
   "execution_count": 29,
   "metadata": {},
   "outputs": [
    {
     "data": {
      "text/plain": [
       "True"
      ]
     },
     "execution_count": 29,
     "metadata": {},
     "output_type": "execute_result"
    }
   ],
   "source": [
    "my_cnn.valid_phenotype"
   ]
  },
  {
   "cell_type": "code",
   "execution_count": 17,
   "metadata": {},
   "outputs": [
    {
     "data": {
      "text/plain": [
       "array([0, 2, 0, 2, 0, 1, 3, 0, 2, 2, 0])"
      ]
     },
     "execution_count": 17,
     "metadata": {},
     "output_type": "execute_result"
    }
   ],
   "source": [
    "my_cnn.phenotype"
   ]
  },
  {
   "cell_type": "code",
   "execution_count": 35,
   "metadata": {},
   "outputs": [
    {
     "name": "stdout",
     "output_type": "stream",
     "text": [
      "[3 4 4 2 4 2 4 2 2 9 2]\n",
      "[0 2 0 2 0 1 3 0 2 2 0]\n",
      "[2 3 3 1 3 1 3 1 1 8 1]\n",
      "[ True  True  True False  True  True  True  True False  True  True]\n",
      "False\n"
     ]
    }
   ],
   "source": [
    "print(my_cnn.len_lists)\n",
    "print(my_cnn.phenotype)\n",
    "print(my_cnn.len_lists - 1)\n",
    "print(my_cnn.phenotype <= my_cnn.len_lists - 1)\n",
    "print(np.all(my_cnn.phenotype < my_cnn.len_lists - 1))"
   ]
  },
  {
   "cell_type": "code",
   "execution_count": 18,
   "metadata": {},
   "outputs": [
    {
     "data": {
      "text/plain": [
       "{'input': {'batch': [8, 16, 32]},\n",
       " 'conv': {'kernel': [1, 3, 5, 7],\n",
       "  'filter': [2, 4, 8, 16],\n",
       "  'padding': ['valid', 'same'],\n",
       "  'activation': ['tanh', 'relu', 'selu', 'elu']},\n",
       " 'pool': {'type': ['max', 'average'],\n",
       "  'size': [2, 3, 4, 5],\n",
       "  'padding': ['valid', 'same']},\n",
       " 'dropout': {'type': ['dropout', 'spatial2D'],\n",
       "  'rate': [0.1, 0.2, 0.3, 0.4, 0.5, 0.6, 0.7, 0.8, 0.9]},\n",
       " 'output': {'type': ['global', 'dense']}}"
      ]
     },
     "execution_count": 18,
     "metadata": {},
     "output_type": "execute_result"
    }
   ],
   "source": [
    "my_cnn.cnn_params"
   ]
  },
  {
   "cell_type": "code",
   "execution_count": 16,
   "metadata": {},
   "outputs": [
    {
     "data": {
      "text/plain": [
       "{'1': {'selected_population': array([[0, 0, 0, 1, 0, 0, 0, 1, 0, 0, 0, 0, 0, 0, 0, 0, 0, 0, 1, 0, 0, 0,\n",
       "          0, 1, 0, 0, 1, 1, 0, 0, 0, 0, 0, 0, 0, 1, 0, 1, 1, 0, 0, 0, 0, 0],\n",
       "         [0, 0, 1, 0, 0, 0, 1, 0, 0, 0, 1, 0, 0, 0, 0, 0, 0, 0, 0, 1, 0, 0,\n",
       "          0, 1, 0, 0, 1, 1, 0, 0, 0, 0, 0, 0, 0, 0, 0, 1, 1, 0, 0, 0, 0, 0],\n",
       "         [0, 0, 1, 0, 0, 0, 0, 1, 0, 0, 0, 1, 0, 0, 0, 1, 0, 0, 0, 0, 0, 0,\n",
       "          0, 1, 0, 0, 0, 0, 0, 0, 0, 0, 0, 0, 0, 0, 0, 1, 1, 1, 0, 0, 0, 0],\n",
       "         [0, 0, 0, 1, 0, 0, 0, 1, 0, 0, 1, 0, 0, 0, 0, 0, 0, 0, 1, 1, 0, 0,\n",
       "          0, 0, 0, 0, 0, 1, 0, 0, 0, 1, 0, 0, 0, 1, 0, 1, 1, 0, 0, 0, 0, 0]]),\n",
       "  'selected_fitness': array([ 0.015625  ,  0.        , -0.02499999,  0.        ])}}"
      ]
     },
     "execution_count": 16,
     "metadata": {},
     "output_type": "execute_result"
    }
   ],
   "source": [
    "my_cnn.generation_history"
   ]
  },
  {
   "cell_type": "code",
   "execution_count": 215,
   "metadata": {},
   "outputs": [
    {
     "data": {
      "text/plain": [
       "array([[0, 0, 0, 1, 0, 0, 1, 1, 0, 0, 1, 1, 0, 0, 0, 1, 0, 0, 1, 0, 0, 0,\n",
       "        0, 1, 0, 0, 1, 1, 0, 0, 0, 0, 0, 0, 0, 0, 0, 1, 0, 1, 0, 0, 0, 1],\n",
       "       [0, 0, 0, 0, 0, 0, 0, 1, 0, 0, 1, 0, 0, 0, 0, 1, 0, 0, 1, 0, 0, 0,\n",
       "        0, 1, 0, 0, 0, 0, 0, 0, 0, 0, 0, 0, 0, 1, 0, 1, 0, 1, 0, 0, 0, 0],\n",
       "       [0, 0, 0, 1, 0, 0, 1, 1, 0, 0, 1, 0, 0, 0, 0, 1, 0, 0, 0, 1, 0, 0,\n",
       "        0, 0, 0, 0, 0, 0, 0, 0, 0, 0, 0, 0, 0, 1, 0, 1, 1, 0, 0, 0, 0, 1],\n",
       "       [0, 0, 0, 0, 0, 0, 1, 0, 0, 0, 1, 0, 0, 0, 0, 1, 0, 0, 0, 0, 0, 0,\n",
       "        0, 1, 0, 0, 1, 0, 0, 0, 0, 1, 0, 0, 0, 0, 0, 1, 0, 0, 0, 0, 0, 0],\n",
       "       [0, 0, 1, 0, 0, 0, 1, 1, 0, 0, 0, 0, 0, 0, 0, 0, 0, 0, 0, 1, 0, 0,\n",
       "        0, 0, 0, 0, 1, 0, 0, 0, 0, 0, 0, 0, 0, 1, 0, 0, 1, 1, 0, 0, 0, 0],\n",
       "       [0, 0, 1, 0, 0, 0, 0, 0, 0, 0, 0, 0, 0, 0, 0, 1, 0, 0, 1, 1, 0, 0,\n",
       "        0, 1, 0, 0, 0, 1, 0, 0, 0, 0, 0, 0, 0, 0, 0, 0, 1, 0, 0, 0, 0, 1],\n",
       "       [0, 0, 0, 0, 0, 0, 1, 1, 0, 0, 1, 1, 0, 0, 0, 0, 0, 0, 0, 0, 0, 0,\n",
       "        0, 1, 0, 0, 0, 1, 0, 0, 0, 0, 0, 0, 0, 1, 0, 0, 1, 0, 0, 0, 0, 1],\n",
       "       [0, 0, 0, 1, 0, 0, 0, 1, 0, 0, 1, 1, 0, 0, 0, 0, 0, 0, 0, 0, 0, 0,\n",
       "        0, 0, 0, 0, 1, 1, 0, 0, 0, 0, 0, 0, 0, 1, 0, 0, 0, 0, 0, 0, 0, 1],\n",
       "       [0, 0, 0, 0, 0, 0, 1, 0, 0, 0, 1, 0, 0, 0, 0, 0, 0, 0, 0, 1, 0, 0,\n",
       "        0, 1, 0, 0, 0, 0, 0, 0, 0, 0, 0, 0, 0, 1, 0, 1, 0, 1, 0, 0, 0, 0],\n",
       "       [0, 0, 1, 0, 0, 0, 1, 1, 0, 0, 0, 1, 0, 0, 0, 1, 0, 0, 0, 0, 0, 0,\n",
       "        0, 1, 0, 0, 0, 1, 0, 0, 0, 1, 0, 0, 0, 1, 0, 0, 1, 0, 0, 0, 0, 1]])"
      ]
     },
     "execution_count": 215,
     "metadata": {},
     "output_type": "execute_result"
    }
   ],
   "source": [
    "my_cnn.population"
   ]
  },
  {
   "cell_type": "code",
   "execution_count": 11,
   "metadata": {},
   "outputs": [
    {
     "name": "stdout",
     "output_type": "stream",
     "text": [
      "{'0': {'value': 0, '2 x value': 0}, '1': {'value': 1, '2 x value': 2}, '2': {'value': 2, '2 x value': 4}, '3': {'value': 3, '2 x value': 6}, '4': {'value': 4, '2 x value': 8}, '5': {'value': 5, '2 x value': 10}, '6': {'value': 6, '2 x value': 12}, '7': {'value': 7, '2 x value': 14}, '8': {'value': 8, '2 x value': 16}, '9': {'value': 9, '2 x value': 18}}\n"
     ]
    }
   ],
   "source": [
    "gene_hist = {}\n",
    "\n",
    "for i in range(10):\n",
    "    gene_hist[str(i)] = {}\n",
    "    gene_hist[str(i)]['value'] = i\n",
    "    gene_hist[str(i)]['2 x value'] = i*2\n",
    "\n",
    "print(gene_hist)"
   ]
  },
  {
   "cell_type": "code",
   "execution_count": null,
   "metadata": {},
   "outputs": [],
   "source": []
  },
  {
   "cell_type": "code",
   "execution_count": 174,
   "metadata": {},
   "outputs": [],
   "source": [
    "def get_state_space(path_to_yaml):\n",
    "\n",
    "    \"\"\"\n",
    "    Get the encoding length of an individual based on the input parameters dictionary\n",
    "    \"\"\"\n",
    "\n",
    "    with open(path_to_yaml, \"r\") as stream:\n",
    "        load_yaml = yaml.load(stream, yaml.SafeLoader)\n",
    "\n",
    "    len_lists = []\n",
    "    len_values = [] # stores the maximum lengths of bits required to define the length of the lists in the parameters dict\n",
    "    # max_ind = []\n",
    "    # bit_max_int = []\n",
    "    # bit_max = ''\n",
    "\n",
    "    params = load_yaml['cnn_layers']\n",
    "\n",
    "    for layer in params.keys():\n",
    "\n",
    "        for value_list in list(params[layer].values()):\n",
    "\n",
    "            # max_ind.append(len(value_list) - 1)\n",
    "\n",
    "            # bit_max = bit_max + bin(len(value_list) - 1)[2:]\n",
    "\n",
    "            len_values.append(len(bin(len(value_list) - 1)[2:])) \n",
    "\n",
    "            len_lists.append(len(value_list))\n",
    "        \n",
    "\n",
    "    gene_length = np.max(len_values)\n",
    "    \n",
    "    individual_length = len(len_lists) * gene_length\n",
    "\n",
    "    # len_values = np.array(len_values)\n",
    "\n",
    "    len_lists = np.array(len_lists)\n",
    "\n",
    "    return individual_length, gene_length, len_lists, params"
   ]
  },
  {
   "cell_type": "code",
   "execution_count": 177,
   "metadata": {},
   "outputs": [
    {
     "name": "stdout",
     "output_type": "stream",
     "text": [
      "44 4 [3 4 4 2 4 2 4 2 2 9 2] {'input': {'batch': [8, 16, 32]}, 'conv': {'kernel': [1, 3, 5, 7], 'filter': [2, 4, 8, 16], 'padding': ['valid', 'same'], 'activation': ['tanh', 'relu', 'selu', 'elu']}, 'pool': {'type': ['max', 'average'], 'size': [2, 3, 4, 5], 'padding': ['valid', 'same']}, 'dropout': {'type': ['dropout', 'spatial2D'], 'rate': [0.1, 0.2, 0.3, 0.4, 0.5, 0.6, 0.7, 0.8, 0.9]}, 'output': {'type': ['global', 'dense']}}\n"
     ]
    }
   ],
   "source": [
    "path = 'parameters.yaml'\n",
    "\n",
    "ind_len, gene_len, len_list, params = get_state_space(path)\n",
    "print(ind_len, gene_len, len_list, params)"
   ]
  },
  {
   "cell_type": "code",
   "execution_count": 6,
   "metadata": {},
   "outputs": [],
   "source": [
    "def generate_population(length, parameter_len, n = 10, seed = None):\n",
    "    \"\"\"\n",
    "    Generate population given the number of individuals in a population and the the required binary length\n",
    "    \"\"\"\n",
    "\n",
    "    bit_length = int(length/len(parameter_len))\n",
    "\n",
    "    if seed != None:\n",
    "\n",
    "        np.random.seed(seed)\n",
    "\n",
    "    population = np.zeros(shape=(n, length), dtype=int)\n",
    "    \n",
    "    for i in range(n):\n",
    "        \n",
    "        bits = ''\n",
    "        for l in parameter_len:\n",
    "\n",
    "            choice = np.random.choice(np.arange(0, l))\n",
    "\n",
    "            bit_choice = bin(choice)[2:]\n",
    "\n",
    "            bits += ('0' * (bit_length - len(bit_choice))) + bit_choice\n",
    "\n",
    "        population[i] = np.array([int(x) for x in bits])\n",
    "    \n",
    "    return population\n"
   ]
  },
  {
   "cell_type": "code",
   "execution_count": 7,
   "metadata": {},
   "outputs": [
    {
     "name": "stdout",
     "output_type": "stream",
     "text": [
      "[[0 0 0 0 0 0 0 0 0 0 1 1 0 0 0 1 0 0 0 1 0 0 0 0 0 0 0 0 0 0 0 1 0 0 0 1\n",
      "  0 0 1 0 0 0 0 0]\n",
      " [0 0 1 0 0 0 1 1 0 0 0 0 0 0 0 1 0 0 1 1 0 0 0 0 0 0 1 1 0 0 0 1 0 0 0 1\n",
      "  0 0 0 1 0 0 0 1]]\n"
     ]
    }
   ],
   "source": [
    "pop = generate_population(ind_len, len_list, n = 100, seed = 43)\n",
    "print(pop[:2])"
   ]
  },
  {
   "cell_type": "code",
   "execution_count": 220,
   "metadata": {},
   "outputs": [],
   "source": [
    "def decoder(chromosome, gene_length):\n",
    "\n",
    "    \"\"\"\n",
    "    Converts the binary bitstring vector to integer phenotype and performs check to see if it is valid with respect to the constraints\n",
    "    \"\"\"\n",
    "\n",
    "    c = chromosome.astype(int)\n",
    "\n",
    "    chromo_length = len(c)\n",
    "    print(chromo_length)\n",
    "\n",
    "    start_ind = np.arange(0, chromo_length, gene_length)\n",
    "\n",
    "    phenotype = np.array([int(str(''.join(map(str, c[x:x + gene_length]))), 2) for x in start_ind])\n",
    "\n",
    "    return phenotype \n"
   ]
  },
  {
   "cell_type": "code",
   "execution_count": 219,
   "metadata": {},
   "outputs": [
    {
     "data": {
      "text/plain": [
       "array([0, 0, 0, 1, 0, 0, 1, 1, 0, 0, 1, 1, 0, 0, 0, 1, 0, 0, 1, 0, 0, 0,\n",
       "       0, 1, 0, 0, 1, 1, 0, 0, 0, 0, 0, 0, 0, 0, 0, 1, 0, 1, 0, 0, 0, 1])"
      ]
     },
     "execution_count": 219,
     "metadata": {},
     "output_type": "execute_result"
    }
   ],
   "source": [
    "my_cnn.population[0]"
   ]
  },
  {
   "cell_type": "code",
   "execution_count": 222,
   "metadata": {},
   "outputs": [
    {
     "name": "stdout",
     "output_type": "stream",
     "text": [
      "44\n"
     ]
    },
    {
     "data": {
      "text/plain": [
       "array([1, 3, 3, 1, 2, 1, 3, 0, 0, 5, 1])"
      ]
     },
     "execution_count": 222,
     "metadata": {},
     "output_type": "execute_result"
    }
   ],
   "source": [
    "decoder(my_cnn.population[0], 4)"
   ]
  },
  {
   "cell_type": "code",
   "execution_count": 10,
   "metadata": {},
   "outputs": [],
   "source": [
    "def validity_check(phenotype, parameter_lengths):\n",
    "    return np.any(phenotype < parameter_lengths - 1)"
   ]
  },
  {
   "cell_type": "code",
   "execution_count": 11,
   "metadata": {},
   "outputs": [
    {
     "name": "stdout",
     "output_type": "stream",
     "text": [
      "True\n"
     ]
    }
   ],
   "source": [
    "valid = validity_check(pheno, len_list)\n",
    "print(valid)"
   ]
  },
  {
   "cell_type": "code",
   "execution_count": 102,
   "metadata": {},
   "outputs": [
    {
     "name": "stdout",
     "output_type": "stream",
     "text": [
      "[8, 1, 16, 'same', 'relu', 'max', 2, 'same', 'spatial2D', 0.3, 'global']\n",
      "[32, 7, 2, 'same', 'elu', 'max', 5, 'same', 'spatial2D', 0.2, 'dense']\n",
      "[32, 7, 8, 'same', 'relu', 'max', 2, 'valid', 'spatial2D', 0.9, 'global']\n",
      "[8, 5, 2, 'valid', 'relu', 'max', 2, 'valid', 'dropout', 0.9, 'global']\n",
      "[16, 7, 4, 'valid', 'elu', 'max', 3, 'valid', 'spatial2D', 0.3, 'dense']\n",
      "[16, 3, 2, 'valid', 'selu', 'max', 3, 'same', 'spatial2D', 0.9, 'global']\n",
      "[32, 7, 16, 'same', 'elu', 'max', 5, 'valid', 'dropout', 0.5, 'global']\n",
      "[32, 1, 16, 'valid', 'relu', 'max', 5, 'valid', 'spatial2D', 0.4, 'dense']\n",
      "[8, 7, 8, 'same', 'elu', 'max', 3, 'valid', 'dropout', 0.1, 'global']\n",
      "[32, 7, 4, 'same', 'tanh', 'average', 5, 'same', 'spatial2D', 0.2, 'dense']\n",
      "[16, 1, 2, 'same', 'selu', 'average', 2, 'valid', 'dropout', 0.8, 'dense']\n",
      "[8, 3, 2, 'valid', 'tanh', 'average', 2, 'same', 'dropout', 0.7, 'dense']\n",
      "[8, 7, 2, 'same', 'tanh', 'average', 5, 'valid', 'spatial2D', 0.6, 'global']\n",
      "[16, 5, 2, 'valid', 'tanh', 'average', 2, 'valid', 'dropout', 0.4, 'dense']\n",
      "[8, 5, 8, 'valid', 'elu', 'max', 3, 'same', 'dropout', 0.5, 'dense']\n",
      "[16, 1, 16, 'valid', 'selu', 'max', 5, 'same', 'spatial2D', 0.3, 'dense']\n",
      "[16, 7, 4, 'valid', 'selu', 'average', 5, 'valid', 'spatial2D', 0.9, 'global']\n",
      "[32, 3, 8, 'valid', 'tanh', 'average', 3, 'valid', 'dropout', 0.7, 'dense']\n",
      "[32, 7, 2, 'same', 'selu', 'max', 5, 'same', 'spatial2D', 0.5, 'dense']\n",
      "[16, 5, 16, 'same', 'elu', 'max', 5, 'same', 'spatial2D', 0.8, 'global']\n",
      "[8, 7, 8, 'same', 'elu', 'max', 5, 'same', 'dropout', 0.1, 'global']\n",
      "[32, 5, 16, 'valid', 'relu', 'max', 3, 'valid', 'dropout', 0.5, 'global']\n",
      "[32, 5, 2, 'valid', 'elu', 'max', 4, 'same', 'spatial2D', 0.7, 'dense']\n",
      "[8, 3, 8, 'valid', 'relu', 'average', 5, 'valid', 'dropout', 0.1, 'global']\n",
      "[8, 5, 16, 'valid', 'elu', 'max', 3, 'valid', 'dropout', 0.1, 'global']\n",
      "[16, 3, 2, 'valid', 'tanh', 'max', 2, 'same', 'dropout', 0.2, 'global']\n",
      "[8, 5, 8, 'same', 'relu', 'average', 5, 'same', 'spatial2D', 0.1, 'dense']\n",
      "[32, 3, 4, 'same', 'tanh', 'average', 4, 'same', 'dropout', 0.6, 'dense']\n",
      "[8, 3, 16, 'same', 'selu', 'max', 5, 'valid', 'spatial2D', 0.3, 'dense']\n",
      "[8, 7, 4, 'valid', 'elu', 'average', 5, 'valid', 'spatial2D', 0.9, 'dense']\n",
      "[8, 3, 4, 'valid', 'relu', 'average', 5, 'same', 'dropout', 0.1, 'dense']\n",
      "[16, 1, 8, 'same', 'tanh', 'max', 5, 'valid', 'spatial2D', 0.8, 'global']\n",
      "[32, 5, 16, 'same', 'relu', 'average', 3, 'valid', 'dropout', 0.3, 'dense']\n",
      "[32, 5, 16, 'same', 'elu', 'max', 3, 'valid', 'dropout', 0.3, 'dense']\n",
      "[32, 1, 2, 'valid', 'relu', 'average', 2, 'valid', 'spatial2D', 0.3, 'global']\n",
      "[8, 1, 16, 'valid', 'tanh', 'max', 4, 'same', 'spatial2D', 0.1, 'dense']\n",
      "[32, 5, 4, 'same', 'relu', 'max', 3, 'same', 'spatial2D', 0.8, 'global']\n",
      "[32, 3, 2, 'valid', 'relu', 'max', 4, 'valid', 'dropout', 0.6, 'global']\n",
      "[8, 3, 8, 'valid', 'selu', 'average', 3, 'valid', 'spatial2D', 0.2, 'dense']\n",
      "[32, 5, 8, 'valid', 'tanh', 'max', 4, 'same', 'dropout', 0.8, 'global']\n",
      "[8, 3, 4, 'same', 'elu', 'max', 4, 'same', 'spatial2D', 0.4, 'global']\n",
      "[16, 3, 2, 'same', 'selu', 'average', 3, 'valid', 'spatial2D', 0.2, 'global']\n",
      "[8, 7, 4, 'valid', 'selu', 'max', 5, 'same', 'dropout', 0.8, 'dense']\n",
      "[32, 5, 8, 'same', 'selu', 'max', 5, 'same', 'spatial2D', 0.9, 'dense']\n",
      "[16, 1, 16, 'valid', 'relu', 'max', 5, 'valid', 'dropout', 0.1, 'dense']\n",
      "[16, 1, 4, 'same', 'relu', 'average', 5, 'valid', 'spatial2D', 0.4, 'dense']\n",
      "[8, 5, 4, 'valid', 'selu', 'average', 3, 'valid', 'dropout', 0.5, 'global']\n",
      "[16, 7, 4, 'same', 'elu', 'average', 4, 'same', 'dropout', 0.9, 'dense']\n",
      "[32, 1, 4, 'valid', 'selu', 'average', 3, 'valid', 'dropout', 0.8, 'dense']\n",
      "[8, 7, 2, 'same', 'relu', 'average', 4, 'same', 'dropout', 0.7, 'global']\n",
      "[32, 7, 8, 'valid', 'selu', 'max', 5, 'valid', 'dropout', 0.8, 'dense']\n",
      "[16, 5, 2, 'same', 'elu', 'average', 5, 'same', 'spatial2D', 0.9, 'global']\n",
      "[32, 7, 8, 'valid', 'selu', 'max', 5, 'same', 'spatial2D', 0.8, 'dense']\n",
      "[8, 3, 16, 'valid', 'relu', 'max', 5, 'same', 'spatial2D', 0.2, 'global']\n",
      "[8, 5, 16, 'valid', 'tanh', 'max', 3, 'valid', 'dropout', 0.7, 'global']\n",
      "[32, 5, 2, 'valid', 'elu', 'max', 3, 'same', 'spatial2D', 0.1, 'dense']\n",
      "[32, 3, 2, 'valid', 'elu', 'average', 2, 'same', 'dropout', 0.1, 'dense']\n",
      "[32, 3, 8, 'same', 'tanh', 'average', 5, 'same', 'dropout', 0.2, 'dense']\n",
      "[16, 7, 2, 'same', 'elu', 'max', 3, 'same', 'spatial2D', 0.4, 'dense']\n",
      "[16, 3, 2, 'same', 'selu', 'average', 4, 'valid', 'dropout', 0.3, 'dense']\n",
      "[16, 3, 2, 'valid', 'relu', 'max', 4, 'valid', 'dropout', 0.3, 'global']\n",
      "[32, 3, 8, 'same', 'elu', 'average', 3, 'valid', 'spatial2D', 0.6, 'dense']\n",
      "[32, 1, 8, 'same', 'relu', 'max', 4, 'same', 'dropout', 0.2, 'global']\n",
      "[8, 7, 2, 'same', 'selu', 'average', 5, 'same', 'dropout', 0.3, 'dense']\n",
      "[16, 1, 2, 'valid', 'tanh', 'average', 2, 'valid', 'dropout', 0.9, 'dense']\n",
      "[16, 3, 2, 'valid', 'relu', 'average', 5, 'same', 'dropout', 0.9, 'global']\n",
      "[32, 5, 4, 'same', 'tanh', 'max', 4, 'same', 'dropout', 0.2, 'dense']\n",
      "[32, 1, 4, 'valid', 'tanh', 'max', 3, 'same', 'dropout', 0.5, 'global']\n",
      "[8, 7, 16, 'same', 'selu', 'max', 2, 'valid', 'spatial2D', 0.6, 'global']\n",
      "[32, 5, 4, 'same', 'elu', 'max', 5, 'same', 'spatial2D', 0.8, 'global']\n",
      "[32, 5, 16, 'valid', 'elu', 'max', 3, 'same', 'spatial2D', 0.1, 'global']\n",
      "[8, 5, 16, 'same', 'tanh', 'max', 5, 'valid', 'dropout', 0.3, 'global']\n",
      "[16, 3, 16, 'valid', 'selu', 'average', 4, 'same', 'spatial2D', 0.7, 'global']\n",
      "[16, 5, 16, 'same', 'selu', 'max', 2, 'valid', 'spatial2D', 0.6, 'global']\n",
      "[8, 3, 8, 'valid', 'elu', 'average', 4, 'valid', 'spatial2D', 0.8, 'global']\n",
      "[16, 1, 4, 'same', 'selu', 'max', 3, 'same', 'spatial2D', 0.2, 'dense']\n",
      "[16, 3, 4, 'same', 'selu', 'average', 2, 'valid', 'dropout', 0.6, 'dense']\n",
      "[8, 5, 8, 'valid', 'tanh', 'max', 4, 'valid', 'spatial2D', 0.1, 'global']\n",
      "[32, 3, 4, 'valid', 'elu', 'average', 3, 'valid', 'dropout', 0.2, 'dense']\n",
      "[16, 5, 2, 'same', 'relu', 'average', 5, 'valid', 'dropout', 0.4, 'dense']\n",
      "[16, 1, 8, 'same', 'selu', 'average', 4, 'valid', 'dropout', 0.3, 'global']\n",
      "[8, 3, 8, 'valid', 'elu', 'average', 5, 'valid', 'spatial2D', 0.2, 'global']\n",
      "[8, 3, 8, 'valid', 'relu', 'average', 3, 'valid', 'dropout', 0.6, 'dense']\n",
      "[8, 1, 16, 'valid', 'elu', 'max', 5, 'valid', 'dropout', 0.1, 'global']\n",
      "[32, 3, 8, 'same', 'relu', 'average', 2, 'valid', 'dropout', 0.7, 'dense']\n",
      "[8, 7, 16, 'valid', 'elu', 'max', 4, 'valid', 'dropout', 0.4, 'dense']\n",
      "[8, 3, 2, 'valid', 'relu', 'max', 2, 'valid', 'spatial2D', 0.8, 'global']\n",
      "[32, 5, 4, 'same', 'relu', 'average', 3, 'same', 'spatial2D', 0.8, 'global']\n",
      "[32, 5, 16, 'valid', 'selu', 'max', 2, 'valid', 'spatial2D', 0.7, 'dense']\n",
      "[16, 5, 4, 'valid', 'selu', 'max', 2, 'same', 'spatial2D', 0.1, 'global']\n",
      "[8, 5, 8, 'valid', 'elu', 'average', 3, 'same', 'dropout', 0.9, 'dense']\n",
      "[32, 7, 16, 'same', 'selu', 'average', 2, 'valid', 'spatial2D', 0.4, 'dense']\n",
      "[32, 3, 2, 'valid', 'tanh', 'max', 2, 'same', 'spatial2D', 0.8, 'dense']\n",
      "[8, 3, 16, 'valid', 'tanh', 'max', 3, 'valid', 'dropout', 0.5, 'dense']\n",
      "[32, 3, 2, 'same', 'relu', 'average', 5, 'same', 'dropout', 0.7, 'dense']\n",
      "[8, 1, 16, 'same', 'elu', 'max', 3, 'valid', 'spatial2D', 0.1, 'global']\n",
      "[16, 1, 8, 'same', 'relu', 'average', 4, 'valid', 'dropout', 0.2, 'dense']\n",
      "[32, 5, 16, 'same', 'tanh', 'max', 5, 'same', 'spatial2D', 0.4, 'global']\n",
      "[8, 7, 8, 'valid', 'relu', 'average', 2, 'same', 'spatial2D', 0.9, 'dense']\n",
      "[8, 3, 8, 'valid', 'tanh', 'max', 3, 'same', 'spatial2D', 0.4, 'global']\n"
     ]
    }
   ],
   "source": [
    "for i in range(pop.shape[0]):\n",
    "    phen = decoder(pop[i], 4)\n",
    "    print(get_params(phen, params))"
   ]
  },
  {
   "cell_type": "code",
   "execution_count": 12,
   "metadata": {},
   "outputs": [],
   "source": [
    "def hamming_distance(population, selection_probability = 0.1, seed = None):\n",
    "\n",
    "    n = population.shape[0]\n",
    "\n",
    "    n_select = int(np.ceil(n*selection_probability))\n",
    "\n",
    "    mean_hamming = 0\n",
    "\n",
    "    if seed != None:\n",
    "        np.random.seed(seed)\n",
    "\n",
    "    for individual in np.random.choice(np.arange(0, n, n_select), n_select):\n",
    "\n",
    "        mean_hamming += np.mean([distance.hamming(population[individual], population[x]) for x in range(n)])\n",
    "\n",
    "    return mean_hamming/n_select"
   ]
  },
  {
   "cell_type": "code",
   "execution_count": 13,
   "metadata": {},
   "outputs": [
    {
     "data": {
      "text/plain": [
       "0.20345454545454547"
      ]
     },
     "execution_count": 13,
     "metadata": {},
     "output_type": "execute_result"
    }
   ],
   "source": [
    "hamming_distance(pop)"
   ]
  },
  {
   "cell_type": "code",
   "execution_count": 14,
   "metadata": {},
   "outputs": [],
   "source": [
    "def fitness(fitness_input, population = None, model_params = None, age = None, beta = 10):\n",
    "\n",
    "    diversity = 1\n",
    "\n",
    "    n_params = 1\n",
    "\n",
    "    if population != None:\n",
    "        diversity = hamming_distance(population)\n",
    "\n",
    "    if model_params != None:\n",
    "        n_params = 1 # need to determine the maximum number of possible parameters so that we can scale\n",
    "\n",
    "    return 1/(1 + np.exp(-beta*fitness_input)) # * 1/diversity * n_params\n"
   ]
  },
  {
   "cell_type": "code",
   "execution_count": 15,
   "metadata": {},
   "outputs": [],
   "source": [
    "def check_parent_similarity(parents):\n",
    "    return np.any(np.sum(np.diff(parents, axis = 0), axis = 1) == 0)\n"
   ]
  },
  {
   "cell_type": "code",
   "execution_count": 16,
   "metadata": {},
   "outputs": [
    {
     "data": {
      "text/plain": [
       "False"
      ]
     },
     "execution_count": 16,
     "metadata": {},
     "output_type": "execute_result"
    }
   ],
   "source": [
    "check_parent_similarity(np.array([[1,0,0,1], [1,1,1,1]]))"
   ]
  },
  {
   "cell_type": "code",
   "execution_count": 41,
   "metadata": {},
   "outputs": [],
   "source": [
    "\n",
    "\n"
   ]
  },
  {
   "cell_type": "code",
   "execution_count": 18,
   "metadata": {},
   "outputs": [
    {
     "name": "stdout",
     "output_type": "stream",
     "text": [
      "(100, 44)\n",
      "(100, 44)\n"
     ]
    }
   ],
   "source": [
    "print(pop.shape)\n",
    "print(crossover(pop).shape)"
   ]
  },
  {
   "cell_type": "code",
   "execution_count": 107,
   "metadata": {},
   "outputs": [],
   "source": [
    "def get_params(phenotype, parameters):\n",
    "\n",
    "    params = []\n",
    "\n",
    "    layers = list(parameters.keys())\n",
    "\n",
    "    param_count = 0\n",
    "\n",
    "    for i in range(len(layers)):\n",
    "\n",
    "        for param_type in parameters[layers[i]].keys():\n",
    "            \n",
    "            params.append(parameters[layers[i]][param_type][phenotype[param_count]])\n",
    "            \n",
    "            param_count += 1\n",
    "    \n",
    "    return params\n"
   ]
  },
  {
   "cell_type": "code",
   "execution_count": 44,
   "metadata": {},
   "outputs": [
    {
     "name": "stdout",
     "output_type": "stream",
     "text": [
      "[8, 1, 16, 'same', 'relu', 'max', 2, 'same', 'spatial2D', 0.3, 'global']\n"
     ]
    }
   ],
   "source": [
    "new_params = get_params(pheno, params)\n",
    "print(new_params)"
   ]
  },
  {
   "cell_type": "code",
   "execution_count": 22,
   "metadata": {},
   "outputs": [],
   "source": [
    "def prep_data(sample_size = None, seed = None):\n",
    "    \n",
    "    X = np.load('/Users/Donovan/Documents/Masters/masters-ed02/coding/model_base_cnn/train/X.npy')\n",
    "    Y = np.load('/Users/Donovan/Documents/Masters/masters-ed02/coding/model_base_cnn/train/Y.npy')\n",
    "\n",
    "    # Subsample\n",
    "    if sample_size != None:\n",
    "        g_sample = int(np.floor(sample_size/2))\n",
    "        n_sample = sample_size - g_sample\n",
    "\n",
    "        g_i = np.random.randint(0, int(X.shape[0]/2) - 1, g_sample)\n",
    "        n_i = np.random.randint(int(X.shape[0]/2), X.shape[0] - 1, n_sample)\n",
    "\n",
    "        X = np.concatenate([X[g_i], X[n_i]])\n",
    "        Y = np.concatenate([Y[g_i], Y[n_i]])\n",
    "        X_train, X_val, Y_train, Y_val = train_test_split(X, Y, test_size=0.40, random_state=seed, shuffle = True)\n",
    "        X_test, X_val, Y_test, Y_val = train_test_split(X_val, Y_val, test_size=0.50, random_state=seed, shuffle = True)\n",
    "\n",
    "    else:\n",
    "        X_train, X_val, Y_train, Y_val = train_test_split(X, Y, test_size=0.40, random_state=seed, shuffle = True)\n",
    "        X_test, X_val, Y_test, Y_val = train_test_split(X_val, Y_val, test_size=0.50, random_state=seed, shuffle = True)\n",
    "\n",
    "    return  {'X_train':X_train, 'X_val':X_val, 'X_test':X_test, 'Y_train':Y_train, 'Y_val':Y_val, 'Y_test':Y_test}"
   ]
  },
  {
   "cell_type": "code",
   "execution_count": 23,
   "metadata": {},
   "outputs": [
    {
     "name": "stdout",
     "output_type": "stream",
     "text": [
      "X_train: (600, 128, 188, 1)\n",
      "Y_train: (600, 2)\n",
      "\n",
      "X_val: (200, 128, 188, 1)\n",
      "Y_val: (200, 2)\n",
      "\n",
      "X_val: (200, 128, 188, 1)\n",
      "Y_val: (200, 2)\n"
     ]
    }
   ],
   "source": [
    "data_dict = prep_data(sample_size = 1000, seed = 42)\n",
    "\n",
    "print ('X_train:',data_dict['X_train'].shape)\n",
    "print ('Y_train:',data_dict['Y_train'].shape)\n",
    "print ()\n",
    "print ('X_val:',data_dict['X_val'].shape)\n",
    "print ('Y_val:',data_dict['Y_val'].shape)\n",
    "print ()\n",
    "print ('X_val:',data_dict['X_test'].shape)\n",
    "print ('Y_val:',data_dict['Y_test'].shape)"
   ]
  },
  {
   "cell_type": "code",
   "execution_count": 24,
   "metadata": {},
   "outputs": [],
   "source": [
    "def recall_m(y_true, y_pred):\n",
    "    true_positives = K.sum(K.round(K.clip(y_true * y_pred, 0, 1)))\n",
    "    possible_positives = K.sum(K.round(K.clip(y_true, 0, 1)))\n",
    "    recall = true_positives / (possible_positives + K.epsilon())\n",
    "    return recall\n",
    "\n",
    "def precision_m(y_true, y_pred):\n",
    "    true_positives = K.sum(K.round(K.clip(y_true * y_pred, 0, 1)))\n",
    "    predicted_positives = K.sum(K.round(K.clip(y_pred, 0, 1)))\n",
    "    precision = true_positives / (predicted_positives + K.epsilon())\n",
    "    return precision\n",
    "\n",
    "def f1_m(y_true, y_pred):\n",
    "    precision = precision_m(y_true, y_pred)\n",
    "    recall = recall_m(y_true, y_pred)\n",
    "    return 2*((precision*recall)/(precision+recall+K.epsilon()))"
   ]
  },
  {
   "cell_type": "code",
   "execution_count": 25,
   "metadata": {},
   "outputs": [],
   "source": [
    "def train_model(parameters, X_train, X_val, Y_train, Y_val, verbose = 0):\n",
    "\n",
    "    model = Sequential()\n",
    "\n",
    "    model.add(Conv2D(input_shape = X_train.shape[1:], kernel_size = parameters[1], filters = parameters[2], padding = parameters[3],\n",
    "                        activation = parameters[4]))\n",
    "\n",
    "    if parameters[8] == 'dropout':\n",
    "        model.add(Dropout(rate = parameters[9]))\n",
    "\n",
    "    else:\n",
    "        model.add(SpatialDropout2D(rate = parameters[9]))\n",
    "\n",
    "    if parameters[5] == 'max':\n",
    "        model.add(MaxPool2D(pool_size=parameters[6], padding=parameters[7]))\n",
    "\n",
    "    else:\n",
    "        model.add(AveragePooling2D(pool_size=parameters[6], padding=parameters[7]))\n",
    "\n",
    "    if parameters[10] == 'dense':\n",
    "        model.add(Flatten())\n",
    "        model.add(Dense(100, activation = parameters[4]))\n",
    "        model.add(Dropout(rate = parameters[9]))\n",
    "\n",
    "\n",
    "    else:\n",
    "        model.add(GlobalAveragePooling2D())\n",
    "        model.add(Flatten())\n",
    "    \n",
    "    model.add(Dense(2, activation = 'softmax'))\n",
    "    model.compile(loss='binary_crossentropy', optimizer='adam', metrics=['acc', f1_m, precision_m, recall_m])\n",
    "\n",
    "    history = model.fit(X_train, Y_train, validation_data=(X_val, Y_val), \n",
    "            batch_size=parameters[0],\n",
    "            epochs=10,\n",
    "            verbose=verbose, \n",
    "            class_weight={0:1.,1:1.})\n",
    "\n",
    "    return model, history"
   ]
  },
  {
   "cell_type": "code",
   "execution_count": 26,
   "metadata": {},
   "outputs": [
    {
     "name": "stderr",
     "output_type": "stream",
     "text": [
      "2022-11-27 19:03:16.957267: I tensorflow/core/common_runtime/pluggable_device/pluggable_device_factory.cc:305] Could not identify NUMA node of platform GPU ID 0, defaulting to 0. Your kernel may not have been built with NUMA support.\n",
      "2022-11-27 19:03:16.959011: I tensorflow/core/common_runtime/pluggable_device/pluggable_device_factory.cc:271] Created TensorFlow device (/job:localhost/replica:0/task:0/device:GPU:0 with 0 MB memory) -> physical PluggableDevice (device: 0, name: METAL, pci bus id: <undefined>)\n"
     ]
    },
    {
     "name": "stdout",
     "output_type": "stream",
     "text": [
      "Metal device set to: Apple M1 Pro\n",
      "\n",
      "systemMemory: 16.00 GB\n",
      "maxCacheSize: 5.33 GB\n",
      "\n",
      "Epoch 1/10\n"
     ]
    },
    {
     "name": "stderr",
     "output_type": "stream",
     "text": [
      "2022-11-27 19:03:17.428313: W tensorflow/core/platform/profile_utils/cpu_utils.cc:128] Failed to get CPU frequency: 0 Hz\n",
      "2022-11-27 19:03:18.268470: I tensorflow/core/grappler/optimizers/custom_graph_optimizer_registry.cc:113] Plugin optimizer for device_type GPU is enabled.\n"
     ]
    },
    {
     "name": "stdout",
     "output_type": "stream",
     "text": [
      "75/75 - 2s - loss: 0.6932 - acc: 0.4983 - f1_m: 0.4983 - precision_m: 0.4983 - recall_m: 0.4983 - val_loss: 0.6941 - val_acc: 0.4550 - val_f1_m: 0.4550 - val_precision_m: 0.4550 - val_recall_m: 0.4550 - 2s/epoch - 29ms/step\n",
      "Epoch 2/10\n"
     ]
    },
    {
     "name": "stderr",
     "output_type": "stream",
     "text": [
      "2022-11-27 19:03:19.444787: I tensorflow/core/grappler/optimizers/custom_graph_optimizer_registry.cc:113] Plugin optimizer for device_type GPU is enabled.\n"
     ]
    },
    {
     "name": "stdout",
     "output_type": "stream",
     "text": [
      "75/75 - 1s - loss: 0.6928 - acc: 0.5150 - f1_m: 0.5150 - precision_m: 0.5150 - recall_m: 0.5150 - val_loss: 0.6944 - val_acc: 0.4550 - val_f1_m: 0.4550 - val_precision_m: 0.4550 - val_recall_m: 0.4550 - 824ms/epoch - 11ms/step\n",
      "Epoch 3/10\n",
      "75/75 - 1s - loss: 0.6924 - acc: 0.5133 - f1_m: 0.5133 - precision_m: 0.5133 - recall_m: 0.5133 - val_loss: 0.6946 - val_acc: 0.4550 - val_f1_m: 0.4550 - val_precision_m: 0.4550 - val_recall_m: 0.4550 - 809ms/epoch - 11ms/step\n",
      "Epoch 4/10\n",
      "75/75 - 1s - loss: 0.6930 - acc: 0.5133 - f1_m: 0.5133 - precision_m: 0.5133 - recall_m: 0.5133 - val_loss: 0.6955 - val_acc: 0.4550 - val_f1_m: 0.4550 - val_precision_m: 0.4550 - val_recall_m: 0.4550 - 814ms/epoch - 11ms/step\n",
      "Epoch 5/10\n",
      "75/75 - 1s - loss: 0.6931 - acc: 0.5133 - f1_m: 0.5133 - precision_m: 0.5133 - recall_m: 0.5133 - val_loss: 0.6953 - val_acc: 0.4550 - val_f1_m: 0.4550 - val_precision_m: 0.4550 - val_recall_m: 0.4550 - 808ms/epoch - 11ms/step\n",
      "Epoch 6/10\n",
      "75/75 - 1s - loss: 0.6928 - acc: 0.5133 - f1_m: 0.5133 - precision_m: 0.5133 - recall_m: 0.5133 - val_loss: 0.6954 - val_acc: 0.4550 - val_f1_m: 0.4550 - val_precision_m: 0.4550 - val_recall_m: 0.4550 - 889ms/epoch - 12ms/step\n",
      "Epoch 7/10\n",
      "75/75 - 1s - loss: 0.6929 - acc: 0.5133 - f1_m: 0.5133 - precision_m: 0.5133 - recall_m: 0.5133 - val_loss: 0.6954 - val_acc: 0.4550 - val_f1_m: 0.4550 - val_precision_m: 0.4550 - val_recall_m: 0.4550 - 787ms/epoch - 10ms/step\n",
      "Epoch 8/10\n",
      "75/75 - 1s - loss: 0.6926 - acc: 0.5133 - f1_m: 0.5133 - precision_m: 0.5133 - recall_m: 0.5133 - val_loss: 0.6957 - val_acc: 0.4550 - val_f1_m: 0.4550 - val_precision_m: 0.4550 - val_recall_m: 0.4550 - 877ms/epoch - 12ms/step\n",
      "Epoch 9/10\n",
      "75/75 - 1s - loss: 0.6929 - acc: 0.5133 - f1_m: 0.5133 - precision_m: 0.5133 - recall_m: 0.5133 - val_loss: 0.6954 - val_acc: 0.4550 - val_f1_m: 0.4550 - val_precision_m: 0.4550 - val_recall_m: 0.4550 - 853ms/epoch - 11ms/step\n",
      "Epoch 10/10\n",
      "75/75 - 1s - loss: 0.6931 - acc: 0.5133 - f1_m: 0.5133 - precision_m: 0.5133 - recall_m: 0.5133 - val_loss: 0.6957 - val_acc: 0.4550 - val_f1_m: 0.4550 - val_precision_m: 0.4550 - val_recall_m: 0.4550 - 842ms/epoch - 11ms/step\n"
     ]
    }
   ],
   "source": [
    "model, history = train_model(new_params, data_dict['X_train'], data_dict['X_val'], data_dict['Y_train'], data_dict['Y_val'], verbose=2)"
   ]
  },
  {
   "cell_type": "code",
   "execution_count": 27,
   "metadata": {},
   "outputs": [
    {
     "name": "stdout",
     "output_type": "stream",
     "text": [
      "0.5\n"
     ]
    }
   ],
   "source": [
    "fitness_val = fitness(np.mean(np.diff(history.history['val_f1_m'])))\n",
    "print(fitness_val)"
   ]
  },
  {
   "cell_type": "code",
   "execution_count": 52,
   "metadata": {},
   "outputs": [],
   "source": [
    "def selection(population, data_dict, parameter_set, gene_length, k = 2, selection_probability = 0.9, seed = None, verbose = 0):\n",
    "\n",
    "    population_size = population.shape[0]\n",
    "\n",
    "    individual_length = population.shape[1]\n",
    "\n",
    "    selected_population_size = 0\n",
    "\n",
    "    if seed != None:\n",
    "        np.random.seed(seed)\n",
    "\n",
    "    while selected_population_size < population_size:\n",
    "\n",
    "        sub_population = population[np.random.choice(np.arange(0, population_size, 1), k, replace = False)]\n",
    "\n",
    "        scores = []\n",
    "\n",
    "        iteration = 1\n",
    "\n",
    "        for individual in sub_population:\n",
    "\n",
    "            # train model outside of this function then provide fitness scores as parameter\n",
    "\n",
    "            phenotype = decoder(individual, gene_length)\n",
    "\n",
    "            params = get_params(phenotype, parameter_set)\n",
    "\n",
    "            model, history = train_model(params, data_dict['X_train'], data_dict['X_val'], data_dict['Y_train'], data_dict['Y_val'], verbose = verbose)\n",
    "\n",
    "            scores.append(fitness(np.mean(np.diff(history.history['val_f1_m']))))\n",
    "\n",
    "            iteration += 1\n",
    "\n",
    "        \n",
    "        rank_index = np.argsort(scores)\n",
    "\n",
    "        rank_scores = np.array(scores)[rank_index]\n",
    "\n",
    "        ranked = sub_population[rank_index]\n",
    "\n",
    "        p_array = np.concatenate(([selection_probability], selection_probability*((1 - selection_probability)**rank_scores)))\n",
    "\n",
    "        p_array = np.concatenate((p_array[p_array < 1], np.array([1 - np.sum(p_array[p_array < 1])])))\n",
    "\n",
    "        p_array = np.concatenate((p_array[0:len(ranked) - 1], [np.sum(p_array[len(ranked) - 1:])]))[rank_index]\n",
    "\n",
    "        selected_index = np.random.choice(rank_index, p = p_array)\n",
    "\n",
    "        selected = ranked[selected_index]\n",
    "\n",
    "        fitness_val = rank_scores[selected_index]\n",
    "\n",
    "        if selected_population_size == 0:\n",
    "            \n",
    "            selected_population = selected\n",
    "\n",
    "            selected_fitness = np.array([fitness_val])\n",
    "\n",
    "            selected_population_size = 1\n",
    "\n",
    "        else:\n",
    "\n",
    "            selected_population = np.vstack((selected_population, selected))\n",
    "\n",
    "            selected_fitness = np.concatenate((selected_fitness, np.array([fitness_val])))\n",
    "\n",
    "            selected_population_size = selected_population.shape[0]\n",
    "\n",
    "    return selected_population, selected_fitness\n"
   ]
  },
  {
   "cell_type": "code",
   "execution_count": null,
   "metadata": {},
   "outputs": [],
   "source": [
    "selection(pop[-2:], data_dict, params, 4)"
   ]
  },
  {
   "cell_type": "code",
   "execution_count": 108,
   "metadata": {},
   "outputs": [],
   "source": [
    "def crossover(selected_population, gene_length, parameter_lengths, n_parents = 2, crossover_probability = 1.0, seed = None, verbose = 0):\n",
    "\n",
    "    population_size = selected_population.shape[0]\n",
    "\n",
    "    individual_length = selected_population.shape[1]\n",
    "\n",
    "    size_tuple = (n_parents, individual_length)\n",
    "\n",
    "    offspring_population_size = 0\n",
    "\n",
    "    if seed != None:\n",
    "        np.random.seed(42)\n",
    "\n",
    "    while offspring_population_size < population_size:\n",
    "\n",
    "        similar_parents = False\n",
    "\n",
    "        while not similar_parents:\n",
    "\n",
    "            parent_index = np.random.choice(np.arange(0, population_size, 1), n_parents, replace = False)\n",
    "\n",
    "            parents = selected_population[parent_index]\n",
    "\n",
    "            similar_parents = check_parent_similarity(parents)\n",
    "\n",
    "        r = np.random.random()\n",
    "\n",
    "        if crossover_probability < 1.0 and crossover_probability > 0.0 and r > crossover_probability:\n",
    "\n",
    "            continue\n",
    "\n",
    "        else:\n",
    "\n",
    "            offspring = np.zeros(size_tuple)\n",
    "\n",
    "            for i in range(n_parents):\n",
    "\n",
    "                valid_individual = False\n",
    "\n",
    "                while not valid_individual:\n",
    "\n",
    "                    random_matrix = np.random.random(size_tuple)\n",
    "\n",
    "                    normalised_random_matrix = random_matrix/random_matrix.sum(axis = 0)\n",
    "\n",
    "                    max_index_j = np.argmax(normalised_random_matrix, axis = 0)\n",
    "\n",
    "                    offspring_v = parents[max_index_j, range(individual_length)]\n",
    "\n",
    "                    phenotype = decoder(offspring_v, gene_length)\n",
    "\n",
    "                    valid_individual = validity_check(phenotype, parameter_lengths)\n",
    "\n",
    "                    print('pheno ', phenotype)\n",
    "                    print('is valid ', valid_individual)\n",
    "                    \n",
    "                offspring[i] = offspring_v\n",
    "\n",
    "        if offspring_population_size == 0:\n",
    "\n",
    "            offspring_population = offspring\n",
    "\n",
    "        else:\n",
    "\n",
    "            offspring_population = np.vstack((offspring_population, offspring))\n",
    "\n",
    "        offspring_population_size = offspring_population.shape[0]\n",
    "\n",
    "    return offspring_population"
   ]
  },
  {
   "cell_type": "code",
   "execution_count": 59,
   "metadata": {},
   "outputs": [],
   "source": [
    "def mutation(offspring, gene_length, parameter_lengths, mutation_probability = 0.05):\n",
    "\n",
    "    individual_length = offspring.shape[1]\n",
    "\n",
    "    offspring_copy = np.copy(offspring)\n",
    "\n",
    "    for i in range(offspring.shape[0]):\n",
    "\n",
    "        valid_individual = False\n",
    "\n",
    "        while not valid_individual:\n",
    "\n",
    "            r = np.random.random(individual_length)\n",
    "\n",
    "            mutate_index = (r < mutation_probability)\n",
    "\n",
    "            offspring_v = np.copy(offspring[i])\n",
    "\n",
    "            offspring_v[mutate_index] = np.logical_not(offspring_v[mutate_index])\n",
    "\n",
    "            phenotype = decoder(offspring_v, gene_length)\n",
    "\n",
    "            valid_individual = validity_check(phenotype, parameter_lengths)\n",
    "\n",
    "        offspring_copy[i] = offspring_v\n",
    "\n",
    "    return offspring_copy\n",
    "\n"
   ]
  },
  {
   "cell_type": "code",
   "execution_count": 51,
   "metadata": {},
   "outputs": [],
   "source": [
    "# def mutation(offspring, mutation_probability = 0.05):\n",
    "\n",
    "#     r = np.random.random((offspring.shape))\n",
    "\n",
    "#     mutated_offspring = np.copy(offspring)\n",
    "\n",
    "#     mutate_index = (r < mutation_probability)\n",
    "\n",
    "#     mutated_offspring[mutate_index] = np.logical_not(mutated_offspring[mutate_index])\n",
    "\n",
    "#     return mutated_offspring"
   ]
  },
  {
   "cell_type": "code",
   "execution_count": 110,
   "metadata": {},
   "outputs": [],
   "source": [
    "def genetic_algorithm(parameters, data_dict, generations = 10, n_parents = 2, verbose = 0):\n",
    "\n",
    "    print('Getting state space parameters....')\n",
    "\n",
    "    individual_length, bit_length, parameter_list_lengths = get_state_space(parameters=parameters)\n",
    "\n",
    "    print(f'Chromosome length = {individual_length}; Gene length = {bit_length}; Possible number of choices per parameter = {parameter_list_lengths}')\n",
    "\n",
    "    print(20*'_')\n",
    "\n",
    "    print('Generating population....')\n",
    "\n",
    "    population = generate_population(length = individual_length, parameter_len = parameter_list_lengths)\n",
    "\n",
    "    population_size = population.shape[0]\n",
    "\n",
    "    print(f'Population size = {population_size}')\n",
    "\n",
    "    generation_history = {}\n",
    "\n",
    "    for generation in range(generations):\n",
    "\n",
    "        g = 1\n",
    "\n",
    "        print(20*'_')\n",
    "\n",
    "        print(f'_Generation {g} of {generations}.')\n",
    "\n",
    "        selected_population, selected_fitness = selection(population, data_dict, parameters, bit_length, verbose = verbose)\n",
    "\n",
    "        offspring_population = crossover(selected_population, bit_length, parameter_list_lengths)\n",
    "\n",
    "        offspring_population = mutation(offspring_population, bit_length, parameter_list_lengths)\n",
    "\n",
    "        offspring_fitness = []\n",
    "\n",
    "        for individual in offspring_population:\n",
    "\n",
    "            phenotype = decoder(individual, bit_length)\n",
    "\n",
    "            params = get_params(phenotype, parameters)\n",
    "\n",
    "            model, history = train_model(params, data_dict['X_train'], data_dict['X_val'], data_dict['Y_train'], data_dict['Y_val'], verbose = verbose)\n",
    "\n",
    "            offspring_fitness.append(fitness(np.mean(np.diff(history.history['val_f1_m']))))\n",
    "\n",
    "        total_pool = np.vstack((selected_population, offspring_population))\n",
    "\n",
    "        total_fitness = np.concatenate((selected_fitness, np.array(offspring_fitness)))\n",
    "\n",
    "        new_population_index = np.argsort(total_fitness)[::-1][:population_size]\n",
    "\n",
    "        population = total_pool[new_population_index]\n",
    "\n",
    "        generation_history[str(g)]['population'] = population\n",
    "\n",
    "        generation_history[str(g)]['fitness'] = total_fitness[new_population_index]\n",
    "            \n",
    "        g += 1\n",
    "\n",
    "        clear_output(wait=True)\n",
    "\n",
    "    return generation_history\n"
   ]
  },
  {
   "cell_type": "code",
   "execution_count": 111,
   "metadata": {},
   "outputs": [
    {
     "name": "stdout",
     "output_type": "stream",
     "text": [
      "Getting state space parameters....\n",
      "Chromosome length = 44; Gene length = 4; Possible number of choices per parameter = [3 4 4 2 4 2 4 2 2 9 2]\n",
      "____________________\n",
      "Generating population....\n",
      "Population size = 10\n",
      "____________________\n",
      "_Generation 1 of 10.\n",
      "Epoch 1/10\n"
     ]
    },
    {
     "name": "stderr",
     "output_type": "stream",
     "text": [
      "2022-11-29 07:01:34.817967: I tensorflow/core/grappler/optimizers/custom_graph_optimizer_registry.cc:113] Plugin optimizer for device_type GPU is enabled.\n"
     ]
    },
    {
     "name": "stdout",
     "output_type": "stream",
     "text": [
      "74/75 [============================>.] - ETA: 0s - loss: 0.7327 - acc: 0.5152 - f1_m: 0.5101 - precision_m: 0.5135 - recall_m: 0.5084"
     ]
    },
    {
     "name": "stderr",
     "output_type": "stream",
     "text": [
      "2022-11-29 07:01:36.962021: I tensorflow/core/grappler/optimizers/custom_graph_optimizer_registry.cc:113] Plugin optimizer for device_type GPU is enabled.\n"
     ]
    },
    {
     "name": "stdout",
     "output_type": "stream",
     "text": [
      "75/75 [==============================] - 3s 28ms/step - loss: 0.7326 - acc: 0.5167 - f1_m: 0.5117 - precision_m: 0.5150 - recall_m: 0.5100 - val_loss: 0.6967 - val_acc: 0.4550 - val_f1_m: 0.4550 - val_precision_m: 0.4550 - val_recall_m: 0.4550\n",
      "Epoch 2/10\n",
      "75/75 [==============================] - 1s 13ms/step - loss: 0.6958 - acc: 0.5633 - f1_m: 0.5633 - precision_m: 0.5633 - recall_m: 0.5633 - val_loss: 0.6960 - val_acc: 0.4550 - val_f1_m: 0.4550 - val_precision_m: 0.4550 - val_recall_m: 0.4550\n",
      "Epoch 3/10\n",
      "75/75 [==============================] - 1s 15ms/step - loss: 0.6763 - acc: 0.5683 - f1_m: 0.5683 - precision_m: 0.5683 - recall_m: 0.5683 - val_loss: 0.6941 - val_acc: 0.4750 - val_f1_m: 0.4750 - val_precision_m: 0.4750 - val_recall_m: 0.4750\n",
      "Epoch 4/10\n",
      "75/75 [==============================] - 1s 13ms/step - loss: 0.6838 - acc: 0.5750 - f1_m: 0.5750 - precision_m: 0.5750 - recall_m: 0.5750 - val_loss: 0.6924 - val_acc: 0.5000 - val_f1_m: 0.5000 - val_precision_m: 0.5000 - val_recall_m: 0.5000\n",
      "Epoch 5/10\n",
      "75/75 [==============================] - 1s 15ms/step - loss: 0.6654 - acc: 0.5983 - f1_m: 0.5983 - precision_m: 0.5983 - recall_m: 0.5983 - val_loss: 0.6921 - val_acc: 0.5000 - val_f1_m: 0.5000 - val_precision_m: 0.5000 - val_recall_m: 0.5000\n",
      "Epoch 6/10\n",
      "75/75 [==============================] - 1s 14ms/step - loss: 0.6653 - acc: 0.5983 - f1_m: 0.5983 - precision_m: 0.5983 - recall_m: 0.5983 - val_loss: 0.6906 - val_acc: 0.4950 - val_f1_m: 0.4950 - val_precision_m: 0.4950 - val_recall_m: 0.4950\n",
      "Epoch 7/10\n",
      "75/75 [==============================] - 1s 13ms/step - loss: 0.6437 - acc: 0.6367 - f1_m: 0.6367 - precision_m: 0.6367 - recall_m: 0.6367 - val_loss: 0.6878 - val_acc: 0.5450 - val_f1_m: 0.5450 - val_precision_m: 0.5450 - val_recall_m: 0.5450\n",
      "Epoch 8/10\n",
      "75/75 [==============================] - 1s 13ms/step - loss: 0.6393 - acc: 0.6233 - f1_m: 0.6233 - precision_m: 0.6233 - recall_m: 0.6233 - val_loss: 0.6846 - val_acc: 0.5450 - val_f1_m: 0.5450 - val_precision_m: 0.5450 - val_recall_m: 0.5450\n",
      "Epoch 9/10\n",
      "75/75 [==============================] - 1s 13ms/step - loss: 0.6208 - acc: 0.6517 - f1_m: 0.6517 - precision_m: 0.6517 - recall_m: 0.6517 - val_loss: 0.6820 - val_acc: 0.5500 - val_f1_m: 0.5500 - val_precision_m: 0.5500 - val_recall_m: 0.5500\n",
      "Epoch 10/10\n",
      "75/75 [==============================] - 1s 14ms/step - loss: 0.6326 - acc: 0.6433 - f1_m: 0.6433 - precision_m: 0.6433 - recall_m: 0.6433 - val_loss: 0.6834 - val_acc: 0.5300 - val_f1_m: 0.5300 - val_precision_m: 0.5300 - val_recall_m: 0.5300\n",
      "Epoch 1/10\n"
     ]
    },
    {
     "name": "stderr",
     "output_type": "stream",
     "text": [
      "2022-11-29 07:01:47.427011: I tensorflow/core/grappler/optimizers/custom_graph_optimizer_registry.cc:113] Plugin optimizer for device_type GPU is enabled.\n"
     ]
    },
    {
     "name": "stdout",
     "output_type": "stream",
     "text": [
      "75/75 [==============================] - ETA: 0s - loss: 0.7456 - acc: 0.5700 - f1_m: 0.5700 - precision_m: 0.5700 - recall_m: 0.5700"
     ]
    },
    {
     "name": "stderr",
     "output_type": "stream",
     "text": [
      "2022-11-29 07:01:49.286390: I tensorflow/core/grappler/optimizers/custom_graph_optimizer_registry.cc:113] Plugin optimizer for device_type GPU is enabled.\n"
     ]
    },
    {
     "name": "stdout",
     "output_type": "stream",
     "text": [
      "75/75 [==============================] - 3s 26ms/step - loss: 0.7456 - acc: 0.5700 - f1_m: 0.5700 - precision_m: 0.5700 - recall_m: 0.5700 - val_loss: 0.7094 - val_acc: 0.6200 - val_f1_m: 0.6200 - val_precision_m: 0.6200 - val_recall_m: 0.6200\n",
      "Epoch 2/10\n",
      "75/75 [==============================] - 1s 14ms/step - loss: 0.6838 - acc: 0.6317 - f1_m: 0.6317 - precision_m: 0.6317 - recall_m: 0.6317 - val_loss: 0.6818 - val_acc: 0.6850 - val_f1_m: 0.6850 - val_precision_m: 0.6850 - val_recall_m: 0.6850\n",
      "Epoch 3/10\n",
      "75/75 [==============================] - 1s 13ms/step - loss: 0.6453 - acc: 0.7050 - f1_m: 0.7050 - precision_m: 0.7050 - recall_m: 0.7050 - val_loss: 0.7148 - val_acc: 0.5550 - val_f1_m: 0.5550 - val_precision_m: 0.5550 - val_recall_m: 0.5550\n",
      "Epoch 4/10\n",
      "75/75 [==============================] - 1s 13ms/step - loss: 0.6230 - acc: 0.7233 - f1_m: 0.7233 - precision_m: 0.7233 - recall_m: 0.7233 - val_loss: 0.7024 - val_acc: 0.6950 - val_f1_m: 0.6950 - val_precision_m: 0.6950 - val_recall_m: 0.6950\n",
      "Epoch 5/10\n",
      "75/75 [==============================] - 1s 14ms/step - loss: 0.6022 - acc: 0.7383 - f1_m: 0.7383 - precision_m: 0.7383 - recall_m: 0.7383 - val_loss: 0.6833 - val_acc: 0.7400 - val_f1_m: 0.7400 - val_precision_m: 0.7400 - val_recall_m: 0.7400\n",
      "Epoch 6/10\n",
      "75/75 [==============================] - 1s 17ms/step - loss: 0.5573 - acc: 0.7783 - f1_m: 0.7783 - precision_m: 0.7783 - recall_m: 0.7783 - val_loss: 0.7183 - val_acc: 0.6800 - val_f1_m: 0.6800 - val_precision_m: 0.6800 - val_recall_m: 0.6800\n",
      "Epoch 7/10\n",
      "75/75 [==============================] - 1s 15ms/step - loss: 0.5195 - acc: 0.7733 - f1_m: 0.7733 - precision_m: 0.7733 - recall_m: 0.7733 - val_loss: 0.6669 - val_acc: 0.7750 - val_f1_m: 0.7750 - val_precision_m: 0.7750 - val_recall_m: 0.7750\n",
      "Epoch 8/10\n",
      "75/75 [==============================] - 1s 14ms/step - loss: 0.5265 - acc: 0.7733 - f1_m: 0.7733 - precision_m: 0.7733 - recall_m: 0.7733 - val_loss: 0.6995 - val_acc: 0.6600 - val_f1_m: 0.6600 - val_precision_m: 0.6600 - val_recall_m: 0.6600\n",
      "Epoch 9/10\n",
      "75/75 [==============================] - 1s 13ms/step - loss: 0.4644 - acc: 0.8367 - f1_m: 0.8367 - precision_m: 0.8367 - recall_m: 0.8367 - val_loss: 0.7036 - val_acc: 0.7350 - val_f1_m: 0.7350 - val_precision_m: 0.7350 - val_recall_m: 0.7350\n",
      "Epoch 10/10\n",
      "75/75 [==============================] - 1s 13ms/step - loss: 0.4330 - acc: 0.8233 - f1_m: 0.8233 - precision_m: 0.8233 - recall_m: 0.8233 - val_loss: 0.6967 - val_acc: 0.7650 - val_f1_m: 0.7650 - val_precision_m: 0.7650 - val_recall_m: 0.7650\n",
      "Epoch 1/10\n"
     ]
    },
    {
     "name": "stderr",
     "output_type": "stream",
     "text": [
      "2022-11-29 07:01:59.826189: I tensorflow/core/grappler/optimizers/custom_graph_optimizer_registry.cc:113] Plugin optimizer for device_type GPU is enabled.\n"
     ]
    },
    {
     "name": "stdout",
     "output_type": "stream",
     "text": [
      "19/19 [==============================] - ETA: 0s - loss: 0.6863 - acc: 0.5317 - f1_m: 0.5340 - precision_m: 0.5340 - recall_m: 0.5340"
     ]
    },
    {
     "name": "stderr",
     "output_type": "stream",
     "text": [
      "2022-11-29 07:02:02.278114: I tensorflow/core/grappler/optimizers/custom_graph_optimizer_registry.cc:113] Plugin optimizer for device_type GPU is enabled.\n"
     ]
    },
    {
     "name": "stdout",
     "output_type": "stream",
     "text": [
      "19/19 [==============================] - 3s 132ms/step - loss: 0.6863 - acc: 0.5317 - f1_m: 0.5340 - precision_m: 0.5340 - recall_m: 0.5340 - val_loss: 0.6948 - val_acc: 0.6450 - val_f1_m: 0.6429 - val_precision_m: 0.6429 - val_recall_m: 0.6429\n",
      "Epoch 2/10\n",
      "19/19 [==============================] - 1s 44ms/step - loss: 0.6773 - acc: 0.6017 - f1_m: 0.6014 - precision_m: 0.6014 - recall_m: 0.6014 - val_loss: 0.6889 - val_acc: 0.5850 - val_f1_m: 0.5893 - val_precision_m: 0.5893 - val_recall_m: 0.5893\n",
      "Epoch 3/10\n",
      "19/19 [==============================] - 1s 40ms/step - loss: 0.6744 - acc: 0.6400 - f1_m: 0.6404 - precision_m: 0.6404 - recall_m: 0.6404 - val_loss: 0.6840 - val_acc: 0.6700 - val_f1_m: 0.6652 - val_precision_m: 0.6652 - val_recall_m: 0.6652\n",
      "Epoch 4/10\n",
      "19/19 [==============================] - 1s 38ms/step - loss: 0.6735 - acc: 0.6333 - f1_m: 0.6316 - precision_m: 0.6316 - recall_m: 0.6316 - val_loss: 0.6721 - val_acc: 0.7450 - val_f1_m: 0.7455 - val_precision_m: 0.7455 - val_recall_m: 0.7455\n",
      "Epoch 5/10\n",
      "19/19 [==============================] - 1s 37ms/step - loss: 0.6336 - acc: 0.7067 - f1_m: 0.7083 - precision_m: 0.7083 - recall_m: 0.7083 - val_loss: 0.6642 - val_acc: 0.7600 - val_f1_m: 0.7589 - val_precision_m: 0.7589 - val_recall_m: 0.7589\n",
      "Epoch 6/10\n",
      "19/19 [==============================] - 1s 36ms/step - loss: 0.6004 - acc: 0.7167 - f1_m: 0.7177 - precision_m: 0.7177 - recall_m: 0.7177 - val_loss: 0.6732 - val_acc: 0.7350 - val_f1_m: 0.7366 - val_precision_m: 0.7366 - val_recall_m: 0.7366\n",
      "Epoch 7/10\n",
      "19/19 [==============================] - 1s 36ms/step - loss: 0.5808 - acc: 0.7733 - f1_m: 0.7741 - precision_m: 0.7741 - recall_m: 0.7741 - val_loss: 0.6573 - val_acc: 0.7000 - val_f1_m: 0.6920 - val_precision_m: 0.6920 - val_recall_m: 0.6920\n",
      "Epoch 8/10\n",
      "19/19 [==============================] - 1s 36ms/step - loss: 0.5446 - acc: 0.7883 - f1_m: 0.7884 - precision_m: 0.7884 - recall_m: 0.7884 - val_loss: 0.6340 - val_acc: 0.7550 - val_f1_m: 0.7545 - val_precision_m: 0.7545 - val_recall_m: 0.7545\n",
      "Epoch 9/10\n",
      "19/19 [==============================] - 1s 37ms/step - loss: 0.5349 - acc: 0.7767 - f1_m: 0.7763 - precision_m: 0.7763 - recall_m: 0.7763 - val_loss: 0.6212 - val_acc: 0.6650 - val_f1_m: 0.6607 - val_precision_m: 0.6607 - val_recall_m: 0.6607\n",
      "Epoch 10/10\n",
      "19/19 [==============================] - 1s 40ms/step - loss: 0.5022 - acc: 0.8000 - f1_m: 0.8004 - precision_m: 0.8004 - recall_m: 0.8004 - val_loss: 0.6149 - val_acc: 0.7900 - val_f1_m: 0.7857 - val_precision_m: 0.7857 - val_recall_m: 0.7857\n",
      "Epoch 1/10\n"
     ]
    },
    {
     "name": "stderr",
     "output_type": "stream",
     "text": [
      "2022-11-29 07:02:09.880196: I tensorflow/core/grappler/optimizers/custom_graph_optimizer_registry.cc:113] Plugin optimizer for device_type GPU is enabled.\n"
     ]
    },
    {
     "name": "stdout",
     "output_type": "stream",
     "text": [
      "19/19 [==============================] - ETA: 0s - loss: 0.6920 - acc: 0.5833 - f1_m: 0.5850 - precision_m: 0.5850 - recall_m: 0.5850"
     ]
    },
    {
     "name": "stderr",
     "output_type": "stream",
     "text": [
      "2022-11-29 07:02:12.082036: I tensorflow/core/grappler/optimizers/custom_graph_optimizer_registry.cc:113] Plugin optimizer for device_type GPU is enabled.\n"
     ]
    },
    {
     "name": "stdout",
     "output_type": "stream",
     "text": [
      "19/19 [==============================] - 3s 127ms/step - loss: 0.6920 - acc: 0.5833 - f1_m: 0.5850 - precision_m: 0.5850 - recall_m: 0.5850 - val_loss: 0.7083 - val_acc: 0.6000 - val_f1_m: 0.6295 - val_precision_m: 0.6295 - val_recall_m: 0.6295\n",
      "Epoch 2/10\n",
      "19/19 [==============================] - 1s 43ms/step - loss: 0.6858 - acc: 0.6533 - f1_m: 0.6552 - precision_m: 0.6552 - recall_m: 0.6552 - val_loss: 0.7173 - val_acc: 0.5650 - val_f1_m: 0.5714 - val_precision_m: 0.5714 - val_recall_m: 0.5714\n",
      "Epoch 3/10\n",
      "19/19 [==============================] - 1s 38ms/step - loss: 0.6583 - acc: 0.6217 - f1_m: 0.6223 - precision_m: 0.6223 - recall_m: 0.6223 - val_loss: 0.6889 - val_acc: 0.7250 - val_f1_m: 0.7277 - val_precision_m: 0.7277 - val_recall_m: 0.7277\n",
      "Epoch 4/10\n",
      "19/19 [==============================] - 1s 37ms/step - loss: 0.6286 - acc: 0.6700 - f1_m: 0.6705 - precision_m: 0.6705 - recall_m: 0.6705 - val_loss: 0.6893 - val_acc: 0.6550 - val_f1_m: 0.6786 - val_precision_m: 0.6786 - val_recall_m: 0.6786\n",
      "Epoch 5/10\n",
      "19/19 [==============================] - 1s 35ms/step - loss: 0.6161 - acc: 0.7117 - f1_m: 0.7133 - precision_m: 0.7133 - recall_m: 0.7133 - val_loss: 0.7041 - val_acc: 0.7350 - val_f1_m: 0.7500 - val_precision_m: 0.7500 - val_recall_m: 0.7500\n",
      "Epoch 6/10\n",
      "19/19 [==============================] - 1s 43ms/step - loss: 0.5835 - acc: 0.7633 - f1_m: 0.7610 - precision_m: 0.7610 - recall_m: 0.7610 - val_loss: 0.7483 - val_acc: 0.7100 - val_f1_m: 0.7411 - val_precision_m: 0.7411 - val_recall_m: 0.7411\n",
      "Epoch 7/10\n",
      "19/19 [==============================] - 1s 36ms/step - loss: 0.5880 - acc: 0.7067 - f1_m: 0.7067 - precision_m: 0.7067 - recall_m: 0.7067 - val_loss: 0.7199 - val_acc: 0.7100 - val_f1_m: 0.7143 - val_precision_m: 0.7143 - val_recall_m: 0.7143\n",
      "Epoch 8/10\n",
      "19/19 [==============================] - 1s 34ms/step - loss: 0.5641 - acc: 0.7650 - f1_m: 0.7632 - precision_m: 0.7632 - recall_m: 0.7632 - val_loss: 0.6544 - val_acc: 0.7750 - val_f1_m: 0.7589 - val_precision_m: 0.7589 - val_recall_m: 0.7589\n",
      "Epoch 9/10\n",
      "19/19 [==============================] - 1s 33ms/step - loss: 0.5173 - acc: 0.7917 - f1_m: 0.7906 - precision_m: 0.7906 - recall_m: 0.7906 - val_loss: 0.6704 - val_acc: 0.7250 - val_f1_m: 0.7411 - val_precision_m: 0.7411 - val_recall_m: 0.7411\n",
      "Epoch 10/10\n",
      "19/19 [==============================] - 1s 33ms/step - loss: 0.5224 - acc: 0.7900 - f1_m: 0.7895 - precision_m: 0.7895 - recall_m: 0.7895 - val_loss: 0.6372 - val_acc: 0.7200 - val_f1_m: 0.7232 - val_precision_m: 0.7232 - val_recall_m: 0.7232\n",
      "Epoch 1/10\n"
     ]
    },
    {
     "name": "stderr",
     "output_type": "stream",
     "text": [
      "2022-11-29 07:02:19.591792: I tensorflow/core/grappler/optimizers/custom_graph_optimizer_registry.cc:113] Plugin optimizer for device_type GPU is enabled.\n"
     ]
    },
    {
     "name": "stdout",
     "output_type": "stream",
     "text": [
      "19/19 [==============================] - ETA: 0s - loss: 0.6975 - acc: 0.5283 - f1_m: 0.5274 - precision_m: 0.5274 - recall_m: 0.5274"
     ]
    },
    {
     "name": "stderr",
     "output_type": "stream",
     "text": [
      "2022-11-29 07:02:21.616330: I tensorflow/core/grappler/optimizers/custom_graph_optimizer_registry.cc:113] Plugin optimizer for device_type GPU is enabled.\n"
     ]
    },
    {
     "name": "stdout",
     "output_type": "stream",
     "text": [
      "19/19 [==============================] - 3s 119ms/step - loss: 0.6975 - acc: 0.5283 - f1_m: 0.5274 - precision_m: 0.5274 - recall_m: 0.5274 - val_loss: 0.6904 - val_acc: 0.5900 - val_f1_m: 0.5937 - val_precision_m: 0.5938 - val_recall_m: 0.5938\n",
      "Epoch 2/10\n",
      "19/19 [==============================] - 1s 44ms/step - loss: 0.6865 - acc: 0.5833 - f1_m: 0.5822 - precision_m: 0.5822 - recall_m: 0.5822 - val_loss: 0.6885 - val_acc: 0.6250 - val_f1_m: 0.6250 - val_precision_m: 0.6250 - val_recall_m: 0.6250\n",
      "Epoch 3/10\n",
      "19/19 [==============================] - 1s 40ms/step - loss: 0.6871 - acc: 0.5800 - f1_m: 0.5811 - precision_m: 0.5811 - recall_m: 0.5811 - val_loss: 0.6841 - val_acc: 0.6250 - val_f1_m: 0.6250 - val_precision_m: 0.6250 - val_recall_m: 0.6250\n",
      "Epoch 4/10\n",
      "19/19 [==============================] - 1s 38ms/step - loss: 0.6716 - acc: 0.6183 - f1_m: 0.6195 - precision_m: 0.6195 - recall_m: 0.6195 - val_loss: 0.6739 - val_acc: 0.6500 - val_f1_m: 0.6473 - val_precision_m: 0.6473 - val_recall_m: 0.6473\n",
      "Epoch 5/10\n",
      "19/19 [==============================] - 1s 37ms/step - loss: 0.6464 - acc: 0.6700 - f1_m: 0.6727 - precision_m: 0.6727 - recall_m: 0.6727 - val_loss: 0.6649 - val_acc: 0.7550 - val_f1_m: 0.7545 - val_precision_m: 0.7545 - val_recall_m: 0.7545\n",
      "Epoch 6/10\n",
      "19/19 [==============================] - 1s 39ms/step - loss: 0.6122 - acc: 0.7300 - f1_m: 0.7303 - precision_m: 0.7303 - recall_m: 0.7303 - val_loss: 0.6698 - val_acc: 0.7450 - val_f1_m: 0.7455 - val_precision_m: 0.7455 - val_recall_m: 0.7455\n",
      "Epoch 7/10\n",
      "19/19 [==============================] - 1s 35ms/step - loss: 0.6064 - acc: 0.7333 - f1_m: 0.7330 - precision_m: 0.7330 - recall_m: 0.7330 - val_loss: 0.6727 - val_acc: 0.7050 - val_f1_m: 0.6964 - val_precision_m: 0.6964 - val_recall_m: 0.6964\n",
      "Epoch 8/10\n",
      "19/19 [==============================] - 1s 37ms/step - loss: 0.5763 - acc: 0.7733 - f1_m: 0.7730 - precision_m: 0.7730 - recall_m: 0.7730 - val_loss: 0.6538 - val_acc: 0.7400 - val_f1_m: 0.7277 - val_precision_m: 0.7277 - val_recall_m: 0.7277\n",
      "Epoch 9/10\n",
      "19/19 [==============================] - 1s 39ms/step - loss: 0.5224 - acc: 0.8017 - f1_m: 0.8015 - precision_m: 0.8015 - recall_m: 0.8015 - val_loss: 0.6440 - val_acc: 0.7650 - val_f1_m: 0.7634 - val_precision_m: 0.7634 - val_recall_m: 0.7634\n",
      "Epoch 10/10\n",
      "19/19 [==============================] - 1s 36ms/step - loss: 0.4790 - acc: 0.8233 - f1_m: 0.8235 - precision_m: 0.8235 - recall_m: 0.8235 - val_loss: 0.6652 - val_acc: 0.7450 - val_f1_m: 0.7455 - val_precision_m: 0.7455 - val_recall_m: 0.7455\n",
      "Epoch 1/10\n"
     ]
    },
    {
     "name": "stderr",
     "output_type": "stream",
     "text": [
      "2022-11-29 07:02:29.290966: I tensorflow/core/grappler/optimizers/custom_graph_optimizer_registry.cc:113] Plugin optimizer for device_type GPU is enabled.\n"
     ]
    },
    {
     "name": "stdout",
     "output_type": "stream",
     "text": [
      "38/38 [==============================] - ETA: 0s - loss: 0.6925 - acc: 0.5133 - f1_m: 0.5164 - precision_m: 0.5164 - recall_m: 0.5164"
     ]
    },
    {
     "name": "stderr",
     "output_type": "stream",
     "text": [
      "2022-11-29 07:02:31.089833: I tensorflow/core/grappler/optimizers/custom_graph_optimizer_registry.cc:113] Plugin optimizer for device_type GPU is enabled.\n"
     ]
    },
    {
     "name": "stdout",
     "output_type": "stream",
     "text": [
      "38/38 [==============================] - 3s 54ms/step - loss: 0.6925 - acc: 0.5133 - f1_m: 0.5164 - precision_m: 0.5164 - recall_m: 0.5164 - val_loss: 0.6958 - val_acc: 0.4550 - val_f1_m: 0.4567 - val_precision_m: 0.4567 - val_recall_m: 0.4567\n",
      "Epoch 2/10\n",
      "38/38 [==============================] - 1s 20ms/step - loss: 0.6923 - acc: 0.5133 - f1_m: 0.5132 - precision_m: 0.5132 - recall_m: 0.5132 - val_loss: 0.6960 - val_acc: 0.4550 - val_f1_m: 0.4567 - val_precision_m: 0.4567 - val_recall_m: 0.4567\n",
      "Epoch 3/10\n",
      "38/38 [==============================] - 1s 19ms/step - loss: 0.6923 - acc: 0.5133 - f1_m: 0.5164 - precision_m: 0.5164 - recall_m: 0.5164 - val_loss: 0.6962 - val_acc: 0.4550 - val_f1_m: 0.4567 - val_precision_m: 0.4567 - val_recall_m: 0.4567\n",
      "Epoch 4/10\n",
      "38/38 [==============================] - 1s 18ms/step - loss: 0.6923 - acc: 0.5133 - f1_m: 0.5132 - precision_m: 0.5132 - recall_m: 0.5132 - val_loss: 0.6966 - val_acc: 0.4550 - val_f1_m: 0.4567 - val_precision_m: 0.4567 - val_recall_m: 0.4567\n",
      "Epoch 5/10\n",
      "38/38 [==============================] - 1s 18ms/step - loss: 0.6923 - acc: 0.5133 - f1_m: 0.5148 - precision_m: 0.5148 - recall_m: 0.5148 - val_loss: 0.6964 - val_acc: 0.4550 - val_f1_m: 0.4567 - val_precision_m: 0.4567 - val_recall_m: 0.4567\n",
      "Epoch 6/10\n",
      "38/38 [==============================] - 1s 19ms/step - loss: 0.6923 - acc: 0.5133 - f1_m: 0.5148 - precision_m: 0.5148 - recall_m: 0.5148 - val_loss: 0.6971 - val_acc: 0.4550 - val_f1_m: 0.4567 - val_precision_m: 0.4567 - val_recall_m: 0.4567\n",
      "Epoch 7/10\n",
      "38/38 [==============================] - 1s 18ms/step - loss: 0.6923 - acc: 0.5133 - f1_m: 0.5181 - precision_m: 0.5181 - recall_m: 0.5181 - val_loss: 0.6969 - val_acc: 0.4550 - val_f1_m: 0.4567 - val_precision_m: 0.4567 - val_recall_m: 0.4567\n",
      "Epoch 8/10\n",
      "38/38 [==============================] - 1s 18ms/step - loss: 0.6923 - acc: 0.5133 - f1_m: 0.5099 - precision_m: 0.5099 - recall_m: 0.5099 - val_loss: 0.6972 - val_acc: 0.4550 - val_f1_m: 0.4567 - val_precision_m: 0.4567 - val_recall_m: 0.4567\n",
      "Epoch 9/10\n",
      "38/38 [==============================] - 1s 19ms/step - loss: 0.6923 - acc: 0.5133 - f1_m: 0.5132 - precision_m: 0.5132 - recall_m: 0.5132 - val_loss: 0.6970 - val_acc: 0.4550 - val_f1_m: 0.4567 - val_precision_m: 0.4567 - val_recall_m: 0.4567\n",
      "Epoch 10/10\n",
      "38/38 [==============================] - 1s 17ms/step - loss: 0.6923 - acc: 0.5133 - f1_m: 0.5115 - precision_m: 0.5115 - recall_m: 0.5115 - val_loss: 0.6970 - val_acc: 0.4550 - val_f1_m: 0.4567 - val_precision_m: 0.4567 - val_recall_m: 0.4567\n",
      "Epoch 1/10\n"
     ]
    },
    {
     "name": "stderr",
     "output_type": "stream",
     "text": [
      "2022-11-29 07:02:39.244512: I tensorflow/core/grappler/optimizers/custom_graph_optimizer_registry.cc:113] Plugin optimizer for device_type GPU is enabled.\n"
     ]
    },
    {
     "name": "stdout",
     "output_type": "stream",
     "text": [
      "19/19 [==============================] - ETA: 0s - loss: 0.6944 - acc: 0.5617 - f1_m: 0.5625 - precision_m: 0.5625 - recall_m: 0.5625"
     ]
    },
    {
     "name": "stderr",
     "output_type": "stream",
     "text": [
      "2022-11-29 07:02:41.219780: I tensorflow/core/grappler/optimizers/custom_graph_optimizer_registry.cc:113] Plugin optimizer for device_type GPU is enabled.\n"
     ]
    },
    {
     "name": "stdout",
     "output_type": "stream",
     "text": [
      "19/19 [==============================] - 3s 112ms/step - loss: 0.6944 - acc: 0.5617 - f1_m: 0.5625 - precision_m: 0.5625 - recall_m: 0.5625 - val_loss: 0.6916 - val_acc: 0.6450 - val_f1_m: 0.6696 - val_precision_m: 0.6696 - val_recall_m: 0.6696\n",
      "Epoch 2/10\n",
      "19/19 [==============================] - 1s 48ms/step - loss: 0.6761 - acc: 0.5883 - f1_m: 0.5866 - precision_m: 0.5866 - recall_m: 0.5866 - val_loss: 0.6835 - val_acc: 0.6650 - val_f1_m: 0.6875 - val_precision_m: 0.6875 - val_recall_m: 0.6875\n",
      "Epoch 3/10\n",
      "19/19 [==============================] - 1s 43ms/step - loss: 0.6671 - acc: 0.6200 - f1_m: 0.6212 - precision_m: 0.6212 - recall_m: 0.6212 - val_loss: 0.6861 - val_acc: 0.7200 - val_f1_m: 0.7500 - val_precision_m: 0.7500 - val_recall_m: 0.7500\n",
      "Epoch 4/10\n",
      "19/19 [==============================] - 1s 38ms/step - loss: 0.6620 - acc: 0.6567 - f1_m: 0.6568 - precision_m: 0.6568 - recall_m: 0.6568 - val_loss: 0.6769 - val_acc: 0.6900 - val_f1_m: 0.7232 - val_precision_m: 0.7232 - val_recall_m: 0.7232\n",
      "Epoch 5/10\n",
      "19/19 [==============================] - 1s 36ms/step - loss: 0.6497 - acc: 0.6950 - f1_m: 0.6946 - precision_m: 0.6946 - recall_m: 0.6946 - val_loss: 0.6693 - val_acc: 0.7300 - val_f1_m: 0.7589 - val_precision_m: 0.7589 - val_recall_m: 0.7589\n",
      "Epoch 6/10\n",
      "19/19 [==============================] - 1s 38ms/step - loss: 0.6071 - acc: 0.7000 - f1_m: 0.6985 - precision_m: 0.6985 - recall_m: 0.6985 - val_loss: 0.6759 - val_acc: 0.5450 - val_f1_m: 0.5536 - val_precision_m: 0.5536 - val_recall_m: 0.5536\n",
      "Epoch 7/10\n",
      "19/19 [==============================] - 1s 38ms/step - loss: 0.5992 - acc: 0.7450 - f1_m: 0.7445 - precision_m: 0.7445 - recall_m: 0.7445 - val_loss: 0.6528 - val_acc: 0.7450 - val_f1_m: 0.7723 - val_precision_m: 0.7723 - val_recall_m: 0.7723\n",
      "Epoch 8/10\n",
      "19/19 [==============================] - 1s 36ms/step - loss: 0.5733 - acc: 0.7700 - f1_m: 0.7708 - precision_m: 0.7708 - recall_m: 0.7708 - val_loss: 0.6612 - val_acc: 0.7400 - val_f1_m: 0.7545 - val_precision_m: 0.7545 - val_recall_m: 0.7545\n",
      "Epoch 9/10\n",
      "19/19 [==============================] - 1s 35ms/step - loss: 0.5306 - acc: 0.7933 - f1_m: 0.7944 - precision_m: 0.7944 - recall_m: 0.7944 - val_loss: 0.6630 - val_acc: 0.7150 - val_f1_m: 0.7187 - val_precision_m: 0.7188 - val_recall_m: 0.7188\n",
      "Epoch 10/10\n",
      "19/19 [==============================] - 1s 35ms/step - loss: 0.5169 - acc: 0.8000 - f1_m: 0.8004 - precision_m: 0.8004 - recall_m: 0.8004 - val_loss: 0.6379 - val_acc: 0.7350 - val_f1_m: 0.7366 - val_precision_m: 0.7366 - val_recall_m: 0.7366\n",
      "Epoch 1/10\n"
     ]
    },
    {
     "name": "stderr",
     "output_type": "stream",
     "text": [
      "2022-11-29 07:02:48.869748: I tensorflow/core/grappler/optimizers/custom_graph_optimizer_registry.cc:113] Plugin optimizer for device_type GPU is enabled.\n"
     ]
    },
    {
     "name": "stdout",
     "output_type": "stream",
     "text": [
      "19/19 [==============================] - ETA: 0s - loss: 0.6924 - acc: 0.5267 - f1_m: 0.5274 - precision_m: 0.5274 - recall_m: 0.5274"
     ]
    },
    {
     "name": "stderr",
     "output_type": "stream",
     "text": [
      "2022-11-29 07:02:50.682890: I tensorflow/core/grappler/optimizers/custom_graph_optimizer_registry.cc:113] Plugin optimizer for device_type GPU is enabled.\n"
     ]
    },
    {
     "name": "stdout",
     "output_type": "stream",
     "text": [
      "19/19 [==============================] - 3s 102ms/step - loss: 0.6924 - acc: 0.5267 - f1_m: 0.5274 - precision_m: 0.5274 - recall_m: 0.5274 - val_loss: 0.7230 - val_acc: 0.5550 - val_f1_m: 0.5625 - val_precision_m: 0.5625 - val_recall_m: 0.5625\n",
      "Epoch 2/10\n",
      "19/19 [==============================] - 1s 41ms/step - loss: 0.6943 - acc: 0.5733 - f1_m: 0.5724 - precision_m: 0.5724 - recall_m: 0.5724 - val_loss: 0.6939 - val_acc: 0.6150 - val_f1_m: 0.6295 - val_precision_m: 0.6295 - val_recall_m: 0.6295\n",
      "Epoch 3/10\n",
      "19/19 [==============================] - 1s 38ms/step - loss: 0.6563 - acc: 0.6767 - f1_m: 0.6754 - precision_m: 0.6754 - recall_m: 0.6754 - val_loss: 0.6812 - val_acc: 0.6650 - val_f1_m: 0.6875 - val_precision_m: 0.6875 - val_recall_m: 0.6875\n",
      "Epoch 4/10\n",
      "19/19 [==============================] - 1s 37ms/step - loss: 0.6327 - acc: 0.7067 - f1_m: 0.7061 - precision_m: 0.7061 - recall_m: 0.7061 - val_loss: 0.6579 - val_acc: 0.6250 - val_f1_m: 0.6384 - val_precision_m: 0.6384 - val_recall_m: 0.6384\n",
      "Epoch 5/10\n",
      "19/19 [==============================] - 1s 35ms/step - loss: 0.6256 - acc: 0.7450 - f1_m: 0.7456 - precision_m: 0.7456 - recall_m: 0.7456 - val_loss: 0.6450 - val_acc: 0.7250 - val_f1_m: 0.7411 - val_precision_m: 0.7411 - val_recall_m: 0.7411\n",
      "Epoch 6/10\n",
      "19/19 [==============================] - 1s 36ms/step - loss: 0.5962 - acc: 0.7733 - f1_m: 0.7714 - precision_m: 0.7714 - recall_m: 0.7714 - val_loss: 0.6761 - val_acc: 0.7350 - val_f1_m: 0.7500 - val_precision_m: 0.7500 - val_recall_m: 0.7500\n",
      "Epoch 7/10\n",
      "19/19 [==============================] - 1s 34ms/step - loss: 0.5818 - acc: 0.7650 - f1_m: 0.7664 - precision_m: 0.7664 - recall_m: 0.7664 - val_loss: 0.6155 - val_acc: 0.7300 - val_f1_m: 0.7321 - val_precision_m: 0.7321 - val_recall_m: 0.7321\n",
      "Epoch 8/10\n",
      "19/19 [==============================] - 1s 34ms/step - loss: 0.5324 - acc: 0.7783 - f1_m: 0.7780 - precision_m: 0.7780 - recall_m: 0.7780 - val_loss: 0.6101 - val_acc: 0.7100 - val_f1_m: 0.7143 - val_precision_m: 0.7143 - val_recall_m: 0.7143\n",
      "Epoch 9/10\n",
      "19/19 [==============================] - 1s 34ms/step - loss: 0.5537 - acc: 0.7817 - f1_m: 0.7829 - precision_m: 0.7829 - recall_m: 0.7829 - val_loss: 0.5757 - val_acc: 0.7100 - val_f1_m: 0.7277 - val_precision_m: 0.7277 - val_recall_m: 0.7277\n",
      "Epoch 10/10\n",
      "19/19 [==============================] - 1s 34ms/step - loss: 0.5048 - acc: 0.7950 - f1_m: 0.7928 - precision_m: 0.7928 - recall_m: 0.7928 - val_loss: 0.6166 - val_acc: 0.7450 - val_f1_m: 0.7455 - val_precision_m: 0.7455 - val_recall_m: 0.7455\n",
      "Epoch 1/10\n"
     ]
    },
    {
     "name": "stderr",
     "output_type": "stream",
     "text": [
      "2022-11-29 07:02:57.771151: I tensorflow/core/grappler/optimizers/custom_graph_optimizer_registry.cc:113] Plugin optimizer for device_type GPU is enabled.\n"
     ]
    },
    {
     "name": "stdout",
     "output_type": "stream",
     "text": [
      "19/19 [==============================] - ETA: 0s - loss: 0.6933 - acc: 0.4767 - f1_m: 0.4770 - precision_m: 0.4770 - recall_m: 0.4770"
     ]
    },
    {
     "name": "stderr",
     "output_type": "stream",
     "text": [
      "2022-11-29 07:02:59.357522: I tensorflow/core/grappler/optimizers/custom_graph_optimizer_registry.cc:113] Plugin optimizer for device_type GPU is enabled.\n"
     ]
    },
    {
     "name": "stdout",
     "output_type": "stream",
     "text": [
      "19/19 [==============================] - 2s 85ms/step - loss: 0.6933 - acc: 0.4767 - f1_m: 0.4770 - precision_m: 0.4770 - recall_m: 0.4770 - val_loss: 0.6934 - val_acc: 0.4550 - val_f1_m: 0.4598 - val_precision_m: 0.4598 - val_recall_m: 0.4598\n",
      "Epoch 2/10\n",
      "19/19 [==============================] - 0s 23ms/step - loss: 0.6931 - acc: 0.5117 - f1_m: 0.5126 - precision_m: 0.5126 - recall_m: 0.5126 - val_loss: 0.6938 - val_acc: 0.4550 - val_f1_m: 0.4598 - val_precision_m: 0.4598 - val_recall_m: 0.4598\n",
      "Epoch 3/10\n",
      "19/19 [==============================] - 0s 18ms/step - loss: 0.6930 - acc: 0.5133 - f1_m: 0.5126 - precision_m: 0.5126 - recall_m: 0.5126 - val_loss: 0.6943 - val_acc: 0.4550 - val_f1_m: 0.4598 - val_precision_m: 0.4598 - val_recall_m: 0.4598\n",
      "Epoch 4/10\n",
      "19/19 [==============================] - 0s 18ms/step - loss: 0.6930 - acc: 0.5133 - f1_m: 0.5132 - precision_m: 0.5132 - recall_m: 0.5132 - val_loss: 0.6944 - val_acc: 0.4550 - val_f1_m: 0.4598 - val_precision_m: 0.4598 - val_recall_m: 0.4598\n",
      "Epoch 5/10\n",
      "19/19 [==============================] - 0s 20ms/step - loss: 0.6928 - acc: 0.5133 - f1_m: 0.5132 - precision_m: 0.5132 - recall_m: 0.5132 - val_loss: 0.6948 - val_acc: 0.4550 - val_f1_m: 0.4598 - val_precision_m: 0.4598 - val_recall_m: 0.4598\n",
      "Epoch 6/10\n",
      "19/19 [==============================] - 0s 18ms/step - loss: 0.6928 - acc: 0.5133 - f1_m: 0.5143 - precision_m: 0.5143 - recall_m: 0.5143 - val_loss: 0.6951 - val_acc: 0.4550 - val_f1_m: 0.4598 - val_precision_m: 0.4598 - val_recall_m: 0.4598\n",
      "Epoch 7/10\n",
      "19/19 [==============================] - 0s 17ms/step - loss: 0.6927 - acc: 0.5133 - f1_m: 0.5143 - precision_m: 0.5143 - recall_m: 0.5143 - val_loss: 0.6953 - val_acc: 0.4550 - val_f1_m: 0.4598 - val_precision_m: 0.4598 - val_recall_m: 0.4598\n",
      "Epoch 8/10\n",
      "19/19 [==============================] - 0s 16ms/step - loss: 0.6927 - acc: 0.5133 - f1_m: 0.5143 - precision_m: 0.5143 - recall_m: 0.5143 - val_loss: 0.6955 - val_acc: 0.4550 - val_f1_m: 0.4598 - val_precision_m: 0.4598 - val_recall_m: 0.4598\n",
      "Epoch 9/10\n",
      "19/19 [==============================] - 0s 17ms/step - loss: 0.6927 - acc: 0.5133 - f1_m: 0.5159 - precision_m: 0.5159 - recall_m: 0.5159 - val_loss: 0.6957 - val_acc: 0.4550 - val_f1_m: 0.4598 - val_precision_m: 0.4598 - val_recall_m: 0.4598\n",
      "Epoch 10/10\n",
      "19/19 [==============================] - 0s 17ms/step - loss: 0.6927 - acc: 0.5133 - f1_m: 0.5126 - precision_m: 0.5126 - recall_m: 0.5126 - val_loss: 0.6960 - val_acc: 0.4550 - val_f1_m: 0.4598 - val_precision_m: 0.4598 - val_recall_m: 0.4598\n",
      "Epoch 1/10\n"
     ]
    },
    {
     "name": "stderr",
     "output_type": "stream",
     "text": [
      "2022-11-29 07:03:03.438581: I tensorflow/core/grappler/optimizers/custom_graph_optimizer_registry.cc:113] Plugin optimizer for device_type GPU is enabled.\n"
     ]
    },
    {
     "name": "stdout",
     "output_type": "stream",
     "text": [
      "38/38 [==============================] - ETA: 0s - loss: 0.6985 - acc: 0.5317 - f1_m: 0.5297 - precision_m: 0.5318 - recall_m: 0.5280"
     ]
    },
    {
     "name": "stderr",
     "output_type": "stream",
     "text": [
      "2022-11-29 07:03:05.441579: I tensorflow/core/grappler/optimizers/custom_graph_optimizer_registry.cc:113] Plugin optimizer for device_type GPU is enabled.\n"
     ]
    },
    {
     "name": "stdout",
     "output_type": "stream",
     "text": [
      "38/38 [==============================] - 3s 59ms/step - loss: 0.6985 - acc: 0.5317 - f1_m: 0.5297 - precision_m: 0.5318 - recall_m: 0.5280 - val_loss: 0.7018 - val_acc: 0.5800 - val_f1_m: 0.5817 - val_precision_m: 0.5817 - val_recall_m: 0.5817\n",
      "Epoch 2/10\n",
      "38/38 [==============================] - 1s 18ms/step - loss: 0.6972 - acc: 0.5633 - f1_m: 0.5691 - precision_m: 0.5691 - recall_m: 0.5691 - val_loss: 0.7127 - val_acc: 0.6500 - val_f1_m: 0.6587 - val_precision_m: 0.6587 - val_recall_m: 0.6587\n",
      "Epoch 3/10\n",
      "38/38 [==============================] - 1s 17ms/step - loss: 0.7345 - acc: 0.5700 - f1_m: 0.5691 - precision_m: 0.5691 - recall_m: 0.5691 - val_loss: 0.6882 - val_acc: 0.7350 - val_f1_m: 0.7356 - val_precision_m: 0.7356 - val_recall_m: 0.7356\n",
      "Epoch 4/10\n",
      "38/38 [==============================] - 1s 17ms/step - loss: 0.6822 - acc: 0.5983 - f1_m: 0.5954 - precision_m: 0.5954 - recall_m: 0.5954 - val_loss: 0.6897 - val_acc: 0.6200 - val_f1_m: 0.6250 - val_precision_m: 0.6250 - val_recall_m: 0.6250\n",
      "Epoch 5/10\n",
      "38/38 [==============================] - 1s 16ms/step - loss: 0.6675 - acc: 0.6483 - f1_m: 0.6431 - precision_m: 0.6431 - recall_m: 0.6431 - val_loss: 0.7134 - val_acc: 0.6100 - val_f1_m: 0.6106 - val_precision_m: 0.6106 - val_recall_m: 0.6106\n",
      "Epoch 6/10\n",
      "38/38 [==============================] - 1s 16ms/step - loss: 0.6509 - acc: 0.6633 - f1_m: 0.6645 - precision_m: 0.6645 - recall_m: 0.6645 - val_loss: 0.7354 - val_acc: 0.6550 - val_f1_m: 0.6587 - val_precision_m: 0.6587 - val_recall_m: 0.6587\n",
      "Epoch 7/10\n",
      "38/38 [==============================] - 1s 16ms/step - loss: 0.6762 - acc: 0.6700 - f1_m: 0.6694 - precision_m: 0.6694 - recall_m: 0.6694 - val_loss: 0.7298 - val_acc: 0.7150 - val_f1_m: 0.7163 - val_precision_m: 0.7163 - val_recall_m: 0.7163\n",
      "Epoch 8/10\n",
      "38/38 [==============================] - 1s 16ms/step - loss: 0.6700 - acc: 0.6717 - f1_m: 0.6661 - precision_m: 0.6661 - recall_m: 0.6661 - val_loss: 0.6490 - val_acc: 0.7500 - val_f1_m: 0.7500 - val_precision_m: 0.7500 - val_recall_m: 0.7500\n",
      "Epoch 9/10\n",
      "38/38 [==============================] - 1s 15ms/step - loss: 0.6147 - acc: 0.6733 - f1_m: 0.6743 - precision_m: 0.6743 - recall_m: 0.6743 - val_loss: 0.6912 - val_acc: 0.7050 - val_f1_m: 0.7067 - val_precision_m: 0.7067 - val_recall_m: 0.7067\n",
      "Epoch 10/10\n",
      "38/38 [==============================] - 1s 20ms/step - loss: 0.6171 - acc: 0.6950 - f1_m: 0.6974 - precision_m: 0.6974 - recall_m: 0.6974 - val_loss: 0.6319 - val_acc: 0.7700 - val_f1_m: 0.7644 - val_precision_m: 0.7644 - val_recall_m: 0.7644\n",
      "Epoch 1/10\n"
     ]
    },
    {
     "name": "stderr",
     "output_type": "stream",
     "text": [
      "2022-11-29 07:03:13.061261: I tensorflow/core/grappler/optimizers/custom_graph_optimizer_registry.cc:113] Plugin optimizer for device_type GPU is enabled.\n"
     ]
    },
    {
     "name": "stdout",
     "output_type": "stream",
     "text": [
      "74/75 [============================>.] - ETA: 0s - loss: 0.6924 - acc: 0.5625 - f1_m: 0.5625 - precision_m: 0.5625 - recall_m: 0.5625"
     ]
    },
    {
     "name": "stderr",
     "output_type": "stream",
     "text": [
      "2022-11-29 07:03:15.216405: I tensorflow/core/grappler/optimizers/custom_graph_optimizer_registry.cc:113] Plugin optimizer for device_type GPU is enabled.\n"
     ]
    },
    {
     "name": "stdout",
     "output_type": "stream",
     "text": [
      "75/75 [==============================] - 4s 29ms/step - loss: 0.6924 - acc: 0.5600 - f1_m: 0.5600 - precision_m: 0.5600 - recall_m: 0.5600 - val_loss: 0.7655 - val_acc: 0.4900 - val_f1_m: 0.4900 - val_precision_m: 0.4900 - val_recall_m: 0.4900\n",
      "Epoch 2/10\n",
      "75/75 [==============================] - 1s 14ms/step - loss: 0.6691 - acc: 0.6567 - f1_m: 0.6567 - precision_m: 0.6567 - recall_m: 0.6567 - val_loss: 0.7242 - val_acc: 0.6650 - val_f1_m: 0.6650 - val_precision_m: 0.6650 - val_recall_m: 0.6650\n",
      "Epoch 3/10\n",
      "75/75 [==============================] - 1s 14ms/step - loss: 0.7104 - acc: 0.5983 - f1_m: 0.5983 - precision_m: 0.5983 - recall_m: 0.5983 - val_loss: 0.7010 - val_acc: 0.5700 - val_f1_m: 0.5700 - val_precision_m: 0.5700 - val_recall_m: 0.5700\n",
      "Epoch 4/10\n",
      "75/75 [==============================] - 1s 14ms/step - loss: 0.6619 - acc: 0.6550 - f1_m: 0.6550 - precision_m: 0.6550 - recall_m: 0.6550 - val_loss: 0.6642 - val_acc: 0.6950 - val_f1_m: 0.6950 - val_precision_m: 0.6950 - val_recall_m: 0.6950\n",
      "Epoch 5/10\n",
      "75/75 [==============================] - 1s 14ms/step - loss: 0.6074 - acc: 0.7250 - f1_m: 0.7250 - precision_m: 0.7250 - recall_m: 0.7250 - val_loss: 0.7497 - val_acc: 0.7400 - val_f1_m: 0.7400 - val_precision_m: 0.7400 - val_recall_m: 0.7400\n",
      "Epoch 6/10\n",
      "75/75 [==============================] - 1s 14ms/step - loss: 0.5821 - acc: 0.7550 - f1_m: 0.7550 - precision_m: 0.7550 - recall_m: 0.7550 - val_loss: 0.7877 - val_acc: 0.7450 - val_f1_m: 0.7450 - val_precision_m: 0.7450 - val_recall_m: 0.7450\n",
      "Epoch 7/10\n",
      "75/75 [==============================] - 1s 14ms/step - loss: 0.5723 - acc: 0.8000 - f1_m: 0.8000 - precision_m: 0.8000 - recall_m: 0.8000 - val_loss: 0.6930 - val_acc: 0.7750 - val_f1_m: 0.7750 - val_precision_m: 0.7750 - val_recall_m: 0.7750\n",
      "Epoch 8/10\n",
      "75/75 [==============================] - 1s 13ms/step - loss: 0.5168 - acc: 0.8050 - f1_m: 0.8050 - precision_m: 0.8050 - recall_m: 0.8050 - val_loss: 0.7019 - val_acc: 0.7500 - val_f1_m: 0.7500 - val_precision_m: 0.7500 - val_recall_m: 0.7500\n",
      "Epoch 9/10\n",
      "75/75 [==============================] - 1s 13ms/step - loss: 0.4861 - acc: 0.8233 - f1_m: 0.8233 - precision_m: 0.8233 - recall_m: 0.8233 - val_loss: 0.6333 - val_acc: 0.7700 - val_f1_m: 0.7700 - val_precision_m: 0.7700 - val_recall_m: 0.7700\n",
      "Epoch 10/10\n",
      "75/75 [==============================] - 1s 14ms/step - loss: 0.4095 - acc: 0.8600 - f1_m: 0.8600 - precision_m: 0.8600 - recall_m: 0.8600 - val_loss: 0.7429 - val_acc: 0.7700 - val_f1_m: 0.7700 - val_precision_m: 0.7700 - val_recall_m: 0.7700\n",
      "Epoch 1/10\n"
     ]
    },
    {
     "name": "stderr",
     "output_type": "stream",
     "text": [
      "2022-11-29 07:03:25.425977: I tensorflow/core/grappler/optimizers/custom_graph_optimizer_registry.cc:113] Plugin optimizer for device_type GPU is enabled.\n"
     ]
    },
    {
     "name": "stdout",
     "output_type": "stream",
     "text": [
      "19/19 [==============================] - ETA: 0s - loss: 0.6934 - acc: 0.4850 - f1_m: 0.4830 - precision_m: 0.4830 - recall_m: 0.4830"
     ]
    },
    {
     "name": "stderr",
     "output_type": "stream",
     "text": [
      "2022-11-29 07:03:27.332851: I tensorflow/core/grappler/optimizers/custom_graph_optimizer_registry.cc:113] Plugin optimizer for device_type GPU is enabled.\n"
     ]
    },
    {
     "name": "stdout",
     "output_type": "stream",
     "text": [
      "19/19 [==============================] - 3s 104ms/step - loss: 0.6934 - acc: 0.4850 - f1_m: 0.4830 - precision_m: 0.4830 - recall_m: 0.4830 - val_loss: 0.6930 - val_acc: 0.4950 - val_f1_m: 0.4554 - val_precision_m: 0.4554 - val_recall_m: 0.4554\n",
      "Epoch 2/10\n",
      "19/19 [==============================] - 0s 24ms/step - loss: 0.6932 - acc: 0.5033 - f1_m: 0.5038 - precision_m: 0.5038 - recall_m: 0.5038 - val_loss: 0.6935 - val_acc: 0.4500 - val_f1_m: 0.4554 - val_precision_m: 0.4554 - val_recall_m: 0.4554\n",
      "Epoch 3/10\n",
      "19/19 [==============================] - 0s 26ms/step - loss: 0.6931 - acc: 0.5133 - f1_m: 0.5154 - precision_m: 0.5154 - recall_m: 0.5154 - val_loss: 0.6937 - val_acc: 0.4600 - val_f1_m: 0.4643 - val_precision_m: 0.4643 - val_recall_m: 0.4643\n",
      "Epoch 4/10\n",
      "19/19 [==============================] - 0s 17ms/step - loss: 0.6931 - acc: 0.5133 - f1_m: 0.5154 - precision_m: 0.5154 - recall_m: 0.5154 - val_loss: 0.6944 - val_acc: 0.4550 - val_f1_m: 0.4598 - val_precision_m: 0.4598 - val_recall_m: 0.4598\n",
      "Epoch 5/10\n",
      "19/19 [==============================] - 0s 17ms/step - loss: 0.6929 - acc: 0.5133 - f1_m: 0.5148 - precision_m: 0.5148 - recall_m: 0.5148 - val_loss: 0.6946 - val_acc: 0.4550 - val_f1_m: 0.4598 - val_precision_m: 0.4598 - val_recall_m: 0.4598\n",
      "Epoch 6/10\n",
      "19/19 [==============================] - 0s 16ms/step - loss: 0.6928 - acc: 0.5133 - f1_m: 0.5143 - precision_m: 0.5143 - recall_m: 0.5143 - val_loss: 0.6950 - val_acc: 0.4550 - val_f1_m: 0.4598 - val_precision_m: 0.4598 - val_recall_m: 0.4598\n",
      "Epoch 7/10\n",
      "19/19 [==============================] - 0s 21ms/step - loss: 0.6928 - acc: 0.5133 - f1_m: 0.5137 - precision_m: 0.5137 - recall_m: 0.5137 - val_loss: 0.6954 - val_acc: 0.4550 - val_f1_m: 0.4598 - val_precision_m: 0.4598 - val_recall_m: 0.4598\n",
      "Epoch 8/10\n",
      "19/19 [==============================] - 0s 15ms/step - loss: 0.6927 - acc: 0.5133 - f1_m: 0.5110 - precision_m: 0.5110 - recall_m: 0.5110 - val_loss: 0.6955 - val_acc: 0.4550 - val_f1_m: 0.4598 - val_precision_m: 0.4598 - val_recall_m: 0.4598\n",
      "Epoch 9/10\n",
      "19/19 [==============================] - 0s 18ms/step - loss: 0.6927 - acc: 0.5133 - f1_m: 0.5137 - precision_m: 0.5137 - recall_m: 0.5137 - val_loss: 0.6953 - val_acc: 0.4550 - val_f1_m: 0.4598 - val_precision_m: 0.4598 - val_recall_m: 0.4598\n",
      "Epoch 10/10\n",
      "19/19 [==============================] - 0s 16ms/step - loss: 0.6927 - acc: 0.5133 - f1_m: 0.5115 - precision_m: 0.5115 - recall_m: 0.5115 - val_loss: 0.6954 - val_acc: 0.4550 - val_f1_m: 0.4598 - val_precision_m: 0.4598 - val_recall_m: 0.4598\n",
      "Epoch 1/10\n"
     ]
    },
    {
     "name": "stderr",
     "output_type": "stream",
     "text": [
      "2022-11-29 07:03:31.612187: I tensorflow/core/grappler/optimizers/custom_graph_optimizer_registry.cc:113] Plugin optimizer for device_type GPU is enabled.\n"
     ]
    },
    {
     "name": "stdout",
     "output_type": "stream",
     "text": [
      "19/19 [==============================] - ETA: 0s - loss: 0.6934 - acc: 0.4783 - f1_m: 0.4814 - precision_m: 0.4814 - recall_m: 0.4814"
     ]
    },
    {
     "name": "stderr",
     "output_type": "stream",
     "text": [
      "2022-11-29 07:03:33.198773: I tensorflow/core/grappler/optimizers/custom_graph_optimizer_registry.cc:113] Plugin optimizer for device_type GPU is enabled.\n"
     ]
    },
    {
     "name": "stdout",
     "output_type": "stream",
     "text": [
      "19/19 [==============================] - 2s 92ms/step - loss: 0.6934 - acc: 0.4783 - f1_m: 0.4814 - precision_m: 0.4814 - recall_m: 0.4814 - val_loss: 0.6936 - val_acc: 0.4500 - val_f1_m: 0.4554 - val_precision_m: 0.4554 - val_recall_m: 0.4554\n",
      "Epoch 2/10\n",
      "19/19 [==============================] - 1s 28ms/step - loss: 0.6931 - acc: 0.5083 - f1_m: 0.5115 - precision_m: 0.5115 - recall_m: 0.5115 - val_loss: 0.6937 - val_acc: 0.4600 - val_f1_m: 0.4643 - val_precision_m: 0.4643 - val_recall_m: 0.4643\n",
      "Epoch 3/10\n",
      "19/19 [==============================] - 0s 20ms/step - loss: 0.6931 - acc: 0.5117 - f1_m: 0.5126 - precision_m: 0.5126 - recall_m: 0.5126 - val_loss: 0.6944 - val_acc: 0.4550 - val_f1_m: 0.4598 - val_precision_m: 0.4598 - val_recall_m: 0.4598\n",
      "Epoch 4/10\n",
      "19/19 [==============================] - 0s 18ms/step - loss: 0.6929 - acc: 0.5133 - f1_m: 0.5132 - precision_m: 0.5132 - recall_m: 0.5132 - val_loss: 0.6943 - val_acc: 0.4550 - val_f1_m: 0.4598 - val_precision_m: 0.4598 - val_recall_m: 0.4598\n",
      "Epoch 5/10\n",
      "19/19 [==============================] - 0s 18ms/step - loss: 0.6929 - acc: 0.5133 - f1_m: 0.5121 - precision_m: 0.5121 - recall_m: 0.5121 - val_loss: 0.6948 - val_acc: 0.4550 - val_f1_m: 0.4598 - val_precision_m: 0.4598 - val_recall_m: 0.4598\n",
      "Epoch 6/10\n",
      "19/19 [==============================] - 0s 18ms/step - loss: 0.6928 - acc: 0.5133 - f1_m: 0.5148 - precision_m: 0.5148 - recall_m: 0.5148 - val_loss: 0.6950 - val_acc: 0.4550 - val_f1_m: 0.4598 - val_precision_m: 0.4598 - val_recall_m: 0.4598\n",
      "Epoch 7/10\n",
      "19/19 [==============================] - 0s 16ms/step - loss: 0.6928 - acc: 0.5133 - f1_m: 0.5110 - precision_m: 0.5110 - recall_m: 0.5110 - val_loss: 0.6953 - val_acc: 0.4550 - val_f1_m: 0.4598 - val_precision_m: 0.4598 - val_recall_m: 0.4598\n",
      "Epoch 8/10\n",
      "19/19 [==============================] - 0s 16ms/step - loss: 0.6928 - acc: 0.5133 - f1_m: 0.5159 - precision_m: 0.5159 - recall_m: 0.5159 - val_loss: 0.6952 - val_acc: 0.4550 - val_f1_m: 0.4598 - val_precision_m: 0.4598 - val_recall_m: 0.4598\n",
      "Epoch 9/10\n",
      "19/19 [==============================] - 0s 15ms/step - loss: 0.6928 - acc: 0.5133 - f1_m: 0.5148 - precision_m: 0.5148 - recall_m: 0.5148 - val_loss: 0.6957 - val_acc: 0.4550 - val_f1_m: 0.4598 - val_precision_m: 0.4598 - val_recall_m: 0.4598\n",
      "Epoch 10/10\n",
      "19/19 [==============================] - 1s 27ms/step - loss: 0.6927 - acc: 0.5133 - f1_m: 0.5159 - precision_m: 0.5159 - recall_m: 0.5159 - val_loss: 0.6959 - val_acc: 0.4550 - val_f1_m: 0.4598 - val_precision_m: 0.4598 - val_recall_m: 0.4598\n",
      "Epoch 1/10\n"
     ]
    },
    {
     "name": "stderr",
     "output_type": "stream",
     "text": [
      "2022-11-29 07:03:37.526126: I tensorflow/core/grappler/optimizers/custom_graph_optimizer_registry.cc:113] Plugin optimizer for device_type GPU is enabled.\n"
     ]
    },
    {
     "name": "stdout",
     "output_type": "stream",
     "text": [
      "19/19 [==============================] - ETA: 0s - loss: 0.7000 - acc: 0.5350 - f1_m: 0.5373 - precision_m: 0.5373 - recall_m: 0.5373"
     ]
    },
    {
     "name": "stderr",
     "output_type": "stream",
     "text": [
      "2022-11-29 07:03:39.876239: I tensorflow/core/grappler/optimizers/custom_graph_optimizer_registry.cc:113] Plugin optimizer for device_type GPU is enabled.\n"
     ]
    },
    {
     "name": "stdout",
     "output_type": "stream",
     "text": [
      "19/19 [==============================] - 3s 132ms/step - loss: 0.7000 - acc: 0.5350 - f1_m: 0.5373 - precision_m: 0.5373 - recall_m: 0.5373 - val_loss: 0.6997 - val_acc: 0.5000 - val_f1_m: 0.5000 - val_precision_m: 0.5000 - val_recall_m: 0.5000\n",
      "Epoch 2/10\n",
      "19/19 [==============================] - 1s 43ms/step - loss: 0.7040 - acc: 0.6050 - f1_m: 0.6047 - precision_m: 0.6047 - recall_m: 0.6047 - val_loss: 0.6899 - val_acc: 0.6600 - val_f1_m: 0.6964 - val_precision_m: 0.6964 - val_recall_m: 0.6964\n",
      "Epoch 3/10\n",
      "19/19 [==============================] - 1s 42ms/step - loss: 0.6716 - acc: 0.6133 - f1_m: 0.6135 - precision_m: 0.6135 - recall_m: 0.6135 - val_loss: 0.6847 - val_acc: 0.6850 - val_f1_m: 0.6920 - val_precision_m: 0.6920 - val_recall_m: 0.6920\n",
      "Epoch 4/10\n",
      "19/19 [==============================] - 1s 40ms/step - loss: 0.6763 - acc: 0.6367 - f1_m: 0.6371 - precision_m: 0.6371 - recall_m: 0.6371 - val_loss: 0.6791 - val_acc: 0.6850 - val_f1_m: 0.7187 - val_precision_m: 0.7188 - val_recall_m: 0.7188\n",
      "Epoch 5/10\n",
      "19/19 [==============================] - 1s 36ms/step - loss: 0.6405 - acc: 0.6383 - f1_m: 0.6398 - precision_m: 0.6398 - recall_m: 0.6398 - val_loss: 0.6706 - val_acc: 0.6450 - val_f1_m: 0.6696 - val_precision_m: 0.6696 - val_recall_m: 0.6696\n",
      "Epoch 6/10\n",
      "19/19 [==============================] - 1s 35ms/step - loss: 0.6265 - acc: 0.6883 - f1_m: 0.6859 - precision_m: 0.6859 - recall_m: 0.6859 - val_loss: 0.6751 - val_acc: 0.6850 - val_f1_m: 0.7187 - val_precision_m: 0.7188 - val_recall_m: 0.7188\n",
      "Epoch 7/10\n",
      "19/19 [==============================] - 1s 38ms/step - loss: 0.6121 - acc: 0.6717 - f1_m: 0.6727 - precision_m: 0.6727 - recall_m: 0.6727 - val_loss: 0.6756 - val_acc: 0.7000 - val_f1_m: 0.6920 - val_precision_m: 0.6920 - val_recall_m: 0.6920\n",
      "Epoch 8/10\n",
      "19/19 [==============================] - 1s 36ms/step - loss: 0.5994 - acc: 0.6883 - f1_m: 0.6886 - precision_m: 0.6886 - recall_m: 0.6886 - val_loss: 0.6541 - val_acc: 0.7300 - val_f1_m: 0.7589 - val_precision_m: 0.7589 - val_recall_m: 0.7589\n",
      "Epoch 9/10\n",
      "19/19 [==============================] - 1s 36ms/step - loss: 0.5744 - acc: 0.7600 - f1_m: 0.7621 - precision_m: 0.7621 - recall_m: 0.7621 - val_loss: 0.6688 - val_acc: 0.7450 - val_f1_m: 0.7589 - val_precision_m: 0.7589 - val_recall_m: 0.7589\n",
      "Epoch 10/10\n",
      "19/19 [==============================] - 1s 35ms/step - loss: 0.5468 - acc: 0.7417 - f1_m: 0.7423 - precision_m: 0.7423 - recall_m: 0.7423 - val_loss: 0.6459 - val_acc: 0.7200 - val_f1_m: 0.7098 - val_precision_m: 0.7098 - val_recall_m: 0.7098\n",
      "Epoch 1/10\n"
     ]
    },
    {
     "name": "stderr",
     "output_type": "stream",
     "text": [
      "2022-11-29 07:03:47.441859: I tensorflow/core/grappler/optimizers/custom_graph_optimizer_registry.cc:113] Plugin optimizer for device_type GPU is enabled.\n"
     ]
    },
    {
     "name": "stdout",
     "output_type": "stream",
     "text": [
      "74/75 [============================>.] - ETA: 0s - loss: 0.6910 - acc: 0.5574 - f1_m: 0.5574 - precision_m: 0.5574 - recall_m: 0.5574"
     ]
    },
    {
     "name": "stderr",
     "output_type": "stream",
     "text": [
      "2022-11-29 07:03:49.355062: I tensorflow/core/grappler/optimizers/custom_graph_optimizer_registry.cc:113] Plugin optimizer for device_type GPU is enabled.\n"
     ]
    },
    {
     "name": "stdout",
     "output_type": "stream",
     "text": [
      "75/75 [==============================] - 3s 26ms/step - loss: 0.6901 - acc: 0.5600 - f1_m: 0.5600 - precision_m: 0.5600 - recall_m: 0.5600 - val_loss: 0.7149 - val_acc: 0.5550 - val_f1_m: 0.5550 - val_precision_m: 0.5550 - val_recall_m: 0.5550\n",
      "Epoch 2/10\n",
      "75/75 [==============================] - 1s 13ms/step - loss: 0.7135 - acc: 0.6883 - f1_m: 0.6883 - precision_m: 0.6883 - recall_m: 0.6883 - val_loss: 0.6645 - val_acc: 0.7450 - val_f1_m: 0.7450 - val_precision_m: 0.7450 - val_recall_m: 0.7450\n",
      "Epoch 3/10\n",
      "75/75 [==============================] - 1s 13ms/step - loss: 0.6184 - acc: 0.6817 - f1_m: 0.6817 - precision_m: 0.6817 - recall_m: 0.6817 - val_loss: 0.7306 - val_acc: 0.6450 - val_f1_m: 0.6450 - val_precision_m: 0.6450 - val_recall_m: 0.6450\n",
      "Epoch 4/10\n",
      "75/75 [==============================] - 1s 14ms/step - loss: 0.6082 - acc: 0.6967 - f1_m: 0.6967 - precision_m: 0.6967 - recall_m: 0.6967 - val_loss: 0.6361 - val_acc: 0.6550 - val_f1_m: 0.6550 - val_precision_m: 0.6550 - val_recall_m: 0.6550\n",
      "Epoch 5/10\n",
      "75/75 [==============================] - 1s 14ms/step - loss: 0.6631 - acc: 0.7217 - f1_m: 0.7217 - precision_m: 0.7217 - recall_m: 0.7217 - val_loss: 0.6396 - val_acc: 0.6600 - val_f1_m: 0.6600 - val_precision_m: 0.6600 - val_recall_m: 0.6600\n",
      "Epoch 6/10\n",
      "75/75 [==============================] - 1s 13ms/step - loss: 0.5708 - acc: 0.7583 - f1_m: 0.7583 - precision_m: 0.7583 - recall_m: 0.7583 - val_loss: 0.5947 - val_acc: 0.6800 - val_f1_m: 0.6800 - val_precision_m: 0.6800 - val_recall_m: 0.6800\n",
      "Epoch 7/10\n",
      "75/75 [==============================] - 1s 13ms/step - loss: 0.5089 - acc: 0.7783 - f1_m: 0.7783 - precision_m: 0.7783 - recall_m: 0.7783 - val_loss: 0.6641 - val_acc: 0.7300 - val_f1_m: 0.7300 - val_precision_m: 0.7300 - val_recall_m: 0.7300\n",
      "Epoch 8/10\n",
      "75/75 [==============================] - 1s 13ms/step - loss: 0.5219 - acc: 0.7800 - f1_m: 0.7800 - precision_m: 0.7800 - recall_m: 0.7800 - val_loss: 0.6865 - val_acc: 0.7700 - val_f1_m: 0.7700 - val_precision_m: 0.7700 - val_recall_m: 0.7700\n",
      "Epoch 9/10\n",
      "75/75 [==============================] - 1s 13ms/step - loss: 0.4652 - acc: 0.8483 - f1_m: 0.8483 - precision_m: 0.8483 - recall_m: 0.8483 - val_loss: 0.7638 - val_acc: 0.7750 - val_f1_m: 0.7750 - val_precision_m: 0.7750 - val_recall_m: 0.7750\n",
      "Epoch 10/10\n",
      "75/75 [==============================] - 1s 13ms/step - loss: 0.4250 - acc: 0.8467 - f1_m: 0.8467 - precision_m: 0.8467 - recall_m: 0.8467 - val_loss: 0.7662 - val_acc: 0.7450 - val_f1_m: 0.7450 - val_precision_m: 0.7450 - val_recall_m: 0.7450\n",
      "Epoch 1/10\n"
     ]
    },
    {
     "name": "stderr",
     "output_type": "stream",
     "text": [
      "2022-11-29 07:04:00.054984: I tensorflow/core/grappler/optimizers/custom_graph_optimizer_registry.cc:113] Plugin optimizer for device_type GPU is enabled.\n"
     ]
    },
    {
     "name": "stdout",
     "output_type": "stream",
     "text": [
      "38/38 [==============================] - ETA: 0s - loss: 0.6964 - acc: 0.5183 - f1_m: 0.5174 - precision_m: 0.5187 - recall_m: 0.5164"
     ]
    },
    {
     "name": "stderr",
     "output_type": "stream",
     "text": [
      "2022-11-29 07:04:02.536684: I tensorflow/core/grappler/optimizers/custom_graph_optimizer_registry.cc:113] Plugin optimizer for device_type GPU is enabled.\n"
     ]
    },
    {
     "name": "stdout",
     "output_type": "stream",
     "text": [
      "38/38 [==============================] - 4s 59ms/step - loss: 0.6964 - acc: 0.5183 - f1_m: 0.5174 - precision_m: 0.5187 - recall_m: 0.5164 - val_loss: 0.7335 - val_acc: 0.6100 - val_f1_m: 0.6154 - val_precision_m: 0.6154 - val_recall_m: 0.6154\n",
      "Epoch 2/10\n",
      "38/38 [==============================] - 1s 19ms/step - loss: 0.7133 - acc: 0.5867 - f1_m: 0.5872 - precision_m: 0.5872 - recall_m: 0.5872 - val_loss: 0.7090 - val_acc: 0.4950 - val_f1_m: 0.4952 - val_precision_m: 0.4952 - val_recall_m: 0.4952\n",
      "Epoch 3/10\n",
      "38/38 [==============================] - 1s 17ms/step - loss: 0.6762 - acc: 0.5650 - f1_m: 0.5707 - precision_m: 0.5707 - recall_m: 0.5707 - val_loss: 0.6999 - val_acc: 0.6500 - val_f1_m: 0.6587 - val_precision_m: 0.6587 - val_recall_m: 0.6587\n",
      "Epoch 4/10\n",
      "38/38 [==============================] - 1s 16ms/step - loss: 0.6915 - acc: 0.6383 - f1_m: 0.6398 - precision_m: 0.6398 - recall_m: 0.6398 - val_loss: 0.7424 - val_acc: 0.5600 - val_f1_m: 0.5625 - val_precision_m: 0.5625 - val_recall_m: 0.5625\n",
      "Epoch 5/10\n",
      "38/38 [==============================] - 1s 16ms/step - loss: 0.6739 - acc: 0.5783 - f1_m: 0.5789 - precision_m: 0.5789 - recall_m: 0.5789 - val_loss: 0.7275 - val_acc: 0.6400 - val_f1_m: 0.6442 - val_precision_m: 0.6442 - val_recall_m: 0.6442\n",
      "Epoch 6/10\n",
      "38/38 [==============================] - 1s 16ms/step - loss: 0.6616 - acc: 0.6450 - f1_m: 0.6447 - precision_m: 0.6447 - recall_m: 0.6447 - val_loss: 0.7450 - val_acc: 0.6950 - val_f1_m: 0.7019 - val_precision_m: 0.7019 - val_recall_m: 0.7019\n",
      "Epoch 7/10\n",
      "38/38 [==============================] - 1s 17ms/step - loss: 0.6377 - acc: 0.6800 - f1_m: 0.6760 - precision_m: 0.6760 - recall_m: 0.6760 - val_loss: 0.7871 - val_acc: 0.7100 - val_f1_m: 0.7115 - val_precision_m: 0.7115 - val_recall_m: 0.7115\n",
      "Epoch 8/10\n",
      "38/38 [==============================] - 1s 16ms/step - loss: 0.6359 - acc: 0.6617 - f1_m: 0.6628 - precision_m: 0.6628 - recall_m: 0.6628 - val_loss: 0.7131 - val_acc: 0.7050 - val_f1_m: 0.7115 - val_precision_m: 0.7115 - val_recall_m: 0.7115\n",
      "Epoch 9/10\n",
      "38/38 [==============================] - 1s 17ms/step - loss: 0.6095 - acc: 0.6867 - f1_m: 0.6908 - precision_m: 0.6908 - recall_m: 0.6908 - val_loss: 0.7687 - val_acc: 0.7600 - val_f1_m: 0.7596 - val_precision_m: 0.7596 - val_recall_m: 0.7596\n",
      "Epoch 10/10\n",
      "38/38 [==============================] - 1s 16ms/step - loss: 0.6615 - acc: 0.6633 - f1_m: 0.6645 - precision_m: 0.6645 - recall_m: 0.6645 - val_loss: 0.6461 - val_acc: 0.7450 - val_f1_m: 0.7452 - val_precision_m: 0.7452 - val_recall_m: 0.7452\n",
      "Epoch 1/10\n"
     ]
    },
    {
     "name": "stderr",
     "output_type": "stream",
     "text": [
      "2022-11-29 07:04:09.227099: I tensorflow/core/grappler/optimizers/custom_graph_optimizer_registry.cc:113] Plugin optimizer for device_type GPU is enabled.\n"
     ]
    },
    {
     "name": "stdout",
     "output_type": "stream",
     "text": [
      "19/19 [==============================] - ETA: 0s - loss: 0.6933 - acc: 0.4883 - f1_m: 0.4863 - precision_m: 0.4863 - recall_m: 0.4863"
     ]
    },
    {
     "name": "stderr",
     "output_type": "stream",
     "text": [
      "2022-11-29 07:04:11.048226: I tensorflow/core/grappler/optimizers/custom_graph_optimizer_registry.cc:113] Plugin optimizer for device_type GPU is enabled.\n"
     ]
    },
    {
     "name": "stdout",
     "output_type": "stream",
     "text": [
      "19/19 [==============================] - 3s 92ms/step - loss: 0.6933 - acc: 0.4883 - f1_m: 0.4863 - precision_m: 0.4863 - recall_m: 0.4863 - val_loss: 0.6938 - val_acc: 0.4600 - val_f1_m: 0.4643 - val_precision_m: 0.4643 - val_recall_m: 0.4643\n",
      "Epoch 2/10\n",
      "19/19 [==============================] - 0s 24ms/step - loss: 0.6931 - acc: 0.5133 - f1_m: 0.5115 - precision_m: 0.5115 - recall_m: 0.5115 - val_loss: 0.6943 - val_acc: 0.4550 - val_f1_m: 0.4598 - val_precision_m: 0.4598 - val_recall_m: 0.4598\n",
      "Epoch 3/10\n",
      "19/19 [==============================] - 0s 22ms/step - loss: 0.6930 - acc: 0.5133 - f1_m: 0.5121 - precision_m: 0.5121 - recall_m: 0.5121 - val_loss: 0.6943 - val_acc: 0.4550 - val_f1_m: 0.4598 - val_precision_m: 0.4598 - val_recall_m: 0.4598\n",
      "Epoch 4/10\n",
      "19/19 [==============================] - 0s 20ms/step - loss: 0.6930 - acc: 0.5133 - f1_m: 0.5148 - precision_m: 0.5148 - recall_m: 0.5148 - val_loss: 0.6941 - val_acc: 0.4550 - val_f1_m: 0.4598 - val_precision_m: 0.4598 - val_recall_m: 0.4598\n",
      "Epoch 5/10\n",
      "19/19 [==============================] - 0s 16ms/step - loss: 0.6930 - acc: 0.5133 - f1_m: 0.5137 - precision_m: 0.5137 - recall_m: 0.5137 - val_loss: 0.6949 - val_acc: 0.4550 - val_f1_m: 0.4598 - val_precision_m: 0.4598 - val_recall_m: 0.4598\n",
      "Epoch 6/10\n",
      "19/19 [==============================] - 0s 21ms/step - loss: 0.6928 - acc: 0.5133 - f1_m: 0.5132 - precision_m: 0.5132 - recall_m: 0.5132 - val_loss: 0.6950 - val_acc: 0.4550 - val_f1_m: 0.4598 - val_precision_m: 0.4598 - val_recall_m: 0.4598\n",
      "Epoch 7/10\n",
      "19/19 [==============================] - 0s 17ms/step - loss: 0.6928 - acc: 0.5133 - f1_m: 0.5143 - precision_m: 0.5143 - recall_m: 0.5143 - val_loss: 0.6950 - val_acc: 0.4550 - val_f1_m: 0.4598 - val_precision_m: 0.4598 - val_recall_m: 0.4598\n",
      "Epoch 8/10\n",
      "19/19 [==============================] - 0s 15ms/step - loss: 0.6927 - acc: 0.5133 - f1_m: 0.5132 - precision_m: 0.5132 - recall_m: 0.5132 - val_loss: 0.6954 - val_acc: 0.4550 - val_f1_m: 0.4598 - val_precision_m: 0.4598 - val_recall_m: 0.4598\n",
      "Epoch 9/10\n",
      "19/19 [==============================] - 0s 15ms/step - loss: 0.6927 - acc: 0.5133 - f1_m: 0.5143 - precision_m: 0.5143 - recall_m: 0.5143 - val_loss: 0.6957 - val_acc: 0.4550 - val_f1_m: 0.4598 - val_precision_m: 0.4598 - val_recall_m: 0.4598\n",
      "Epoch 10/10\n",
      "19/19 [==============================] - 0s 18ms/step - loss: 0.6927 - acc: 0.5133 - f1_m: 0.5115 - precision_m: 0.5115 - recall_m: 0.5115 - val_loss: 0.6960 - val_acc: 0.4550 - val_f1_m: 0.4598 - val_precision_m: 0.4598 - val_recall_m: 0.4598\n",
      "Epoch 1/10\n"
     ]
    },
    {
     "name": "stderr",
     "output_type": "stream",
     "text": [
      "2022-11-29 07:04:15.212768: I tensorflow/core/grappler/optimizers/custom_graph_optimizer_registry.cc:113] Plugin optimizer for device_type GPU is enabled.\n"
     ]
    },
    {
     "name": "stdout",
     "output_type": "stream",
     "text": [
      "38/38 [==============================] - ETA: 0s - loss: 0.6876 - acc: 0.5500 - f1_m: 0.5449 - precision_m: 0.5480 - recall_m: 0.5428"
     ]
    },
    {
     "name": "stderr",
     "output_type": "stream",
     "text": [
      "2022-11-29 07:04:17.288343: I tensorflow/core/grappler/optimizers/custom_graph_optimizer_registry.cc:113] Plugin optimizer for device_type GPU is enabled.\n"
     ]
    },
    {
     "name": "stdout",
     "output_type": "stream",
     "text": [
      "38/38 [==============================] - 3s 58ms/step - loss: 0.6876 - acc: 0.5500 - f1_m: 0.5449 - precision_m: 0.5480 - recall_m: 0.5428 - val_loss: 0.7314 - val_acc: 0.6000 - val_f1_m: 0.6058 - val_precision_m: 0.6058 - val_recall_m: 0.6058\n",
      "Epoch 2/10\n",
      "38/38 [==============================] - 1s 20ms/step - loss: 0.7078 - acc: 0.5783 - f1_m: 0.5757 - precision_m: 0.5757 - recall_m: 0.5757 - val_loss: 0.7072 - val_acc: 0.6850 - val_f1_m: 0.6875 - val_precision_m: 0.6875 - val_recall_m: 0.6875\n",
      "Epoch 3/10\n",
      "38/38 [==============================] - 1s 17ms/step - loss: 0.6679 - acc: 0.6333 - f1_m: 0.6349 - precision_m: 0.6349 - recall_m: 0.6349 - val_loss: 0.7044 - val_acc: 0.6850 - val_f1_m: 0.6875 - val_precision_m: 0.6875 - val_recall_m: 0.6875\n",
      "Epoch 4/10\n",
      "38/38 [==============================] - 1s 16ms/step - loss: 0.6890 - acc: 0.6317 - f1_m: 0.6332 - precision_m: 0.6332 - recall_m: 0.6332 - val_loss: 0.7018 - val_acc: 0.7550 - val_f1_m: 0.7596 - val_precision_m: 0.7596 - val_recall_m: 0.7596\n",
      "Epoch 5/10\n",
      "38/38 [==============================] - 1s 17ms/step - loss: 0.6839 - acc: 0.6483 - f1_m: 0.6480 - precision_m: 0.6480 - recall_m: 0.6480 - val_loss: 0.6860 - val_acc: 0.7100 - val_f1_m: 0.7115 - val_precision_m: 0.7115 - val_recall_m: 0.7115\n",
      "Epoch 6/10\n",
      "38/38 [==============================] - 1s 18ms/step - loss: 0.6691 - acc: 0.6367 - f1_m: 0.6332 - precision_m: 0.6332 - recall_m: 0.6332 - val_loss: 0.6946 - val_acc: 0.5800 - val_f1_m: 0.5817 - val_precision_m: 0.5817 - val_recall_m: 0.5817\n",
      "Epoch 7/10\n",
      "38/38 [==============================] - 1s 16ms/step - loss: 0.6751 - acc: 0.6583 - f1_m: 0.6595 - precision_m: 0.6595 - recall_m: 0.6595 - val_loss: 0.6932 - val_acc: 0.7350 - val_f1_m: 0.7356 - val_precision_m: 0.7356 - val_recall_m: 0.7356\n",
      "Epoch 8/10\n",
      "38/38 [==============================] - 1s 18ms/step - loss: 0.6677 - acc: 0.6933 - f1_m: 0.6908 - precision_m: 0.6908 - recall_m: 0.6908 - val_loss: 0.6419 - val_acc: 0.6950 - val_f1_m: 0.6971 - val_precision_m: 0.6971 - val_recall_m: 0.6971\n",
      "Epoch 9/10\n",
      "38/38 [==============================] - 1s 15ms/step - loss: 0.6168 - acc: 0.6783 - f1_m: 0.6776 - precision_m: 0.6776 - recall_m: 0.6776 - val_loss: 0.6666 - val_acc: 0.6950 - val_f1_m: 0.6971 - val_precision_m: 0.6971 - val_recall_m: 0.6971\n",
      "Epoch 10/10\n",
      "38/38 [==============================] - 1s 17ms/step - loss: 0.5956 - acc: 0.7083 - f1_m: 0.7105 - precision_m: 0.7105 - recall_m: 0.7105 - val_loss: 0.7122 - val_acc: 0.7200 - val_f1_m: 0.7212 - val_precision_m: 0.7212 - val_recall_m: 0.7212\n",
      "Epoch 1/10\n"
     ]
    },
    {
     "name": "stderr",
     "output_type": "stream",
     "text": [
      "2022-11-29 07:04:24.335685: I tensorflow/core/grappler/optimizers/custom_graph_optimizer_registry.cc:113] Plugin optimizer for device_type GPU is enabled.\n"
     ]
    },
    {
     "name": "stdout",
     "output_type": "stream",
     "text": [
      "38/38 [==============================] - ETA: 0s - loss: 0.6932 - acc: 0.4867 - f1_m: 0.4852 - precision_m: 0.4852 - recall_m: 0.4852"
     ]
    },
    {
     "name": "stderr",
     "output_type": "stream",
     "text": [
      "2022-11-29 07:04:27.093845: I tensorflow/core/grappler/optimizers/custom_graph_optimizer_registry.cc:113] Plugin optimizer for device_type GPU is enabled.\n"
     ]
    },
    {
     "name": "stdout",
     "output_type": "stream",
     "text": [
      "38/38 [==============================] - 4s 83ms/step - loss: 0.6932 - acc: 0.4867 - f1_m: 0.4852 - precision_m: 0.4852 - recall_m: 0.4852 - val_loss: 0.6943 - val_acc: 0.4550 - val_f1_m: 0.4567 - val_precision_m: 0.4567 - val_recall_m: 0.4567\n",
      "Epoch 2/10\n",
      "38/38 [==============================] - 1s 39ms/step - loss: 0.6930 - acc: 0.5183 - f1_m: 0.5197 - precision_m: 0.5197 - recall_m: 0.5197 - val_loss: 0.6947 - val_acc: 0.4550 - val_f1_m: 0.4567 - val_precision_m: 0.4567 - val_recall_m: 0.4567\n",
      "Epoch 3/10\n",
      "38/38 [==============================] - 1s 37ms/step - loss: 0.6925 - acc: 0.5250 - f1_m: 0.5230 - precision_m: 0.5230 - recall_m: 0.5230 - val_loss: 0.6967 - val_acc: 0.4550 - val_f1_m: 0.4567 - val_precision_m: 0.4567 - val_recall_m: 0.4567\n",
      "Epoch 4/10\n",
      "38/38 [==============================] - 1s 38ms/step - loss: 0.6924 - acc: 0.5133 - f1_m: 0.5099 - precision_m: 0.5099 - recall_m: 0.5099 - val_loss: 0.6967 - val_acc: 0.4550 - val_f1_m: 0.4567 - val_precision_m: 0.4567 - val_recall_m: 0.4567\n",
      "Epoch 5/10\n",
      "38/38 [==============================] - 1s 36ms/step - loss: 0.6937 - acc: 0.5133 - f1_m: 0.5164 - precision_m: 0.5164 - recall_m: 0.5164 - val_loss: 0.6967 - val_acc: 0.4550 - val_f1_m: 0.4567 - val_precision_m: 0.4567 - val_recall_m: 0.4567\n",
      "Epoch 6/10\n",
      "38/38 [==============================] - 1s 35ms/step - loss: 0.6925 - acc: 0.5200 - f1_m: 0.5181 - precision_m: 0.5181 - recall_m: 0.5181 - val_loss: 0.6975 - val_acc: 0.4550 - val_f1_m: 0.4567 - val_precision_m: 0.4567 - val_recall_m: 0.4567\n",
      "Epoch 7/10\n",
      "38/38 [==============================] - 1s 36ms/step - loss: 0.6926 - acc: 0.5100 - f1_m: 0.5066 - precision_m: 0.5066 - recall_m: 0.5066 - val_loss: 0.6995 - val_acc: 0.4550 - val_f1_m: 0.4567 - val_precision_m: 0.4567 - val_recall_m: 0.4567\n",
      "Epoch 8/10\n",
      "38/38 [==============================] - 1s 35ms/step - loss: 0.6936 - acc: 0.5267 - f1_m: 0.5280 - precision_m: 0.5280 - recall_m: 0.5280 - val_loss: 0.6988 - val_acc: 0.4550 - val_f1_m: 0.4567 - val_precision_m: 0.4567 - val_recall_m: 0.4567\n",
      "Epoch 9/10\n",
      "38/38 [==============================] - 1s 35ms/step - loss: 0.6929 - acc: 0.5050 - f1_m: 0.5082 - precision_m: 0.5082 - recall_m: 0.5082 - val_loss: 0.6987 - val_acc: 0.4550 - val_f1_m: 0.4567 - val_precision_m: 0.4567 - val_recall_m: 0.4567\n",
      "Epoch 10/10\n",
      "38/38 [==============================] - 2s 46ms/step - loss: 0.6913 - acc: 0.5133 - f1_m: 0.5148 - precision_m: 0.5148 - recall_m: 0.5148 - val_loss: 0.6996 - val_acc: 0.4550 - val_f1_m: 0.4567 - val_precision_m: 0.4567 - val_recall_m: 0.4567\n",
      "Epoch 1/10\n"
     ]
    },
    {
     "name": "stderr",
     "output_type": "stream",
     "text": [
      "2022-11-29 07:04:42.000047: I tensorflow/core/grappler/optimizers/custom_graph_optimizer_registry.cc:113] Plugin optimizer for device_type GPU is enabled.\n"
     ]
    },
    {
     "name": "stdout",
     "output_type": "stream",
     "text": [
      "38/38 [==============================] - ETA: 0s - loss: 0.6925 - acc: 0.5133 - f1_m: 0.5132 - precision_m: 0.5132 - recall_m: 0.5132"
     ]
    },
    {
     "name": "stderr",
     "output_type": "stream",
     "text": [
      "2022-11-29 07:04:44.211585: I tensorflow/core/grappler/optimizers/custom_graph_optimizer_registry.cc:113] Plugin optimizer for device_type GPU is enabled.\n"
     ]
    },
    {
     "name": "stdout",
     "output_type": "stream",
     "text": [
      "38/38 [==============================] - 4s 69ms/step - loss: 0.6925 - acc: 0.5133 - f1_m: 0.5132 - precision_m: 0.5132 - recall_m: 0.5132 - val_loss: 0.6953 - val_acc: 0.4550 - val_f1_m: 0.4567 - val_precision_m: 0.4567 - val_recall_m: 0.4567\n",
      "Epoch 2/10\n",
      "38/38 [==============================] - 1s 21ms/step - loss: 0.6925 - acc: 0.5133 - f1_m: 0.5132 - precision_m: 0.5132 - recall_m: 0.5132 - val_loss: 0.6955 - val_acc: 0.4550 - val_f1_m: 0.4567 - val_precision_m: 0.4567 - val_recall_m: 0.4567\n",
      "Epoch 3/10\n",
      "38/38 [==============================] - 1s 20ms/step - loss: 0.6924 - acc: 0.5133 - f1_m: 0.5148 - precision_m: 0.5148 - recall_m: 0.5148 - val_loss: 0.6960 - val_acc: 0.4550 - val_f1_m: 0.4567 - val_precision_m: 0.4567 - val_recall_m: 0.4567\n",
      "Epoch 4/10\n",
      "38/38 [==============================] - 1s 19ms/step - loss: 0.6923 - acc: 0.5133 - f1_m: 0.5115 - precision_m: 0.5115 - recall_m: 0.5115 - val_loss: 0.6963 - val_acc: 0.4550 - val_f1_m: 0.4567 - val_precision_m: 0.4567 - val_recall_m: 0.4567\n",
      "Epoch 5/10\n",
      "38/38 [==============================] - 1s 19ms/step - loss: 0.6923 - acc: 0.5133 - f1_m: 0.5115 - precision_m: 0.5115 - recall_m: 0.5115 - val_loss: 0.6966 - val_acc: 0.4550 - val_f1_m: 0.4567 - val_precision_m: 0.4567 - val_recall_m: 0.4567\n",
      "Epoch 6/10\n",
      "38/38 [==============================] - 1s 19ms/step - loss: 0.6922 - acc: 0.5133 - f1_m: 0.5115 - precision_m: 0.5115 - recall_m: 0.5115 - val_loss: 0.6965 - val_acc: 0.4550 - val_f1_m: 0.4567 - val_precision_m: 0.4567 - val_recall_m: 0.4567\n",
      "Epoch 7/10\n",
      "38/38 [==============================] - 1s 19ms/step - loss: 0.6923 - acc: 0.5133 - f1_m: 0.5115 - precision_m: 0.5115 - recall_m: 0.5115 - val_loss: 0.6963 - val_acc: 0.4550 - val_f1_m: 0.4567 - val_precision_m: 0.4567 - val_recall_m: 0.4567\n",
      "Epoch 8/10\n",
      "38/38 [==============================] - 1s 19ms/step - loss: 0.6923 - acc: 0.5133 - f1_m: 0.5148 - precision_m: 0.5148 - recall_m: 0.5148 - val_loss: 0.6964 - val_acc: 0.4550 - val_f1_m: 0.4567 - val_precision_m: 0.4567 - val_recall_m: 0.4567\n",
      "Epoch 9/10\n",
      "38/38 [==============================] - 1s 19ms/step - loss: 0.6923 - acc: 0.5133 - f1_m: 0.5099 - precision_m: 0.5099 - recall_m: 0.5099 - val_loss: 0.6970 - val_acc: 0.4550 - val_f1_m: 0.4567 - val_precision_m: 0.4567 - val_recall_m: 0.4567\n",
      "Epoch 10/10\n",
      "38/38 [==============================] - 1s 18ms/step - loss: 0.6923 - acc: 0.5133 - f1_m: 0.5148 - precision_m: 0.5148 - recall_m: 0.5148 - val_loss: 0.6966 - val_acc: 0.4550 - val_f1_m: 0.4567 - val_precision_m: 0.4567 - val_recall_m: 0.4567\n",
      "pheno  [2 1 0 0 0 1 0 0 0 2 0]\n",
      "is valid  True\n",
      "pheno  [2 1 0 0 0 1 0 0 0 2 0]\n",
      "is valid  True\n",
      "pheno  [2 3 2 0 1 1 1 0 0 7 1]\n",
      "is valid  True\n",
      "pheno  [2 3 2 0 1 0 0 0 0 6 1]\n",
      "is valid  True\n",
      "pheno  [2 1 0 0 0 1 0 0 0 2 0]\n",
      "is valid  True\n",
      "pheno  [2 1 0 0 0 1 0 0 0 2 0]\n",
      "is valid  True\n",
      "pheno  [2 1 0 0 0 1 0 0 0 2 0]\n",
      "is valid  True\n",
      "pheno  [2 1 0 0 0 1 0 0 0 2 0]\n",
      "is valid  True\n",
      "pheno  [1 2 0 0 1 0 1 1 1 4 1]\n",
      "is valid  True\n",
      "pheno  [1 2 0 0 1 0 1 1 1 4 1]\n",
      "is valid  True\n",
      "Epoch 1/10\n"
     ]
    },
    {
     "name": "stderr",
     "output_type": "stream",
     "text": [
      "2022-11-29 07:04:52.068377: I tensorflow/core/grappler/optimizers/custom_graph_optimizer_registry.cc:113] Plugin optimizer for device_type GPU is enabled.\n"
     ]
    },
    {
     "name": "stdout",
     "output_type": "stream",
     "text": [
      "19/19 [==============================] - ETA: 0s - loss: 0.6939 - acc: 0.4867 - f1_m: 0.4857 - precision_m: 0.4857 - recall_m: 0.4857"
     ]
    },
    {
     "name": "stderr",
     "output_type": "stream",
     "text": [
      "2022-11-29 07:04:53.752426: I tensorflow/core/grappler/optimizers/custom_graph_optimizer_registry.cc:113] Plugin optimizer for device_type GPU is enabled.\n"
     ]
    },
    {
     "name": "stdout",
     "output_type": "stream",
     "text": [
      "19/19 [==============================] - 3s 100ms/step - loss: 0.6939 - acc: 0.4867 - f1_m: 0.4857 - precision_m: 0.4857 - recall_m: 0.4857 - val_loss: 0.6923 - val_acc: 0.5450 - val_f1_m: 0.5402 - val_precision_m: 0.5402 - val_recall_m: 0.5402\n",
      "Epoch 2/10\n",
      "19/19 [==============================] - 1s 28ms/step - loss: 0.6936 - acc: 0.4750 - f1_m: 0.4770 - precision_m: 0.4770 - recall_m: 0.4770 - val_loss: 0.6929 - val_acc: 0.4700 - val_f1_m: 0.4732 - val_precision_m: 0.4732 - val_recall_m: 0.4732\n",
      "Epoch 3/10\n",
      "19/19 [==============================] - 0s 22ms/step - loss: 0.6933 - acc: 0.5033 - f1_m: 0.5038 - precision_m: 0.5038 - recall_m: 0.5038 - val_loss: 0.6935 - val_acc: 0.4700 - val_f1_m: 0.4732 - val_precision_m: 0.4732 - val_recall_m: 0.4732\n",
      "Epoch 4/10\n",
      "19/19 [==============================] - 0s 20ms/step - loss: 0.6933 - acc: 0.5050 - f1_m: 0.5049 - precision_m: 0.5049 - recall_m: 0.5049 - val_loss: 0.6943 - val_acc: 0.4500 - val_f1_m: 0.4554 - val_precision_m: 0.4554 - val_recall_m: 0.4554\n",
      "Epoch 5/10\n",
      "19/19 [==============================] - 0s 18ms/step - loss: 0.6931 - acc: 0.5083 - f1_m: 0.5082 - precision_m: 0.5082 - recall_m: 0.5082 - val_loss: 0.6944 - val_acc: 0.4600 - val_f1_m: 0.4643 - val_precision_m: 0.4643 - val_recall_m: 0.4643\n",
      "Epoch 6/10\n",
      "19/19 [==============================] - 0s 18ms/step - loss: 0.6930 - acc: 0.5083 - f1_m: 0.5082 - precision_m: 0.5082 - recall_m: 0.5082 - val_loss: 0.6950 - val_acc: 0.4600 - val_f1_m: 0.4643 - val_precision_m: 0.4643 - val_recall_m: 0.4643\n",
      "Epoch 7/10\n",
      "19/19 [==============================] - 0s 17ms/step - loss: 0.6930 - acc: 0.5117 - f1_m: 0.5110 - precision_m: 0.5110 - recall_m: 0.5110 - val_loss: 0.6952 - val_acc: 0.4550 - val_f1_m: 0.4598 - val_precision_m: 0.4598 - val_recall_m: 0.4598\n",
      "Epoch 8/10\n",
      "19/19 [==============================] - 0s 18ms/step - loss: 0.6929 - acc: 0.5133 - f1_m: 0.5126 - precision_m: 0.5126 - recall_m: 0.5126 - val_loss: 0.6954 - val_acc: 0.4550 - val_f1_m: 0.4598 - val_precision_m: 0.4598 - val_recall_m: 0.4598\n",
      "Epoch 9/10\n",
      "19/19 [==============================] - 0s 16ms/step - loss: 0.6928 - acc: 0.5133 - f1_m: 0.5132 - precision_m: 0.5132 - recall_m: 0.5132 - val_loss: 0.6954 - val_acc: 0.4550 - val_f1_m: 0.4598 - val_precision_m: 0.4598 - val_recall_m: 0.4598\n",
      "Epoch 10/10\n",
      "19/19 [==============================] - 1s 27ms/step - loss: 0.6928 - acc: 0.5133 - f1_m: 0.5154 - precision_m: 0.5154 - recall_m: 0.5154 - val_loss: 0.6954 - val_acc: 0.4550 - val_f1_m: 0.4598 - val_precision_m: 0.4598 - val_recall_m: 0.4598\n"
     ]
    },
    {
     "ename": "IndexError",
     "evalue": "list index out of range",
     "output_type": "error",
     "traceback": [
      "\u001b[0;31m---------------------------------------------------------------------------\u001b[0m",
      "\u001b[0;31mIndexError\u001b[0m                                Traceback (most recent call last)",
      "\u001b[1;32m/Users/Donovan/Documents/Masters/masters-ed02/coding/model_cnn_ga_1/model_cnn_ga.ipynb Cell 38\u001b[0m in \u001b[0;36m<cell line: 1>\u001b[0;34m()\u001b[0m\n\u001b[0;32m----> <a href='vscode-notebook-cell:/Users/Donovan/Documents/Masters/masters-ed02/coding/model_cnn_ga_1/model_cnn_ga.ipynb#Y204sZmlsZQ%3D%3D?line=0'>1</a>\u001b[0m genetic_algorithm(params, data_dict, verbose \u001b[39m=\u001b[39;49m \u001b[39m1\u001b[39;49m)\n",
      "\u001b[1;32m/Users/Donovan/Documents/Masters/masters-ed02/coding/model_cnn_ga_1/model_cnn_ga.ipynb Cell 38\u001b[0m in \u001b[0;36mgenetic_algorithm\u001b[0;34m(parameters, data_dict, generations, n_parents, verbose)\u001b[0m\n\u001b[1;32m     <a href='vscode-notebook-cell:/Users/Donovan/Documents/Masters/masters-ed02/coding/model_cnn_ga_1/model_cnn_ga.ipynb#Y204sZmlsZQ%3D%3D?line=36'>37</a>\u001b[0m \u001b[39mfor\u001b[39;00m individual \u001b[39min\u001b[39;00m offspring_population:\n\u001b[1;32m     <a href='vscode-notebook-cell:/Users/Donovan/Documents/Masters/masters-ed02/coding/model_cnn_ga_1/model_cnn_ga.ipynb#Y204sZmlsZQ%3D%3D?line=38'>39</a>\u001b[0m     phenotype \u001b[39m=\u001b[39m decoder(individual, bit_length)\n\u001b[0;32m---> <a href='vscode-notebook-cell:/Users/Donovan/Documents/Masters/masters-ed02/coding/model_cnn_ga_1/model_cnn_ga.ipynb#Y204sZmlsZQ%3D%3D?line=40'>41</a>\u001b[0m     params \u001b[39m=\u001b[39m get_params(phenotype, parameters)\n\u001b[1;32m     <a href='vscode-notebook-cell:/Users/Donovan/Documents/Masters/masters-ed02/coding/model_cnn_ga_1/model_cnn_ga.ipynb#Y204sZmlsZQ%3D%3D?line=42'>43</a>\u001b[0m     model, history \u001b[39m=\u001b[39m train_model(params, data_dict[\u001b[39m'\u001b[39m\u001b[39mX_train\u001b[39m\u001b[39m'\u001b[39m], data_dict[\u001b[39m'\u001b[39m\u001b[39mX_val\u001b[39m\u001b[39m'\u001b[39m], data_dict[\u001b[39m'\u001b[39m\u001b[39mY_train\u001b[39m\u001b[39m'\u001b[39m], data_dict[\u001b[39m'\u001b[39m\u001b[39mY_val\u001b[39m\u001b[39m'\u001b[39m], verbose \u001b[39m=\u001b[39m verbose)\n\u001b[1;32m     <a href='vscode-notebook-cell:/Users/Donovan/Documents/Masters/masters-ed02/coding/model_cnn_ga_1/model_cnn_ga.ipynb#Y204sZmlsZQ%3D%3D?line=44'>45</a>\u001b[0m     offspring_fitness\u001b[39m.\u001b[39mappend(fitness(np\u001b[39m.\u001b[39mmean(np\u001b[39m.\u001b[39mdiff(history\u001b[39m.\u001b[39mhistory[\u001b[39m'\u001b[39m\u001b[39mval_f1_m\u001b[39m\u001b[39m'\u001b[39m]))))\n",
      "\u001b[1;32m/Users/Donovan/Documents/Masters/masters-ed02/coding/model_cnn_ga_1/model_cnn_ga.ipynb Cell 38\u001b[0m in \u001b[0;36mget_params\u001b[0;34m(phenotype, parameters)\u001b[0m\n\u001b[1;32m      <a href='vscode-notebook-cell:/Users/Donovan/Documents/Masters/masters-ed02/coding/model_cnn_ga_1/model_cnn_ga.ipynb#Y204sZmlsZQ%3D%3D?line=8'>9</a>\u001b[0m \u001b[39mfor\u001b[39;00m i \u001b[39min\u001b[39;00m \u001b[39mrange\u001b[39m(\u001b[39mlen\u001b[39m(layers)):\n\u001b[1;32m     <a href='vscode-notebook-cell:/Users/Donovan/Documents/Masters/masters-ed02/coding/model_cnn_ga_1/model_cnn_ga.ipynb#Y204sZmlsZQ%3D%3D?line=10'>11</a>\u001b[0m     \u001b[39mfor\u001b[39;00m param_type \u001b[39min\u001b[39;00m parameters[layers[i]]\u001b[39m.\u001b[39mkeys():\n\u001b[0;32m---> <a href='vscode-notebook-cell:/Users/Donovan/Documents/Masters/masters-ed02/coding/model_cnn_ga_1/model_cnn_ga.ipynb#Y204sZmlsZQ%3D%3D?line=12'>13</a>\u001b[0m         params\u001b[39m.\u001b[39mappend(parameters[layers[i]][param_type][phenotype[param_count]])\n\u001b[1;32m     <a href='vscode-notebook-cell:/Users/Donovan/Documents/Masters/masters-ed02/coding/model_cnn_ga_1/model_cnn_ga.ipynb#Y204sZmlsZQ%3D%3D?line=14'>15</a>\u001b[0m         param_count \u001b[39m+\u001b[39m\u001b[39m=\u001b[39m \u001b[39m1\u001b[39m\n\u001b[1;32m     <a href='vscode-notebook-cell:/Users/Donovan/Documents/Masters/masters-ed02/coding/model_cnn_ga_1/model_cnn_ga.ipynb#Y204sZmlsZQ%3D%3D?line=16'>17</a>\u001b[0m \u001b[39mreturn\u001b[39;00m params\n",
      "\u001b[0;31mIndexError\u001b[0m: list index out of range"
     ]
    }
   ],
   "source": [
    "genetic_algorithm(params, data_dict, verbose = 1)"
   ]
  },
  {
   "cell_type": "code",
   "execution_count": 112,
   "metadata": {},
   "outputs": [
    {
     "ename": "IndexError",
     "evalue": "list index out of range",
     "output_type": "error",
     "traceback": [
      "\u001b[0;31m---------------------------------------------------------------------------\u001b[0m",
      "\u001b[0;31mIndexError\u001b[0m                                Traceback (most recent call last)",
      "\u001b[1;32m/Users/Donovan/Documents/Masters/masters-ed02/coding/model_cnn_ga_1/model_cnn_ga.ipynb Cell 39\u001b[0m in \u001b[0;36m<cell line: 1>\u001b[0;34m()\u001b[0m\n\u001b[0;32m----> <a href='vscode-notebook-cell:/Users/Donovan/Documents/Masters/masters-ed02/coding/model_cnn_ga_1/model_cnn_ga.ipynb#Y254sZmlsZQ%3D%3D?line=0'>1</a>\u001b[0m get_params(np\u001b[39m.\u001b[39;49marray([\u001b[39m2\u001b[39;49m, \u001b[39m1\u001b[39;49m, \u001b[39m0\u001b[39;49m, \u001b[39m0\u001b[39;49m, \u001b[39m1\u001b[39;49m, \u001b[39m0\u001b[39;49m, \u001b[39m0\u001b[39;49m, \u001b[39m0\u001b[39;49m, \u001b[39m2\u001b[39;49m, \u001b[39m0\u001b[39;49m]), params)\n",
      "\u001b[1;32m/Users/Donovan/Documents/Masters/masters-ed02/coding/model_cnn_ga_1/model_cnn_ga.ipynb Cell 39\u001b[0m in \u001b[0;36mget_params\u001b[0;34m(phenotype, parameters)\u001b[0m\n\u001b[1;32m      <a href='vscode-notebook-cell:/Users/Donovan/Documents/Masters/masters-ed02/coding/model_cnn_ga_1/model_cnn_ga.ipynb#Y254sZmlsZQ%3D%3D?line=8'>9</a>\u001b[0m \u001b[39mfor\u001b[39;00m i \u001b[39min\u001b[39;00m \u001b[39mrange\u001b[39m(\u001b[39mlen\u001b[39m(layers)):\n\u001b[1;32m     <a href='vscode-notebook-cell:/Users/Donovan/Documents/Masters/masters-ed02/coding/model_cnn_ga_1/model_cnn_ga.ipynb#Y254sZmlsZQ%3D%3D?line=10'>11</a>\u001b[0m     \u001b[39mfor\u001b[39;00m param_type \u001b[39min\u001b[39;00m parameters[layers[i]]\u001b[39m.\u001b[39mkeys():\n\u001b[0;32m---> <a href='vscode-notebook-cell:/Users/Donovan/Documents/Masters/masters-ed02/coding/model_cnn_ga_1/model_cnn_ga.ipynb#Y254sZmlsZQ%3D%3D?line=12'>13</a>\u001b[0m         params\u001b[39m.\u001b[39mappend(parameters[layers[i]][param_type][phenotype[param_count]])\n\u001b[1;32m     <a href='vscode-notebook-cell:/Users/Donovan/Documents/Masters/masters-ed02/coding/model_cnn_ga_1/model_cnn_ga.ipynb#Y254sZmlsZQ%3D%3D?line=14'>15</a>\u001b[0m         param_count \u001b[39m+\u001b[39m\u001b[39m=\u001b[39m \u001b[39m1\u001b[39m\n\u001b[1;32m     <a href='vscode-notebook-cell:/Users/Donovan/Documents/Masters/masters-ed02/coding/model_cnn_ga_1/model_cnn_ga.ipynb#Y254sZmlsZQ%3D%3D?line=16'>17</a>\u001b[0m \u001b[39mreturn\u001b[39;00m params\n",
      "\u001b[0;31mIndexError\u001b[0m: list index out of range"
     ]
    }
   ],
   "source": [
    "get_params(np.array([2, 1, 0, 0, 1, 0, 0, 0, 2, 0]), params)"
   ]
  },
  {
   "cell_type": "code",
   "execution_count": 126,
   "metadata": {},
   "outputs": [
    {
     "name": "stdout",
     "output_type": "stream",
     "text": [
      "['input', 'conv', 'pool', 'dropout', 'output']\n",
      "input\n",
      "batch\n",
      "0\n",
      "conv\n",
      "kernel\n",
      "1\n",
      "conv\n",
      "filter\n",
      "2\n",
      "conv\n",
      "padding\n",
      "3\n",
      "conv\n",
      "activation\n",
      "4\n",
      "pool\n",
      "type\n",
      "5\n",
      "pool\n",
      "size\n",
      "6\n",
      "pool\n",
      "padding\n",
      "7\n",
      "dropout\n",
      "type\n",
      "8\n",
      "dropout\n",
      "rate\n",
      "9\n",
      "output\n",
      "type\n",
      "10\n"
     ]
    }
   ],
   "source": [
    "params_l = []\n",
    "\n",
    "layers = list(params.keys())\n",
    "print(layers)\n",
    "\n",
    "param_count = 0\n",
    "\n",
    "for i in range(len(layers)):\n",
    "\n",
    "    for param_type in params[layers[i]].keys():\n",
    "\n",
    "        print(layers[i])\n",
    "\n",
    "        print(param_type)\n",
    "        \n",
    "        print(param_count)\n",
    "\n",
    "        params_l.append(params[layers[i]][param_type][np.array([2, 1, 0, 0, 0, 1, 0, 0, 0, 2, 0])[param_count]])\n",
    "        \n",
    "        param_count += 1"
   ]
  },
  {
   "cell_type": "code",
   "execution_count": 127,
   "metadata": {},
   "outputs": [
    {
     "ename": "IndexError",
     "evalue": "list index out of range",
     "output_type": "error",
     "traceback": [
      "\u001b[0;31m---------------------------------------------------------------------------\u001b[0m",
      "\u001b[0;31mIndexError\u001b[0m                                Traceback (most recent call last)",
      "\u001b[1;32m/Users/Donovan/Documents/Masters/masters-ed02/coding/model_cnn_ga_1/model_cnn_ga.ipynb Cell 41\u001b[0m in \u001b[0;36m<cell line: 1>\u001b[0;34m()\u001b[0m\n\u001b[0;32m----> <a href='vscode-notebook-cell:/Users/Donovan/Documents/Masters/masters-ed02/coding/model_cnn_ga_1/model_cnn_ga.ipynb#Y300sZmlsZQ%3D%3D?line=0'>1</a>\u001b[0m params[\u001b[39m'\u001b[39;49m\u001b[39mdropout\u001b[39;49m\u001b[39m'\u001b[39;49m][\u001b[39m'\u001b[39;49m\u001b[39mtype\u001b[39;49m\u001b[39m'\u001b[39;49m][np\u001b[39m.\u001b[39;49marray([\u001b[39m2\u001b[39;49m, \u001b[39m1\u001b[39;49m, \u001b[39m0\u001b[39;49m, \u001b[39m0\u001b[39;49m, \u001b[39m1\u001b[39;49m, \u001b[39m0\u001b[39;49m, \u001b[39m0\u001b[39;49m, \u001b[39m0\u001b[39;49m, \u001b[39m2\u001b[39;49m, \u001b[39m0\u001b[39;49m])[\u001b[39m8\u001b[39;49m]]\n",
      "\u001b[0;31mIndexError\u001b[0m: list index out of range"
     ]
    }
   ],
   "source": [
    "params['dropout']['type'][np.array([2, 1, 0, 0, 1, 0, 0, 0, 2, 0])[8]]"
   ]
  },
  {
   "cell_type": "code",
   "execution_count": 132,
   "metadata": {},
   "outputs": [
    {
     "data": {
      "text/plain": [
       "['dropout', 'spatial2D']"
      ]
     },
     "execution_count": 132,
     "metadata": {},
     "output_type": "execute_result"
    }
   ],
   "source": [
    "params['dropout']['type']"
   ]
  },
  {
   "cell_type": "code",
   "execution_count": 134,
   "metadata": {},
   "outputs": [
    {
     "name": "stdout",
     "output_type": "stream",
     "text": [
      "{'conv': {'activation': ['tanh', 'relu', 'selu', 'elu'],\n",
      "          'filter': [2, 4, 8, 16],\n",
      "          'kernel': [1, 3, 5, 7],\n",
      "          'padding': ['valid', 'same']},\n",
      " 'dropout': {'rate': [0.1, 0.2, 0.3, 0.4, 0.5, 0.6, 0.7, 0.8, 0.9],\n",
      "             'type': ['dropout', 'spatial2D']},\n",
      " 'input': {'batch': [8, 16, 32]},\n",
      " 'output': {'type': ['global', 'dense']},\n",
      " 'pool': {'padding': ['valid', 'same'],\n",
      "          'size': [2, 3, 4, 5],\n",
      "          'type': ['max', 'average']}}\n"
     ]
    }
   ],
   "source": [
    "import pprint\n",
    "pprint.pprint(params)"
   ]
  },
  {
   "cell_type": "code",
   "execution_count": 135,
   "metadata": {},
   "outputs": [
    {
     "data": {
      "text/plain": [
       "(44, 4, array([3, 4, 4, 2, 4, 2, 4, 2, 2, 9, 2]))"
      ]
     },
     "execution_count": 135,
     "metadata": {},
     "output_type": "execute_result"
    }
   ],
   "source": [
    "get_state_space(params)"
   ]
  },
  {
   "cell_type": "code",
   "execution_count": 131,
   "metadata": {},
   "outputs": [
    {
     "data": {
      "text/plain": [
       "2"
      ]
     },
     "execution_count": 131,
     "metadata": {},
     "output_type": "execute_result"
    }
   ],
   "source": [
    "np.array([2, 1, 0, 0, 1, 0, 0, 0, 2, 0])[8]"
   ]
  },
  {
   "cell_type": "code",
   "execution_count": 124,
   "metadata": {},
   "outputs": [
    {
     "data": {
      "text/plain": [
       "11"
      ]
     },
     "execution_count": 124,
     "metadata": {},
     "output_type": "execute_result"
    }
   ],
   "source": [
    "len(phen)"
   ]
  },
  {
   "cell_type": "code",
   "execution_count": 86,
   "metadata": {},
   "outputs": [],
   "source": [
    "pheno  [2 1 0 0 0 1 0 0 0 2 0]\n",
    "is valid  True\n",
    "pheno  [2 1 0 0 0 1 0 0 0 2 0]\n",
    "is valid  True\n",
    "pheno  [2 3 2 0 1 1 1 0 0 7 1]\n",
    "is valid  True\n",
    "pheno  [2 3 2 0 1 0 0 0 0 6 1]\n",
    "is valid  True\n",
    "pheno  [2 1 0 0 0 1 0 0 0 2 0]\n",
    "is valid  True\n",
    "pheno  [2 1 0 0 0 1 0 0 0 2 0]\n",
    "is valid  True\n",
    "pheno  [2 1 0 0 0 1 0 0 0 2 0]\n",
    "is valid  True\n",
    "pheno  [2 1 0 0 0 1 0 0 0 2 0]\n",
    "is valid  True\n",
    "pheno  [1 2 0 0 1 0 1 1 1 4 1]\n",
    "is valid  True\n",
    "pheno  [1 2 0 0 1 0 1 1 1 4 1]\n",
    "is valid  True\n",
    "Epoch 1/10"
   ]
  },
  {
   "cell_type": "code",
   "execution_count": null,
   "metadata": {},
   "outputs": [],
   "source": []
  }
 ],
 "metadata": {
  "kernelspec": {
   "display_name": "Python 3.9.13 ('mlp')",
   "language": "python",
   "name": "python3"
  },
  "language_info": {
   "codemirror_mode": {
    "name": "ipython",
    "version": 3
   },
   "file_extension": ".py",
   "mimetype": "text/x-python",
   "name": "python",
   "nbconvert_exporter": "python",
   "pygments_lexer": "ipython3",
   "version": "3.9.13"
  },
  "orig_nbformat": 4,
  "vscode": {
   "interpreter": {
    "hash": "3647436c2f734fd3f72be8f73130b09ecd5d6c908b22991734a3f7b2100497cf"
   }
  }
 },
 "nbformat": 4,
 "nbformat_minor": 2
}
