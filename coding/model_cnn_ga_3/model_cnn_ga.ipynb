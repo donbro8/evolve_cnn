{
 "cells": [
  {
   "cell_type": "code",
   "execution_count": 41,
   "metadata": {},
   "outputs": [],
   "source": [
    "import yaml\n",
    "import os\n",
    "from functions import print_function\n",
    "import numpy as np\n",
    "from keras.datasets import mnist, cifar10\n",
    "from sklearn.model_selection import train_test_split\n",
    "\n",
    "\n",
    "class StaticLinear:\n",
    "\n",
    "    def __init__(self, path):\n",
    "        self.path = path\n",
    "\n",
    "        print_function('Retrieving yaml parameters')\n",
    "\n",
    "        with open(self.path, \"r\") as stream:\n",
    "            self.load_yaml = yaml.load(stream, yaml.SafeLoader)\n",
    "\n",
    "        self.general = self.load_yaml['general']\n",
    "\n",
    "        self.random_state = np.random.RandomState(self.general['seed_value'])\n",
    "\n",
    "\n",
    "    def load_data(self, X = None, Y = None, use_case_name = None):\n",
    "\n",
    "        \"\"\"\n",
    "        For predefined use cases the data is downloaded and split into training, testing and validation and then saved locally.\n",
    "        When an X and Y is supplied, the data is sampled, split into training, testing and validation and then saved locally.\n",
    "        Supply X data and Y data or use the predefined MNIST and CIFAR-10 use cases.\n",
    "        \"\"\"\n",
    "\n",
    "        self.data = self.load_yaml['data']\n",
    "\n",
    "        use_case = self.data['use_case'].lower()\n",
    "\n",
    "        if self.data['save_data']['set_save_path']:\n",
    "            save_path = self.data['save_data']['path'] + '/data/'\n",
    "\n",
    "        else:\n",
    "            save_path = os.getcwd() + '/data/'\n",
    "\n",
    "        if X == None and Y == None and use_case not in ['mnist', 'cifar-10']:\n",
    "            raise Exception('No predefined use case provided and no data supplied. Please choose a predefined case or supply data.')\n",
    "\n",
    "        elif X != None and Y != None:\n",
    "            if use_case_name != None:\n",
    "                save_path = save_path + use_case_name + '/'\n",
    "\n",
    "            else:\n",
    "                save_path = save_path + 'own_use_case' + '/'\n",
    "\n",
    "            if not os.path.exists(save_path) or self.data['replace'] == True:\n",
    "\n",
    "                os.makedirs(save_path, exist_ok=True)\n",
    "\n",
    "                try:\n",
    "                    X = np.load(self.data['X_path'])\n",
    "                    Y = np.load(self.data['Y_path'])\n",
    "\n",
    "                    if self.data['data_sample_size'] != None:\n",
    "                        g_sample = int(np.floor(self.data['test_set_size']/2))\n",
    "                        n_sample = self.data['test_set_size'] - g_sample\n",
    "\n",
    "                        g_i = np.random.randint(0, int(X.shape[0]/2) - 1, g_sample)\n",
    "                        n_i = np.random.randint(int(X.shape[0]/2), X.shape[0] - 1, n_sample)\n",
    "\n",
    "                        X = np.concatenate([X[g_i], X[n_i]])\n",
    "                        Y = np.concatenate([Y[g_i], Y[n_i]])\n",
    "\n",
    "                        self.X_train, self.X_test, self.Y_train, self.Y_test = train_test_split(X, Y, test_size=self.data['test_set_size'], random_state=self.general['seed_value'], shuffle = True)\n",
    "                        self.X_test, self.X_val, self.Y_test, self.Y_val = train_test_split(self.X_test, self.Y_test, test_size=0.5, random_state=self.general['seed_value'], shuffle = True)\n",
    "\n",
    "                        np.save(save_path + 'X_train.npy', self.X_train)\n",
    "                        np.save(save_path + 'X_test.npy', self.X_test)\n",
    "                        np.save(save_path + 'X_val.npy', self.X_val)\n",
    "                        np.save(save_path + 'Y_train.npy', self.Y_train)\n",
    "                        np.save(save_path + 'Y_test.npy', self.Y_test)\n",
    "                        np.save(save_path + 'Y_val.npy', self.Y_val)\n",
    "                        \n",
    "                    else:\n",
    "                        self.X_train, self.X_test, self.Y_train, self.Y_test = train_test_split(X, Y, test_size=self.data['test_set_size'], random_state=self.general['seed_value'], shuffle = True)\n",
    "                        self.X_test, self.X_val, self.Y_test, self.Y_val = train_test_split(self.X_test, self.Y_test, test_size=0.5, random_state=self.general['seed_value'], shuffle = True)\n",
    "\n",
    "                        np.save(save_path + 'X_train.npy', self.X_train)\n",
    "                        np.save(save_path + 'X_test.npy', self.X_test)\n",
    "                        np.save(save_path + 'X_val.npy', self.X_val)\n",
    "                        np.save(save_path + 'Y_train.npy', self.Y_train)\n",
    "                        np.save(save_path + 'Y_test.npy', self.Y_test)\n",
    "                        np.save(save_path + 'Y_val.npy', self.Y_val)\n",
    "\n",
    "                except:\n",
    "                    raise Exception(f\"Unable to load data from: {self.data['X_path'], self.data['Y_path']}\")\n",
    "\n",
    "        \n",
    "            else:\n",
    "                raise Exception('Could not save provided data.')\n",
    "\n",
    "        elif use_case not in ['mnist', 'cifar-10']:\n",
    "            raise Exception('Incorrect data use case provided in yaml. Check spelling or choose one of the available use cases: mnist or cifar-10.')\n",
    "\n",
    "        else:\n",
    "            print_function(f\"Loading data for use case: {use_case.upper()}\")\n",
    "\n",
    "            \n",
    "            \n",
    "            if use_case == 'mnist':\n",
    "\n",
    "                save_path = save_path + 'mnist' + '/'\n",
    "\n",
    "                try:\n",
    "                    self.X_train = np.load(save_path + 'X_train.npy')\n",
    "                    self.X_test = np.load(save_path + 'X_test.npy')\n",
    "                    self.X_val = np.load(save_path + 'X_val.npy')\n",
    "                    self.Y_train = np.load(save_path + 'Y_train.npy')\n",
    "                    self.Y_test = np.load(save_path + 'Y_test.npy')\n",
    "                    self.Y_val = np.load(save_path + 'Y_val.npy')\n",
    "\n",
    "                except:\n",
    "                    print_function(f\"MNIST data not found. Downloading data.\")\n",
    "\n",
    "                    (self.X_train, self.Y_train), (self.X_test, self.Y_test) = mnist.load_data()\n",
    "                    self.X_test, self.X_val, self.Y_test, self.Y_val = train_test_split(self.X_test, self.Y_test, test_size=0.5, random_state=self.general['seed_value'], shuffle = True)\n",
    "\n",
    "                    if not os.path.exists(save_path) or self.data['replace'] == True:\n",
    "                        os.makedirs(save_path, exist_ok=True)\n",
    "\n",
    "                    np.save(save_path + 'X_train.npy', self.X_train)\n",
    "                    np.save(save_path + 'X_test.npy', self.X_test)\n",
    "                    np.save(save_path + 'X_val.npy', self.X_val)\n",
    "                    np.save(save_path + 'Y_train.npy', self.Y_train)\n",
    "                    np.save(save_path + 'Y_test.npy', self.Y_test)\n",
    "                    np.save(save_path + 'Y_val.npy', self.Y_val)\n",
    "\n",
    "\n",
    "            elif use_case == 'cifar-10':\n",
    "\n",
    "                save_path = save_path + 'cifar10' + '/'\n",
    "\n",
    "                try:\n",
    "                    self.X_train = np.load(save_path + 'X_train.npy')\n",
    "                    self.X_test = np.load(save_path + 'X_test.npy')\n",
    "                    self.X_val = np.load(save_path + 'X_val.npy')\n",
    "                    self.Y_train = np.load(save_path + 'Y_train.npy')\n",
    "                    self.Y_test = np.load(save_path + 'Y_test.npy')\n",
    "                    self.Y_val = np.load(save_path + 'Y_val.npy')\n",
    "\n",
    "                except:\n",
    "                    print_function(f\"CIFAR-10 data not found. Downloading data instead.\")\n",
    "\n",
    "                    (self.X_train, self.Y_train), (self.X_test, self.Y_test) = cifar10.load_data()\n",
    "                    self.X_test, self.X_val, self.Y_test, self.Y_val = train_test_split(self.X_test, self.Y_test, test_size=0.5, random_state=self.general['seed_value'], shuffle = True)\n",
    "\n",
    "                    if not os.path.exists(save_path) or self.data['replace'] == True:\n",
    "                        os.makedirs(save_path, exist_ok=True)\n",
    "\n",
    "                    np.save(save_path + 'X_train.npy', self.X_train)\n",
    "                    np.save(save_path + 'X_test.npy', self.X_test)\n",
    "                    np.save(save_path + 'X_val.npy', self.X_val)\n",
    "                    np.save(save_path + 'Y_train.npy', self.Y_train)\n",
    "                    np.save(save_path + 'Y_test.npy', self.Y_test)\n",
    "                    np.save(save_path + 'Y_val.npy', self.Y_val)"
   ]
  },
  {
   "cell_type": "code",
   "execution_count": 42,
   "metadata": {},
   "outputs": [
    {
     "name": "stdout",
     "output_type": "stream",
     "text": [
      "Retrieving yaml parameters...\n",
      "__________________________________________________\n"
     ]
    }
   ],
   "source": [
    "data = StaticLinear('parameters.yaml')"
   ]
  },
  {
   "cell_type": "code",
   "execution_count": 43,
   "metadata": {},
   "outputs": [
    {
     "name": "stdout",
     "output_type": "stream",
     "text": [
      "Loading data for use case: MNIST...\n",
      "__________________________________________________\n"
     ]
    }
   ],
   "source": [
    "data.load_data()"
   ]
  },
  {
   "cell_type": "code",
   "execution_count": 44,
   "metadata": {},
   "outputs": [
    {
     "data": {
      "text/plain": [
       "(60000, 28, 28)"
      ]
     },
     "execution_count": 44,
     "metadata": {},
     "output_type": "execute_result"
    }
   ],
   "source": [
    "data.X_train.shape"
   ]
  },
  {
   "cell_type": "code",
   "execution_count": null,
   "metadata": {},
   "outputs": [],
   "source": []
  }
 ],
 "metadata": {
  "kernelspec": {
   "display_name": "mlp",
   "language": "python",
   "name": "python3"
  },
  "language_info": {
   "codemirror_mode": {
    "name": "ipython",
    "version": 3
   },
   "file_extension": ".py",
   "mimetype": "text/x-python",
   "name": "python",
   "nbconvert_exporter": "python",
   "pygments_lexer": "ipython3",
   "version": "3.9.13"
  },
  "orig_nbformat": 4,
  "vscode": {
   "interpreter": {
    "hash": "3647436c2f734fd3f72be8f73130b09ecd5d6c908b22991734a3f7b2100497cf"
   }
  }
 },
 "nbformat": 4,
 "nbformat_minor": 2
}
